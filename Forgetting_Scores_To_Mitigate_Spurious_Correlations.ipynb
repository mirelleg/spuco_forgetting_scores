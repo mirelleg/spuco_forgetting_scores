{
  "cells": [
    {
      "cell_type": "markdown",
      "metadata": {
        "id": "Up-p08Jt7_X6"
      },
      "source": [
        "### Setup"
      ]
    },
    {
      "cell_type": "code",
      "execution_count": null,
      "metadata": {
        "colab": {
          "base_uri": "https://localhost:8080/"
        },
        "id": "EEp3tx4b7CEP",
        "outputId": "133ee10d-5627-4d4a-86c5-ac00f0128508"
      },
      "outputs": [
        {
          "name": "stdout",
          "output_type": "stream",
          "text": [
            "Collecting spuco\n",
            "  Downloading spuco-2.0.3-py3-none-any.whl.metadata (4.3 kB)\n",
            "Requirement already satisfied: matplotlib>=3.7.1 in /usr/local/lib/python3.10/dist-packages (from spuco) (3.8.0)\n",
            "Requirement already satisfied: numpy>=1.23.5 in /usr/local/lib/python3.10/dist-packages (from spuco) (1.26.4)\n",
            "Requirement already satisfied: setuptools>=61.0 in /usr/local/lib/python3.10/dist-packages (from spuco) (75.1.0)\n",
            "Requirement already satisfied: torch>=2.0.0 in /usr/local/lib/python3.10/dist-packages (from spuco) (2.5.1+cu121)\n",
            "Requirement already satisfied: torchvision>=0.15.1 in /usr/local/lib/python3.10/dist-packages (from spuco) (0.20.1+cu121)\n",
            "Requirement already satisfied: tqdm>=4.65.0 in /usr/local/lib/python3.10/dist-packages (from spuco) (4.66.6)\n",
            "Requirement already satisfied: scikit-learn>=0.20.0 in /usr/local/lib/python3.10/dist-packages (from spuco) (1.5.2)\n",
            "Collecting wilds>=2.0.0 (from spuco)\n",
            "  Downloading wilds-2.0.0-py3-none-any.whl.metadata (22 kB)\n",
            "Requirement already satisfied: transformers>=3.5.0 in /usr/local/lib/python3.10/dist-packages (from spuco) (4.46.3)\n",
            "Collecting umap-learn>=0.5.5 (from spuco)\n",
            "  Downloading umap_learn-0.5.7-py3-none-any.whl.metadata (21 kB)\n",
            "Collecting grad-cam>=1.5.0 (from spuco)\n",
            "  Downloading grad-cam-1.5.4.tar.gz (7.8 MB)\n",
            "\u001b[2K     \u001b[90m━━━━━━━━━━━━━━━━━━━━━━━━━━━━━━━━━━━━━━━━\u001b[0m \u001b[32m7.8/7.8 MB\u001b[0m \u001b[31m33.2 MB/s\u001b[0m eta \u001b[36m0:00:00\u001b[0m\n",
            "\u001b[?25h  Installing build dependencies ... \u001b[?25l\u001b[?25hdone\n",
            "  Getting requirements to build wheel ... \u001b[?25l\u001b[?25hdone\n",
            "  Preparing metadata (pyproject.toml) ... \u001b[?25l\u001b[?25hdone\n",
            "Requirement already satisfied: Pillow in /usr/local/lib/python3.10/dist-packages (from grad-cam>=1.5.0->spuco) (11.0.0)\n",
            "Collecting ttach (from grad-cam>=1.5.0->spuco)\n",
            "  Downloading ttach-0.0.3-py3-none-any.whl.metadata (5.2 kB)\n",
            "Requirement already satisfied: opencv-python in /usr/local/lib/python3.10/dist-packages (from grad-cam>=1.5.0->spuco) (4.10.0.84)\n",
            "Requirement already satisfied: contourpy>=1.0.1 in /usr/local/lib/python3.10/dist-packages (from matplotlib>=3.7.1->spuco) (1.3.1)\n",
            "Requirement already satisfied: cycler>=0.10 in /usr/local/lib/python3.10/dist-packages (from matplotlib>=3.7.1->spuco) (0.12.1)\n",
            "Requirement already satisfied: fonttools>=4.22.0 in /usr/local/lib/python3.10/dist-packages (from matplotlib>=3.7.1->spuco) (4.55.3)\n",
            "Requirement already satisfied: kiwisolver>=1.0.1 in /usr/local/lib/python3.10/dist-packages (from matplotlib>=3.7.1->spuco) (1.4.7)\n",
            "Requirement already satisfied: packaging>=20.0 in /usr/local/lib/python3.10/dist-packages (from matplotlib>=3.7.1->spuco) (24.2)\n",
            "Requirement already satisfied: pyparsing>=2.3.1 in /usr/local/lib/python3.10/dist-packages (from matplotlib>=3.7.1->spuco) (3.2.0)\n",
            "Requirement already satisfied: python-dateutil>=2.7 in /usr/local/lib/python3.10/dist-packages (from matplotlib>=3.7.1->spuco) (2.8.2)\n",
            "Requirement already satisfied: scipy>=1.6.0 in /usr/local/lib/python3.10/dist-packages (from scikit-learn>=0.20.0->spuco) (1.13.1)\n",
            "Requirement already satisfied: joblib>=1.2.0 in /usr/local/lib/python3.10/dist-packages (from scikit-learn>=0.20.0->spuco) (1.4.2)\n",
            "Requirement already satisfied: threadpoolctl>=3.1.0 in /usr/local/lib/python3.10/dist-packages (from scikit-learn>=0.20.0->spuco) (3.5.0)\n",
            "Requirement already satisfied: filelock in /usr/local/lib/python3.10/dist-packages (from torch>=2.0.0->spuco) (3.16.1)\n",
            "Requirement already satisfied: typing-extensions>=4.8.0 in /usr/local/lib/python3.10/dist-packages (from torch>=2.0.0->spuco) (4.12.2)\n",
            "Requirement already satisfied: networkx in /usr/local/lib/python3.10/dist-packages (from torch>=2.0.0->spuco) (3.4.2)\n",
            "Requirement already satisfied: jinja2 in /usr/local/lib/python3.10/dist-packages (from torch>=2.0.0->spuco) (3.1.4)\n",
            "Requirement already satisfied: fsspec in /usr/local/lib/python3.10/dist-packages (from torch>=2.0.0->spuco) (2024.10.0)\n",
            "Requirement already satisfied: sympy==1.13.1 in /usr/local/lib/python3.10/dist-packages (from torch>=2.0.0->spuco) (1.13.1)\n",
            "Requirement already satisfied: mpmath<1.4,>=1.1.0 in /usr/local/lib/python3.10/dist-packages (from sympy==1.13.1->torch>=2.0.0->spuco) (1.3.0)\n",
            "Requirement already satisfied: huggingface-hub<1.0,>=0.23.2 in /usr/local/lib/python3.10/dist-packages (from transformers>=3.5.0->spuco) (0.26.5)\n",
            "Requirement already satisfied: pyyaml>=5.1 in /usr/local/lib/python3.10/dist-packages (from transformers>=3.5.0->spuco) (6.0.2)\n",
            "Requirement already satisfied: regex!=2019.12.17 in /usr/local/lib/python3.10/dist-packages (from transformers>=3.5.0->spuco) (2024.9.11)\n",
            "Requirement already satisfied: requests in /usr/local/lib/python3.10/dist-packages (from transformers>=3.5.0->spuco) (2.32.3)\n",
            "Requirement already satisfied: tokenizers<0.21,>=0.20 in /usr/local/lib/python3.10/dist-packages (from transformers>=3.5.0->spuco) (0.20.3)\n",
            "Requirement already satisfied: safetensors>=0.4.1 in /usr/local/lib/python3.10/dist-packages (from transformers>=3.5.0->spuco) (0.4.5)\n",
            "Requirement already satisfied: numba>=0.51.2 in /usr/local/lib/python3.10/dist-packages (from umap-learn>=0.5.5->spuco) (0.60.0)\n",
            "Collecting pynndescent>=0.5 (from umap-learn>=0.5.5->spuco)\n",
            "  Downloading pynndescent-0.5.13-py3-none-any.whl.metadata (6.8 kB)\n",
            "Collecting ogb>=1.2.6 (from wilds>=2.0.0->spuco)\n",
            "  Downloading ogb-1.3.6-py3-none-any.whl.metadata (6.2 kB)\n",
            "Collecting outdated>=0.2.0 (from wilds>=2.0.0->spuco)\n",
            "  Downloading outdated-0.2.2-py2.py3-none-any.whl.metadata (4.7 kB)\n",
            "Requirement already satisfied: pandas>=1.1.0 in /usr/local/lib/python3.10/dist-packages (from wilds>=2.0.0->spuco) (2.2.2)\n",
            "Requirement already satisfied: pytz>=2020.4 in /usr/local/lib/python3.10/dist-packages (from wilds>=2.0.0->spuco) (2024.2)\n",
            "Requirement already satisfied: llvmlite<0.44,>=0.43.0dev0 in /usr/local/lib/python3.10/dist-packages (from numba>=0.51.2->umap-learn>=0.5.5->spuco) (0.43.0)\n",
            "Requirement already satisfied: six>=1.12.0 in /usr/local/lib/python3.10/dist-packages (from ogb>=1.2.6->wilds>=2.0.0->spuco) (1.17.0)\n",
            "Requirement already satisfied: urllib3>=1.24.0 in /usr/local/lib/python3.10/dist-packages (from ogb>=1.2.6->wilds>=2.0.0->spuco) (2.2.3)\n",
            "Collecting littleutils (from outdated>=0.2.0->wilds>=2.0.0->spuco)\n",
            "  Downloading littleutils-0.2.4-py3-none-any.whl.metadata (679 bytes)\n",
            "Requirement already satisfied: tzdata>=2022.7 in /usr/local/lib/python3.10/dist-packages (from pandas>=1.1.0->wilds>=2.0.0->spuco) (2024.2)\n",
            "Requirement already satisfied: MarkupSafe>=2.0 in /usr/local/lib/python3.10/dist-packages (from jinja2->torch>=2.0.0->spuco) (3.0.2)\n",
            "Requirement already satisfied: charset-normalizer<4,>=2 in /usr/local/lib/python3.10/dist-packages (from requests->transformers>=3.5.0->spuco) (3.4.0)\n",
            "Requirement already satisfied: idna<4,>=2.5 in /usr/local/lib/python3.10/dist-packages (from requests->transformers>=3.5.0->spuco) (3.10)\n",
            "Requirement already satisfied: certifi>=2017.4.17 in /usr/local/lib/python3.10/dist-packages (from requests->transformers>=3.5.0->spuco) (2024.8.30)\n",
            "Downloading spuco-2.0.3-py3-none-any.whl (127 kB)\n",
            "\u001b[2K   \u001b[90m━━━━━━━━━━━━━━━━━━━━━━━━━━━━━━━━━━━━━━━━\u001b[0m \u001b[32m127.4/127.4 kB\u001b[0m \u001b[31m11.9 MB/s\u001b[0m eta \u001b[36m0:00:00\u001b[0m\n",
            "\u001b[?25hDownloading umap_learn-0.5.7-py3-none-any.whl (88 kB)\n",
            "\u001b[2K   \u001b[90m━━━━━━━━━━━━━━━━━━━━━━━━━━━━━━━━━━━━━━━━\u001b[0m \u001b[32m88.8/88.8 kB\u001b[0m \u001b[31m8.3 MB/s\u001b[0m eta \u001b[36m0:00:00\u001b[0m\n",
            "\u001b[?25hDownloading wilds-2.0.0-py3-none-any.whl (126 kB)\n",
            "\u001b[2K   \u001b[90m━━━━━━━━━━━━━━━━━━━━━━━━━━━━━━━━━━━━━━━━\u001b[0m \u001b[32m126.2/126.2 kB\u001b[0m \u001b[31m11.3 MB/s\u001b[0m eta \u001b[36m0:00:00\u001b[0m\n",
            "\u001b[?25hDownloading ogb-1.3.6-py3-none-any.whl (78 kB)\n",
            "\u001b[2K   \u001b[90m━━━━━━━━━━━━━━━━━━━━━━━━━━━━━━━━━━━━━━━━\u001b[0m \u001b[32m78.8/78.8 kB\u001b[0m \u001b[31m7.3 MB/s\u001b[0m eta \u001b[36m0:00:00\u001b[0m\n",
            "\u001b[?25hDownloading outdated-0.2.2-py2.py3-none-any.whl (7.5 kB)\n",
            "Downloading pynndescent-0.5.13-py3-none-any.whl (56 kB)\n",
            "\u001b[2K   \u001b[90m━━━━━━━━━━━━━━━━━━━━━━━━━━━━━━━━━━━━━━━━\u001b[0m \u001b[32m56.9/56.9 kB\u001b[0m \u001b[31m5.2 MB/s\u001b[0m eta \u001b[36m0:00:00\u001b[0m\n",
            "\u001b[?25hDownloading ttach-0.0.3-py3-none-any.whl (9.8 kB)\n",
            "Downloading littleutils-0.2.4-py3-none-any.whl (8.1 kB)\n",
            "Building wheels for collected packages: grad-cam\n",
            "  Building wheel for grad-cam (pyproject.toml) ... \u001b[?25l\u001b[?25hdone\n",
            "  Created wheel for grad-cam: filename=grad_cam-1.5.4-py3-none-any.whl size=39588 sha256=4d4b6482461171be732ad2c44d54d01c08b2ca15a84487f46e3e3b788d4bcaf0\n",
            "  Stored in directory: /root/.cache/pip/wheels/50/b0/82/1f97b5348c7fe9f0ce0ba18497202cafa5dec4562bd5292680\n",
            "Successfully built grad-cam\n",
            "Installing collected packages: ttach, littleutils, outdated, pynndescent, ogb, wilds, umap-learn, grad-cam, spuco\n",
            "Successfully installed grad-cam-1.5.4 littleutils-0.2.4 ogb-1.3.6 outdated-0.2.2 pynndescent-0.5.13 spuco-2.0.3 ttach-0.0.3 umap-learn-0.5.7 wilds-2.0.0\n"
          ]
        }
      ],
      "source": [
        "%pip install spuco"
      ]
    },
    {
      "cell_type": "code",
      "execution_count": null,
      "metadata": {
        "id": "9nlxdQ5Z77fy"
      },
      "outputs": [],
      "source": [
        "import torch\n",
        "import seaborn as sns\n",
        "import pandas as pd\n",
        "import matplotlib.pyplot as plt\n",
        "from spuco.robust_train import ERM\n",
        "from spuco.datasets import SpuCoMNIST, SpuriousFeatureDifficulty\n",
        "from spuco.models import model_factory\n",
        "from spuco.utils import set_seed, CustomIndicesSampler, Trainer\n",
        "from spuco.group_inference import JTTInference\n",
        "from spuco.evaluate import Evaluator\n",
        "import torchvision.transforms as T\n",
        "import torch.nn as nn\n",
        "import torch.optim as optim\n",
        "from torch.utils.data import Subset, DataLoader\n",
        "import numpy as np\n",
        "\n",
        "\n",
        "\n",
        "device = torch.device(\"cuda\")"
      ]
    },
    {
      "cell_type": "code",
      "execution_count": null,
      "metadata": {
        "id": "-86nH-uF78fT"
      },
      "outputs": [],
      "source": [
        "\n",
        "set_seed(0)"
      ]
    },
    {
      "cell_type": "markdown",
      "metadata": {
        "id": "DnlNw4XV8C5t"
      },
      "source": [
        "### Dataset Creation"
      ]
    },
    {
      "cell_type": "code",
      "execution_count": null,
      "metadata": {
        "colab": {
          "base_uri": "https://localhost:8080/"
        },
        "id": "4YJmPwup8FJk",
        "outputId": "f461e096-677d-4058-d220-c4dad327297e"
      },
      "outputs": [
        {
          "name": "stdout",
          "output_type": "stream",
          "text": [
            "Downloading http://yann.lecun.com/exdb/mnist/train-images-idx3-ubyte.gz\n",
            "Failed to download (trying next):\n",
            "HTTP Error 403: Forbidden\n",
            "\n",
            "Downloading https://ossci-datasets.s3.amazonaws.com/mnist/train-images-idx3-ubyte.gz\n",
            "Downloading https://ossci-datasets.s3.amazonaws.com/mnist/train-images-idx3-ubyte.gz to /data/mnist/MNIST/raw/train-images-idx3-ubyte.gz\n"
          ]
        },
        {
          "name": "stderr",
          "output_type": "stream",
          "text": [
            "100%|██████████| 9.91M/9.91M [00:00<00:00, 14.8MB/s]\n"
          ]
        },
        {
          "name": "stdout",
          "output_type": "stream",
          "text": [
            "Extracting /data/mnist/MNIST/raw/train-images-idx3-ubyte.gz to /data/mnist/MNIST/raw\n",
            "\n",
            "Downloading http://yann.lecun.com/exdb/mnist/train-labels-idx1-ubyte.gz\n",
            "Failed to download (trying next):\n",
            "HTTP Error 403: Forbidden\n",
            "\n",
            "Downloading https://ossci-datasets.s3.amazonaws.com/mnist/train-labels-idx1-ubyte.gz\n",
            "Downloading https://ossci-datasets.s3.amazonaws.com/mnist/train-labels-idx1-ubyte.gz to /data/mnist/MNIST/raw/train-labels-idx1-ubyte.gz\n"
          ]
        },
        {
          "name": "stderr",
          "output_type": "stream",
          "text": [
            "100%|██████████| 28.9k/28.9k [00:00<00:00, 499kB/s]\n"
          ]
        },
        {
          "name": "stdout",
          "output_type": "stream",
          "text": [
            "Extracting /data/mnist/MNIST/raw/train-labels-idx1-ubyte.gz to /data/mnist/MNIST/raw\n",
            "\n",
            "Downloading http://yann.lecun.com/exdb/mnist/t10k-images-idx3-ubyte.gz\n",
            "Failed to download (trying next):\n",
            "HTTP Error 403: Forbidden\n",
            "\n",
            "Downloading https://ossci-datasets.s3.amazonaws.com/mnist/t10k-images-idx3-ubyte.gz\n",
            "Downloading https://ossci-datasets.s3.amazonaws.com/mnist/t10k-images-idx3-ubyte.gz to /data/mnist/MNIST/raw/t10k-images-idx3-ubyte.gz\n"
          ]
        },
        {
          "name": "stderr",
          "output_type": "stream",
          "text": [
            "100%|██████████| 1.65M/1.65M [00:00<00:00, 4.46MB/s]\n"
          ]
        },
        {
          "name": "stdout",
          "output_type": "stream",
          "text": [
            "Extracting /data/mnist/MNIST/raw/t10k-images-idx3-ubyte.gz to /data/mnist/MNIST/raw\n",
            "\n",
            "Downloading http://yann.lecun.com/exdb/mnist/t10k-labels-idx1-ubyte.gz\n",
            "Failed to download (trying next):\n",
            "HTTP Error 403: Forbidden\n",
            "\n",
            "Downloading https://ossci-datasets.s3.amazonaws.com/mnist/t10k-labels-idx1-ubyte.gz\n",
            "Downloading https://ossci-datasets.s3.amazonaws.com/mnist/t10k-labels-idx1-ubyte.gz to /data/mnist/MNIST/raw/t10k-labels-idx1-ubyte.gz\n"
          ]
        },
        {
          "name": "stderr",
          "output_type": "stream",
          "text": [
            "100%|██████████| 4.54k/4.54k [00:00<00:00, 9.71MB/s]\n"
          ]
        },
        {
          "name": "stdout",
          "output_type": "stream",
          "text": [
            "Extracting /data/mnist/MNIST/raw/t10k-labels-idx1-ubyte.gz to /data/mnist/MNIST/raw\n",
            "\n"
          ]
        }
      ],
      "source": [
        "\n",
        "\n",
        "classes = [[0, 1], [2, 3], [4, 5], [6, 7], [8, 9]]\n",
        "difficulty = SpuriousFeatureDifficulty.MAGNITUDE_LARGE\n",
        "\n",
        "trainset= SpuCoMNIST(\n",
        "    root=\"/data/mnist/\",\n",
        "    spurious_feature_difficulty=difficulty,\n",
        "    spurious_correlation_strength=0.95,\n",
        "    classes=classes,\n",
        "    split=\"train\",\n",
        "    label_noise=0.001\n",
        ")\n",
        "trainset.initialize()\n",
        "\n",
        "testset = SpuCoMNIST(\n",
        "    root=\"/data/mnist/\",\n",
        "    spurious_feature_difficulty=difficulty,\n",
        "    classes=classes,\n",
        "    split=\"test\"\n",
        ")\n",
        "testset.initialize()\n"
      ]
    },
    {
      "cell_type": "code",
      "execution_count": null,
      "metadata": {
        "id": "ciq3IIBB8Rm3"
      },
      "outputs": [],
      "source": [
        "\n",
        "classes = [[0, 1], [2, 3], [4, 5], [6, 7], [8, 9]]\n",
        "\n",
        "valset = SpuCoMNIST(\n",
        "    root=\"/data/mnist/\",\n",
        "    spurious_feature_difficulty=difficulty,\n",
        "    classes=classes,\n",
        "    split=\"val\"\n",
        ")\n",
        "valset.initialize()\n"
      ]
    },
    {
      "cell_type": "code",
      "execution_count": null,
      "metadata": {
        "colab": {
          "base_uri": "https://localhost:8080/",
          "height": 45
        },
        "id": "mS1p6JEA8T6V",
        "outputId": "70a8df95-7d73-49ab-9cf9-0d55b2c812df"
      },
      "outputs": [
        {
          "data": {
            "image/jpeg": "[encoded data removed]",
            "image/png": "[encoded data removed]",
            "text/plain": [
              "<PIL.Image.Image image mode=RGB size=28x28>"
            ]
          },
          "execution_count": 6,
          "metadata": {},
          "output_type": "execute_result"
        }
      ],
      "source": [
        "T.ToPILImage()(trainset[1000][0]).resize((28,28))"
      ]
    },
    {
      "cell_type": "code",
      "execution_count": null,
      "metadata": {
        "colab": {
          "base_uri": "https://localhost:8080/",
          "height": 45
        },
        "id": "fe3HXksF8Vca",
        "outputId": "635dff00-d90e-4c00-cdd3-1349e47d0c18"
      },
      "outputs": [
        {
          "data": {
            "image/jpeg": "[encoded data removed]",
            "image/png": "[encoded data removed]",
            "text/plain": [
              "<PIL.Image.Image image mode=RGB size=28x28>"
            ]
          },
          "execution_count": 7,
          "metadata": {},
          "output_type": "execute_result"
        }
      ],
      "source": [
        "T.ToPILImage()(trainset[1000][0])"
      ]
    },
    {
      "cell_type": "markdown",
      "metadata": {
        "id": "tOZ_h3nK8dMA"
      },
      "source": [
        "### Investigate Forgettability"
      ]
    },
    {
      "cell_type": "code",
      "execution_count": null,
      "metadata": {
        "id": "y4Ktyvb68gS9"
      },
      "outputs": [],
      "source": []
    },
    {
      "cell_type": "code",
      "execution_count": null,
      "metadata": {
        "id": "wQU0wtaN82cs"
      },
      "outputs": [],
      "source": [
        "train_loader= DataLoader(trainset, batch_size=64, shuffle=True)\n",
        "not_shuffle_train_loader = DataLoader(trainset, batch_size=64, shuffle=False)\n",
        "test_loader = DataLoader(testset, batch_size=64, shuffle=False)"
      ]
    },
    {
      "cell_type": "code",
      "execution_count": null,
      "metadata": {
        "id": "96F1KzWZ87MJ"
      },
      "outputs": [],
      "source": [
        "\n",
        "\n",
        "# model = model_factory(\"lenet\", trainset[0][0].shape, trainset.num_classes).to(device)\n",
        "model = model_factory(\"mlp\", trainset[0][0].shape, trainset.num_classes).to(device)\n",
        "\n",
        "# Initialize the model and optimizer\n",
        "# optimizer = optim.Adam(model.parameters(), lr=0.001)\n",
        "optimizer = optim.SGD(model.parameters(), lr=1e-2, momentum=0.9, nesterov=False)\n",
        "\n",
        "# Training loop\n",
        "device = torch.device(\"cuda\" if torch.cuda.is_available() else \"cpu\")\n",
        "model.to(device)\n",
        "criterion = nn.CrossEntropyLoss()\n",
        "num_epochs = 10\n",
        "# train_predictions_history = [[] for _ in range(len(trainset))]\n",
        "# test_predictions_history = [[] for _ in range(len(testset))]\n",
        "train_acc_history_lst = []\n",
        "test_acc_history_lst = []\n",
        "\n",
        "# Training function\n",
        "def train(model, train_loader, optimizer, criterion, device):\n",
        "    model.train()\n",
        "    for batch_idx, (data, target) in enumerate(train_loader):\n",
        "        data, target = data.to(device), target.to(device)\n",
        "        optimizer.zero_grad()\n",
        "        output = model(data)\n",
        "        loss = criterion(output, target)\n",
        "        loss.backward()\n",
        "        optimizer.step()\n",
        "\n",
        "# Evaluation function - MIRELLE GEORGE\n",
        "def evaluate(model, data_loader, criterion, device):\n",
        "    model.eval()\n",
        "    correct = 0\n",
        "    total = 0\n",
        "    predictions = []\n",
        "    acc_history = []\n",
        "    with torch.no_grad():\n",
        "        for data, target in data_loader:\n",
        "            data, target = data.to(device), target.to(device)\n",
        "            output = model(data)\n",
        "            _, predicted = torch.max(output.data, 1)\n",
        "            total += target.size(0)\n",
        "            correct += (predicted == target).sum().item()\n",
        "            acc_history.extend((predicted == target).cpu().numpy())\n",
        "            predictions.extend(predicted.cpu().numpy())\n",
        "    return correct / total, acc_history\n",
        "\n",
        "# Calculate forgetability scores - MIRELLE GEORGE\n",
        "def calculate_forgetability(predictions_history):\n",
        "    forgetability_scores = []\n",
        "    for sample_predictions in predictions_history:\n",
        "        correct_to_incorrect = 0\n",
        "        for i in range(1, len(sample_predictions)):\n",
        "            if sample_predictions[i-1] == 1 and sample_predictions[i] == 0:\n",
        "                correct_to_incorrect += 1\n",
        "\n",
        "        if sum(sample_predictions) == 0:\n",
        "            correct_to_incorrect = (num_epochs // 2) + 1\n",
        "        forgetability_scores.append(correct_to_incorrect)\n",
        "    return forgetability_scores"
      ]
    },
    {
      "cell_type": "code",
      "execution_count": null,
      "metadata": {
        "colab": {
          "base_uri": "https://localhost:8080/"
        },
        "id": "pRNEseev_VhE",
        "outputId": "a75049aa-0f14-4c58-8f41-279092732b0a"
      },
      "outputs": [
        {
          "name": "stdout",
          "output_type": "stream",
          "text": [
            "Epoch 1/10, Train Acc: 0.9508, Test Acc: 0.2309\n",
            "Epoch 2/10, Train Acc: 0.9526, Test Acc: 0.2679\n",
            "Epoch 3/10, Train Acc: 0.9533, Test Acc: 0.2732\n",
            "Epoch 4/10, Train Acc: 0.9557, Test Acc: 0.3101\n",
            "Epoch 5/10, Train Acc: 0.9558, Test Acc: 0.3151\n",
            "Epoch 6/10, Train Acc: 0.9577, Test Acc: 0.3411\n",
            "Epoch 7/10, Train Acc: 0.9587, Test Acc: 0.3586\n",
            "Epoch 8/10, Train Acc: 0.9603, Test Acc: 0.4007\n",
            "Epoch 9/10, Train Acc: 0.9608, Test Acc: 0.3787\n",
            "Epoch 10/10, Train Acc: 0.9645, Test Acc: 0.4432\n"
          ]
        }
      ],
      "source": [
        "for epoch in range(num_epochs):\n",
        "    train(model, train_loader, optimizer, criterion, device)\n",
        "    train_acc, train_acc_history = evaluate(model, not_shuffle_train_loader, criterion, device)\n",
        "    test_acc, test_acc_history = evaluate(model, test_loader, criterion, device)\n",
        "\n",
        "    print(f\"Epoch {epoch+1}/{num_epochs}, Train Acc: {train_acc:.4f}, Test Acc: {test_acc:.4f}\")\n",
        "\n",
        "    train_acc_history_lst.append(train_acc_history)\n",
        "    test_acc_history_lst.append(test_acc_history)"
      ]
    },
    {
      "cell_type": "code",
      "execution_count": null,
      "metadata": {
        "id": "64JK69da_euZ"
      },
      "outputs": [],
      "source": [
        "## Find JTT predictions for each data point in train_loader\n",
        "final_train_acc_history = train_acc_history_lst[-1]\n",
        "\n",
        "## Find forgetability scores for each data point in train_loader\n",
        "train_acc_history_transposed = np.array(train_acc_history_lst).T\n",
        "forgettable_scores_per_datapoint = calculate_forgetability(train_acc_history_transposed)"
      ]
    },
    {
      "cell_type": "code",
      "execution_count": null,
      "metadata": {
        "colab": {
          "base_uri": "https://localhost:8080/",
          "height": 472
        },
        "id": "cx6ZIeJY_j0s",
        "outputId": "118ef077-fe0e-4d31-ec60-1e92292cd506"
      },
      "outputs": [
        {
          "data": {
            "image/png": "[encoded data removed]",
            "text/plain": [
              "<Figure size 640x480 with 1 Axes>"
            ]
          },
          "metadata": {},
          "output_type": "display_data"
        }
      ],
      "source": [
        "index = np.arange(len(trainset))\n",
        "trainset_df = pd.DataFrame({\"index\": index, \"JTT\": final_train_acc_history, \"forgettability_scores\": forgettable_scores_per_datapoint})\n",
        "\n",
        "sns.barplot(data = trainset_df, x=\"JTT\", y=\"forgettability_scores\")\n",
        "plt.title('Forgettability and JTT Measures for each Datapoint in the Training Set')\n",
        "plt.xlabel('JTT Classification')\n",
        "plt.ylabel('Forgettability Score')\n",
        "plt.show()\n",
        "\n",
        "mean_forgettability_JTT_1 = np.mean(trainset_df[trainset_df[\"JTT\"] == 1]['forgettability_scores'])"
      ]
    },
    {
      "cell_type": "code",
      "execution_count": null,
      "metadata": {
        "colab": {
          "base_uri": "https://localhost:8080/",
          "height": 424
        },
        "id": "Yb88tbCu_vOI",
        "outputId": "e282b7b2-0d05-461d-b472-cae0205c40fd"
      },
      "outputs": [
        {
          "data": {
            "application/vnd.google.colaboratory.intrinsic+json": {
              "summary": "{\n  \"name\": \"trainset_df\",\n  \"rows\": 48004,\n  \"fields\": [\n    {\n      \"column\": \"index\",\n      \"properties\": {\n        \"dtype\": \"number\",\n        \"std\": 13857,\n        \"min\": 0,\n        \"max\": 48003,\n        \"num_unique_values\": 48004,\n        \"samples\": [\n          42995,\n          17812,\n          12377\n        ],\n        \"semantic_type\": \"\",\n        \"description\": \"\"\n      }\n    },\n    {\n      \"column\": \"JTT\",\n      \"properties\": {\n        \"dtype\": \"boolean\",\n        \"num_unique_values\": 2,\n        \"samples\": [\n          false,\n          true\n        ],\n        \"semantic_type\": \"\",\n        \"description\": \"\"\n      }\n    },\n    {\n      \"column\": \"forgettability_scores\",\n      \"properties\": {\n        \"dtype\": \"number\",\n        \"std\": 1,\n        \"min\": 0,\n        \"max\": 6,\n        \"num_unique_values\": 5,\n        \"samples\": [\n          6,\n          3\n        ],\n        \"semantic_type\": \"\",\n        \"description\": \"\"\n      }\n    },\n    {\n      \"column\": \"group_label\",\n      \"properties\": {\n        \"dtype\": \"category\",\n        \"num_unique_values\": 25,\n        \"samples\": [\n          [\n            1,\n            2\n          ],\n          [\n            2,\n            4\n          ]\n        ],\n        \"semantic_type\": \"\",\n        \"description\": \"\"\n      }\n    },\n    {\n      \"column\": \"class_type\",\n      \"properties\": {\n        \"dtype\": \"category\",\n        \"num_unique_values\": 2,\n        \"samples\": [\n          \"minority\",\n          \"majority\"\n        ],\n        \"semantic_type\": \"\",\n        \"description\": \"\"\n      }\n    }\n  ]\n}",
              "type": "dataframe",
              "variable_name": "trainset_df"
            },
            "text/html": [
              "\n",
              "  <div id=\"df-a8c15aa7-898d-4c74-a0ac-54a89eee8204\" class=\"colab-df-container\">\n",
              "    <div>\n",
              "<style scoped>\n",
              "    .dataframe tbody tr th:only-of-type {\n",
              "        vertical-align: middle;\n",
              "    }\n",
              "\n",
              "    .dataframe tbody tr th {\n",
              "        vertical-align: top;\n",
              "    }\n",
              "\n",
              "    .dataframe thead th {\n",
              "        text-align: right;\n",
              "    }\n",
              "</style>\n",
              "<table border=\"1\" class=\"dataframe\">\n",
              "  <thead>\n",
              "    <tr style=\"text-align: right;\">\n",
              "      <th></th>\n",
              "      <th>index</th>\n",
              "      <th>JTT</th>\n",
              "      <th>forgettability_scores</th>\n",
              "      <th>group_label</th>\n",
              "      <th>class_type</th>\n",
              "    </tr>\n",
              "  </thead>\n",
              "  <tbody>\n",
              "    <tr>\n",
              "      <th>0</th>\n",
              "      <td>0</td>\n",
              "      <td>True</td>\n",
              "      <td>0</td>\n",
              "      <td>(2, 2)</td>\n",
              "      <td>majority</td>\n",
              "    </tr>\n",
              "    <tr>\n",
              "      <th>1</th>\n",
              "      <td>1</td>\n",
              "      <td>True</td>\n",
              "      <td>0</td>\n",
              "      <td>(0, 0)</td>\n",
              "      <td>majority</td>\n",
              "    </tr>\n",
              "    <tr>\n",
              "      <th>2</th>\n",
              "      <td>2</td>\n",
              "      <td>True</td>\n",
              "      <td>0</td>\n",
              "      <td>(2, 2)</td>\n",
              "      <td>majority</td>\n",
              "    </tr>\n",
              "    <tr>\n",
              "      <th>3</th>\n",
              "      <td>3</td>\n",
              "      <td>True</td>\n",
              "      <td>0</td>\n",
              "      <td>(0, 0)</td>\n",
              "      <td>majority</td>\n",
              "    </tr>\n",
              "    <tr>\n",
              "      <th>4</th>\n",
              "      <td>4</td>\n",
              "      <td>True</td>\n",
              "      <td>0</td>\n",
              "      <td>(4, 4)</td>\n",
              "      <td>majority</td>\n",
              "    </tr>\n",
              "    <tr>\n",
              "      <th>...</th>\n",
              "      <td>...</td>\n",
              "      <td>...</td>\n",
              "      <td>...</td>\n",
              "      <td>...</td>\n",
              "      <td>...</td>\n",
              "    </tr>\n",
              "    <tr>\n",
              "      <th>47999</th>\n",
              "      <td>47999</td>\n",
              "      <td>True</td>\n",
              "      <td>0</td>\n",
              "      <td>(4, 4)</td>\n",
              "      <td>majority</td>\n",
              "    </tr>\n",
              "    <tr>\n",
              "      <th>48000</th>\n",
              "      <td>48000</td>\n",
              "      <td>True</td>\n",
              "      <td>0</td>\n",
              "      <td>(1, 1)</td>\n",
              "      <td>majority</td>\n",
              "    </tr>\n",
              "    <tr>\n",
              "      <th>48001</th>\n",
              "      <td>48001</td>\n",
              "      <td>True</td>\n",
              "      <td>0</td>\n",
              "      <td>(2, 2)</td>\n",
              "      <td>majority</td>\n",
              "    </tr>\n",
              "    <tr>\n",
              "      <th>48002</th>\n",
              "      <td>48002</td>\n",
              "      <td>True</td>\n",
              "      <td>0</td>\n",
              "      <td>(3, 3)</td>\n",
              "      <td>majority</td>\n",
              "    </tr>\n",
              "    <tr>\n",
              "      <th>48003</th>\n",
              "      <td>48003</td>\n",
              "      <td>True</td>\n",
              "      <td>0</td>\n",
              "      <td>(4, 4)</td>\n",
              "      <td>majority</td>\n",
              "    </tr>\n",
              "  </tbody>\n",
              "</table>\n",
              "<p>48004 rows × 5 columns</p>\n",
              "</div>\n",
              "    <div class=\"colab-df-buttons\">\n",
              "\n",
              "  <div class=\"colab-df-container\">\n",
              "    <button class=\"colab-df-convert\" onclick=\"convertToInteractive('df-a8c15aa7-898d-4c74-a0ac-54a89eee8204')\"\n",
              "            title=\"Convert this dataframe to an interactive table.\"\n",
              "            style=\"display:none;\">\n",
              "\n",
              "  <svg xmlns=\"http://www.w3.org/2000/svg\" height=\"24px\" viewBox=\"0 -960 960 960\">\n",
              "    <path d=\"M120-120v-720h720v720H120Zm60-500h600v-160H180v160Zm220 220h160v-160H400v160Zm0 220h160v-160H400v160ZM180-400h160v-160H180v160Zm440 0h160v-160H620v160ZM180-180h160v-160H180v160Zm440 0h160v-160H620v160Z\"/>\n",
              "  </svg>\n",
              "    </button>\n",
              "\n",
              "  <style>\n",
              "    .colab-df-container {\n",
              "      display:flex;\n",
              "      gap: 12px;\n",
              "    }\n",
              "\n",
              "    .colab-df-convert {\n",
              "      background-color: #E8F0FE;\n",
              "      border: none;\n",
              "      border-radius: 50%;\n",
              "      cursor: pointer;\n",
              "      display: none;\n",
              "      fill: #1967D2;\n",
              "      height: 32px;\n",
              "      padding: 0 0 0 0;\n",
              "      width: 32px;\n",
              "    }\n",
              "\n",
              "    .colab-df-convert:hover {\n",
              "      background-color: #E2EBFA;\n",
              "      box-shadow: 0px 1px 2px rgba(60, 64, 67, 0.3), 0px 1px 3px 1px rgba(60, 64, 67, 0.15);\n",
              "      fill: #174EA6;\n",
              "    }\n",
              "\n",
              "    .colab-df-buttons div {\n",
              "      margin-bottom: 4px;\n",
              "    }\n",
              "\n",
              "    [theme=dark] .colab-df-convert {\n",
              "      background-color: #3B4455;\n",
              "      fill: #D2E3FC;\n",
              "    }\n",
              "\n",
              "    [theme=dark] .colab-df-convert:hover {\n",
              "      background-color: #434B5C;\n",
              "      box-shadow: 0px 1px 3px 1px rgba(0, 0, 0, 0.15);\n",
              "      filter: drop-shadow(0px 1px 2px rgba(0, 0, 0, 0.3));\n",
              "      fill: #FFFFFF;\n",
              "    }\n",
              "  </style>\n",
              "\n",
              "    <script>\n",
              "      const buttonEl =\n",
              "        document.querySelector('#df-a8c15aa7-898d-4c74-a0ac-54a89eee8204 button.colab-df-convert');\n",
              "      buttonEl.style.display =\n",
              "        google.colab.kernel.accessAllowed ? 'block' : 'none';\n",
              "\n",
              "      async function convertToInteractive(key) {\n",
              "        const element = document.querySelector('#df-a8c15aa7-898d-4c74-a0ac-54a89eee8204');\n",
              "        const dataTable =\n",
              "          await google.colab.kernel.invokeFunction('convertToInteractive',\n",
              "                                                    [key], {});\n",
              "        if (!dataTable) return;\n",
              "\n",
              "        const docLinkHtml = 'Like what you see? Visit the ' +\n",
              "          '<a target=\"_blank\" href=https://colab.research.google.com/notebooks/data_table.ipynb>data table notebook</a>'\n",
              "          + ' to learn more about interactive tables.';\n",
              "        element.innerHTML = '';\n",
              "        dataTable['output_type'] = 'display_data';\n",
              "        await google.colab.output.renderOutput(dataTable, element);\n",
              "        const docLink = document.createElement('div');\n",
              "        docLink.innerHTML = docLinkHtml;\n",
              "        element.appendChild(docLink);\n",
              "      }\n",
              "    </script>\n",
              "  </div>\n",
              "\n",
              "\n",
              "<div id=\"df-72404420-c8ff-4b23-a5cc-e9faefb7008e\">\n",
              "  <button class=\"colab-df-quickchart\" onclick=\"quickchart('df-72404420-c8ff-4b23-a5cc-e9faefb7008e')\"\n",
              "            title=\"Suggest charts\"\n",
              "            style=\"display:none;\">\n",
              "\n",
              "<svg xmlns=\"http://www.w3.org/2000/svg\" height=\"24px\"viewBox=\"0 0 24 24\"\n",
              "     width=\"24px\">\n",
              "    <g>\n",
              "        <path d=\"M19 3H5c-1.1 0-2 .9-2 2v14c0 1.1.9 2 2 2h14c1.1 0 2-.9 2-2V5c0-1.1-.9-2-2-2zM9 17H7v-7h2v7zm4 0h-2V7h2v10zm4 0h-2v-4h2v4z\"/>\n",
              "    </g>\n",
              "</svg>\n",
              "  </button>\n",
              "\n",
              "<style>\n",
              "  .colab-df-quickchart {\n",
              "      --bg-color: #E8F0FE;\n",
              "      --fill-color: #1967D2;\n",
              "      --hover-bg-color: #E2EBFA;\n",
              "      --hover-fill-color: #174EA6;\n",
              "      --disabled-fill-color: #AAA;\n",
              "      --disabled-bg-color: #DDD;\n",
              "  }\n",
              "\n",
              "  [theme=dark] .colab-df-quickchart {\n",
              "      --bg-color: #3B4455;\n",
              "      --fill-color: #D2E3FC;\n",
              "      --hover-bg-color: #434B5C;\n",
              "      --hover-fill-color: #FFFFFF;\n",
              "      --disabled-bg-color: #3B4455;\n",
              "      --disabled-fill-color: #666;\n",
              "  }\n",
              "\n",
              "  .colab-df-quickchart {\n",
              "    background-color: var(--bg-color);\n",
              "    border: none;\n",
              "    border-radius: 50%;\n",
              "    cursor: pointer;\n",
              "    display: none;\n",
              "    fill: var(--fill-color);\n",
              "    height: 32px;\n",
              "    padding: 0;\n",
              "    width: 32px;\n",
              "  }\n",
              "\n",
              "  .colab-df-quickchart:hover {\n",
              "    background-color: var(--hover-bg-color);\n",
              "    box-shadow: 0 1px 2px rgba(60, 64, 67, 0.3), 0 1px 3px 1px rgba(60, 64, 67, 0.15);\n",
              "    fill: var(--button-hover-fill-color);\n",
              "  }\n",
              "\n",
              "  .colab-df-quickchart-complete:disabled,\n",
              "  .colab-df-quickchart-complete:disabled:hover {\n",
              "    background-color: var(--disabled-bg-color);\n",
              "    fill: var(--disabled-fill-color);\n",
              "    box-shadow: none;\n",
              "  }\n",
              "\n",
              "  .colab-df-spinner {\n",
              "    border: 2px solid var(--fill-color);\n",
              "    border-color: transparent;\n",
              "    border-bottom-color: var(--fill-color);\n",
              "    animation:\n",
              "      spin 1s steps(1) infinite;\n",
              "  }\n",
              "\n",
              "  @keyframes spin {\n",
              "    0% {\n",
              "      border-color: transparent;\n",
              "      border-bottom-color: var(--fill-color);\n",
              "      border-left-color: var(--fill-color);\n",
              "    }\n",
              "    20% {\n",
              "      border-color: transparent;\n",
              "      border-left-color: var(--fill-color);\n",
              "      border-top-color: var(--fill-color);\n",
              "    }\n",
              "    30% {\n",
              "      border-color: transparent;\n",
              "      border-left-color: var(--fill-color);\n",
              "      border-top-color: var(--fill-color);\n",
              "      border-right-color: var(--fill-color);\n",
              "    }\n",
              "    40% {\n",
              "      border-color: transparent;\n",
              "      border-right-color: var(--fill-color);\n",
              "      border-top-color: var(--fill-color);\n",
              "    }\n",
              "    60% {\n",
              "      border-color: transparent;\n",
              "      border-right-color: var(--fill-color);\n",
              "    }\n",
              "    80% {\n",
              "      border-color: transparent;\n",
              "      border-right-color: var(--fill-color);\n",
              "      border-bottom-color: var(--fill-color);\n",
              "    }\n",
              "    90% {\n",
              "      border-color: transparent;\n",
              "      border-bottom-color: var(--fill-color);\n",
              "    }\n",
              "  }\n",
              "</style>\n",
              "\n",
              "  <script>\n",
              "    async function quickchart(key) {\n",
              "      const quickchartButtonEl =\n",
              "        document.querySelector('#' + key + ' button');\n",
              "      quickchartButtonEl.disabled = true;  // To prevent multiple clicks.\n",
              "      quickchartButtonEl.classList.add('colab-df-spinner');\n",
              "      try {\n",
              "        const charts = await google.colab.kernel.invokeFunction(\n",
              "            'suggestCharts', [key], {});\n",
              "      } catch (error) {\n",
              "        console.error('Error during call to suggestCharts:', error);\n",
              "      }\n",
              "      quickchartButtonEl.classList.remove('colab-df-spinner');\n",
              "      quickchartButtonEl.classList.add('colab-df-quickchart-complete');\n",
              "    }\n",
              "    (() => {\n",
              "      let quickchartButtonEl =\n",
              "        document.querySelector('#df-72404420-c8ff-4b23-a5cc-e9faefb7008e button');\n",
              "      quickchartButtonEl.style.display =\n",
              "        google.colab.kernel.accessAllowed ? 'block' : 'none';\n",
              "    })();\n",
              "  </script>\n",
              "</div>\n",
              "\n",
              "  <div id=\"id_588b1bb8-b10a-45a1-a5ea-744b23c0df9c\">\n",
              "    <style>\n",
              "      .colab-df-generate {\n",
              "        background-color: #E8F0FE;\n",
              "        border: none;\n",
              "        border-radius: 50%;\n",
              "        cursor: pointer;\n",
              "        display: none;\n",
              "        fill: #1967D2;\n",
              "        height: 32px;\n",
              "        padding: 0 0 0 0;\n",
              "        width: 32px;\n",
              "      }\n",
              "\n",
              "      .colab-df-generate:hover {\n",
              "        background-color: #E2EBFA;\n",
              "        box-shadow: 0px 1px 2px rgba(60, 64, 67, 0.3), 0px 1px 3px 1px rgba(60, 64, 67, 0.15);\n",
              "        fill: #174EA6;\n",
              "      }\n",
              "\n",
              "      [theme=dark] .colab-df-generate {\n",
              "        background-color: #3B4455;\n",
              "        fill: #D2E3FC;\n",
              "      }\n",
              "\n",
              "      [theme=dark] .colab-df-generate:hover {\n",
              "        background-color: #434B5C;\n",
              "        box-shadow: 0px 1px 3px 1px rgba(0, 0, 0, 0.15);\n",
              "        filter: drop-shadow(0px 1px 2px rgba(0, 0, 0, 0.3));\n",
              "        fill: #FFFFFF;\n",
              "      }\n",
              "    </style>\n",
              "    <button class=\"colab-df-generate\" onclick=\"generateWithVariable('trainset_df')\"\n",
              "            title=\"Generate code using this dataframe.\"\n",
              "            style=\"display:none;\">\n",
              "\n",
              "  <svg xmlns=\"http://www.w3.org/2000/svg\" height=\"24px\"viewBox=\"0 0 24 24\"\n",
              "       width=\"24px\">\n",
              "    <path d=\"M7,19H8.4L18.45,9,17,7.55,7,17.6ZM5,21V16.75L18.45,3.32a2,2,0,0,1,2.83,0l1.4,1.43a1.91,1.91,0,0,1,.58,1.4,1.91,1.91,0,0,1-.58,1.4L9.25,21ZM18.45,9,17,7.55Zm-12,3A5.31,5.31,0,0,0,4.9,8.1,5.31,5.31,0,0,0,1,6.5,5.31,5.31,0,0,0,4.9,4.9,5.31,5.31,0,0,0,6.5,1,5.31,5.31,0,0,0,8.1,4.9,5.31,5.31,0,0,0,12,6.5,5.46,5.46,0,0,0,6.5,12Z\"/>\n",
              "  </svg>\n",
              "    </button>\n",
              "    <script>\n",
              "      (() => {\n",
              "      const buttonEl =\n",
              "        document.querySelector('#id_588b1bb8-b10a-45a1-a5ea-744b23c0df9c button.colab-df-generate');\n",
              "      buttonEl.style.display =\n",
              "        google.colab.kernel.accessAllowed ? 'block' : 'none';\n",
              "\n",
              "      buttonEl.onclick = () => {\n",
              "        google.colab.notebook.generateWithVariable('trainset_df');\n",
              "      }\n",
              "      })();\n",
              "    </script>\n",
              "  </div>\n",
              "\n",
              "    </div>\n",
              "  </div>\n"
            ],
            "text/plain": [
              "       index   JTT  forgettability_scores group_label class_type\n",
              "0          0  True                      0      (2, 2)   majority\n",
              "1          1  True                      0      (0, 0)   majority\n",
              "2          2  True                      0      (2, 2)   majority\n",
              "3          3  True                      0      (0, 0)   majority\n",
              "4          4  True                      0      (4, 4)   majority\n",
              "...      ...   ...                    ...         ...        ...\n",
              "47999  47999  True                      0      (4, 4)   majority\n",
              "48000  48000  True                      0      (1, 1)   majority\n",
              "48001  48001  True                      0      (2, 2)   majority\n",
              "48002  48002  True                      0      (3, 3)   majority\n",
              "48003  48003  True                      0      (4, 4)   majority\n",
              "\n",
              "[48004 rows x 5 columns]"
            ]
          },
          "execution_count": 14,
          "metadata": {},
          "output_type": "execute_result"
        }
      ],
      "source": [
        "\n",
        "# Initialize group_labels as a NumPy array with the same size as the training set\n",
        "group_labels = np.empty(len(trainset), dtype=object)  # Use `object` type to store tuples\n",
        "\n",
        "# Populate group_labels with group assignments\n",
        "for group, members in trainset.group_partition.items():\n",
        "    # Assign the group label (tuple) to each datapoint in `members`\n",
        "    for idx in members:\n",
        "        group_labels[idx] = group\n",
        "\n",
        "trainset_df[\"group_label\"] = group_labels\n",
        "\n",
        "# Function to classify group labels as \"majority\" or \"minority\"\n",
        "def classify_group(group_label):\n",
        "    if group_label[0] == group_label[1]:\n",
        "        return \"majority\"\n",
        "    else:\n",
        "        return \"minority\"\n",
        "\n",
        "# Apply the function to the 'group_label' column and create a new column 'class_type'\n",
        "trainset_df[\"class_type\"] = trainset_df[\"group_label\"].apply(classify_group)\n",
        "\n",
        "# Display the updated DataFrame\n",
        "trainset_df"
      ]
    },
    {
      "cell_type": "code",
      "execution_count": null,
      "metadata": {
        "colab": {
          "base_uri": "https://localhost:8080/",
          "height": 472
        },
        "id": "2nv--1Nt_ybW",
        "outputId": "8a3f78da-f2d7-48c4-b40d-3e017e228896"
      },
      "outputs": [
        {
          "data": {
            "image/png": "[encoded data removed]",
            "text/plain": [
              "<Figure size 640x480 with 1 Axes>"
            ]
          },
          "metadata": {},
          "output_type": "display_data"
        }
      ],
      "source": [
        "trainset_df_majority = trainset_df[trainset_df[\"class_type\"] == \"majority\"]\n",
        "trainset_df_minority = trainset_df[trainset_df[\"class_type\"] == \"minority\"]\n",
        "\n",
        "sns.barplot(data = trainset_df_majority, x=\"JTT\", y=\"forgettability_scores\")\n",
        "plt.title('Forgettability and JTT Measures for each Datapoint in Majority Classes')\n",
        "plt.xlabel('JTT Classification')\n",
        "plt.ylabel('Forgettability Score')\n",
        "plt.show()"
      ]
    },
    {
      "cell_type": "code",
      "execution_count": null,
      "metadata": {
        "colab": {
          "base_uri": "https://localhost:8080/",
          "height": 472
        },
        "id": "qMNgRL6B_z4l",
        "outputId": "34cc2219-5704-4d78-b80a-773503813338"
      },
      "outputs": [
        {
          "data": {
            "image/png": "[encoded data removed]",
            "text/plain": [
              "<Figure size 640x480 with 1 Axes>"
            ]
          },
          "metadata": {},
          "output_type": "display_data"
        }
      ],
      "source": [
        "sns.barplot(data = trainset_df_minority, x=\"JTT\", y=\"forgettability_scores\")\n",
        "plt.title('Forgettability and JTT Measures for each Datapoint in Minority Classes')\n",
        "plt.xlabel('JTT Classification')\n",
        "plt.ylabel('Forgettability Score')\n",
        "plt.show()"
      ]
    },
    {
      "cell_type": "code",
      "execution_count": null,
      "metadata": {
        "colab": {
          "base_uri": "https://localhost:8080/"
        },
        "id": "ymlY4_rw_61d",
        "outputId": "2f0dc252-0fb8-4867-8c8a-74c096328c12"
      },
      "outputs": [
        {
          "name": "stdout",
          "output_type": "stream",
          "text": [
            "Group: (2, 2), Members: [0, 2, 9, 10, 17, 23, 32, 44, 50, 55, 57, 58, 77, 83, 95, 107, 115, 118, 123, 133, 134, 136, 142, 144, 149, 157, 159, 176, 178, 189, 192, 197, 207, 212, 215, 216, 217, 218, 220, 225, 228, 230, 232, 233, 236, 245, 250, 263, 267, 271, 287, 292, 295, 296, 299, 301, 302, 314, 319, 320, 326, 327, 328, 331, 334, 347, 348, 364, 366, 389, 394, 403, 404, 405, 423, 428, 429, 448, 454, 462, 467, 482, 483, 486, 488, 490, 494, 505, 515, 519, 520, 526, 528, 542, 544, 546, 551, 553, 558, 559, 560, 563, 572, 573, 574, 577, 581, 591, 593, 595, 596, 601, 612, 616, 619, 637, 639, 644, 653, 665, 669, 670, 671, 672, 680, 682, 683, 684, 685, 688, 704, 716, 719, 725, 731, 733, 734, 738, 742, 756, 758, 766, 773, 776, 779, 792, 794, 795, 797, 806, 808, 823, 828, 830, 834, 836, 846, 856, 864, 868, 875, 877, 884, 885, 894, 895, 896, 915, 917, 931, 941, 942, 947, 948, 951, 954, 961, 968, 973, 977, 979, 982, 985, 987, 1003, 1004, 1009, 1013, 1016, 1018, 1020, 1026, 1028, 1029, 1031, 1034, 1036, 1052, 1055, 1057, 1068, 1069, 1071, 1081, 1085, 1105, 1111, 1112, 1114, 1136, 1137, 1140, 1145, 1152, 1161, 1171, 1177, 1178, 1181, 1187, 1188, 1190, 1192, 1194, 1202, 1210, 1211, 1213, 1216, 1221, 1231, 1234, 1238, 1244, 1246, 1254, 1256, 1261, 1262, 1263, 1266, 1272, 1275, 1292, 1303, 1306, 1309, 1317, 1321, 1336, 1350, 1354, 1355, 1356, 1357, 1364, 1366, 1367, 1392, 1404, 1412, 1413, 1414, 1415, 1417, 1433, 1453, 1455, 1456, 1459, 1460, 1464, 1467, 1478, 1480, 1483, 1484, 1490, 1498, 1499, 1501, 1516, 1518, 1537, 1538, 1544, 1549, 1551, 1571, 1575, 1579, 1581, 1586, 1589, 1591, 1592, 1602, 1603, 1604, 1607, 1608, 1611, 1614, 1634, 1636, 1637, 1640, 1641, 1642, 1648, 1651, 1652, 1654, 1666, 1672, 1678, 1689, 1692, 1693, 1701, 1709, 1719, 1730, 1736, 1737, 1741, 1744, 1748, 1751, 1752, 1754, 1755, 1761, 1770, 1772, 1774, 1775, 1777, 1782, 1784, 1786, 1788, 1799, 1802, 1808, 1810, 1813, 1814, 1815, 1820, 1822, 1826, 1829, 1831, 1833, 1834, 1838, 1840, 1841, 1844, 1852, 1861, 1865, 1873, 1874, 1875, 1881, 1884, 1896, 1897, 1901, 1918, 1919, 1922, 1925, 1929, 1930, 1936, 1938, 1940, 1943, 1946, 1959, 1961, 1963, 1964, 1968, 1975, 1978, 1982, 1983, 1992, 1998, 2003, 2021, 2025, 2032, 2037, 2039, 2041, 2043, 2045, 2050, 2054, 2057, 2059, 2064, 2080, 2083, 2094, 2096, 2112, 2118, 2122, 2125, 2133, 2147, 2150, 2169, 2176, 2179, 2183, 2188, 2190, 2200, 2203, 2215, 2217, 2239, 2240, 2241, 2244, 2254, 2264, 2284, 2285, 2287, 2293, 2294, 2298, 2310, 2312, 2315, 2319, 2321, 2333, 2336, 2337, 2343, 2345, 2355, 2357, 2371, 2372, 2374, 2375, 2377, 2389, 2396, 2399, 2403, 2411, 2413, 2420, 2426, 2431, 2437, 2438, 2450, 2457, 2458, 2463, 2474, 2477, 2478, 2485, 2486, 2494, 2501, 2505, 2509, 2516, 2519, 2532, 2551, 2552, 2553, 2554, 2556, 2559, 2564, 2565, 2566, 2577, 2578, 2579, 2580, 2582, 2595, 2598, 2599, 2615, 2616, 2621, 2625, 2627, 2630, 2632, 2635, 2637, 2644, 2654, 2665, 2683, 2684, 2685, 2688, 2691, 2692, 2698, 2703, 2708, 2709, 2711, 2722, 2724, 2738, 2740, 2751, 2754, 2762, 2765, 2767, 2769, 2770, 2777, 2784, 2786, 2798, 2802, 2805, 2823, 2831, 2835, 2841, 2842, 2853, 2864, 2868, 2892, 2894, 2896, 2905, 2906, 2907, 2909, 2910, 2911, 2919, 2923, 2934, 2936, 2937, 2946, 2947, 2950, 2951, 2956, 2958, 2965, 2976, 2982, 2986, 2987, 2998, 2999, 3009, 3021, 3038, 3051, 3052, 3059, 3066, 3067, 3083, 3084, 3085, 3088, 3094, 3100, 3121, 3124, 3133, 3152, 3153, 3154, 3164, 3177, 3178, 3186, 3190, 3200, 3202, 3209, 3210, 3228, 3230, 3238, 3244, 3246, 3249, 3258, 3259, 3260, 3270, 3278, 3280, 3285, 3289, 3290, 3293, 3299, 3300, 3304, 3305, 3306, 3307, 3314, 3334, 3335, 3336, 3338, 3339, 3341, 3344, 3345, 3347, 3352, 3353, 3354, 3359, 3378, 3394, 3401, 3405, 3413, 3424, 3426, 3433, 3435, 3441, 3452, 3459, 3467, 3478, 3493, 3496, 3499, 3508, 3515, 3518, 3519, 3520, 3522, 3525, 3526, 3530, 3531, 3539, 3542, 3543, 3544, 3547, 3554, 3558, 3565, 3566, 3574, 3587, 3588, 3605, 3625, 3627, 3642, 3644, 3650, 3670, 3671, 3680, 3682, 3683, 3685, 3691, 3692, 3702, 3706, 3710, 3727, 3729, 3751, 3757, 3758, 3761, 3765, 3772, 3778, 3780, 3787, 3789, 3799, 3803, 3804, 3806, 3813, 3822, 3823, 3824, 3828, 3831, 3838, 3845, 3852, 3858, 3865, 3866, 3867, 3869, 3870, 3871, 3888, 3890, 3893, 3901, 3911, 3921, 3938, 3939, 3944, 3947, 3949, 3954, 3961, 3972, 3985, 4007, 4011, 4016, 4023, 4034, 4035, 4037, 4039, 4046, 4047, 4049, 4052, 4058, 4070, 4080, 4084, 4086, 4095, 4097, 4108, 4111, 4113, 4123, 4133, 4138, 4148, 4153, 4172, 4192, 4202, 4211, 4215, 4217, 4224, 4229, 4233, 4242, 4248, 4268, 4272, 4274, 4277, 4288, 4303, 4305, 4308, 4311, 4319, 4337, 4338, 4343, 4345, 4346, 4349, 4371, 4376, 4377, 4382, 4388, 4403, 4410, 4426, 4427, 4453, 4460, 4467, 4468, 4472, 4475, 4481, 4484, 4487, 4489, 4494, 4502, 4515, 4528, 4530, 4537, 4546, 4559, 4568, 4575, 4576, 4589, 4591, 4594, 4604, 4607, 4613, 4619, 4635, 4643, 4645, 4650, 4664, 4668, 4671, 4676, 4682, 4684, 4685, 4691, 4694, 4699, 4700, 4704, 4710, 4712, 4718, 4722, 4743, 4749, 4753, 4757, 4758, 4760, 4770, 4775, 4776, 4785, 4787, 4792, 4794, 4803, 4805, 4806, 4813, 4820, 4821, 4822, 4857, 4865, 4872, 4873, 4877, 4883, 4888, 4895, 4900, 4919, 4926, 4933, 4935, 4941, 4942, 4944, 4947, 4952, 4956, 4966, 4971, 4973, 4984, 4985, 4997, 4999, 5000, 5002, 5003, 5010, 5013, 5016, 5024, 5035, 5040, 5043, 5046, 5048, 5055, 5056, 5060, 5066, 5073, 5077, 5087, 5095, 5105, 5116, 5117, 5122, 5132, 5139, 5141, 5143, 5146, 5158, 5159, 5166, 5172, 5180, 5181, 5194, 5196, 5204, 5209, 5216, 5218, 5221, 5225, 5238, 5241, 5242, 5244, 5275, 5276, 5284, 5307, 5317, 5322, 5324, 5329, 5332, 5334, 5335, 5340, 5346, 5348, 5365, 5367, 5373, 5377, 5381, 5394, 5400, 5402, 5413, 5415, 5417, 5419, 5423, 5431, 5434, 5435, 5446, 5448, 5453, 5463, 5466, 5469, 5478, 5479, 5481, 5482, 5491, 5493, 5494, 5504, 5509, 5511, 5522, 5553, 5559, 5564, 5582, 5584, 5585, 5589, 5594, 5595, 5596, 5601, 5604, 5613, 5620, 5644, 5650, 5652, 5654, 5659, 5660, 5678, 5687, 5688, 5693, 5698, 5700, 5704, 5710, 5716, 5721, 5728, 5731, 5733, 5742, 5749, 5753, 5764, 5769, 5773, 5778, 5779, 5781, 5782, 5792, 5803, 5807, 5818, 5821, 5824, 5832, 5838, 5840, 5841, 5845, 5850, 5857, 5859, 5862, 5866, 5873, 5875, 5880, 5882, 5886, 5893, 5900, 5913, 5921, 5935, 5936, 5937, 5941, 5942, 5948, 5950, 5955, 5966, 5971, 5972, 5977, 5984, 5988, 6000, 6014, 6018, 6032, 6040, 6050, 6055, 6056, 6060, 6067, 6068, 6071, 6072, 6086, 6105, 6106, 6117, 6120, 6122, 6131, 6136, 6153, 6155, 6157, 6170, 6171, 6172, 6173, 6180, 6181, 6183, 6184, 6185, 6215, 6237, 6239, 6252, 6254, 6263, 6269, 6271, 6272, 6274, 6282, 6286, 6287, 6302, 6303, 6305, 6316, 6317, 6321, 6326, 6328, 6330, 6336, 6361, 6364, 6365, 6366, 6367, 6369, 6376, 6385, 6388, 6389, 6396, 6397, 6405, 6406, 6415, 6416, 6419, 6430, 6442, 6447, 6448, 6466, 6482, 6484, 6485, 6497, 6499, 6506, 6542, 6543, 6546, 6554, 6570, 6571, 6577, 6594, 6598, 6601, 6608, 6615, 6616, 6618, 6621, 6625, 6631, 6634, 6647, 6656, 6663, 6667, 6673, 6677, 6679, 6683, 6722, 6727, 6739, 6743, 6749, 6755, 6756, 6759, 6778, 6779, 6780, 6786, 6798, 6811, 6819, 6822, 6832, 6834, 6846, 6850, 6858, 6861, 6866, 6870, 6872, 6879, 6882, 6897, 6900, 6916, 6918, 6926, 6930, 6934, 6936, 6939, 6940, 6945, 6955, 6959, 6962, 6977, 6986, 6991, 6992, 7004, 7007, 7009, 7012, 7020, 7024, 7026, 7035, 7036, 7040, 7050, 7056, 7076, 7081, 7087, 7090, 7103, 7113, 7116, 7117, 7127, 7130, 7144, 7151, 7160, 7162, 7165, 7175, 7176, 7177, 7181, 7186, 7192, 7194, 7201, 7203, 7212, 7225, 7237, 7238, 7239, 7250, 7268, 7274, 7275, 7288, 7301, 7305, 7311, 7320, 7323, 7325, 7333, 7338, 7339, 7355, 7377, 7388, 7391, 7408, 7426, 7433, 7456, 7457, 7460, 7461, 7463, 7468, 7471, 7475, 7479, 7487, 7488, 7490, 7495, 7496, 7501, 7503, 7504, 7506, 7507, 7508, 7513, 7525, 7527, 7532, 7544, 7550, 7556, 7567, 7569, 7570, 7593, 7602, 7617, 7621, 7624, 7626, 7632, 7643, 7648, 7649, 7651, 7656, 7665, 7666, 7668, 7679, 7695, 7700, 7713, 7717, 7746, 7756, 7762, 7766, 7785, 7787, 7789, 7791, 7803, 7804, 7818, 7827, 7831, 7832, 7836, 7842, 7848, 7850, 7869, 7878, 7879, 7886, 7897, 7900, 7912, 7926, 7933, 7940, 7945, 7949, 7955, 7956, 7973, 7977, 7986, 7995, 7998, 8001, 8011, 8024, 8026, 8035, 8038, 8060, 8074, 8091, 8103, 8107, 8110, 8114, 8116, 8125, 8126, 8128, 8132, 8135, 8141, 8142, 8145, 8154, 8156, 8160, 8166, 8167, 8168, 8176, 8181, 8184, 8189, 8192, 8195, 8207, 8210, 8216, 8230, 8237, 8238, 8240, 8243, 8246, 8252, 8254, 8259, 8266, 8267, 8269, 8285, 8286, 8288, 8297, 8300, 8305, 8306, 8309, 8310, 8318, 8326, 8335, 8336, 8338, 8341, 8350, 8358, 8362, 8364, 8382, 8385, 8387, 8391, 8396, 8398, 8400, 8412, 8416, 8425, 8427, 8431, 8434, 8436, 8443, 8444, 8452, 8459, 8464, 8470, 8474, 8482, 8484, 8486, 8491, 8495, 8499, 8503, 8506, 8508, 8511, 8513, 8514, 8522, 8523, 8537, 8541, 8547, 8549, 8556, 8557, 8558, 8577, 8588, 8589, 8592, 8594, 8599, 8601, 8607, 8613, 8624, 8625, 8633, 8635, 8639, 8648, 8650, 8652, 8663, 8665, 8677, 8680, 8684, 8688, 8696, 8697, 8702, 8708, 8712, 8715, 8722, 8729, 8734, 8736, 8740, 8746, 8747, 8749, 8756, 8758, 8763, 8766, 8786, 8789, 8792, 8794, 8798, 8800, 8801, 8805, 8812, 8813, 8827, 8829, 8842, 8847, 8863, 8879, 8881, 8883, 8889, 8890, 8891, 8893, 8897, 8901, 8903, 8904, 8907, 8909, 8910, 8920, 8921, 8933, 8944, 8952, 8978, 8995, 9001, 9002, 9006, 9018, 9033, 9039, 9040, 9048, 9049, 9060, 9064, 9066, 9076, 9078, 9085, 9090, 9093, 9104, 9107, 9111, 9116, 9118, 9127, 9135, 9145, 9153, 9156, 9161, 9163, 9166, 9172, 9174, 9178, 9180, 9181, 9185, 9188, 9190, 9195, 9222, 9224, 9242, 9246, 9250, 9257, 9261, 9266, 9268, 9269, 9278, 9289, 9291, 9293, 9295, 9300, 9305, 9306, 9308, 9311, 9314, 9315, 9318, 9319, 9328, 9332, 9345, 9347, 9350, 9358, 9359, 9362, 9368, 9370, 9381, 9399, 9402, 9405, 9410, 9419, 9424, 9426, 9430, 9439, 9440, 9441, 9446, 9460, 9470, 9471, 9477, 9486, 9489, 9494, 9498, 9503, 9524, 9529, 9533, 9534, 9538, 9554, 9555, 9560, 9561, 9563, 9564, 9565, 9577, 9579, 9592, 9593, 9602, 9605, 9607, 9618, 9619, 9621, 9624, 9629, 9634, 9636, 9639, 9651, 9653, 9658, 9659, 9662, 9666, 9670, 9671, 9675, 9678, 9683, 9691, 9694, 9706, 9720, 9738, 9743, 9748, 9752, 9776, 9779, 9783, 9794, 9796, 9801, 9809, 9816, 9824, 9826, 9844, 9849, 9855, 9858, 9859, 9867, 9869, 9873, 9880, 9899, 9902, 9904, 9913, 9914, 9915, 9921, 9933, 9941, 9950, 9958, 9966, 9968, 9972, 9974, 9976, 9985, 9986, 9988, 9996, 9999, 10000, 10010, 10015, 10020, 10028, 10031, 10036, 10046, 10049, 10050, 10053, 10056, 10058, 10060, 10063, 10070, 10071, 10090, 10091, 10094, 10097, 10102, 10106, 10110, 10111, 10112, 10119, 10123, 10140, 10149, 10152, 10153, 10154, 10156, 10158, 10160, 10170, 10172, 10173, 10182, 10186, 10188, 10191, 10202, 10205, 10206, 10224, 10229, 10231, 10233, 10237, 10252, 10254, 10255, 10260, 10262, 10263, 10283, 10289, 10295, 10311, 10316, 10328, 10331, 10333, 10336, 10347, 10349, 10352, 10361, 10363, 10369, 10373, 10375, 10381, 10385, 10390, 10391, 10397, 10407, 10421, 10425, 10441, 10449, 10450, 10451, 10453, 10458, 10469, 10477, 10495, 10500, 10508, 10510, 10527, 10529, 10542, 10543, 10545, 10578, 10580, 10581, 10583, 10587, 10592, 10593, 10594, 10597, 10602, 10603, 10604, 10607, 10615, 10624, 10633, 10637, 10644, 10653, 10663, 10666, 10667, 10671, 10674, 10683, 10685, 10689, 10690, 10705, 10707, 10719, 10722, 10733, 10739, 10751, 10753, 10762, 10763, 10765, 10770, 10774, 10776, 10800, 10802, 10806, 10808, 10815, 10817, 10828, 10829, 10834, 10836, 10840, 10842, 10864, 10872, 10875, 10881, 10897, 10907, 10908, 10913, 10914, 10920, 10922, 10928, 10931, 10946, 10948, 10960, 10973, 10975, 10981, 10988, 11001, 11002, 11016, 11017, 11023, 11027, 11028, 11036, 11039, 11047, 11052, 11056, 11070, 11072, 11077, 11079, 11080, 11083, 11087, 11088, 11089, 11094, 11102, 11120, 11125, 11150, 11152, 11153, 11155, 11165, 11187, 11188, 11189, 11191, 11203, 11206, 11212, 11219, 11226, 11236, 11237, 11242, 11250, 11252, 11253, 11255, 11259, 11263, 11269, 11276, 11278, 11280, 11295, 11306, 11312, 11317, 11322, 11332, 11335, 11339, 11341, 11344, 11346, 11348, 11349, 11352, 11353, 11354, 11357, 11358, 11363, 11365, 11366, 11371, 11372, 11375, 11377, 11388, 11394, 11401, 11407, 11408, 11416, 11418, 11426, 11431, 11435, 11447, 11449, 11460, 11470, 11487, 11499, 11505, 11516, 11520, 11526, 11528, 11530, 11533, 11534, 11535, 11539, 11542, 11546, 11548, 11570, 11572, 11573, 11576, 11583, 11588, 11596, 11603, 11608, 11613, 11615, 11616, 11617, 11619, 11620, 11621, 11623, 11626, 11634, 11654, 11657, 11658, 11663, 11666, 11671, 11676, 11680, 11681, 11683, 11686, 11688, 11695, 11697, 11705, 11707, 11709, 11712, 11721, 11723, 11724, 11736, 11745, 11748, 11750, 11754, 11755, 11772, 11774, 11776, 11781, 11795, 11800, 11807, 11811, 11825, 11828, 11840, 11848, 11861, 11866, 11869, 11883, 11886, 11893, 11901, 11902, 11904, 11911, 11912, 11918, 11922, 11933, 11934, 11936, 11940, 11942, 11950, 11953, 11955, 11958, 11961, 11969, 11973, 11977, 11986, 11987, 11996, 11997, 12000, 12008, 12011, 12014, 12023, 12027, 12028, 12038, 12039, 12040, 12047, 12053, 12060, 12067, 12095, 12098, 12099, 12101, 12111, 12131, 12132, 12133, 12137, 12143, 12156, 12157, 12163, 12166, 12179, 12184, 12199, 12211, 12221, 12222, 12229, 12232, 12234, 12236, 12238, 12242, 12244, 12262, 12271, 12276, 12281, 12282, 12283, 12286, 12292, 12293, 12294, 12296, 12307, 12311, 12315, 12317, 12319, 12327, 12328, 12331, 12336, 12338, 12341, 12360, 12366, 12368, 12381, 12383, 12388, 12416, 12423, 12431, 12442, 12445, 12447, 12452, 12464, 12486, 12492, 12494, 12496, 12497, 12510, 12534, 12537, 12540, 12547, 12552, 12553, 12555, 12556, 12567, 12570, 12571, 12585, 12586, 12592, 12595, 12598, 12601, 12614, 12627, 12628, 12634, 12637, 12640, 12643, 12646, 12652, 12656, 12661, 12668, 12669, 12679, 12685, 12695, 12705, 12710, 12711, 12713, 12715, 12719, 12721, 12725, 12726, 12741, 12743, 12750, 12754, 12762, 12763, 12769, 12784, 12790, 12796, 12798, 12805, 12815, 12816, 12822, 12831, 12839, 12845, 12857, 12868, 12875, 12878, 12892, 12899, 12900, 12923, 12925, 12932, 12933, 12936, 12944, 12956, 12969, 12970, 12971, 12972, 12974, 12980, 12991, 12999, 13005, 13016, 13024, 13027, 13037, 13044, 13053, 13054, 13055, 13056, 13067, 13069, 13074, 13084, 13087, 13088, 13089, 13090, 13104, 13113, 13115, 13122, 13123, 13128, 13146, 13149, 13152, 13156, 13158, 13160, 13162, 13171, 13173, 13178, 13189, 13190, 13194, 13198, 13209, 13210, 13222, 13224, 13236, 13247, 13248, 13249, 13250, 13254, 13258, 13264, 13267, 13268, 13274, 13275, 13284, 13296, 13299, 13302, 13311, 13314, 13331, 13340, 13343, 13353, 13360, 13372, 13381, 13384, 13385, 13390, 13408, 13410, 13423, 13427, 13440, 13452, 13464, 13466, 13475, 13480, 13485, 13491, 13492, 13493, 13499, 13508, 13519, 13526, 13528, 13539, 13541, 13542, 13552, 13557, 13567, 13575, 13583, 13586, 13598, 13600, 13601, 13608, 13616, 13617, 13620, 13623, 13641, 13659, 13665, 13666, 13667, 13680, 13681, 13683, 13685, 13688, 13701, 13712, 13729, 13730, 13731, 13732, 13742, 13761, 13764, 13766, 13778, 13780, 13785, 13797, 13807, 13812, 13831, 13834, 13847, 13859, 13860, 13869, 13880, 13895, 13902, 13921, 13923, 13926, 13933, 13934, 13940, 13946, 13948, 13959, 13971, 13973, 13976, 13988, 13989, 13994, 13998, 14008, 14011, 14017, 14024, 14027, 14033, 14034, 14044, 14051, 14052, 14064, 14067, 14070, 14072, 14073, 14077, 14078, 14081, 14082, 14083, 14088, 14089, 14095, 14096, 14101, 14108, 14110, 14128, 14134, 14140, 14152, 14166, 14173, 14175, 14179, 14194, 14195, 14200, 14207, 14209, 14211, 14212, 14213, 14215, 14217, 14219, 14220, 14222, 14235, 14237, 14246, 14253, 14256, 14263, 14271, 14279, 14281, 14294, 14299, 14301, 14306, 14318, 14321, 14322, 14329, 14336, 14341, 14342, 14354, 14355, 14356, 14357, 14361, 14370, 14377, 14382, 14401, 14405, 14413, 14426, 14429, 14432, 14439, 14446, 14451, 14469, 14473, 14477, 14480, 14487, 14489, 14493, 14495, 14497, 14502, 14505, 14506, 14521, 14523, 14532, 14535, 14539, 14542, 14547, 14554, 14561, 14568, 14571, 14572, 14573, 14575, 14581, 14585, 14590, 14601, 14608, 14609, 14612, 14620, 14621, 14627, 14648, 14651, 14654, 14660, 14663, 14668, 14670, 14675, 14685, 14686, 14688, 14691, 14701, 14703, 14713, 14715, 14716, 14725, 14741, 14746, 14755, 14756, 14758, 14771, 14772, 14774, 14783, 14784, 14785, 14796, 14799, 14802, 14806, 14808, 14809, 14812, 14814, 14818, 14819, 14823, 14826, 14830, 14833, 14839, 14867, 14868, 14870, 14884, 14885, 14887, 14894, 14901, 14903, 14904, 14907, 14912, 14915, 14918, 14926, 14942, 14943, 14971, 14972, 14981, 14990, 14993, 14999, 15006, 15010, 15012, 15014, 15028, 15041, 15043, 15051, 15054, 15058, 15075, 15076, 15088, 15089, 15095, 15097, 15104, 15115, 15131, 15136, 15141, 15149, 15153, 15160, 15174, 15176, 15178, 15180, 15181, 15184, 15189, 15193, 15197, 15203, 15213, 15219, 15221, 15226, 15228, 15239, 15240, 15241, 15243, 15246, 15251, 15252, 15260, 15269, 15272, 15277, 15286, 15288, 15291, 15294, 15295, 15309, 15310, 15311, 15313, 15314, 15323, 15330, 15352, 15353, 15363, 15364, 15365, 15381, 15385, 15389, 15400, 15411, 15413, 15425, 15428, 15454, 15457, 15458, 15462, 15467, 15473, 15477, 15484, 15492, 15503, 15512, 15513, 15521, 15523, 15531, 15533, 15534, 15543, 15546, 15548, 15550, 15552, 15553, 15554, 15561, 15564, 15570, 15571, 15572, 15586, 15588, 15593, 15603, 15604, 15607, 15616, 15626, 15627, 15628, 15641, 15646, 15647, 15648, 15654, 15656, 15657, 15671, 15683, 15690, 15694, 15699, 15703, 15704, 15717, 15718, 15719, 15720, 15739, 15741, 15742, 15759, 15761, 15766, 15770, 15772, 15775, 15776, 15778, 15792, 15794, 15795, 15800, 15807, 15808, 15815, 15836, 15843, 15856, 15868, 15873, 15875, 15889, 15894, 15895, 15900, 15901, 15905, 15912, 15913, 15919, 15921, 15922, 15930, 15934, 15935, 15937, 15941, 15942, 15947, 15951, 15955, 15970, 15981, 15995, 16000, 16001, 16002, 16003, 16009, 16013, 16014, 16015, 16024, 16025, 16030, 16032, 16038, 16042, 16044, 16050, 16053, 16058, 16071, 16072, 16074, 16076, 16088, 16094, 16096, 16100, 16105, 16118, 16119, 16120, 16125, 16131, 16132, 16139, 16141, 16144, 16160, 16165, 16178, 16180, 16184, 16187, 16189, 16191, 16192, 16202, 16203, 16209, 16210, 16211, 16212, 16219, 16229, 16238, 16242, 16249, 16251, 16253, 16262, 16273, 16279, 16280, 16282, 16289, 16306, 16312, 16317, 16318, 16321, 16325, 16336, 16344, 16349, 16354, 16356, 16363, 16369, 16372, 16384, 16391, 16393, 16411, 16422, 16423, 16424, 16430, 16433, 16442, 16447, 16473, 16475, 16476, 16478, 16490, 16502, 16506, 16510, 16520, 16521, 16525, 16531, 16549, 16559, 16560, 16561, 16574, 16575, 16576, 16585, 16588, 16597, 16610, 16613, 16618, 16625, 16628, 16630, 16631, 16638, 16642, 16651, 16663, 16675, 16676, 16683, 16684, 16691, 16696, 16698, 16703, 16707, 16712, 16733, 16734, 16744, 16745, 16765, 16768, 16771, 16779, 16787, 16788, 16796, 16797, 16801, 16802, 16804, 16815, 16821, 16825, 16833, 16837, 16851, 16852, 16855, 16861, 16865, 16866, 16869, 16870, 16874, 16884, 16887, 16888, 16902, 16903, 16916, 16918, 16941, 16942, 16946, 16955, 16956, 16957, 16962, 16963, 16975, 16977, 16979, 16984, 17000, 17003, 17005, 17016, 17022, 17024, 17027, 17038, 17040, 17045, 17046, 17048, 17056, 17058, 17071, 17076, 17077, 17082, 17083, 17091, 17100, 17107, 17109, 17111, 17128, 17138, 17139, 17140, 17146, 17159, 17162, 17166, 17176, 17183, 17187, 17206, 17207, 17217, 17219, 17224, 17236, 17241, 17250, 17255, 17256, 17262, 17263, 17264, 17271, 17272, 17275, 17287, 17288, 17298, 17307, 17312, 17320, 17336, 17341, 17351, 17356, 17369, 17371, 17373, 17382, 17386, 17388, 17393, 17396, 17401, 17407, 17408, 17451, 17453, 17455, 17459, 17472, 17491, 17492, 17494, 17507, 17509, 17515, 17519, 17524, 17526, 17527, 17528, 17532, 17534, 17535, 17538, 17539, 17546, 17549, 17550, 17558, 17564, 17566, 17572, 17577, 17578, 17581, 17582, 17583, 17588, 17593, 17597, 17602, 17603, 17606, 17609, 17612, 17619, 17623, 17632, 17646, 17648, 17651, 17662, 17663, 17666, 17669, 17680, 17683, 17687, 17694, 17696, 17697, 17700, 17709, 17711, 17726, 17744, 17745, 17748, 17767, 17773, 17786, 17791, 17808, 17815, 17818, 17819, 17822, 17834, 17854, 17861, 17863, 17869, 17871, 17877, 17879, 17884, 17885, 17886, 17901, 17905, 17913, 17926, 17930, 17944, 17950, 17951, 17959, 17966, 17967, 17975, 17976, 17978, 17981, 17983, 17987, 17995, 18005, 18008, 18011, 18033, 18044, 18045, 18057, 18064, 18066, 18074, 18075, 18086, 18091, 18099, 18105, 18108, 18113, 18114, 18115, 18120, 18122, 18126, 18135, 18140, 18144, 18146, 18150, 18155, 18163, 18171, 18178, 18183, 18186, 18188, 18195, 18208, 18209, 18211, 18212, 18217, 18224, 18227, 18229, 18240, 18246, 18253, 18254, 18257, 18266, 18269, 18274, 18280, 18282, 18286, 18290, 18294, 18297, 18307, 18308, 18311, 18322, 18324, 18325, 18338, 18339, 18342, 18354, 18355, 18356, 18371, 18386, 18388, 18396, 18407, 18427, 18435, 18438, 18442, 18444, 18446, 18448, 18451, 18452, 18456, 18464, 18465, 18468, 18473, 18484, 18486, 18504, 18545, 18547, 18559, 18560, 18561, 18568, 18570, 18581, 18582, 18583, 18587, 18596, 18601, 18602, 18612, 18613, 18614, 18616, 18621, 18622, 18624, 18625, 18630, 18631, 18633, 18651, 18662, 18679, 18681, 18691, 18706, 18707, 18719, 18720, 18725, 18729, 18733, 18747, 18749, 18761, 18766, 18767, 18774, 18775, 18786, 18788, 18789, 18795, 18800, 18803, 18806, 18807, 18808, 18810, 18820, 18823, 18826, 18830, 18842, 18845, 18855, 18856, 18865, 18871, 18874, 18879, 18881, 18888, 18893, 18895, 18898, 18899, 18913, 18915, 18916, 18925, 18934, 18937, 18938, 18940, 18947, 18955, 18957, 18964, 18965, 18967, 18970, 18972, 18975, 18978, 18981, 18985, 18988, 18994, 18998, 18999, 19004, 19012, 19016, 19017, 19019, 19021, 19035, 19040, 19043, 19050, 19056, 19067, 19083, 19085, 19094, 19100, 19104, 19106, 19122, 19124, 19126, 19127, 19144, 19147, 19149, 19156, 19157, 19158, 19161, 19167, 19179, 19186, 19188, 19194, 19195, 19199, 19203, 19204, 19205, 19206, 19210, 19212, 19214, 19229, 19244, 19246, 19251, 19262, 19266, 19270, 19273, 19284, 19286, 19295, 19301, 19304, 19306, 19308, 19315, 19324, 19330, 19331, 19337, 19343, 19348, 19352, 19353, 19355, 19358, 19359, 19362, 19364, 19372, 19388, 19392, 19396, 19401, 19404, 19407, 19408, 19413, 19422, 19424, 19430, 19443, 19453, 19454, 19456, 19461, 19466, 19468, 19469, 19470, 19473, 19477, 19486, 19487, 19488, 19489, 19494, 19495, 19496, 19503, 19514, 19519, 19520, 19521, 19525, 19526, 19529, 19532, 19537, 19548, 19555, 19565, 19568, 19577, 19579, 19586, 19591, 19603, 19611, 19616, 19631, 19642, 19643, 19657, 19659, 19660, 19670, 19675, 19684, 19687, 19698, 19699, 19703, 19721, 19725, 19733, 19737, 19741, 19744, 19745, 19751, 19771, 19776, 19783, 19786, 19795, 19797, 19798, 19800, 19810, 19824, 19828, 19833, 19835, 19837, 19838, 19843, 19847, 19850, 19858, 19870, 19874, 19875, 19876, 19882, 19885, 19888, 19901, 19912, 19918, 19919, 19921, 19943, 19950, 19951, 19955, 19959, 19961, 19964, 19968, 19974, 19979, 19982, 19986, 19993, 19995, 19999, 20000, 20002, 20011, 20012, 20018, 20025, 20035, 20040, 20052, 20053, 20055, 20060, 20062, 20070, 20071, 20083, 20090, 20091, 20107, 20109, 20110, 20120, 20127, 20129, 20134, 20137, 20145, 20147, 20151, 20160, 20162, 20165, 20191, 20200, 20201, 20204, 20209, 20210, 20213, 20215, 20216, 20217, 20218, 20219, 20221, 20223, 20227, 20228, 20232, 20234, 20235, 20240, 20258, 20273, 20282, 20284, 20293, 20299, 20304, 20308, 20309, 20326, 20328, 20340, 20341, 20342, 20346, 20351, 20358, 20359, 20361, 20363, 20378, 20380, 20383, 20387, 20391, 20395, 20396, 20399, 20402, 20409, 20413, 20427, 20428, 20452, 20453, 20460, 20464, 20467, 20469, 20473, 20480, 20484, 20494, 20502, 20506, 20514, 20521, 20522, 20523, 20527, 20535, 20537, 20540, 20548, 20556, 20558, 20559, 20560, 20567, 20568, 20571, 20576, 20577, 20587, 20593, 20600, 20601, 20603, 20606, 20607, 20609, 20613, 20614, 20615, 20621, 20622, 20625, 20650, 20657, 20659, 20662, 20668, 20669, 20670, 20688, 20689, 20697, 20701, 20710, 20711, 20713, 20727, 20729, 20744, 20745, 20749, 20753, 20754, 20755, 20771, 20777, 20780, 20784, 20785, 20798, 20807, 20816, 20818, 20819, 20823, 20824, 20826, 20842, 20843, 20847, 20848, 20852, 20854, 20867, 20871, 20874, 20885, 20887, 20889, 20893, 20900, 20902, 20925, 20928, 20929, 20931, 20935, 20945, 20951, 20954, 20957, 20960, 20961, 20964, 20965, 20966, 20967, 20982, 20985, 20986, 20990, 20998, 21008, 21013, 21032, 21033, 21035, 21041, 21043, 21044, 21047, 21053, 21063, 21070, 21077, 21079, 21091, 21094, 21102, 21104, 21107, 21109, 21110, 21115, 21116, 21125, 21129, 21135, 21142, 21145, 21148, 21165, 21176, 21178, 21180, 21182, 21191, 21196, 21206, 21212, 21215, 21217, 21219, 21232, 21234, 21249, 21251, 21253, 21254, 21255, 21256, 21264, 21267, 21274, 21275, 21284, 21287, 21293, 21309, 21315, 21317, 21318, 21323, 21331, 21335, 21336, 21337, 21348, 21350, 21357, 21364, 21372, 21374, 21383, 21384, 21385, 21394, 21398, 21399, 21400, 21414, 21416, 21417, 21420, 21435, 21440, 21442, 21444, 21458, 21459, 21465, 21477, 21490, 21504, 21513, 21514, 21519, 21526, 21527, 21533, 21555, 21562, 21563, 21564, 21568, 21570, 21574, 21577, 21578, 21581, 21584, 21592, 21593, 21600, 21603, 21608, 21610, 21613, 21620, 21651, 21659, 21662, 21672, 21675, 21679, 21680, 21681, 21690, 21708, 21710, 21712, 21713, 21714, 21715, 21716, 21719, 21721, 21723, 21728, 21731, 21741, 21743, 21754, 21756, 21757, 21759, 21772, 21779, 21789, 21802, 21822, 21825, 21826, 21837, 21840, 21856, 21858, 21860, 21863, 21864, 21866, 21869, 21870, 21887, 21888, 21891, 21895, 21901, 21902, 21913, 21915, 21928, 21929, 21933, 21934, 21936, 21951, 21953, 21956, 21962, 21967, 21968, 21975, 21981, 21984, 21986, 21987, 22003, 22005, 22009, 22012, 22015, 22016, 22018, 22019, 22027, 22029, 22033, 22036, 22057, 22059, 22074, 22077, 22078, 22079, 22091, 22100, 22110, 22111, 22122, 22125, 22127, 22139, 22146, 22148, 22152, 22153, 22154, 22162, 22165, 22173, 22181, 22201, 22207, 22217, 22225, 22235, 22243, 22252, 22253, 22255, 22262, 22273, 22276, 22277, 22279, 22294, 22296, 22304, 22305, 22306, 22310, 22325, 22326, 22327, 22332, 22335, 22336, 22340, 22344, 22345, 22346, 22352, 22372, 22385, 22388, 22399, 22401, 22411, 22413, 22429, 22430, 22435, 22438, 22440, 22444, 22448, 22457, 22459, 22471, 22472, 22482, 22491, 22493, 22502, 22505, 22508, 22512, 22513, 22520, 22541, 22542, 22546, 22553, 22558, 22562, 22568, 22575, 22577, 22584, 22586, 22589, 22596, 22605, 22606, 22608, 22611, 22646, 22650, 22656, 22661, 22666, 22669, 22672, 22673, 22679, 22681, 22688, 22694, 22703, 22710, 22711, 22724, 22729, 22739, 22749, 22752, 22760, 22762, 22775, 22777, 22779, 22798, 22805, 22811, 22817, 22823, 22828, 22829, 22830, 22833, 22834, 22841, 22847, 22851, 22852, 22857, 22859, 22863, 22866, 22870, 22871, 22899, 22914, 22917, 22921, 22922, 22929, 22930, 22934, 22936, 22937, 22941, 22942, 22944, 22947, 22948, 22950, 22966, 22979, 22981, 22984, 22994, 23004, 23008, 23026, 23027, 23036, 23039, 23049, 23062, 23063, 23077, 23080, 23085, 23102, 23121, 23133, 23134, 23135, 23140, 23145, 23148, 23150, 23151, 23159, 23181, 23186, 23192, 23195, 23200, 23212, 23213, 23221, 23222, 23224, 23233, 23243, 23246, 23260, 23268, 23269, 23270, 23272, 23282, 23284, 23286, 23287, 23293, 23300, 23309, 23314, 23316, 23324, 23325, 23326, 23345, 23351, 23356, 23360, 23361, 23369, 23381, 23385, 23417, 23418, 23424, 23426, 23449, 23455, 23457, 23459, 23461, 23462, 23470, 23473, 23490, 23492, 23503, 23505, 23510, 23513, 23520, 23527, 23528, 23530, 23531, 23534, 23538, 23542, 23543, 23544, 23552, 23562, 23563, 23576, 23582, 23596, 23600, 23607, 23608, 23619, 23623, 23632, 23648, 23650, 23663, 23664, 23665, 23669, 23677, 23681, 23684, 23688, 23694, 23696, 23697, 23699, 23702, 23708, 23711, 23713, 23716, 23729, 23736, 23748, 23754, 23755, 23762, 23765, 23766, 23775, 23796, 23797, 23800, 23802, 23806, 23813, 23815, 23818, 23837, 23840, 23845, 23846, 23850, 23855, 23856, 23859, 23862, 23870, 23872, 23877, 23879, 23881, 23882, 23890, 23900, 23901, 23903, 23904, 23906, 23913, 23916, 23917, 23924, 23930, 23932, 23943, 23950, 23954, 23957, 23958, 23964, 23975, 23977, 23978, 23979, 23985, 23987, 23992, 24002, 24003, 24007, 24015, 24018, 24033, 24046, 24055, 24056, 24061, 24064, 24066, 24074, 24082, 24085, 24096, 24098, 24101, 24111, 24112, 24115, 24133, 24135, 24146, 24152, 24154, 24167, 24176, 24179, 24181, 24186, 24196, 24204, 24206, 24219, 24220, 24221, 24232, 24234, 24256, 24260, 24263, 24268, 24270, 24275, 24284, 24295, 24299, 24300, 24302, 24306, 24330, 24338, 24351, 24354, 24357, 24360, 24363, 24368, 24377, 24399, 24404, 24406, 24409, 24410, 24418, 24422, 24428, 24433, 24442, 24447, 24461, 24468, 24472, 24474, 24482, 24483, 24494, 24499, 24500, 24501, 24511, 24513, 24515, 24517, 24522, 24530, 24534, 24537, 24545, 24564, 24570, 24578, 24583, 24584, 24589, 24598, 24601, 24614, 24621, 24628, 24643, 24644, 24645, 24651, 24656, 24666, 24667, 24669, 24683, 24685, 24696, 24705, 24707, 24711, 24713, 24716, 24719, 24720, 24724, 24731, 24732, 24741, 24743, 24748, 24752, 24754, 24758, 24764, 24772, 24777, 24795, 24796, 24798, 24813, 24816, 24834, 24835, 24848, 24852, 24853, 24859, 24872, 24873, 24874, 24885, 24893, 24897, 24900, 24903, 24909, 24915, 24922, 24928, 24931, 24951, 24957, 24958, 24962, 24985, 25001, 25010, 25011, 25014, 25020, 25025, 25028, 25032, 25033, 25034, 25045, 25068, 25069, 25070, 25080, 25085, 25087, 25090, 25095, 25100, 25104, 25110, 25116, 25135, 25152, 25153, 25156, 25159, 25160, 25163, 25164, 25167, 25174, 25175, 25176, 25178, 25189, 25191, 25194, 25205, 25206, 25207, 25217, 25221, 25227, 25228, 25231, 25233, 25245, 25248, 25250, 25251, 25253, 25265, 25268, 25270, 25272, 25275, 25276, 25278, 25286, 25295, 25301, 25304, 25305, 25310, 25316, 25319, 25331, 25333, 25344, 25349, 25356, 25361, 25370, 25378, 25379, 25387, 25392, 25397, 25399, 25407, 25420, 25431, 25437, 25446, 25449, 25452, 25456, 25461, 25463, 25468, 25471, 25473, 25475, 25477, 25479, 25487, 25491, 25506, 25509, 25510, 25511, 25512, 25526, 25545, 25549, 25555, 25558, 25566, 25568, 25569, 25579, 25594, 25598, 25609, 25610, 25613, 25615, 25620, 25622, 25634, 25645, 25647, 25649, 25660, 25664, 25666, 25681, 25684, 25687, 25688, 25692, 25696, 25703, 25706, 25707, 25710, 25713, 25720, 25725, 25729, 25732, 25736, 25740, 25744, 25750, 25751, 25764, 25765, 25770, 25771, 25773, 25774, 25776, 25786, 25794, 25798, 25802, 25807, 25811, 25815, 25824, 25826, 25836, 25849, 25850, 25855, 25861, 25864, 25868, 25872, 25883, 25884, 25889, 25890, 25891, 25902, 25906, 25915, 25916, 25917, 25918, 25927, 25929, 25930, 25934, 25939, 25944, 25949, 25962, 25964, 25965, 25969, 25971, 25972, 25975, 25990, 25994, 25998, 26015, 26025, 26032, 26035, 26052, 26055, 26061, 26062, 26063, 26068, 26071, 26072, 26077, 26078, 26082, 26092, 26098, 26099, 26105, 26106, 26107, 26109, 26110, 26111, 26114, 26122, 26126, 26137, 26138, 26141, 26149, 26151, 26160, 26174, 26175, 26184, 26186, 26188, 26196, 26198, 26205, 26206, 26208, 26218, 26219, 26220, 26223, 26228, 26231, 26237, 26238, 26252, 26262, 26269, 26270, 26272, 26273, 26279, 26286, 26296, 26306, 26308, 26317, 26325, 26330, 26331, 26332, 26333, 26338, 26360, 26367, 26394, 26403, 26405, 26422, 26431, 26436, 26463, 26466, 26467, 26470, 26477, 26493, 26495, 26506, 26507, 26511, 26513, 26519, 26524, 26525, 26530, 26533, 26552, 26559, 26560, 26562, 26574, 26577, 26594, 26606, 26621, 26626, 26630, 26632, 26640, 26642, 26644, 26645, 26657, 26665, 26667, 26675, 26676, 26679, 26692, 26697, 26703, 26709, 26710, 26713, 26719, 26722, 26725, 26726, 26727, 26743, 26749, 26750, 26752, 26755, 26756, 26759, 26772, 26782, 26795, 26797, 26808, 26846, 26849, 26862, 26863, 26869, 26873, 26876, 26887, 26891, 26897, 26905, 26911, 26912, 26913, 26914, 26920, 26921, 26929, 26930, 26931, 26948, 26951, 26957, 26960, 26963, 26967, 26972, 27001, 27005, 27023, 27027, 27030, 27032, 27033, 27035, 27036, 27045, 27049, 27055, 27056, 27057, 27067, 27083, 27087, 27096, 27097, 27105, 27106, 27111, 27112, 27120, 27129, 27131, 27134, 27151, 27154, 27163, 27166, 27168, 27172, 27177, 27182, 27189, 27192, 27193, 27195, 27198, 27215, 27216, 27217, 27220, 27228, 27231, 27232, 27233, 27246, 27250, 27252, 27255, 27266, 27267, 27271, 27277, 27280, 27282, 27284, 27291, 27304, 27306, 27319, 27326, 27333, 27339, 27342, 27356, 27358, 27361, 27362, 27366, 27368, 27370, 27381, 27401, 27403, 27415, 27419, 27425, 27429, 27440, 27446, 27448, 27470, 27471, 27475, 27476, 27483, 27488, 27492, 27496, 27501, 27516, 27527, 27531, 27533, 27537, 27540, 27544, 27546, 27547, 27550, 27559, 27567, 27569, 27578, 27584, 27587, 27600, 27603, 27604, 27605, 27619, 27620, 27631, 27632, 27634, 27639, 27640, 27644, 27656, 27657, 27662, 27664, 27679, 27682, 27689, 27698, 27705, 27717, 27718, 27724, 27726, 27729, 27735, 27747, 27755, 27819, 27826, 27832, 27839, 27851, 27853, 27860, 27876, 27877, 27879, 27897, 27899, 27900, 27903, 27906, 27910, 27911, 27921, 27932, 27936, 27939, 27945, 27947, 27951, 27956, 27962, 27991, 28004, 28005, 28006, 28009, 28010, 28012, 28031, 28035, 28038, 28041, 28042, 28048, 28069, 28079, 28094, 28098, 28107, 28108, 28121, 28123, 28124, 28126, 28138, 28152, 28155, 28159, 28160, 28162, 28165, 28170, 28181, 28186, 28187, 28192, 28193, 28197, 28198, 28209, 28215, 28222, 28230, 28233, 28234, 28246, 28252, 28254, 28255, 28258, 28262, 28263, 28269, 28271, 28280, 28283, 28291, 28296, 28298, 28303, 28307, 28309, 28329, 28338, 28360, 28362, 28364, 28366, 28373, 28379, 28383, 28385, 28387, 28391, 28401, 28418, 28436, 28444, 28446, 28448, 28453, 28465, 28479, 28480, 28489, 28490, 28494, 28505, 28507, 28516, 28518, 28519, 28524, 28534, 28539, 28540, 28542, 28547, 28552, 28554, 28556, 28563, 28574, 28580, 28588, 28594, 28595, 28605, 28616, 28618, 28620, 28627, 28635, 28637, 28646, 28650, 28653, 28654, 28656, 28661, 28668, 28670, 28672, 28680, 28693, 28695, 28711, 28715, 28721, 28729, 28734, 28739, 28741, 28742, 28750, 28754, 28759, 28763, 28769, 28775, 28776, 28778, 28786, 28793, 28799, 28810, 28814, 28815, 28829, 28830, 28842, 28860, 28863, 28865, 28872, 28873, 28875, 28900, 28901, 28912, 28913, 28924, 28925, 28928, 28929, 28932, 28950, 28957, 28960, 28976, 28978, 28983, 28992, 28994, 29010, 29012, 29019, 29024, 29026, 29031, 29035, 29038, 29041, 29047, 29048, 29049, 29050, 29054, 29055, 29067, 29076, 29081, 29084, 29089, 29095, 29099, 29118, 29121, 29123, 29124, 29127, 29131, 29135, 29138, 29152, 29155, 29164, 29168, 29170, 29172, 29183, 29190, 29191, 29193, 29196, 29204, 29205, 29223, 29233, 29234, 29235, 29244, 29249, 29252, 29254, 29264, 29274, 29277, 29283, 29287, 29288, 29290, 29307, 29309, 29313, 29317, 29324, 29325, 29326, 29334, 29342, 29353, 29356, 29359, 29360, 29361, 29366, 29374, 29376, 29377, 29378, 29386, 29387, 29396, 29401, 29403, 29408, 29419, 29423, 29429, 29439, 29443, 29444, 29453, 29466, 29469, 29480, 29491, 29493, 29504, 29505, 29506, 29530, 29536, 29541, 29542, 29545, 29549, 29550, 29558, 29570, 29577, 29583, 29584, 29585, 29586, 29595, 29613, 29617, 29621, 29623, 29631, 29632, 29636, 29641, 29646, 29649, 29659, 29672, 29679, 29686, 29687, 29689, 29691, 29693, 29697, 29715, 29723, 29725, 29728, 29736, 29743, 29753, 29760, 29763, 29772, 29776, 29780, 29813, 29817, 29835, 29837, 29841, 29846, 29852, 29855, 29857, 29858, 29874, 29875, 29881, 29886, 29889, 29901, 29910, 29923, 29929, 29931, 29937, 29939, 29942, 29943, 29944, 29948, 29951, 29956, 29966, 29968, 29969, 29972, 29985, 29992, 29999, 30001, 30004, 30011, 30016, 30027, 30029, 30031, 30033, 30036, 30044, 30053, 30057, 30062, 30064, 30078, 30080, 30083, 30086, 30087, 30090, 30100, 30106, 30108, 30112, 30113, 30115, 30118, 30124, 30125, 30133, 30140, 30150, 30151, 30156, 30161, 30173, 30186, 30189, 30201, 30202, 30213, 30218, 30223, 30229, 30234, 30237, 30244, 30246, 30260, 30280, 30281, 30285, 30286, 30289, 30291, 30299, 30301, 30305, 30307, 30310, 30314, 30317, 30319, 30322, 30326, 30328, 30334, 30346, 30359, 30362, 30369, 30374, 30384, 30396, 30404, 30407, 30425, 30426, 30430, 30446, 30447, 30452, 30454, 30465, 30468, 30475, 30480, 30481, 30491, 30492, 30498, 30511, 30526, 30534, 30539, 30540, 30542, 30554, 30568, 30571, 30572, 30575, 30587, 30588, 30596, 30597, 30603, 30609, 30614, 30619, 30626, 30628, 30639, 30641, 30642, 30643, 30650, 30654, 30662, 30666, 30667, 30668, 30669, 30672, 30674, 30683, 30684, 30686, 30691, 30693, 30702, 30709, 30711, 30723, 30725, 30727, 30731, 30732, 30733, 30735, 30738, 30742, 30747, 30756, 30761, 30762, 30767, 30777, 30782, 30804, 30817, 30819, 30822, 30834, 30836, 30840, 30844, 30845, 30847, 30849, 30855, 30869, 30874, 30876, 30884, 30887, 30888, 30889, 30894, 30906, 30908, 30913, 30914, 30918, 30923, 30926, 30928, 30930, 30932, 30935, 30936, 30949, 30950, 30956, 30957, 30959, 30968, 30971, 30974, 30976, 30985, 30992, 30999, 31001, 31004, 31005, 31011, 31020, 31021, 31036, 31037, 31041, 31052, 31063, 31066, 31069, 31075, 31077, 31078, 31086, 31091, 31092, 31094, 31095, 31102, 31105, 31113, 31122, 31129, 31135, 31136, 31144, 31149, 31153, 31156, 31160, 31169, 31172, 31180, 31181, 31183, 31186, 31188, 31192, 31206, 31219, 31234, 31248, 31252, 31254, 31257, 31276, 31280, 31288, 31290, 31293, 31295, 31305, 31311, 31315, 31318, 31321, 31324, 31326, 31327, 31329, 31345, 31366, 31371, 31375, 31384, 31391, 31394, 31397, 31400, 31405, 31410, 31418, 31420, 31424, 31430, 31442, 31443, 31444, 31448, 31453, 31462, 31465, 31466, 31467, 31474, 31485, 31495, 31497, 31499, 31515, 31519, 31523, 31524, 31529, 31534, 31543, 31547, 31551, 31552, 31556, 31557, 31559, 31560, 31568, 31570, 31575, 31577, 31578, 31584, 31597, 31598, 31605, 31607, 31609, 31616, 31619, 31623, 31624, 31632, 31642, 31643, 31644, 31654, 31660, 31663, 31666, 31671, 31674, 31679, 31681, 31689, 31697, 31702, 31714, 31731, 31735, 31737, 31742, 31760, 31763, 31764, 31770, 31771, 31778, 31785, 31788, 31801, 31803, 31805, 31810, 31818, 31822, 31823, 31825, 31840, 31853, 31855, 31868, 31870, 31873, 31874, 31877, 31893, 31915, 31920, 31921, 31928, 31933, 31936, 31940, 31946, 31948, 31952, 31958, 31965, 31980, 31983, 31988, 31995, 31996, 31997, 32006, 32008, 32013, 32015, 32020, 32026, 32028, 32036, 32041, 32046, 32058, 32071, 32073, 32076, 32080, 32089, 32096, 32102, 32116, 32118, 32122, 32123, 32125, 32128, 32131, 32141, 32149, 32150, 32153, 32156, 32157, 32159, 32160, 32163, 32171, 32184, 32199, 32200, 32201, 32211, 32223, 32225, 32234, 32235, 32249, 32251, 32253, 32254, 32259, 32265, 32284, 32290, 32292, 32293, 32298, 32304, 32317, 32327, 32328, 32334, 32354, 32358, 32359, 32361, 32370, 32373, 32374, 32390, 32393, 32404, 32407, 32408, 32420, 32425, 32428, 32433, 32438, 32449, 32453, 32471, 32483, 32489, 32492, 32493, 32494, 32496, 32510, 32512, 32513, 32528, 32541, 32543, 32545, 32546, 32554, 32556, 32558, 32559, 32561, 32567, 32578, 32579, 32583, 32584, 32586, 32590, 32592, 32600, 32602, 32604, 32614, 32622, 32634, 32637, 32648, 32660, 32675, 32678, 32684, 32685, 32689, 32691, 32695, 32714, 32715, 32729, 32731, 32742, 32743, 32745, 32750, 32752, 32753, 32758, 32761, 32768, 32769, 32779, 32783, 32787, 32789, 32793, 32794, 32796, 32815, 32816, 32822, 32823, 32825, 32834, 32838, 32840, 32843, 32845, 32848, 32855, 32859, 32871, 32874, 32876, 32880, 32882, 32885, 32896, 32897, 32899, 32901, 32910, 32918, 32923, 32934, 32938, 32944, 32948, 32951, 32958, 32969, 32970, 32976, 32989, 32998, 33001, 33006, 33015, 33017, 33026, 33031, 33043, 33044, 33055, 33059, 33064, 33066, 33070, 33072, 33076, 33078, 33079, 33105, 33130, 33142, 33163, 33168, 33172, 33175, 33183, 33184, 33187, 33210, 33219, 33227, 33229, 33239, 33240, 33241, 33246, 33252, 33258, 33272, 33274, 33282, 33287, 33305, 33313, 33318, 33319, 33320, 33335, 33341, 33343, 33349, 33355, 33356, 33358, 33362, 33366, 33369, 33374, 33376, 33394, 33396, 33397, 33400, 33408, 33412, 33423, 33441, 33443, 33444, 33447, 33453, 33463, 33466, 33467, 33475, 33478, 33483, 33492, 33498, 33510, 33511, 33513, 33514, 33527, 33541, 33543, 33549, 33557, 33558, 33562, 33567, 33574, 33577, 33578, 33587, 33591, 33598, 33601, 33602, 33610, 33611, 33613, 33637, 33648, 33656, 33659, 33661, 33690, 33700, 33702, 33710, 33717, 33719, 33720, 33732, 33774, 33778, 33791, 33796, 33805, 33806, 33809, 33810, 33816, 33821, 33824, 33832, 33840, 33842, 33850, 33851, 33862, 33864, 33870, 33875, 33884, 33885, 33887, 33888, 33891, 33892, 33896, 33897, 33904, 33906, 33916, 33920, 33929, 33931, 33937, 33948, 33951, 33961, 33963, 33967, 33975, 33977, 33981, 33989, 33993, 34000, 34004, 34024, 34025, 34029, 34030, 34031, 34053, 34056, 34062, 34063, 34064, 34065, 34074, 34077, 34078, 34088, 34091, 34104, 34111, 34117, 34125, 34128, 34139, 34143, 34144, 34157, 34161, 34165, 34168, 34177, 34183, 34186, 34208, 34217, 34219, 34221, 34222, 34223, 34232, 34255, 34258, 34262, 34267, 34270, 34272, 34276, 34286, 34289, 34291, 34292, 34295, 34296, 34314, 34318, 34331, 34337, 34350, 34352, 34356, 34366, 34367, 34369, 34375, 34377, 34380, 34388, 34389, 34396, 34408, 34409, 34418, 34419, 34422, 34431, 34433, 34440, 34447, 34448, 34457, 34459, 34463, 34467, 34489, 34494, 34503, 34506, 34508, 34514, 34515, 34524, 34526, 34527, 34529, 34540, 34549, 34557, 34564, 34573, 34574, 34575, 34576, 34583, 34585, 34587, 34597, 34598, 34610, 34616, 34618, 34622, 34633, 34634, 34643, 34654, 34655, 34661, 34687, 34691, 34695, 34696, 34716, 34718, 34719, 34728, 34730, 34744, 34745, 34759, 34760, 34766, 34773, 34784, 34790, 34791, 34803, 34806, 34811, 34816, 34820, 34821, 34829, 34846, 34854, 34857, 34858, 34867, 34869, 34872, 34879, 34881, 34884, 34886, 34888, 34895, 34896, 34897, 34900, 34908, 34910, 34912, 34920, 34922, 34928, 34947, 34950, 34955, 34958, 34965, 34971, 34980, 34981, 34985, 34988, 34996, 35000, 35010, 35016, 35019, 35023, 35024, 35037, 35039, 35043, 35044, 35048, 35049, 35055, 35066, 35072, 35085, 35086, 35088, 35096, 35107, 35123, 35143, 35144, 35148, 35150, 35151, 35158, 35160, 35167, 35189, 35191, 35193, 35206, 35209, 35212, 35216, 35217, 35221, 35230, 35237, 35251, 35252, 35254, 35266, 35279, 35281, 35288, 35289, 35294, 35297, 35310, 35319, 35321, 35334, 35335, 35337, 35345, 35347, 35364, 35385, 35387, 35394, 35402, 35403, 35404, 35417, 35420, 35421, 35422, 35432, 35436, 35439, 35440, 35447, 35448, 35449, 35450, 35455, 35461, 35475, 35478, 35486, 35487, 35490, 35496, 35517, 35519, 35521, 35523, 35526, 35537, 35546, 35567, 35576, 35578, 35581, 35592, 35595, 35596, 35597, 35604, 35609, 35611, 35614, 35616, 35620, 35622, 35630, 35632, 35637, 35639, 35644, 35662, 35663, 35678, 35683, 35688, 35689, 35705, 35712, 35713, 35717, 35722, 35723, 35725, 35730, 35733, 35734, 35736, 35746, 35748, 35749, 35753, 35754, 35765, 35766, 35768, 35780, 35785, 35786, 35803, 35806, 35817, 35824, 35827, 35840, 35849, 35851, 35856, 35861, 35871, 35874, 35881, 35882, 35892, 35895, 35899, 35905, 35907, 35912, 35918, 35925, 35934, 35940, 35941, 35944, 35948, 35952, 35953, 35954, 35958, 35963, 35964, 35965, 35967, 35980, 35983, 35986, 35991, 35997, 35998, 36007, 36010, 36011, 36019, 36022, 36026, 36028, 36032, 36036, 36041, 36043, 36045, 36055, 36058, 36069, 36074, 36075, 36077, 36093, 36097, 36101, 36102, 36109, 36115, 36118, 36126, 36131, 36136, 36140, 36142, 36147, 36151, 36156, 36157, 36164, 36171, 36178, 36187, 36188, 36189, 36190, 36194, 36203, 36205, 36206, 36212, 36218, 36222, 36227, 36229, 36245, 36246, 36254, 36256, 36257, 36260, 36266, 36275, 36277, 36284, 36289, 36293, 36298, 36302, 36312, 36336, 36338, 36339, 36348, 36360, 36361, 36364, 36367, 36381, 36394, 36404, 36407, 36411, 36412, 36416, 36422, 36427, 36432, 36439, 36447, 36449, 36451, 36460, 36470, 36472, 36473, 36474, 36486, 36495, 36504, 36506, 36509, 36513, 36515, 36522, 36560, 36566, 36571, 36575, 36595, 36598, 36604, 36606, 36608, 36616, 36623, 36625, 36626, 36633, 36638, 36641, 36644, 36645, 36658, 36668, 36675, 36689, 36700, 36716, 36718, 36721, 36722, 36727, 36729, 36733, 36737, 36740, 36742, 36752, 36755, 36756, 36759, 36768, 36773, 36775, 36784, 36796, 36806, 36811, 36815, 36825, 36847, 36850, 36859, 36864, 36865, 36866, 36887, 36892, 36895, 36900, 36904, 36908, 36919, 36923, 36934, 36942, 36953, 36957, 36959, 36973, 36979, 36994, 37003, 37005, 37007, 37015, 37016, 37025, 37044, 37065, 37066, 37070, 37079, 37081, 37082, 37087, 37104, 37108, 37115, 37116, 37118, 37123, 37124, 37126, 37139, 37150, 37153, 37175, 37178, 37181, 37184, 37189, 37191, 37194, 37203, 37214, 37217, 37221, 37227, 37234, 37235, 37237, 37249, 37251, 37257, 37260, 37262, 37269, 37270, 37288, 37290, 37296, 37298, 37300, 37307, 37308, 37309, 37323, 37326, 37327, 37347, 37354, 37355, 37371, 37379, 37380, 37386, 37395, 37396, 37414, 37417, 37421, 37428, 37432, 37436, 37438, 37442, 37444, 37451, 37452, 37458, 37467, 37477, 37480, 37481, 37485, 37494, 37507, 37510, 37513, 37515, 37517, 37521, 37527, 37538, 37541, 37544, 37545, 37558, 37566, 37573, 37577, 37580, 37582, 37589, 37598, 37599, 37602, 37603, 37604, 37605, 37616, 37619, 37620, 37626, 37629, 37648, 37659, 37663, 37668, 37670, 37673, 37675, 37679, 37683, 37686, 37688, 37693, 37699, 37705, 37707, 37715, 37747, 37761, 37766, 37773, 37775, 37779, 37799, 37808, 37809, 37810, 37813, 37831, 37835, 37836, 37848, 37852, 37855, 37860, 37861, 37864, 37865, 37866, 37871, 37875, 37878, 37880, 37883, 37890, 37891, 37899, 37904, 37905, 37906, 37908, 37917, 37919, 37933, 37946, 37947, 37948, 37958, 37961, 37973, 37977, 37992, 37995, 37999, 38005, 38014, 38019, 38022, 38025, 38034, 38037, 38039, 38041, 38044, 38053, 38063, 38067, 38073, 38075, 38077, 38086, 38088, 38101, 38102, 38103, 38104, 38116, 38118, 38120, 38122, 38123, 38134, 38139, 38155, 38162, 38167, 38177, 38182, 38187, 38188, 38198, 38207, 38212, 38214, 38217, 38221, 38225, 38230, 38231, 38235, 38236, 38245, 38265, 38283, 38285, 38286, 38292, 38297, 38298, 38303, 38305, 38312, 38315, 38317, 38330, 38352, 38356, 38357, 38367, 38370, 38371, 38373, 38377, 38382, 38384, 38385, 38388, 38394, 38406, 38408, 38416, 38417, 38422, 38432, 38433, 38437, 38456, 38457, 38458, 38459, 38466, 38468, 38477, 38478, 38486, 38492, 38495, 38501, 38510, 38519, 38525, 38535, 38542, 38555, 38562, 38577, 38579, 38580, 38582, 38590, 38591, 38592, 38602, 38606, 38608, 38619, 38621, 38626, 38634, 38645, 38666, 38669, 38670, 38672, 38682, 38694, 38697, 38700, 38704, 38707, 38714, 38715, 38717, 38720, 38722, 38725, 38736, 38739, 38741, 38743, 38746, 38748, 38750, 38758, 38763, 38775, 38777, 38782, 38798, 38799, 38801, 38805, 38812, 38818, 38827, 38831, 38832, 38837, 38838, 38850, 38858, 38863, 38866, 38869, 38872, 38877, 38882, 38887, 38896, 38897, 38904, 38906, 38912, 38929, 38931, 38936, 38937, 38944, 38949, 38958, 38959, 38964, 38967, 38968, 38979, 38982, 38996, 38997, 38999, 39011, 39020, 39028, 39029, 39038, 39040, 39043, 39045, 39046, 39055, 39066, 39067, 39068, 39077, 39078, 39084, 39086, 39095, 39096, 39099, 39102, 39103, 39117, 39120, 39122, 39126, 39131, 39141, 39143, 39154, 39156, 39162, 39169, 39171, 39174, 39180, 39183, 39187, 39189, 39191, 39192, 39195, 39198, 39199, 39200, 39207, 39208, 39209, 39214, 39222, 39223, 39227, 39235, 39237, 39243, 39248, 39251, 39253, 39262, 39270, 39271, 39281, 39282, 39293, 39299, 39301, 39304, 39306, 39321, 39325, 39328, 39329, 39330, 39338, 39341, 39347, 39356, 39372, 39380, 39382, 39406, 39407, 39409, 39416, 39418, 39421, 39434, 39436, 39437, 39450, 39465, 39471, 39478, 39486, 39492, 39494, 39497, 39501, 39505, 39511, 39517, 39518, 39521, 39523, 39532, 39535, 39548, 39554, 39555, 39558, 39571, 39578, 39582, 39590, 39595, 39597, 39598, 39607, 39617, 39619, 39627, 39631, 39637, 39644, 39650, 39653, 39659, 39665, 39675, 39686, 39689, 39702, 39707, 39709, 39726, 39727, 39730, 39738, 39739, 39740, 39743, 39746, 39748, 39755, 39758, 39761, 39762, 39766, 39770, 39772, 39773, 39774, 39775, 39784, 39788, 39790, 39791, 39795, 39805, 39819, 39822, 39829, 39830, 39836, 39852, 39854, 39856, 39862, 39882, 39884, 39900, 39903, 39912, 39915, 39917, 39928, 39934, 39937, 39941, 39944, 39949, 39959, 39961, 39970, 39974, 39976, 39983, 39989, 39998, 40009, 40012, 40017, 40018, 40019, 40020, 40022, 40030, 40031, 40034, 40036, 40040, 40046, 40064, 40077, 40079, 40087, 40094, 40095, 40108, 40109, 40124, 40128, 40132, 40138, 40140, 40142, 40143, 40149, 40153, 40158, 40166, 40167, 40170, 40171, 40172, 40184, 40185, 40196, 40201, 40218, 40223, 40225, 40236, 40250, 40253, 40265, 40268, 40270, 40278, 40279, 40282, 40283, 40284, 40285, 40294, 40301, 40330, 40336, 40344, 40347, 40351, 40352, 40354, 40356, 40362, 40368, 40373, 40390, 40396, 40399, 40403, 40416, 40418, 40426, 40430, 40435, 40441, 40454, 40456, 40461, 40468, 40469, 40484, 40487, 40488, 40494, 40497, 40501, 40502, 40507, 40509, 40515, 40521, 40527, 40536, 40538, 40548, 40549, 40552, 40555, 40560, 40570, 40572, 40583, 40587, 40592, 40596, 40608, 40619, 40622, 40624, 40638, 40640, 40645, 40647, 40657, 40658, 40659, 40662, 40666, 40680, 40681, 40707, 40713, 40715, 40718, 40723, 40727, 40744, 40750, 40751, 40757, 40765, 40775, 40776, 40778, 40793, 40795, 40804, 40809, 40830, 40831, 40833, 40835, 40845, 40860, 40866, 40867, 40876, 40877, 40883, 40884, 40885, 40889, 40899, 40900, 40903, 40904, 40906, 40908, 40913, 40923, 40924, 40931, 40934, 40936, 40944, 40945, 40949, 40953, 40954, 40960, 40961, 40968, 40970, 40980, 40982, 40987, 41002, 41004, 41019, 41024, 41028, 41031, 41042, 41045, 41046, 41049, 41053, 41058, 41066, 41069, 41078, 41080, 41090, 41100, 41102, 41110, 41111, 41112, 41114, 41117, 41121, 41128, 41130, 41132, 41133, 41135, 41142, 41144, 41145, 41150, 41161, 41163, 41171, 41176, 41178, 41183, 41192, 41195, 41198, 41214, 41223, 41232, 41234, 41235, 41242, 41250, 41254, 41263, 41285, 41286, 41292, 41295, 41303, 41306, 41318, 41323, 41327, 41328, 41333, 41342, 41344, 41345, 41355, 41357, 41366, 41369, 41370, 41381, 41384, 41390, 41397, 41398, 41399, 41406, 41414, 41418, 41422, 41423, 41427, 41434, 41450, 41452, 41463, 41476, 41477, 41478, 41479, 41480, 41485, 41496, 41498, 41500, 41501, 41502, 41503, 41517, 41522, 41530, 41531, 41532, 41542, 41545, 41546, 41555, 41556, 41561, 41584, 41586, 41588, 41590, 41591, 41599, 41604, 41608, 41612, 41616, 41617, 41620, 41625, 41626, 41629, 41638, 41639, 41643, 41651, 41654, 41662, 41670, 41672, 41684, 41686, 41698, 41704, 41705, 41712, 41720, 41734, 41736, 41740, 41748, 41753, 41762, 41773, 41775, 41782, 41786, 41801, 41802, 41803, 41804, 41809, 41817, 41818, 41820, 41829, 41835, 41849, 41857, 41860, 41863, 41865, 41866, 41871, 41874, 41880, 41888, 41890, 41901, 41914, 41920, 41929, 41931, 41932, 41933, 41955, 41973, 41984, 41986, 41991, 42001, 42003, 42006, 42009, 42012, 42017, 42018, 42019, 42030, 42031, 42044, 42051, 42053, 42059, 42060, 42062, 42064, 42068, 42070, 42072, 42077, 42093, 42095, 42097, 42102, 42109, 42116, 42124, 42128, 42132, 42134, 42143, 42149, 42155, 42161, 42163, 42168, 42171, 42173, 42184, 42185, 42186, 42189, 42204, 42206, 42208, 42215, 42221, 42222, 42226, 42229, 42231, 42237, 42244, 42253, 42255, 42261, 42272, 42275, 42291, 42296, 42310, 42321, 42324, 42335, 42337, 42339, 42350, 42352, 42363, 42366, 42379, 42387, 42390, 42398, 42402, 42411, 42415, 42419, 42421, 42429, 42430, 42440, 42447, 42448, 42454, 42455, 42469, 42473, 42475, 42483, 42488, 42500, 42504, 42507, 42510, 42518, 42522, 42527, 42529, 42532, 42537, 42545, 42546, 42552, 42556, 42561, 42567, 42583, 42584, 42589, 42590, 42609, 42622, 42625, 42632, 42638, 42640, 42645, 42653, 42656, 42658, 42661, 42667, 42669, 42675, 42702, 42703, 42707, 42711, 42716, 42717, 42730, 42752, 42753, 42755, 42756, 42762, 42766, 42768, 42773, 42775, 42779, 42783, 42784, 42785, 42786, 42790, 42791, 42799, 42804, 42805, 42806, 42816, 42820, 42828, 42838, 42845, 42846, 42858, 42863, 42864, 42870, 42875, 42877, 42879, 42882, 42888, 42894, 42896, 42898, 42900, 42905, 42909, 42912, 42914, 42919, 42924, 42926, 42929, 42932, 42935, 42940, 42955, 42956, 42969, 42972, 42974, 42986, 42989, 43005, 43010, 43011, 43012, 43020, 43027, 43028, 43032, 43051, 43052, 43061, 43062, 43065, 43072, 43074, 43076, 43082, 43091, 43102, 43112, 43120, 43125, 43138, 43141, 43143, 43148, 43150, 43154, 43156, 43157, 43158, 43172, 43175, 43176, 43181, 43189, 43191, 43194, 43196, 43197, 43205, 43207, 43210, 43218, 43222, 43224, 43230, 43238, 43250, 43251, 43253, 43254, 43258, 43260, 43267, 43293, 43294, 43307, 43309, 43313, 43323, 43324, 43325, 43335, 43342, 43347, 43349, 43350, 43360, 43364, 43367, 43370, 43372, 43374, 43381, 43385, 43386, 43406, 43408, 43413, 43416, 43417, 43428, 43432, 43441, 43443, 43445, 43460, 43475, 43494, 43503, 43504, 43506, 43510, 43516, 43519, 43521, 43534, 43535, 43536, 43543, 43544, 43547, 43549, 43552, 43554, 43555, 43557, 43565, 43569, 43570, 43574, 43576, 43584, 43587, 43590, 43599, 43609, 43619, 43630, 43633, 43658, 43659, 43662, 43669, 43673, 43674, 43680, 43681, 43702, 43710, 43715, 43718, 43720, 43721, 43734, 43736, 43745, 43746, 43747, 43760, 43775, 43782, 43786, 43803, 43806, 43808, 43824, 43828, 43830, 43831, 43832, 43833, 43835, 43837, 43843, 43851, 43857, 43861, 43863, 43864, 43868, 43876, 43886, 43896, 43905, 43911, 43918, 43920, 43929, 43935, 43936, 43940, 43942, 43945, 43951, 43955, 43957, 43958, 43960, 43989, 44000, 44005, 44011, 44015, 44027, 44028, 44037, 44041, 44053, 44056, 44067, 44068, 44069, 44070, 44077, 44079, 44089, 44090, 44091, 44095, 44106, 44122, 44129, 44138, 44139, 44142, 44153, 44155, 44159, 44162, 44167, 44171, 44173, 44175, 44186, 44188, 44192, 44195, 44200, 44208, 44216, 44218, 44219, 44236, 44238, 44242, 44248, 44254, 44256, 44266, 44269, 44273, 44276, 44281, 44283, 44287, 44289, 44292, 44295, 44305, 44312, 44315, 44316, 44321, 44336, 44342, 44344, 44347, 44348, 44353, 44367, 44369, 44371, 44375, 44376, 44378, 44384, 44405, 44411, 44415, 44417, 44424, 44428, 44430, 44431, 44437, 44443, 44446, 44449, 44464, 44469, 44475, 44485, 44486, 44490, 44493, 44495, 44515, 44524, 44526, 44538, 44541, 44546, 44550, 44553, 44560, 44561, 44563, 44585, 44593, 44594, 44602, 44611, 44613, 44628, 44629, 44641, 44645, 44646, 44647, 44652, 44655, 44662, 44669, 44674, 44681, 44698, 44703, 44708, 44711, 44713, 44717, 44719, 44726, 44733, 44734, 44736, 44739, 44740, 44741, 44754, 44758, 44770, 44773, 44778, 44779, 44785, 44786, 44796, 44799, 44800, 44801, 44805, 44816, 44823, 44824, 44836, 44837, 44838, 44841, 44843, 44849, 44856, 44861, 44862, 44863, 44881, 44889, 44900, 44906, 44909, 44915, 44916, 44928, 44929, 44934, 44939, 44956, 44962, 44963, 44965, 44968, 44979, 44985, 44995, 44997, 45009, 45010, 45011, 45012, 45019, 45026, 45027, 45034, 45036, 45048, 45057, 45063, 45064, 45065, 45067, 45069, 45072, 45073, 45081, 45082, 45088, 45091, 45097, 45106, 45108, 45110, 45112, 45113, 45114, 45118, 45119, 45122, 45137, 45147, 45148, 45155, 45160, 45176, 45180, 45187, 45196, 45201, 45209, 45213, 45223, 45224, 45226, 45243, 45244, 45254, 45261, 45270, 45271, 45274, 45280, 45281, 45283, 45287, 45300, 45301, 45303, 45324, 45331, 45343, 45345, 45347, 45356, 45359, 45378, 45381, 45382, 45383, 45388, 45393, 45394, 45400, 45403, 45405, 45414, 45420, 45431, 45433, 45438, 45446, 45449, 45452, 45454, 45457, 45461, 45466, 45470, 45471, 45476, 45483, 45484, 45489, 45494, 45499, 45507, 45508, 45513, 45536, 45538, 45541, 45544, 45566, 45573, 45579, 45582, 45588, 45591, 45593, 45599, 45602, 45614, 45616, 45619, 45627, 45636, 45637, 45650, 45656, 45662, 45675, 45682, 45695, 45703, 45713, 45714, 45720, 45728, 45729, 45737, 45746, 45747, 45748, 45759, 45762, 45783, 45784, 45797, 45801, 45802, 45804, 45805, 45807, 45811, 45817, 45818, 45820, 45824, 45837, 45845, 45856, 45862, 45869, 45882, 45883, 45885, 45895, 45905, 45910, 45917, 45918, 45919, 45920, 45923, 45929, 45943, 45955, 45959, 45975, 45987, 45989, 45993, 45997, 46007, 46009, 46014, 46020, 46021, 46030, 46031, 46042, 46047, 46052, 46064, 46074, 46084, 46087, 46091, 46095, 46124, 46130, 46145, 46150, 46155, 46163, 46177, 46178, 46179, 46180, 46182, 46189, 46191, 46200, 46211, 46227, 46237, 46245, 46256, 46258, 46263, 46265, 46268, 46269, 46271, 46274, 46283, 46285, 46287, 46288, 46291, 46292, 46294, 46298, 46302, 46306, 46313, 46315, 46329, 46334, 46336, 46362, 46364, 46366, 46368, 46370, 46371, 46372, 46375, 46388, 46400, 46403, 46416, 46418, 46433, 46435, 46447, 46449, 46450, 46458, 46466, 46491, 46508, 46517, 46519, 46530, 46535, 46536, 46539, 46546, 46556, 46565, 46566, 46576, 46579, 46590, 46591, 46592, 46593, 46597, 46615, 46622, 46628, 46633, 46634, 46640, 46648, 46654, 46655, 46664, 46677, 46678, 46680, 46682, 46687, 46701, 46709, 46721, 46725, 46726, 46734, 46742, 46745, 46757, 46759, 46765, 46768, 46769, 46772, 46775, 46791, 46794, 46797, 46802, 46804, 46806, 46807, 46810, 46829, 46836, 46837, 46849, 46853, 46857, 46859, 46861, 46862, 46864, 46867, 46870, 46884, 46904, 46919, 46920, 46926, 46928, 46929, 46939, 46942, 46944, 46946, 46950, 46967, 46970, 46984, 46997, 46998, 47004, 47005, 47012, 47013, 47017, 47025, 47027, 47028, 47035, 47054, 47056, 47058, 47061, 47063, 47069, 47077, 47089, 47092, 47093, 47094, 47106, 47108, 47111, 47112, 47113, 47114, 47117, 47133, 47134, 47141, 47145, 47147, 47153, 47162, 47168, 47169, 47176, 47177, 47183, 47184, 47195, 47199, 47202, 47207, 47208, 47210, 47213, 47215, 47220, 47223, 47239, 47241, 47245, 47260, 47267, 47273, 47277, 47282, 47292, 47293, 47296, 47306, 47308, 47322, 47327, 47328, 47330, 47333, 47348, 47349, 47356, 47357, 47364, 47368, 47372, 47375, 47378, 47381, 47393, 47396, 47404, 47407, 47409, 47414, 47432, 47437, 47438, 47446, 47448, 47455, 47461, 47462, 47466, 47471, 47472, 47480, 47487, 47488, 47493, 47496, 47506, 47511, 47520, 47521, 47528, 47529, 47534, 47536, 47541, 47546, 47547, 47552, 47556, 47571, 47572, 47574, 47584, 47589, 47596, 47607, 47613, 47614, 47622, 47623, 47631, 47632, 47637, 47644, 47652, 47659, 47663, 47667, 47671, 47684, 47688, 47690, 47694, 47697, 47698, 47703, 47706, 47713, 47717, 47723, 47739, 47745, 47750, 47751, 47755, 47762, 47768, 47777, 47778, 47798, 47799, 47803, 47814, 47821, 47834, 47845, 47852, 47857, 47858, 47867, 47868, 47869, 47885, 47889, 47891, 47900, 47907, 47911, 47912, 47919, 47923, 47927, 47932, 47939, 47946, 47954, 47959, 47961, 47967, 47970, 47981, 47998, 48001], Type: <class 'list'>\n",
            "Group: (0, 0), Members: [1, 3, 6, 8, 18, 20, 31, 34, 37, 48, 53, 60, 61, 62, 64, 68, 71, 75, 80, 85, 88, 92, 93, 94, 98, 101, 104, 108, 124, 128, 139, 143, 151, 163, 164, 167, 170, 171, 184, 187, 199, 201, 208, 214, 219, 224, 231, 235, 242, 249, 254, 259, 281, 282, 283, 290, 304, 313, 315, 316, 323, 330, 339, 341, 350, 351, 356, 357, 358, 359, 362, 365, 367, 369, 372, 375, 376, 382, 386, 387, 397, 398, 400, 408, 412, 414, 419, 421, 424, 427, 436, 437, 439, 451, 452, 455, 459, 464, 470, 473, 480, 481, 485, 492, 503, 507, 516, 521, 527, 531, 532, 533, 536, 541, 550, 552, 565, 566, 567, 568, 583, 588, 592, 594, 608, 617, 620, 621, 623, 627, 630, 648, 656, 659, 673, 692, 699, 700, 713, 722, 724, 736, 737, 743, 752, 754, 761, 762, 768, 770, 774, 786, 787, 789, 791, 799, 801, 803, 804, 805, 813, 815, 817, 818, 827, 829, 840, 842, 845, 847, 854, 859, 862, 866, 867, 869, 870, 872, 873, 879, 881, 888, 892, 899, 902, 905, 910, 913, 914, 919, 930, 933, 936, 946, 949, 953, 965, 967, 969, 970, 976, 978, 991, 997, 1001, 1008, 1014, 1022, 1030, 1041, 1049, 1054, 1065, 1073, 1086, 1094, 1101, 1103, 1104, 1107, 1109, 1117, 1124, 1133, 1135, 1148, 1163, 1165, 1169, 1173, 1180, 1193, 1199, 1200, 1201, 1205, 1214, 1218, 1223, 1224, 1226, 1228, 1237, 1240, 1258, 1264, 1274, 1278, 1284, 1285, 1301, 1302, 1311, 1316, 1318, 1325, 1333, 1334, 1342, 1343, 1345, 1346, 1347, 1360, 1361, 1362, 1363, 1365, 1371, 1373, 1377, 1378, 1381, 1383, 1385, 1396, 1423, 1434, 1435, 1442, 1443, 1444, 1452, 1457, 1458, 1461, 1468, 1471, 1475, 1476, 1477, 1491, 1493, 1494, 1502, 1507, 1508, 1510, 1525, 1531, 1534, 1536, 1540, 1548, 1550, 1554, 1559, 1562, 1583, 1590, 1600, 1606, 1610, 1619, 1620, 1623, 1625, 1643, 1647, 1649, 1657, 1673, 1674, 1684, 1685, 1694, 1702, 1703, 1712, 1714, 1720, 1723, 1732, 1734, 1738, 1757, 1759, 1760, 1763, 1765, 1769, 1789, 1791, 1806, 1812, 1824, 1830, 1847, 1850, 1854, 1855, 1864, 1871, 1872, 1878, 1879, 1883, 1891, 1892, 1906, 1920, 1923, 1927, 1928, 1934, 1935, 1939, 1942, 1950, 1953, 1956, 1957, 1960, 1965, 1979, 1988, 1997, 2004, 2005, 2008, 2011, 2023, 2024, 2026, 2027, 2033, 2034, 2040, 2052, 2066, 2067, 2068, 2069, 2075, 2079, 2081, 2090, 2091, 2092, 2093, 2095, 2097, 2098, 2103, 2104, 2114, 2117, 2124, 2132, 2135, 2149, 2152, 2155, 2166, 2170, 2171, 2172, 2177, 2180, 2181, 2182, 2187, 2193, 2194, 2195, 2207, 2210, 2218, 2223, 2225, 2231, 2234, 2243, 2252, 2258, 2261, 2263, 2271, 2275, 2281, 2282, 2289, 2296, 2297, 2300, 2302, 2309, 2313, 2316, 2318, 2323, 2324, 2325, 2331, 2335, 2344, 2347, 2350, 2356, 2361, 2366, 2379, 2382, 2383, 2384, 2394, 2400, 2405, 2408, 2415, 2418, 2421, 2423, 2435, 2440, 2444, 2448, 2462, 2468, 2488, 2491, 2495, 2497, 2503, 2510, 2511, 2514, 2521, 2522, 2530, 2547, 2549, 2560, 2562, 2573, 2574, 2586, 2590, 2591, 2594, 2597, 2600, 2605, 2606, 2614, 2623, 2648, 2651, 2661, 2669, 2672, 2678, 2679, 2695, 2697, 2701, 2704, 2714, 2716, 2717, 2719, 2732, 2733, 2734, 2735, 2739, 2746, 2747, 2748, 2749, 2752, 2757, 2768, 2772, 2778, 2783, 2787, 2793, 2795, 2825, 2828, 2830, 2837, 2851, 2852, 2854, 2856, 2857, 2872, 2873, 2876, 2877, 2878, 2886, 2887, 2888, 2889, 2895, 2899, 2915, 2930, 2935, 2941, 2943, 2954, 2959, 2961, 2962, 2966, 2969, 2973, 2977, 2980, 2983, 2984, 3004, 3011, 3015, 3016, 3017, 3034, 3037, 3039, 3043, 3046, 3047, 3060, 3062, 3076, 3077, 3078, 3099, 3101, 3102, 3103, 3107, 3108, 3113, 3114, 3115, 3117, 3136, 3145, 3151, 3161, 3162, 3163, 3169, 3170, 3171, 3173, 3195, 3204, 3206, 3207, 3208, 3216, 3220, 3222, 3235, 3237, 3250, 3252, 3253, 3265, 3271, 3283, 3284, 3286, 3291, 3294, 3297, 3301, 3302, 3309, 3313, 3317, 3327, 3329, 3330, 3333, 3351, 3356, 3357, 3369, 3372, 3375, 3386, 3391, 3392, 3406, 3408, 3410, 3421, 3425, 3428, 3439, 3440, 3445, 3448, 3457, 3463, 3465, 3468, 3500, 3502, 3514, 3516, 3521, 3524, 3529, 3541, 3546, 3548, 3549, 3557, 3559, 3567, 3569, 3572, 3580, 3581, 3582, 3583, 3584, 3586, 3592, 3594, 3596, 3598, 3612, 3615, 3619, 3621, 3622, 3626, 3637, 3638, 3640, 3643, 3645, 3647, 3648, 3653, 3661, 3667, 3676, 3677, 3689, 3690, 3695, 3705, 3707, 3709, 3716, 3717, 3718, 3719, 3720, 3734, 3740, 3743, 3744, 3745, 3752, 3762, 3764, 3767, 3779, 3781, 3788, 3793, 3796, 3797, 3798, 3802, 3809, 3810, 3812, 3816, 3818, 3819, 3830, 3832, 3842, 3843, 3846, 3848, 3873, 3875, 3876, 3883, 3885, 3887, 3898, 3904, 3907, 3910, 3913, 3914, 3920, 3924, 3930, 3932, 3940, 3942, 3948, 3953, 3959, 3960, 3963, 3964, 3965, 3967, 3970, 3978, 3979, 3987, 3989, 3992, 3993, 3996, 4000, 4001, 4003, 4024, 4027, 4028, 4029, 4030, 4033, 4042, 4043, 4044, 4050, 4057, 4063, 4072, 4073, 4077, 4078, 4082, 4085, 4090, 4093, 4094, 4105, 4107, 4110, 4118, 4124, 4132, 4134, 4137, 4139, 4144, 4145, 4157, 4161, 4163, 4167, 4168, 4170, 4175, 4177, 4179, 4183, 4189, 4193, 4195, 4197, 4198, 4200, 4209, 4210, 4212, 4222, 4225, 4226, 4239, 4241, 4245, 4247, 4253, 4257, 4259, 4261, 4265, 4267, 4278, 4281, 4296, 4297, 4300, 4321, 4324, 4334, 4336, 4354, 4355, 4357, 4360, 4365, 4368, 4372, 4375, 4380, 4383, 4385, 4392, 4393, 4397, 4402, 4404, 4407, 4418, 4420, 4428, 4438, 4444, 4445, 4454, 4455, 4470, 4473, 4477, 4479, 4488, 4491, 4504, 4506, 4510, 4517, 4524, 4527, 4529, 4534, 4540, 4547, 4548, 4550, 4553, 4554, 4564, 4567, 4569, 4570, 4585, 4586, 4587, 4599, 4601, 4608, 4615, 4620, 4623, 4627, 4639, 4646, 4647, 4651, 4660, 4666, 4679, 4687, 4690, 4692, 4701, 4705, 4706, 4707, 4709, 4721, 4723, 4733, 4739, 4745, 4747, 4752, 4767, 4771, 4781, 4784, 4786, 4800, 4801, 4802, 4815, 4816, 4818, 4827, 4833, 4835, 4845, 4848, 4855, 4856, 4862, 4863, 4871, 4874, 4879, 4880, 4884, 4886, 4892, 4897, 4904, 4911, 4914, 4930, 4945, 4950, 4954, 4963, 4964, 4965, 4977, 4978, 4981, 4990, 4991, 5004, 5018, 5020, 5030, 5034, 5037, 5038, 5045, 5050, 5053, 5057, 5058, 5061, 5062, 5067, 5070, 5081, 5082, 5092, 5093, 5101, 5104, 5112, 5121, 5123, 5126, 5127, 5133, 5135, 5137, 5148, 5153, 5155, 5157, 5163, 5170, 5190, 5192, 5202, 5211, 5219, 5220, 5226, 5227, 5240, 5243, 5248, 5251, 5252, 5257, 5267, 5273, 5280, 5283, 5285, 5286, 5288, 5289, 5290, 5291, 5293, 5302, 5303, 5316, 5318, 5319, 5323, 5328, 5337, 5338, 5341, 5342, 5356, 5357, 5363, 5378, 5383, 5384, 5390, 5392, 5393, 5399, 5409, 5420, 5422, 5428, 5430, 5438, 5454, 5457, 5465, 5467, 5477, 5485, 5490, 5496, 5502, 5507, 5521, 5533, 5539, 5541, 5542, 5544, 5545, 5557, 5560, 5565, 5567, 5574, 5575, 5578, 5583, 5587, 5590, 5597, 5605, 5609, 5610, 5614, 5621, 5622, 5623, 5629, 5631, 5634, 5635, 5638, 5640, 5647, 5648, 5651, 5655, 5676, 5683, 5684, 5685, 5692, 5695, 5703, 5705, 5709, 5713, 5719, 5720, 5724, 5726, 5727, 5741, 5743, 5756, 5758, 5759, 5771, 5777, 5780, 5786, 5796, 5799, 5800, 5806, 5809, 5825, 5834, 5836, 5837, 5842, 5843, 5854, 5864, 5870, 5871, 5877, 5879, 5883, 5894, 5896, 5903, 5905, 5907, 5909, 5910, 5916, 5919, 5922, 5928, 5933, 5944, 5949, 5953, 5956, 5960, 5962, 5963, 5982, 5985, 5992, 5999, 6007, 6015, 6016, 6019, 6024, 6029, 6033, 6034, 6037, 6038, 6041, 6043, 6049, 6051, 6064, 6065, 6073, 6075, 6079, 6084, 6096, 6101, 6102, 6113, 6114, 6115, 6116, 6119, 6121, 6127, 6130, 6143, 6145, 6147, 6149, 6152, 6159, 6160, 6161, 6165, 6168, 6174, 6175, 6190, 6191, 6194, 6195, 6200, 6202, 6221, 6223, 6224, 6241, 6242, 6248, 6251, 6253, 6259, 6261, 6262, 6264, 6266, 6267, 6275, 6278, 6283, 6296, 6309, 6311, 6313, 6319, 6324, 6331, 6334, 6337, 6339, 6341, 6345, 6347, 6350, 6354, 6371, 6373, 6375, 6382, 6386, 6393, 6398, 6400, 6413, 6423, 6434, 6438, 6439, 6440, 6449, 6456, 6465, 6467, 6470, 6471, 6472, 6474, 6475, 6477, 6478, 6487, 6489, 6491, 6493, 6494, 6503, 6507, 6510, 6529, 6530, 6531, 6532, 6533, 6534, 6538, 6541, 6545, 6547, 6551, 6553, 6557, 6558, 6566, 6580, 6581, 6584, 6592, 6604, 6606, 6607, 6609, 6611, 6613, 6617, 6627, 6628, 6629, 6636, 6640, 6644, 6653, 6662, 6666, 6671, 6672, 6675, 6682, 6686, 6688, 6691, 6692, 6702, 6703, 6712, 6713, 6715, 6717, 6718, 6729, 6742, 6745, 6746, 6753, 6770, 6772, 6773, 6777, 6784, 6789, 6791, 6792, 6803, 6806, 6808, 6823, 6825, 6826, 6828, 6840, 6842, 6843, 6849, 6851, 6853, 6854, 6875, 6878, 6885, 6886, 6899, 6911, 6925, 6938, 6942, 6943, 6948, 6952, 6963, 6965, 6966, 6970, 6971, 6983, 6984, 6985, 7001, 7002, 7013, 7023, 7029, 7032, 7038, 7043, 7044, 7049, 7068, 7069, 7070, 7072, 7079, 7092, 7104, 7118, 7125, 7131, 7134, 7135, 7136, 7137, 7140, 7141, 7142, 7153, 7161, 7167, 7169, 7170, 7191, 7193, 7197, 7198, 7206, 7209, 7210, 7211, 7214, 7222, 7226, 7227, 7228, 7232, 7233, 7241, 7242, 7245, 7249, 7251, 7253, 7254, 7271, 7272, 7284, 7285, 7296, 7300, 7315, 7316, 7331, 7332, 7334, 7340, 7342, 7347, 7360, 7361, 7362, 7364, 7371, 7376, 7380, 7384, 7394, 7403, 7409, 7412, 7431, 7434, 7438, 7439, 7440, 7448, 7449, 7450, 7452, 7458, 7462, 7465, 7473, 7480, 7498, 7510, 7515, 7521, 7528, 7535, 7543, 7547, 7548, 7549, 7557, 7558, 7559, 7561, 7562, 7563, 7564, 7565, 7568, 7577, 7580, 7582, 7585, 7587, 7598, 7609, 7610, 7611, 7616, 7625, 7629, 7635, 7637, 7646, 7647, 7661, 7664, 7673, 7686, 7687, 7688, 7691, 7710, 7728, 7731, 7734, 7736, 7737, 7744, 7750, 7752, 7754, 7758, 7760, 7763, 7769, 7771, 7783, 7788, 7790, 7794, 7797, 7798, 7811, 7813, 7822, 7828, 7833, 7835, 7843, 7847, 7849, 7860, 7862, 7865, 7876, 7877, 7884, 7888, 7893, 7895, 7898, 7901, 7904, 7909, 7915, 7916, 7918, 7921, 7928, 7932, 7942, 7958, 7960, 7967, 7969, 7971, 7974, 7976, 7978, 7980, 7992, 7993, 7994, 7997, 8002, 8004, 8006, 8007, 8008, 8017, 8023, 8032, 8040, 8041, 8042, 8051, 8054, 8064, 8070, 8078, 8079, 8080, 8081, 8083, 8087, 8092, 8096, 8097, 8109, 8113, 8120, 8121, 8138, 8144, 8150, 8151, 8152, 8163, 8164, 8171, 8177, 8179, 8180, 8182, 8185, 8191, 8194, 8197, 8198, 8199, 8202, 8206, 8213, 8215, 8218, 8221, 8228, 8245, 8248, 8249, 8255, 8261, 8262, 8263, 8268, 8278, 8279, 8280, 8281, 8287, 8291, 8292, 8296, 8308, 8315, 8319, 8321, 8328, 8340, 8348, 8354, 8355, 8365, 8366, 8373, 8381, 8393, 8397, 8399, 8410, 8414, 8420, 8421, 8426, 8430, 8433, 8441, 8442, 8446, 8447, 8448, 8449, 8460, 8461, 8475, 8477, 8478, 8497, 8498, 8500, 8510, 8516, 8526, 8529, 8531, 8542, 8544, 8546, 8548, 8555, 8559, 8565, 8566, 8572, 8593, 8600, 8604, 8620, 8628, 8642, 8643, 8645, 8658, 8667, 8672, 8674, 8676, 8679, 8682, 8689, 8692, 8695, 8700, 8703, 8709, 8713, 8717, 8725, 8726, 8731, 8732, 8735, 8737, 8739, 8771, 8774, 8775, 8782, 8783, 8785, 8790, 8797, 8803, 8808, 8810, 8814, 8815, 8822, 8825, 8828, 8832, 8833, 8837, 8839, 8846, 8851, 8853, 8854, 8861, 8862, 8873, 8875, 8878, 8892, 8896, 8902, 8912, 8913, 8918, 8925, 8930, 8949, 8957, 8960, 8965, 8970, 8971, 8973, 8977, 8980, 8989, 9004, 9005, 9008, 9010, 9013, 9014, 9016, 9020, 9023, 9024, 9034, 9037, 9041, 9042, 9043, 9045, 9050, 9053, 9057, 9059, 9062, 9072, 9074, 9077, 9079, 9080, 9091, 9099, 9102, 9112, 9113, 9117, 9123, 9130, 9133, 9134, 9139, 9143, 9148, 9150, 9186, 9187, 9191, 9192, 9197, 9201, 9203, 9209, 9210, 9214, 9218, 9233, 9234, 9236, 9237, 9247, 9251, 9256, 9259, 9273, 9274, 9275, 9276, 9277, 9281, 9285, 9287, 9294, 9298, 9299, 9301, 9316, 9322, 9325, 9329, 9333, 9334, 9339, 9349, 9373, 9379, 9383, 9384, 9386, 9391, 9395, 9396, 9400, 9411, 9412, 9420, 9431, 9433, 9455, 9456, 9457, 9465, 9466, 9468, 9472, 9474, 9481, 9495, 9499, 9500, 9505, 9511, 9512, 9520, 9522, 9525, 9541, 9545, 9547, 9550, 9566, 9571, 9572, 9578, 9585, 9587, 9594, 9597, 9606, 9615, 9623, 9625, 9626, 9631, 9637, 9638, 9641, 9648, 9654, 9676, 9679, 9680, 9686, 9697, 9701, 9702, 9703, 9705, 9708, 9709, 9711, 9717, 9721, 9729, 9737, 9740, 9749, 9750, 9760, 9762, 9764, 9766, 9768, 9770, 9772, 9773, 9778, 9781, 9784, 9788, 9804, 9805, 9808, 9838, 9841, 9842, 9846, 9848, 9850, 9851, 9852, 9863, 9864, 9866, 9877, 9879, 9882, 9883, 9886, 9887, 9891, 9894, 9900, 9901, 9905, 9906, 9911, 9916, 9923, 9928, 9930, 9936, 9947, 9948, 9952, 9964, 9965, 9967, 9980, 9995, 9998, 10002, 10004, 10007, 10022, 10030, 10038, 10040, 10041, 10042, 10052, 10057, 10066, 10072, 10073, 10085, 10107, 10109, 10114, 10121, 10122, 10130, 10132, 10137, 10145, 10146, 10151, 10155, 10163, 10164, 10165, 10166, 10179, 10181, 10187, 10189, 10195, 10197, 10200, 10201, 10212, 10216, 10221, 10234, 10235, 10238, 10240, 10246, 10248, 10250, 10258, 10272, 10274, 10294, 10297, 10301, 10303, 10306, 10307, 10310, 10315, 10323, 10325, 10340, 10341, 10343, 10344, 10345, 10357, 10372, 10382, 10386, 10394, 10395, 10402, 10414, 10418, 10436, 10447, 10454, 10455, 10456, 10457, 10467, 10471, 10472, 10475, 10478, 10479, 10483, 10484, 10488, 10496, 10498, 10501, 10505, 10519, 10522, 10524, 10528, 10536, 10538, 10556, 10559, 10561, 10563, 10566, 10576, 10579, 10584, 10586, 10595, 10599, 10600, 10606, 10610, 10616, 10619, 10620, 10629, 10639, 10646, 10647, 10661, 10662, 10665, 10670, 10673, 10688, 10691, 10693, 10694, 10699, 10710, 10712, 10716, 10717, 10718, 10726, 10728, 10745, 10756, 10757, 10759, 10764, 10768, 10771, 10773, 10777, 10778, 10784, 10788, 10793, 10797, 10801, 10804, 10809, 10812, 10824, 10833, 10837, 10838, 10839, 10846, 10854, 10865, 10866, 10867, 10868, 10870, 10871, 10882, 10887, 10888, 10889, 10895, 10899, 10904, 10905, 10909, 10915, 10919, 10926, 10940, 10950, 10953, 10958, 10961, 10970, 10977, 10979, 10982, 10983, 10985, 10986, 10989, 10990, 10993, 11004, 11015, 11019, 11024, 11029, 11038, 11043, 11044, 11051, 11057, 11059, 11060, 11063, 11066, 11081, 11082, 11097, 11098, 11099, 11104, 11106, 11117, 11121, 11127, 11129, 11132, 11135, 11137, 11156, 11158, 11163, 11168, 11177, 11186, 11192, 11200, 11201, 11209, 11211, 11213, 11224, 11228, 11230, 11240, 11247, 11256, 11264, 11271, 11273, 11277, 11285, 11292, 11296, 11299, 11303, 11305, 11307, 11316, 11319, 11320, 11323, 11325, 11329, 11333, 11342, 11355, 11361, 11378, 11380, 11383, 11384, 11389, 11406, 11414, 11415, 11443, 11444, 11445, 11446, 11452, 11454, 11455, 11456, 11466, 11467, 11473, 11474, 11476, 11479, 11485, 11488, 11492, 11495, 11509, 11513, 11517, 11519, 11523, 11527, 11529, 11532, 11555, 11556, 11557, 11569, 11578, 11585, 11590, 11594, 11595, 11597, 11599, 11601, 11610, 11622, 11630, 11632, 11633, 11636, 11644, 11645, 11653, 11669, 11673, 11674, 11687, 11689, 11701, 11706, 11719, 11726, 11731, 11733, 11740, 11746, 11757, 11760, 11761, 11762, 11765, 11779, 11782, 11784, 11785, 11786, 11787, 11794, 11799, 11801, 11815, 11829, 11834, 11846, 11849, 11854, 11857, 11860, 11862, 11863, 11864, 11873, 11878, 11880, 11889, 11895, 11896, 11897, 11903, 11919, 11925, 11926, 11930, 11932, 11935, 11938, 11943, 11944, 11948, 11949, 11951, 11954, 11960, 11965, 11971, 11974, 11978, 11979, 11984, 11989, 11991, 12001, 12007, 12015, 12017, 12019, 12029, 12033, 12034, 12037, 12042, 12050, 12063, 12070, 12072, 12075, 12083, 12084, 12091, 12094, 12097, 12100, 12106, 12108, 12110, 12112, 12115, 12118, 12123, 12128, 12135, 12140, 12141, 12148, 12178, 12186, 12191, 12196, 12205, 12210, 12213, 12215, 12225, 12227, 12233, 12240, 12247, 12253, 12256, 12269, 12270, 12277, 12279, 12298, 12300, 12302, 12306, 12309, 12313, 12314, 12316, 12323, 12333, 12337, 12342, 12345, 12348, 12350, 12355, 12358, 12374, 12375, 12382, 12391, 12392, 12393, 12403, 12404, 12406, 12415, 12418, 12419, 12424, 12429, 12432, 12435, 12440, 12441, 12446, 12448, 12450, 12453, 12455, 12456, 12462, 12463, 12466, 12467, 12468, 12469, 12470, 12475, 12482, 12489, 12493, 12499, 12501, 12511, 12512, 12515, 12524, 12525, 12535, 12536, 12541, 12546, 12548, 12554, 12561, 12563, 12564, 12565, 12566, 12572, 12578, 12579, 12583, 12588, 12596, 12600, 12615, 12620, 12622, 12624, 12626, 12630, 12633, 12635, 12639, 12641, 12642, 12647, 12650, 12655, 12657, 12662, 12663, 12672, 12675, 12680, 12683, 12694, 12697, 12703, 12704, 12707, 12718, 12720, 12723, 12724, 12732, 12734, 12745, 12746, 12751, 12752, 12756, 12760, 12766, 12774, 12777, 12779, 12781, 12782, 12783, 12786, 12789, 12792, 12802, 12804, 12808, 12817, 12819, 12825, 12834, 12855, 12856, 12866, 12870, 12871, 12885, 12886, 12888, 12895, 12896, 12897, 12902, 12908, 12909, 12916, 12919, 12921, 12927, 12931, 12943, 12945, 12953, 12960, 12961, 12962, 12967, 12973, 12976, 12977, 12979, 12985, 12986, 12988, 12989, 12993, 13002, 13007, 13010, 13013, 13015, 13026, 13030, 13031, 13035, 13042, 13047, 13048, 13049, 13057, 13061, 13062, 13070, 13080, 13083, 13085, 13086, 13093, 13094, 13097, 13098, 13101, 13108, 13116, 13125, 13134, 13137, 13139, 13142, 13155, 13159, 13168, 13175, 13180, 13181, 13186, 13187, 13188, 13195, 13199, 13206, 13207, 13213, 13214, 13215, 13217, 13228, 13230, 13231, 13232, 13244, 13261, 13266, 13270, 13278, 13279, 13280, 13286, 13289, 13290, 13303, 13304, 13308, 13318, 13326, 13330, 13338, 13344, 13349, 13359, 13365, 13366, 13370, 13371, 13388, 13394, 13402, 13404, 13420, 13422, 13429, 13431, 13441, 13443, 13451, 13467, 13470, 13484, 13495, 13496, 13498, 13507, 13509, 13510, 13522, 13523, 13524, 13525, 13535, 13536, 13540, 13543, 13548, 13551, 13553, 13554, 13556, 13560, 13568, 13569, 13577, 13581, 13589, 13592, 13593, 13596, 13602, 13606, 13610, 13613, 13622, 13624, 13627, 13628, 13629, 13631, 13634, 13639, 13640, 13643, 13644, 13645, 13651, 13656, 13664, 13679, 13705, 13707, 13708, 13713, 13714, 13722, 13724, 13740, 13751, 13755, 13763, 13772, 13773, 13776, 13777, 13784, 13786, 13791, 13795, 13798, 13801, 13803, 13811, 13815, 13817, 13832, 13837, 13843, 13851, 13852, 13861, 13867, 13871, 13874, 13877, 13879, 13887, 13889, 13901, 13903, 13912, 13914, 13915, 13917, 13928, 13936, 13945, 13947, 13950, 13953, 13954, 13956, 13961, 13964, 13975, 13977, 13980, 13981, 13982, 13984, 13987, 13992, 13993, 13996, 13997, 14003, 14004, 14016, 14018, 14021, 14030, 14031, 14043, 14046, 14047, 14048, 14049, 14057, 14060, 14066, 14086, 14090, 14091, 14092, 14105, 14111, 14116, 14118, 14123, 14124, 14132, 14133, 14138, 14139, 14144, 14149, 14151, 14156, 14176, 14182, 14184, 14189, 14202, 14203, 14204, 14214, 14221, 14229, 14238, 14239, 14241, 14245, 14247, 14259, 14272, 14275, 14285, 14291, 14295, 14296, 14302, 14303, 14310, 14312, 14323, 14324, 14327, 14331, 14333, 14335, 14344, 14349, 14363, 14365, 14369, 14371, 14375, 14376, 14386, 14390, 14393, 14394, 14397, 14402, 14410, 14411, 14434, 14440, 14443, 14449, 14453, 14458, 14466, 14468, 14479, 14481, 14482, 14499, 14513, 14514, 14516, 14517, 14524, 14531, 14544, 14553, 14555, 14560, 14564, 14566, 14567, 14574, 14588, 14589, 14597, 14600, 14603, 14607, 14610, 14626, 14629, 14631, 14632, 14636, 14639, 14643, 14645, 14650, 14653, 14655, 14659, 14666, 14676, 14678, 14681, 14683, 14695, 14696, 14709, 14710, 14711, 14729, 14733, 14737, 14742, 14749, 14750, 14752, 14759, 14761, 14779, 14789, 14791, 14794, 14797, 14800, 14807, 14811, 14813, 14816, 14820, 14827, 14829, 14831, 14835, 14836, 14844, 14856, 14858, 14860, 14863, 14878, 14879, 14880, 14882, 14886, 14893, 14895, 14898, 14902, 14910, 14914, 14917, 14944, 14945, 14949, 14951, 14955, 14957, 14958, 14962, 14963, 14964, 14978, 14987, 14989, 14995, 14997, 15003, 15004, 15007, 15011, 15020, 15024, 15029, 15034, 15035, 15036, 15037, 15042, 15053, 15059, 15061, 15063, 15068, 15069, 15074, 15096, 15098, 15099, 15102, 15103, 15119, 15126, 15128, 15133, 15134, 15135, 15139, 15144, 15145, 15148, 15150, 15154, 15156, 15159, 15161, 15165, 15167, 15169, 15171, 15179, 15183, 15192, 15199, 15204, 15218, 15220, 15222, 15230, 15232, 15233, 15234, 15235, 15247, 15253, 15255, 15264, 15266, 15271, 15273, 15274, 15281, 15283, 15284, 15285, 15289, 15296, 15298, 15299, 15301, 15303, 15304, 15307, 15319, 15321, 15324, 15328, 15332, 15337, 15341, 15344, 15349, 15357, 15358, 15359, 15361, 15368, 15369, 15372, 15373, 15391, 15393, 15398, 15406, 15417, 15418, 15420, 15434, 15435, 15439, 15446, 15451, 15459, 15461, 15465, 15471, 15472, 15488, 15490, 15502, 15507, 15514, 15517, 15518, 15526, 15542, 15549, 15555, 15558, 15559, 15565, 15566, 15578, 15579, 15580, 15585, 15590, 15592, 15596, 15598, 15612, 15614, 15615, 15619, 15620, 15621, 15632, 15634, 15637, 15643, 15652, 15659, 15664, 15668, 15670, 15672, 15674, 15675, 15684, 15697, 15698, 15711, 15721, 15722, 15723, 15729, 15731, 15733, 15735, 15743, 15744, 15747, 15749, 15752, 15754, 15755, 15764, 15769, 15771, 15774, 15779, 15781, 15784, 15786, 15802, 15804, 15812, 15814, 15819, 15820, 15823, 15826, 15831, 15834, 15835, 15837, 15848, 15850, 15851, 15853, 15855, 15857, 15862, 15865, 15874, 15878, 15881, 15887, 15893, 15897, 15904, 15910, 15914, 15925, 15926, 15927, 15929, 15938, 15939, 15946, 15948, 15957, 15960, 15961, 15962, 15963, 15964, 15965, 15971, 15977, 15979, 15983, 15989, 15994, 15996, 15998, 16012, 16018, 16019, 16020, 16029, 16035, 16041, 16073, 16077, 16080, 16081, 16082, 16084, 16087, 16093, 16097, 16098, 16112, 16115, 16121, 16122, 16136, 16138, 16143, 16147, 16151, 16156, 16157, 16159, 16161, 16175, 16182, 16183, 16185, 16186, 16198, 16199, 16206, 16213, 16215, 16224, 16226, 16227, 16230, 16231, 16236, 16247, 16252, 16261, 16265, 16267, 16269, 16278, 16283, 16286, 16300, 16302, 16303, 16308, 16313, 16327, 16328, 16330, 16335, 16338, 16345, 16346, 16348, 16361, 16364, 16365, 16367, 16377, 16379, 16387, 16392, 16402, 16407, 16416, 16419, 16421, 16427, 16429, 16432, 16435, 16436, 16440, 16457, 16461, 16479, 16482, 16483, 16496, 16501, 16512, 16519, 16524, 16526, 16527, 16535, 16537, 16541, 16543, 16551, 16553, 16555, 16566, 16567, 16569, 16577, 16581, 16591, 16595, 16598, 16603, 16605, 16608, 16615, 16627, 16632, 16637, 16639, 16643, 16656, 16658, 16660, 16664, 16668, 16669, 16679, 16693, 16702, 16705, 16706, 16715, 16716, 16717, 16727, 16728, 16737, 16738, 16739, 16743, 16752, 16758, 16763, 16772, 16773, 16778, 16780, 16781, 16790, 16791, 16792, 16799, 16803, 16805, 16813, 16816, 16818, 16820, 16826, 16835, 16839, 16842, 16846, 16847, 16858, 16864, 16872, 16878, 16879, 16881, 16896, 16897, 16899, 16904, 16907, 16908, 16909, 16910, 16911, 16912, 16917, 16929, 16930, 16933, 16952, 16960, 16964, 16965, 16966, 16988, 16991, 16993, 16997, 17009, 17014, 17017, 17018, 17019, 17020, 17021, 17031, 17035, 17043, 17054, 17059, 17060, 17064, 17067, 17069, 17073, 17078, 17079, 17080, 17086, 17087, 17092, 17096, 17103, 17105, 17110, 17115, 17120, 17122, 17134, 17142, 17143, 17150, 17152, 17153, 17154, 17156, 17157, 17161, 17167, 17168, 17171, 17172, 17181, 17184, 17188, 17191, 17192, 17193, 17199, 17203, 17211, 17214, 17229, 17235, 17240, 17243, 17247, 17251, 17252, 17254, 17269, 17270, 17278, 17280, 17289, 17291, 17293, 17299, 17300, 17301, 17308, 17311, 17316, 17317, 17322, 17328, 17332, 17333, 17339, 17349, 17350, 17355, 17359, 17363, 17364, 17370, 17374, 17375, 17390, 17409, 17414, 17424, 17425, 17428, 17438, 17439, 17443, 17456, 17457, 17458, 17461, 17463, 17465, 17469, 17477, 17483, 17484, 17485, 17486, 17487, 17495, 17502, 17504, 17510, 17518, 17520, 17525, 17533, 17547, 17548, 17573, 17574, 17579, 17584, 17590, 17591, 17594, 17596, 17598, 17599, 17608, 17616, 17625, 17627, 17634, 17637, 17639, 17642, 17647, 17650, 17653, 17658, 17659, 17664, 17674, 17677, 17681, 17690, 17692, 17703, 17706, 17720, 17721, 17722, 17736, 17741, 17749, 17752, 17759, 17772, 17784, 17788, 17789, 17794, 17798, 17800, 17802, 17807, 17817, 17821, 17827, 17830, 17832, 17836, 17837, 17843, 17845, 17846, 17848, 17865, 17870, 17880, 17895, 17900, 17906, 17909, 17919, 17927, 17929, 17932, 17936, 17937, 17938, 17939, 17941, 17942, 17952, 17957, 17960, 17962, 17965, 17980, 17988, 17996, 18004, 18006, 18007, 18009, 18013, 18017, 18020, 18021, 18029, 18034, 18036, 18039, 18041, 18043, 18051, 18052, 18053, 18062, 18067, 18068, 18069, 18084, 18088, 18097, 18107, 18111, 18127, 18128, 18131, 18134, 18141, 18147, 18162, 18169, 18170, 18174, 18176, 18177, 18179, 18180, 18181, 18192, 18194, 18204, 18220, 18230, 18233, 18234, 18237, 18251, 18256, 18264, 18267, 18268, 18277, 18279, 18296, 18298, 18299, 18317, 18319, 18320, 18330, 18331, 18333, 18334, 18335, 18343, 18345, 18349, 18350, 18362, 18364, 18366, 18368, 18372, 18376, 18390, 18391, 18393, 18394, 18395, 18403, 18404, 18405, 18409, 18418, 18419, 18421, 18423, 18437, 18441, 18443, 18447, 18462, 18469, 18470, 18477, 18483, 18485, 18487, 18488, 18495, 18505, 18508, 18513, 18533, 18539, 18540, 18546, 18550, 18554, 18555, 18557, 18562, 18567, 18569, 18575, 18589, 18595, 18599, 18603, 18607, 18608, 18627, 18632, 18635, 18636, 18639, 18653, 18655, 18658, 18666, 18683, 18685, 18694, 18696, 18699, 18701, 18702, 18703, 18705, 18708, 18724, 18726, 18732, 18734, 18742, 18750, 18754, 18756, 18758, 18763, 18765, 18771, 18772, 18777, 18778, 18781, 18784, 18791, 18794, 18825, 18833, 18838, 18841, 18844, 18851, 18852, 18854, 18857, 18861, 18862, 18863, 18868, 18876, 18880, 18882, 18886, 18890, 18892, 18903, 18906, 18908, 18923, 18928, 18929, 18931, 18939, 18941, 18943, 18945, 18950, 18951, 18952, 18962, 18974, 18977, 18986, 18990, 18992, 19006, 19026, 19031, 19045, 19051, 19052, 19053, 19059, 19061, 19063, 19068, 19076, 19077, 19088, 19090, 19095, 19096, 19107, 19115, 19116, 19117, 19119, 19125, 19131, 19135, 19141, 19143, 19145, 19146, 19150, 19159, 19162, 19170, 19173, 19175, 19190, 19192, 19193, 19196, 19215, 19226, 19227, 19233, 19242, 19243, 19245, 19250, 19254, 19258, 19261, 19263, 19285, 19296, 19300, 19325, 19326, 19329, 19333, 19334, 19336, 19338, 19339, 19341, 19349, 19360, 19365, 19366, 19370, 19376, 19377, 19382, 19387, 19390, 19403, 19409, 19415, 19419, 19420, 19436, 19439, 19442, 19447, 19449, 19463, 19479, 19481, 19482, 19490, 19493, 19497, 19498, 19510, 19512, 19522, 19524, 19530, 19538, 19540, 19542, 19543, 19547, 19550, 19560, 19561, 19563, 19566, 19574, 19575, 19578, 19582, 19588, 19601, 19606, 19609, 19610, 19615, 19617, 19621, 19636, 19638, 19641, 19650, 19654, 19662, 19674, 19682, 19686, 19692, 19693, 19697, 19707, 19713, 19714, 19726, 19752, 19754, 19756, 19760, 19761, 19762, 19763, 19764, 19765, 19766, 19768, 19770, 19774, 19779, 19781, 19791, 19803, 19805, 19808, 19813, 19814, 19820, 19827, 19830, 19831, 19834, 19836, 19840, 19846, 19852, 19853, 19862, 19868, 19871, 19880, 19884, 19889, 19896, 19902, 19909, 19910, 19911, 19923, 19931, 19935, 19936, 19938, 19942, 19944, 19952, 19954, 19956, 19958, 19966, 19971, 19973, 19980, 19984, 19985, 19987, 19988, 19992, 20003, 20005, 20008, 20013, 20014, 20019, 20024, 20036, 20042, 20045, 20049, 20050, 20063, 20065, 20072, 20074, 20089, 20093, 20099, 20102, 20104, 20108, 20111, 20115, 20118, 20119, 20121, 20138, 20139, 20144, 20152, 20154, 20163, 20167, 20173, 20178, 20197, 20198, 20199, 20202, 20205, 20206, 20207, 20220, 20236, 20239, 20243, 20250, 20262, 20264, 20268, 20276, 20288, 20289, 20296, 20301, 20303, 20315, 20317, 20318, 20323, 20325, 20334, 20335, 20336, 20348, 20356, 20366, 20368, 20382, 20384, 20385, 20386, 20389, 20390, 20393, 20400, 20405, 20407, 20410, 20417, 20418, 20422, 20423, 20425, 20429, 20431, 20434, 20436, 20437, 20442, 20444, 20445, 20455, 20465, 20475, 20476, 20481, 20488, 20492, 20499, 20504, 20507, 20511, 20513, 20528, 20530, 20536, 20544, 20554, 20557, 20561, 20580, 20582, 20598, 20599, 20612, 20620, 20630, 20633, 20636, 20639, 20641, 20643, 20644, 20647, 20653, 20660, 20661, 20666, 20674, 20675, 20676, 20679, 20680, 20684, 20687, 20694, 20705, 20706, 20714, 20718, 20720, 20721, 20728, 20733, 20736, 20738, 20748, 20751, 20762, 20763, 20767, 20778, 20789, 20794, 20804, 20808, 20813, 20820, 20822, 20825, 20828, 20830, 20833, 20836, 20839, 20840, 20844, 20851, 20859, 20860, 20861, 20863, 20880, 20903, 20905, 20908, 20918, 20921, 20922, 20932, 20934, 20946, 20947, 20952, 20955, 20958, 20959, 20972, 20979, 20987, 20993, 20995, 20999, 21009, 21014, 21015, 21016, 21018, 21022, 21023, 21024, 21027, 21029, 21030, 21034, 21039, 21042, 21046, 21055, 21060, 21064, 21069, 21071, 21073, 21078, 21083, 21085, 21087, 21088, 21089, 21090, 21093, 21101, 21112, 21114, 21118, 21124, 21126, 21131, 21133, 21138, 21149, 21152, 21153, 21156, 21163, 21179, 21181, 21183, 21197, 21198, 21199, 21209, 21214, 21216, 21220, 21222, 21223, 21224, 21229, 21235, 21239, 21240, 21252, 21259, 21260, 21263, 21269, 21273, 21276, 21280, 21285, 21290, 21303, 21306, 21308, 21310, 21316, 21325, 21341, 21343, 21347, 21355, 21356, 21361, 21365, 21367, 21375, 21387, 21393, 21401, 21407, 21425, 21426, 21427, 21436, 21438, 21447, 21448, 21451, 21456, 21460, 21470, 21471, 21472, 21478, 21481, 21484, 21491, 21497, 21501, 21506, 21515, 21518, 21525, 21530, 21541, 21544, 21545, 21549, 21551, 21560, 21565, 21573, 21586, 21590, 21594, 21602, 21604, 21618, 21619, 21623, 21629, 21630, 21635, 21639, 21647, 21648, 21649, 21663, 21664, 21667, 21668, 21671, 21673, 21678, 21682, 21689, 21695, 21699, 21702, 21706, 21707, 21729, 21730, 21734, 21735, 21736, 21745, 21748, 21750, 21752, 21764, 21766, 21769, 21778, 21786, 21787, 21791, 21794, 21797, 21817, 21828, 21831, 21844, 21845, 21848, 21849, 21850, 21852, 21879, 21882, 21883, 21884, 21886, 21889, 21894, 21900, 21905, 21909, 21910, 21911, 21914, 21920, 21923, 21925, 21927, 21937, 21941, 21945, 21946, 21948, 21952, 21959, 21961, 21989, 21996, 22001, 22002, 22004, 22008, 22010, 22013, 22023, 22025, 22034, 22040, 22053, 22060, 22071, 22083, 22089, 22102, 22105, 22118, 22131, 22132, 22133, 22136, 22142, 22144, 22145, 22147, 22151, 22163, 22167, 22174, 22175, 22182, 22183, 22184, 22187, 22188, 22191, 22192, 22193, 22208, 22209, 22210, 22212, 22213, 22215, 22229, 22239, 22241, 22258, 22270, 22272, 22278, 22280, 22283, 22285, 22291, 22301, 22313, 22315, 22316, 22317, 22319, 22328, 22329, 22338, 22341, 22342, 22343, 22349, 22351, 22356, 22360, 22369, 22370, 22374, 22383, 22387, 22390, 22395, 22398, 22406, 22407, 22412, 22415, 22422, 22425, 22437, 22446, 22452, 22458, 22461, 22463, 22466, 22475, 22487, 22488, 22489, 22490, 22495, 22498, 22503, 22509, 22519, 22531, 22534, 22538, 22540, 22551, 22554, 22556, 22557, 22559, 22561, 22563, 22573, 22579, 22581, 22591, 22597, 22599, 22600, 22601, 22616, 22617, 22623, 22628, 22629, 22634, 22643, 22644, 22649, 22651, 22654, 22662, 22663, 22664, 22667, 22671, 22682, 22691, 22695, 22696, 22699, 22700, 22702, 22704, 22716, 22717, 22721, 22723, 22725, 22728, 22731, 22743, 22748, 22751, 22753, 22756, 22776, 22783, 22787, 22794, 22796, 22799, 22800, 22809, 22819, 22820, 22824, 22825, 22831, 22843, 22846, 22848, 22849, 22860, 22864, 22867, 22872, 22874, 22875, 22877, 22888, 22891, 22893, 22894, 22910, 22912, 22913, 22926, 22932, 22943, 22952, 22957, 22958, 22959, 22974, 22976, 22977, 22983, 22986, 22992, 22996, 22998, 23006, 23014, 23015, 23017, 23034, 23037, 23042, 23043, 23053, 23055, 23057, 23079, 23081, 23096, 23097, 23108, 23113, 23114, 23116, 23117, 23119, 23120, 23126, 23127, 23128, 23129, 23141, 23143, 23147, 23160, 23162, 23163, 23171, 23176, 23177, 23178, 23183, 23185, 23188, 23198, 23199, 23218, 23219, 23231, 23234, 23235, 23237, 23238, 23239, 23240, 23242, 23245, 23247, 23257, 23258, 23288, 23290, 23291, 23294, 23295, 23296, 23304, 23306, 23307, 23308, 23313, 23317, 23318, 23319, 23329, 23331, 23334, 23335, 23343, 23346, 23355, 23363, 23365, 23367, 23375, 23379, 23402, 23410, 23412, 23420, 23423, 23425, 23429, 23431, 23438, 23440, 23442, 23444, 23447, 23450, 23451, 23453, 23464, 23466, 23467, 23468, 23475, 23479, 23484, 23485, 23506, 23509, 23515, 23525, 23526, 23533, 23548, 23554, 23556, 23557, 23564, 23569, 23577, 23579, 23581, 23585, 23588, 23589, 23595, 23597, 23601, 23610, 23613, 23616, 23624, 23625, 23627, 23629, 23630, 23634, 23636, 23642, 23643, 23644, 23657, 23659, 23660, 23670, 23675, 23676, 23685, 23686, 23687, 23689, 23691, 23693, 23695, 23700, 23703, 23704, 23709, 23710, 23721, 23722, 23726, 23734, 23735, 23739, 23745, 23768, 23774, 23779, 23781, 23783, 23784, 23788, 23790, 23791, 23793, 23805, 23814, 23819, 23832, 23836, 23838, 23844, 23847, 23851, 23865, 23866, 23891, 23893, 23895, 23896, 23897, 23898, 23911, 23914, 23922, 23927, 23936, 23938, 23944, 23953, 23956, 23961, 23963, 23967, 23968, 23972, 23974, 23988, 23989, 23990, 23997, 23999, 24001, 24010, 24013, 24019, 24024, 24030, 24032, 24040, 24041, 24048, 24051, 24057, 24059, 24077, 24078, 24080, 24086, 24088, 24092, 24106, 24116, 24117, 24118, 24126, 24127, 24139, 24141, 24144, 24147, 24148, 24150, 24156, 24159, 24163, 24164, 24165, 24169, 24171, 24173, 24175, 24182, 24183, 24188, 24191, 24197, 24198, 24203, 24205, 24207, 24212, 24214, 24216, 24218, 24222, 24224, 24225, 24226, 24237, 24239, 24242, 24244, 24252, 24255, 24264, 24266, 24267, 24273, 24279, 24285, 24287, 24289, 24290, 24309, 24311, 24313, 24316, 24324, 24332, 24333, 24335, 24336, 24337, 24339, 24345, 24347, 24350, 24352, 24362, 24366, 24367, 24370, 24379, 24380, 24384, 24388, 24389, 24390, 24391, 24393, 24403, 24405, 24417, 24419, 24421, 24426, 24429, 24431, 24436, 24439, 24448, 24457, 24467, 24477, 24478, 24480, 24484, 24485, 24492, 24493, 24509, 24510, 24523, 24524, 24525, 24529, 24532, 24536, 24538, 24547, 24555, 24557, 24559, 24569, 24571, 24580, 24592, 24595, 24596, 24600, 24602, 24611, 24619, 24622, 24626, 24632, 24634, 24637, 24663, 24665, 24672, 24677, 24679, 24693, 24694, 24695, 24708, 24709, 24712, 24714, 24722, 24725, 24727, 24746, 24750, 24757, 24765, 24768, 24771, 24773, 24776, 24781, 24782, 24783, 24786, 24791, 24800, 24801, 24804, 24812, 24824, 24827, 24839, 24842, 24844, 24846, 24856, 24861, 24866, 24867, 24870, 24878, 24880, 24894, 24895, 24898, 24906, 24917, 24920, 24932, 24937, 24941, 24946, 24963, 24964, 24968, 24969, 24970, 24975, 24976, 24977, 24988, 24991, 24992, 24994, 24999, 25019, 25022, 25027, 25031, 25042, 25043, 25044, 25049, 25054, 25059, 25065, 25072, 25075, 25078, 25081, 25084, 25086, 25093, 25101, 25107, 25108, 25113, 25114, 25118, 25122, 25123, 25124, 25126, 25127, 25132, 25134, 25139, 25140, 25144, 25145, 25155, 25165, 25168, 25169, 25171, 25173, 25184, 25199, 25201, 25202, 25210, 25212, 25219, 25222, 25226, 25229, 25230, 25234, 25237, 25241, 25242, 25249, 25257, 25263, 25264, 25280, 25289, 25292, 25296, 25299, 25302, 25315, 25322, 25340, 25345, 25351, 25352, 25354, 25359, 25367, 25371, 25373, 25385, 25388, 25390, 25394, 25400, 25406, 25419, 25421, 25430, 25432, 25442, 25455, 25462, 25464, 25466, 25469, 25470, 25476, 25481, 25482, 25484, 25507, 25519, 25524, 25527, 25530, 25533, 25535, 25540, 25542, 25544, 25548, 25550, 25553, 25554, 25560, 25574, 25580, 25583, 25585, 25590, 25593, 25601, 25606, 25612, 25614, 25619, 25632, 25635, 25638, 25640, 25657, 25670, 25672, 25680, 25694, 25695, 25697, 25708, 25709, 25716, 25721, 25731, 25733, 25738, 25741, 25742, 25752, 25768, 25769, 25778, 25784, 25785, 25789, 25791, 25797, 25808, 25813, 25816, 25817, 25832, 25842, 25846, 25848, 25876, 25880, 25881, 25895, 25897, 25898, 25899, 25905, 25910, 25921, 25922, 25923, 25925, 25938, 25942, 25947, 25957, 25961, 25966, 25970, 25976, 25982, 25987, 25988, 25999, 26009, 26010, 26013, 26014, 26016, 26021, 26026, 26028, 26029, 26031, 26037, 26039, 26047, 26051, 26053, 26056, 26057, 26059, 26073, 26079, 26084, 26086, 26088, 26089, 26090, 26091, 26094, 26095, 26103, 26108, 26112, 26118, 26119, 26121, 26136, 26143, 26146, 26147, 26155, 26164, 26166, 26187, 26192, 26199, 26204, 26212, 26215, 26225, 26229, 26236, 26239, 26241, 26244, 26256, 26260, 26268, 26275, 26283, 26288, 26291, 26297, 26301, 26303, 26313, 26326, 26327, 26335, 26341, 26345, 26351, 26354, 26355, 26358, 26361, 26362, 26363, 26371, 26378, 26379, 26384, 26391, 26408, 26411, 26425, 26429, 26430, 26434, 26441, 26448, 26451, 26458, 26471, 26473, 26478, 26484, 26486, 26487, 26488, 26504, 26505, 26509, 26523, 26531, 26536, 26540, 26541, 26554, 26556, 26557, 26558, 26561, 26565, 26573, 26582, 26592, 26595, 26601, 26602, 26604, 26605, 26610, 26614, 26616, 26617, 26618, 26638, 26643, 26646, 26650, 26652, 26653, 26659, 26663, 26664, 26670, 26671, 26674, 26680, 26687, 26689, 26701, 26702, 26704, 26717, 26724, 26731, 26732, 26735, 26746, 26748, 26753, 26762, 26765, 26766, 26767, 26773, 26774, 26777, 26779, 26783, 26786, 26791, 26800, 26801, 26807, 26809, 26810, 26820, 26821, 26822, 26832, 26833, 26834, 26838, 26839, 26853, 26857, 26861, 26866, 26868, 26870, 26875, 26881, 26886, 26895, 26896, 26916, 26932, 26933, 26937, 26952, 26965, 26969, 26974, 26978, 26979, 26980, 26981, 26985, 26992, 26995, 26997, 26999, 27003, 27010, 27013, 27039, 27041, 27048, 27050, 27058, 27059, 27071, 27075, 27084, 27093, 27094, 27110, 27113, 27118, 27125, 27126, 27127, 27130, 27132, 27137, 27141, 27144, 27145, 27152, 27174, 27181, 27185, 27188, 27190, 27191, 27199, 27201, 27202, 27205, 27207, 27208, 27210, 27211, 27223, 27225, 27236, 27239, 27245, 27248, 27254, 27257, 27262, 27263, 27269, 27275, 27278, 27279, 27286, 27292, 27294, 27295, 27297, 27303, 27309, 27311, 27314, 27317, 27320, 27329, 27330, 27363, 27374, 27380, 27384, 27386, 27388, 27389, 27390, 27391, 27392, 27395, 27397, 27407, 27422, 27424, 27430, 27443, 27444, 27447, 27450, 27453, 27460, 27461, 27462, 27466, 27468, 27469, 27477, 27478, 27485, 27490, 27495, 27520, 27524, 27526, 27535, 27538, 27539, 27541, 27542, 27560, 27562, 27570, 27572, 27579, 27580, 27581, 27589, 27595, 27598, 27599, 27601, 27612, 27622, 27627, 27636, 27637, 27645, 27647, 27650, 27654, 27663, 27666, 27667, 27668, 27671, 27683, 27690, 27693, 27701, 27703, 27709, 27713, 27725, 27727, 27730, 27732, 27733, 27736, 27749, 27753, 27756, 27757, 27760, 27761, 27762, 27763, 27775, 27776, 27781, 27785, 27796, 27811, 27815, 27816, 27830, 27835, 27841, 27850, 27855, 27857, 27859, 27861, 27867, 27869, 27871, 27873, 27874, 27887, 27895, 27909, 27918, 27925, 27927, 27931, 27940, 27953, 27955, 27957, 27969, 27975, 27981, 27984, 27986, 27996, 28002, 28007, 28026, 28028, 28032, 28036, 28037, 28039, 28045, 28046, 28047, 28051, 28052, 28053, 28055, 28068, 28078, 28087, 28089, 28090, 28100, 28102, 28105, 28115, 28120, 28133, 28134, 28167, 28175, 28179, 28183, 28190, 28196, 28202, 28217, 28220, 28225, 28239, 28244, 28250, 28253, 28257, 28261, 28265, 28273, 28275, 28278, 28279, 28287, 28297, 28304, 28310, 28311, 28312, 28327, 28331, 28334, 28336, 28341, 28343, 28356, 28359, 28365, 28368, 28369, 28375, 28380, 28386, 28389, 28392, 28393, 28394, 28397, 28407, 28420, 28421, 28428, 28435, 28439, 28441, 28442, 28449, 28454, 28458, 28464, 28466, 28473, 28475, 28481, 28483, 28495, 28496, 28503, 28520, 28521, 28526, 28528, 28529, 28532, 28548, 28549, 28560, 28562, 28564, 28567, 28571, 28575, 28578, 28579, 28581, 28584, 28586, 28590, 28592, 28600, 28601, 28612, 28613, 28614, 28615, 28621, 28622, 28624, 28629, 28632, 28645, 28647, 28649, 28652, 28655, 28659, 28663, 28675, 28676, 28678, 28682, 28689, 28690, 28694, 28696, 28707, 28708, 28709, 28710, 28714, 28716, 28730, 28733, 28740, 28755, 28770, 28771, 28773, 28777, 28779, 28780, 28784, 28792, 28800, 28801, 28806, 28807, 28809, 28822, 28826, 28827, 28835, 28838, 28843, 28846, 28847, 28851, 28867, 28877, 28878, 28880, 28883, 28886, 28888, 28897, 28910, 28922, 28923, 28927, 28930, 28933, 28941, 28942, 28944, 28949, 28956, 28967, 28968, 28969, 28971, 28972, 28986, 28987, 28990, 29004, 29017, 29027, 29029, 29044, 29045, 29046, 29053, 29056, 29057, 29060, 29064, 29068, 29070, 29071, 29072, 29083, 29085, 29090, 29096, 29102, 29104, 29106, 29107, 29115, 29116, 29129, 29130, 29132, 29136, 29140, 29143, 29145, 29148, 29151, 29153, 29158, 29161, 29163, 29173, 29174, 29176, 29181, 29185, 29189, 29195, 29197, 29201, 29203, 29209, 29212, 29213, 29214, 29218, 29224, 29230, 29240, 29245, 29253, 29255, 29256, 29260, 29267, 29268, 29270, 29271, 29272, 29280, 29282, 29289, 29291, 29293, 29295, 29301, 29315, 29318, 29322, 29341, 29343, 29348, 29349, 29351, 29355, 29365, 29373, 29381, 29382, 29392, 29394, 29398, 29411, 29412, 29425, 29427, 29430, 29431, 29433, 29438, 29448, 29449, 29457, 29459, 29462, 29465, 29467, 29468, 29472, 29477, 29486, 29489, 29496, 29500, 29502, 29509, 29513, 29514, 29516, 29527, 29532, 29534, 29540, 29548, 29551, 29559, 29568, 29571, 29574, 29575, 29578, 29582, 29588, 29592, 29596, 29598, 29599, 29607, 29612, 29627, 29628, 29629, 29639, 29642, 29643, 29652, 29655, 29667, 29670, 29675, 29681, 29683, 29696, 29705, 29712, 29713, 29721, 29724, 29727, 29744, 29745, 29747, 29759, 29761, 29779, 29781, 29782, 29787, 29788, 29789, 29795, 29801, 29807, 29812, 29816, 29821, 29826, 29845, 29851, 29865, 29867, 29869, 29870, 29882, 29896, 29902, 29907, 29920, 29930, 29940, 29941, 29945, 29947, 29955, 29965, 29967, 29970, 29973, 29982, 29988, 29989, 29994, 30003, 30008, 30013, 30025, 30045, 30047, 30048, 30050, 30055, 30063, 30065, 30075, 30079, 30084, 30091, 30092, 30093, 30119, 30126, 30131, 30135, 30136, 30141, 30146, 30152, 30160, 30164, 30167, 30170, 30172, 30178, 30184, 30192, 30200, 30208, 30215, 30217, 30220, 30225, 30227, 30230, 30236, 30238, 30239, 30241, 30248, 30252, 30253, 30255, 30272, 30273, 30276, 30279, 30293, 30298, 30300, 30304, 30315, 30316, 30318, 30320, 30321, 30325, 30330, 30332, 30337, 30341, 30350, 30351, 30352, 30364, 30372, 30373, 30375, 30378, 30379, 30381, 30390, 30391, 30397, 30399, 30401, 30412, 30415, 30418, 30419, 30421, 30435, 30443, 30449, 30462, 30466, 30469, 30477, 30478, 30482, 30496, 30500, 30512, 30514, 30516, 30519, 30535, 30537, 30546, 30547, 30548, 30560, 30563, 30564, 30565, 30566, 30567, 30578, 30580, 30594, 30600, 30601, 30604, 30605, 30617, 30618, 30620, 30623, 30624, 30627, 30651, 30652, 30658, 30676, 30678, 30681, 30685, 30687, 30698, 30701, 30703, 30706, 30720, 30726, 30740, 30741, 30753, 30758, 30765, 30766, 30768, 30774, 30775, 30778, 30781, 30787, 30792, 30795, 30800, 30801, 30806, 30807, 30808, 30809, 30810, 30811, 30823, 30824, 30825, 30827, 30828, 30829, 30831, 30835, 30837, 30853, 30856, 30857, 30858, 30861, 30864, 30866, 30868, 30877, 30881, 30882, 30891, 30892, 30896, 30897, 30899, 30904, 30905, 30909, 30915, 30921, 30934, 30961, 30963, 30964, 30965, 30975, 30979, 30980, 30981, 30983, 30987, 30991, 30993, 30997, 30998, 31000, 31003, 31009, 31014, 31016, 31019, 31026, 31028, 31030, 31031, 31043, 31045, 31053, 31057, 31064, 31081, 31090, 31096, 31097, 31100, 31103, 31106, 31108, 31110, 31115, 31117, 31119, 31130, 31132, 31137, 31138, 31150, 31157, 31162, 31164, 31168, 31176, 31178, 31187, 31189, 31194, 31199, 31208, 31210, 31212, 31216, 31217, 31222, 31225, 31231, 31241, 31245, 31258, 31261, 31265, 31267, 31274, 31275, 31287, 31294, 31301, 31302, 31306, 31309, 31316, 31346, 31349, 31350, 31351, 31352, 31360, 31363, 31365, 31374, 31382, 31383, 31389, 31393, 31396, 31402, 31412, 31415, 31416, 31436, 31438, 31441, 31460, 31463, 31469, 31472, 31483, 31487, 31489, 31494, 31503, 31507, 31509, 31516, 31517, 31518, 31525, 31541, 31549, 31550, 31554, 31562, 31566, 31579, 31582, 31585, 31587, 31594, 31596, 31600, 31601, 31603, 31617, 31618, 31633, 31634, 31635, 31641, 31652, 31656, 31665, 31669, 31673, 31675, 31677, 31678, 31685, 31687, 31696, 31708, 31711, 31713, 31717, 31720, 31725, 31727, 31728, 31730, 31732, 31736, 31743, 31751, 31756, 31773, 31774, 31775, 31782, 31784, 31786, 31792, 31795, 31798, 31799, 31800, 31815, 31817, 31820, 31832, 31834, 31835, 31849, 31850, 31856, 31859, 31860, 31866, 31867, 31872, 31876, 31880, 31881, 31882, 31886, 31890, 31897, 31898, 31901, 31903, 31905, 31906, 31907, 31911, 31913, 31914, 31927, 31930, 31939, 31944, 31954, 31972, 31976, 31981, 31989, 31990, 31991, 31993, 31999, 32005, 32007, 32010, 32014, 32016, 32018, 32031, 32032, 32048, 32057, 32059, 32062, 32070, 32072, 32083, 32090, 32094, 32099, 32104, 32105, 32106, 32130, 32138, 32139, 32144, 32145, 32155, 32162, 32167, 32168, 32169, 32170, 32174, 32179, 32180, 32185, 32187, 32193, 32194, 32195, 32202, 32210, 32213, 32214, 32218, 32219, 32220, 32229, 32230, 32233, 32241, 32242, 32245, 32248, 32250, 32256, 32261, 32266, 32268, 32269, 32270, 32271, 32274, 32276, 32280, 32285, 32294, 32297, 32303, 32312, 32325, 32329, 32331, 32332, 32343, 32345, 32349, 32351, 32356, 32364, 32367, 32369, 32377, 32378, 32381, 32384, 32394, 32397, 32401, 32415, 32419, 32424, 32430, 32440, 32452, 32462, 32465, 32474, 32479, 32482, 32499, 32500, 32501, 32502, 32504, 32519, 32522, 32531, 32535, 32536, 32538, 32544, 32550, 32563, 32569, 32570, 32571, 32572, 32573, 32587, 32593, 32594, 32599, 32610, 32612, 32625, 32632, 32639, 32645, 32651, 32652, 32656, 32657, 32658, 32667, 32669, 32671, 32672, 32674, 32676, 32677, 32680, 32682, 32692, 32693, 32697, 32699, 32707, 32708, 32709, 32724, 32725, 32726, 32728, 32732, 32737, 32738, 32748, 32749, 32759, 32760, 32762, 32778, 32786, 32795, 32800, 32801, 32802, 32804, 32807, 32811, 32813, 32821, 32829, 32830, 32836, 32842, 32844, 32850, 32861, 32864, 32865, 32877, 32881, 32883, 32884, 32902, 32904, 32905, 32909, 32917, 32920, 32931, 32932, 32933, 32937, 32942, 32971, 32975, 32977, 32979, 32988, 32991, 32992, 33000, 33003, 33012, 33013, 33019, 33020, 33022, 33027, 33033, 33036, 33046, 33049, 33051, 33053, 33057, 33073, 33075, 33077, 33087, 33091, 33094, 33101, 33103, 33104, 33107, 33109, 33115, 33117, 33118, 33120, 33125, 33126, 33128, 33129, 33132, 33141, 33146, 33150, 33156, 33157, 33161, 33162, 33166, 33170, 33174, 33177, 33182, 33190, 33192, 33199, 33209, 33211, 33212, 33214, 33224, 33232, 33236, 33242, 33243, 33244, 33248, 33250, 33255, 33262, 33263, 33264, 33265, 33266, 33268, 33273, 33288, 33291, 33296, 33298, 33302, 33303, 33304, 33307, 33309, 33311, 33312, 33315, 33317, 33326, 33327, 33328, 33329, 33330, 33333, 33334, 33336, 33344, 33352, 33354, 33367, 33377, 33379, 33393, 33395, 33401, 33405, 33406, 33409, 33414, 33417, 33418, 33422, 33424, 33428, 33439, 33445, 33451, 33455, 33460, 33468, 33469, 33470, 33471, 33472, 33473, 33476, 33479, 33482, 33484, 33490, 33491, 33493, 33502, 33506, 33507, 33508, 33509, 33520, 33522, 33523, 33526, 33528, 33533, 33535, 33536, 33544, 33545, 33546, 33550, 33556, 33559, 33568, 33573, 33580, 33582, 33584, 33589, 33592, 33606, 33609, 33619, 33621, 33624, 33627, 33634, 33645, 33652, 33653, 33658, 33664, 33682, 33687, 33689, 33693, 33694, 33699, 33701, 33703, 33711, 33713, 33727, 33730, 33742, 33745, 33754, 33755, 33759, 33762, 33763, 33765, 33766, 33767, 33770, 33777, 33784, 33797, 33800, 33803, 33814, 33815, 33817, 33822, 33830, 33831, 33836, 33838, 33843, 33844, 33852, 33857, 33874, 33881, 33893, 33895, 33899, 33905, 33909, 33914, 33915, 33918, 33922, 33928, 33932, 33939, 33940, 33942, 33944, 33949, 33957, 33959, 33964, 33966, 33973, 33976, 33982, 33988, 34003, 34005, 34006, 34007, 34008, 34014, 34019, 34021, 34026, 34041, 34047, 34061, 34068, 34081, 34083, 34085, 34087, 34098, 34099, 34103, 34105, 34107, 34109, 34113, 34120, 34121, 34124, 34131, 34136, 34141, 34142, 34147, 34149, 34155, 34179, 34180, 34181, 34187, 34189, 34192, 34193, 34201, 34210, 34216, 34224, 34225, 34226, 34234, 34237, 34243, 34250, 34252, 34263, 34264, 34277, 34282, 34284, 34285, 34287, 34297, 34299, 34302, 34305, 34307, 34308, 34313, 34317, 34319, 34321, 34332, 34334, 34336, 34344, 34349, 34360, 34381, 34385, 34386, 34390, 34391, 34398, 34402, 34405, 34406, 34410, 34412, 34414, 34417, 34421, 34425, 34427, 34436, 34437, 34442, 34445, 34451, 34461, 34464, 34469, 34470, 34471, 34477, 34486, 34499, 34507, 34509, 34512, 34519, 34525, 34537, 34538, 34547, 34553, 34555, 34563, 34570, 34572, 34582, 34584, 34586, 34590, 34596, 34599, 34600, 34602, 34609, 34611, 34612, 34613, 34617, 34620, 34627, 34630, 34637, 34638, 34641, 34647, 34652, 34658, 34665, 34669, 34671, 34678, 34680, 34681, 34693, 34694, 34710, 34712, 34723, 34725, 34733, 34736, 34737, 34741, 34752, 34753, 34754, 34765, 34771, 34774, 34775, 34777, 34783, 34787, 34799, 34825, 34826, 34828, 34837, 34840, 34841, 34843, 34847, 34853, 34856, 34860, 34861, 34874, 34880, 34885, 34887, 34889, 34890, 34898, 34907, 34923, 34924, 34932, 34934, 34943, 34944, 34959, 34961, 34962, 34963, 34967, 34968, 34976, 34994, 35006, 35008, 35014, 35021, 35022, 35027, 35032, 35041, 35047, 35050, 35061, 35063, 35068, 35070, 35075, 35078, 35080, 35100, 35105, 35112, 35118, 35130, 35146, 35147, 35153, 35154, 35159, 35162, 35170, 35173, 35179, 35180, 35183, 35187, 35190, 35203, 35215, 35226, 35232, 35236, 35238, 35239, 35244, 35245, 35246, 35259, 35262, 35264, 35273, 35284, 35286, 35292, 35295, 35296, 35300, 35307, 35311, 35312, 35315, 35316, 35320, 35333, 35340, 35341, 35342, 35360, 35372, 35373, 35379, 35393, 35395, 35397, 35409, 35410, 35412, 35433, 35434, 35435, 35437, 35446, 35460, 35464, 35465, 35470, 35471, 35472, 35473, 35479, 35481, 35484, 35489, 35500, 35504, 35507, 35509, 35510, 35511, 35532, 35542, 35548, 35556, 35566, 35568, 35569, 35571, 35572, 35588, 35590, 35598, 35608, 35628, 35633, 35638, 35640, 35658, 35660, 35666, 35675, 35679, 35685, 35692, 35693, 35697, 35706, 35711, 35714, 35718, 35719, 35720, 35740, 35744, 35745, 35755, 35757, 35758, 35760, 35769, 35770, 35772, 35775, 35777, 35778, 35779, 35792, 35795, 35796, 35797, 35801, 35810, 35811, 35812, 35816, 35831, 35844, 35845, 35847, 35850, 35854, 35858, 35866, 35868, 35870, 35880, 35894, 35896, 35903, 35904, 35906, 35908, 35911, 35913, 35914, 35917, 35923, 35926, 35931, 35933, 35935, 35936, 35937, 35949, 35950, 35961, 35976, 35988, 35989, 36000, 36006, 36008, 36014, 36016, 36021, 36024, 36039, 36040, 36044, 36049, 36057, 36063, 36066, 36068, 36071, 36078, 36079, 36081, 36089, 36094, 36104, 36110, 36121, 36122, 36123, 36125, 36134, 36135, 36139, 36150, 36152, 36162, 36169, 36170, 36173, 36177, 36182, 36183, 36193, 36195, 36196, 36201, 36202, 36207, 36210, 36219, 36220, 36242, 36243, 36248, 36250, 36252, 36258, 36263, 36264, 36268, 36279, 36290, 36305, 36314, 36319, 36324, 36332, 36333, 36346, 36347, 36357, 36359, 36369, 36370, 36374, 36375, 36380, 36395, 36398, 36399, 36415, 36417, 36420, 36421, 36426, 36428, 36430, 36431, 36435, 36445, 36450, 36452, 36453, 36454, 36457, 36459, 36466, 36467, 36469, 36480, 36485, 36487, 36493, 36494, 36510, 36517, 36525, 36535, 36544, 36552, 36558, 36559, 36562, 36568, 36572, 36573, 36579, 36582, 36587, 36589, 36601, 36602, 36603, 36607, 36609, 36617, 36622, 36632, 36637, 36647, 36654, 36659, 36664, 36672, 36676, 36678, 36680, 36685, 36688, 36692, 36695, 36704, 36705, 36706, 36707, 36709, 36736, 36743, 36747, 36749, 36750, 36761, 36766, 36767, 36771, 36777, 36778, 36779, 36788, 36789, 36793, 36794, 36795, 36801, 36802, 36813, 36818, 36821, 36827, 36828, 36833, 36834, 36836, 36843, 36851, 36855, 36861, 36873, 36886, 36890, 36891, 36901, 36907, 36909, 36910, 36920, 36922, 36933, 36935, 36936, 36947, 36948, 36954, 36964, 36967, 36976, 36980, 36986, 36999, 37011, 37021, 37024, 37032, 37033, 37039, 37052, 37055, 37063, 37064, 37084, 37086, 37089, 37092, 37095, 37097, 37099, 37110, 37127, 37132, 37138, 37144, 37147, 37151, 37152, 37162, 37163, 37164, 37165, 37166, 37167, 37171, 37173, 37183, 37185, 37190, 37199, 37201, 37208, 37210, 37212, 37220, 37225, 37238, 37244, 37253, 37256, 37258, 37268, 37272, 37274, 37287, 37289, 37295, 37310, 37311, 37312, 37320, 37336, 37340, 37343, 37357, 37358, 37360, 37361, 37367, 37372, 37384, 37388, 37389, 37391, 37401, 37406, 37407, 37408, 37418, 37424, 37426, 37433, 37435, 37440, 37447, 37455, 37457, 37463, 37465, 37473, 37476, 37483, 37488, 37492, 37501, 37509, 37518, 37519, 37522, 37531, 37537, 37540, 37546, 37550, 37552, 37553, 37555, 37563, 37565, 37567, 37570, 37572, 37579, 37588, 37592, 37596, 37601, 37608, 37618, 37621, 37628, 37633, 37634, 37637, 37641, 37644, 37656, 37657, 37660, 37661, 37669, 37677, 37678, 37687, 37696, 37697, 37702, 37706, 37712, 37716, 37718, 37725, 37728, 37731, 37738, 37739, 37741, 37743, 37744, 37756, 37759, 37762, 37765, 37768, 37770, 37778, 37780, 37786, 37791, 37793, 37794, 37796, 37800, 37806, 37815, 37819, 37823, 37824, 37826, 37827, 37830, 37833, 37840, 37857, 37862, 37872, 37877, 37879, 37882, 37888, 37893, 37902, 37910, 37911, 37912, 37913, 37920, 37922, 37924, 37926, 37931, 37935, 37940, 37941, 37942, 37952, 37954, 37959, 37963, 37964, 37969, 37971, 37994, 37998, 38001, 38002, 38004, 38009, 38011, 38020, 38021, 38031, 38033, 38042, 38047, 38056, 38061, 38062, 38064, 38078, 38081, 38083, 38095, 38097, 38111, 38114, 38131, 38132, 38135, 38137, 38140, 38158, 38161, 38166, 38173, 38175, 38178, 38183, 38184, 38189, 38194, 38196, 38200, 38201, 38209, 38210, 38211, 38222, 38224, 38226, 38242, 38243, 38249, 38250, 38251, 38254, 38255, 38258, 38259, 38260, 38272, 38275, 38276, 38277, 38280, 38282, 38290, 38313, 38318, 38323, 38328, 38342, 38343, 38346, 38348, 38351, 38354, 38359, 38368, 38380, 38386, 38390, 38393, 38403, 38404, 38407, 38409, 38410, 38413, 38415, 38418, 38419, 38430, 38438, 38439, 38440, 38441, 38451, 38454, 38469, 38471, 38482, 38487, 38493, 38506, 38517, 38518, 38524, 38526, 38530, 38531, 38541, 38558, 38559, 38563, 38564, 38567, 38568, 38571, 38573, 38578, 38581, 38585, 38586, 38587, 38593, 38600, 38603, 38607, 38622, 38623, 38627, 38629, 38631, 38632, 38633, 38637, 38638, 38646, 38648, 38654, 38658, 38661, 38674, 38677, 38681, 38688, 38690, 38702, 38710, 38712, 38713, 38719, 38738, 38744, 38751, 38752, 38754, 38759, 38772, 38774, 38776, 38778, 38787, 38789, 38791, 38794, 38796, 38800, 38806, 38807, 38829, 38830, 38835, 38836, 38841, 38843, 38845, 38846, 38851, 38859, 38878, 38879, 38884, 38901, 38902, 38905, 38908, 38909, 38910, 38921, 38923, 38927, 38932, 38941, 38950, 38952, 38953, 38962, 38963, 38972, 38974, 38989, 38995, 39007, 39008, 39017, 39021, 39030, 39041, 39049, 39050, 39059, 39061, 39062, 39069, 39081, 39082, 39085, 39093, 39094, 39097, 39100, 39107, 39110, 39116, 39134, 39135, 39138, 39140, 39146, 39148, 39155, 39163, 39175, 39177, 39179, 39186, 39190, 39193, 39204, 39213, 39216, 39224, 39230, 39234, 39244, 39255, 39273, 39275, 39278, 39279, 39287, 39288, 39296, 39298, 39308, 39309, 39313, 39318, 39319, 39324, 39334, 39337, 39340, 39352, 39355, 39367, 39368, 39375, 39376, 39377, 39378, 39381, 39388, 39391, 39393, 39394, 39396, 39401, 39403, 39411, 39412, 39425, 39429, 39432, 39441, 39442, 39444, 39460, 39462, 39464, 39466, 39472, 39476, 39479, 39487, 39489, 39490, 39493, 39500, 39502, 39506, 39512, 39514, 39522, 39527, 39529, 39530, 39550, 39551, 39559, 39566, 39569, 39581, 39584, 39591, 39593, 39599, 39605, 39613, 39615, 39616, 39620, 39625, 39629, 39630, 39632, 39638, 39640, 39643, 39646, 39666, 39668, 39676, 39681, 39682, 39688, 39690, 39694, 39695, 39696, 39699, 39700, 39704, 39708, 39717, 39718, 39719, 39724, 39733, 39754, 39757, 39765, 39779, 39781, 39789, 39796, 39799, 39800, 39803, 39806, 39810, 39815, 39817, 39826, 39844, 39855, 39874, 39878, 39880, 39891, 39893, 39895, 39898, 39905, 39907, 39908, 39910, 39914, 39926, 39930, 39935, 39936, 39939, 39940, 39943, 39946, 39962, 39965, 39968, 39973, 39975, 39977, 39982, 39985, 39986, 39995, 40002, 40003, 40014, 40016, 40037, 40041, 40043, 40047, 40051, 40057, 40065, 40068, 40069, 40072, 40076, 40078, 40080, 40088, 40090, 40098, 40116, 40126, 40129, 40144, 40145, 40146, 40169, 40173, 40175, 40177, 40179, 40182, 40187, 40188, 40200, 40203, 40212, 40215, 40222, 40229, 40230, 40234, 40237, 40244, 40252, 40261, 40262, 40267, 40275, 40277, 40286, 40288, 40290, 40293, 40295, 40300, 40308, 40309, 40312, 40313, 40318, 40322, 40332, 40345, 40346, 40364, 40365, 40374, 40375, 40377, 40384, 40387, 40398, 40408, 40409, 40412, 40414, 40417, 40421, 40422, 40427, 40429, 40438, 40442, 40446, 40448, 40449, 40462, 40463, 40470, 40479, 40486, 40490, 40493, 40496, 40499, 40508, 40514, 40522, 40524, 40531, 40532, 40533, 40534, 40535, 40539, 40540, 40543, 40545, 40546, 40551, 40553, 40559, 40565, 40573, 40577, 40578, 40601, 40613, 40616, 40617, 40632, 40649, 40651, 40652, 40654, 40668, 40669, 40677, 40684, 40687, 40691, 40697, 40702, 40703, 40704, 40705, 40710, 40711, 40717, 40720, 40722, 40725, 40731, 40742, 40768, 40770, 40771, 40777, 40783, 40786, 40787, 40788, 40800, 40805, 40807, 40808, 40811, 40812, 40824, 40829, 40840, 40842, 40848, 40850, 40853, 40857, 40859, 40861, 40864, 40868, 40872, 40873, 40878, 40881, 40882, 40886, 40890, 40891, 40896, 40910, 40932, 40933, 40942, 40947, 40962, 40963, 40964, 40979, 40991, 40992, 40993, 40995, 40999, 41000, 41007, 41011, 41015, 41023, 41025, 41041, 41043, 41050, 41054, 41065, 41071, 41072, 41073, 41081, 41084, 41085, 41087, 41091, 41101, 41105, 41109, 41119, 41131, 41136, 41139, 41149, 41153, 41155, 41162, 41179, 41184, 41186, 41196, 41206, 41207, 41209, 41220, 41224, 41230, 41231, 41238, 41244, 41248, 41259, 41267, 41271, 41277, 41281, 41287, 41289, 41296, 41298, 41304, 41311, 41313, 41319, 41322, 41326, 41339, 41343, 41346, 41348, 41350, 41356, 41365, 41378, 41379, 41386, 41391, 41412, 41415, 41428, 41431, 41432, 41439, 41440, 41455, 41460, 41462, 41467, 41469, 41471, 41482, 41486, 41495, 41497, 41499, 41504, 41506, 41508, 41510, 41513, 41515, 41523, 41525, 41540, 41541, 41552, 41553, 41557, 41558, 41563, 41567, 41572, 41580, 41594, 41607, 41609, 41614, 41630, 41641, 41646, 41648, 41666, 41667, 41674, 41676, 41680, 41683, 41688, 41689, 41690, 41693, 41697, 41699, 41713, 41716, 41717, 41719, 41722, 41727, 41735, 41742, 41746, 41747, 41750, 41755, 41757, 41765, 41778, 41784, 41789, 41791, 41794, 41796, 41798, 41811, 41812, 41827, 41828, 41830, 41832, 41834, 41842, 41848, 41850, 41851, 41856, 41861, 41873, 41875, 41884, 41886, 41889, 41898, 41902, 41904, 41907, 41908, 41910, 41911, 41913, 41921, 41923, 41928, 41939, 41944, 41945, 41946, 41950, 41954, 41958, 41959, 41966, 41967, 41968, 41969, 41970, 41979, 41983, 41994, 41995, 41996, 42002, 42010, 42011, 42014, 42028, 42042, 42052, 42063, 42067, 42071, 42075, 42089, 42100, 42104, 42114, 42121, 42122, 42123, 42133, 42137, 42141, 42142, 42144, 42145, 42147, 42159, 42164, 42165, 42167, 42176, 42180, 42193, 42195, 42198, 42199, 42209, 42213, 42214, 42217, 42230, 42235, 42246, 42252, 42276, 42281, 42284, 42286, 42289, 42294, 42295, 42303, 42304, 42308, 42317, 42319, 42320, 42322, 42331, 42333, 42334, 42340, 42347, 42365, 42367, 42373, 42375, 42378, 42384, 42395, 42401, 42403, 42405, 42407, 42425, 42431, 42439, 42442, 42450, 42453, 42461, 42463, 42464, 42472, 42480, 42493, 42495, 42511, 42513, 42524, 42525, 42531, 42539, 42543, 42544, 42548, 42558, 42560, 42564, 42568, 42569, 42571, 42572, 42573, 42577, 42580, 42585, 42586, 42597, 42604, 42614, 42628, 42629, 42630, 42641, 42655, 42659, 42660, 42662, 42665, 42668, 42673, 42679, 42684, 42686, 42688, 42700, 42704, 42706, 42708, 42709, 42710, 42713, 42714, 42723, 42727, 42732, 42733, 42735, 42738, 42744, 42745, 42747, 42748, 42749, 42750, 42764, 42765, 42767, 42769, 42772, 42774, 42782, 42788, 42796, 42797, 42798, 42800, 42811, 42814, 42821, 42824, 42825, 42830, 42840, 42842, 42850, 42851, 42853, 42873, 42874, 42881, 42883, 42895, 42902, 42907, 42910, 42920, 42925, 42942, 42946, 42947, 42948, 42950, 42952, 42958, 42964, 42965, 42967, 42982, 42984, 42990, 43000, 43007, 43016, 43017, 43040, 43043, 43045, 43046, 43047, 43050, 43058, 43059, 43067, 43069, 43075, 43081, 43089, 43095, 43096, 43100, 43103, 43109, 43118, 43119, 43128, 43130, 43132, 43133, 43140, 43144, 43151, 43152, 43153, 43161, 43163, 43165, 43167, 43169, 43170, 43183, 43190, 43202, 43212, 43219, 43220, 43225, 43227, 43233, 43237, 43265, 43274, 43275, 43282, 43285, 43289, 43291, 43296, 43301, 43302, 43303, 43317, 43334, 43336, 43354, 43355, 43362, 43369, 43393, 43395, 43399, 43405, 43409, 43410, 43411, 43424, 43431, 43436, 43446, 43452, 43455, 43461, 43467, 43479, 43480, 43490, 43497, 43499, 43500, 43502, 43514, 43515, 43520, 43522, 43525, 43529, 43538, 43546, 43548, 43551, 43559, 43562, 43568, 43579, 43580, 43583, 43586, 43591, 43592, 43601, 43604, 43610, 43611, 43615, 43620, 43622, 43638, 43645, 43650, 43652, 43655, 43668, 43671, 43672, 43686, 43688, 43693, 43695, 43696, 43697, 43703, 43711, 43713, 43723, 43728, 43730, 43741, 43749, 43757, 43759, 43763, 43772, 43776, 43779, 43780, 43783, 43784, 43791, 43810, 43811, 43813, 43822, 43829, 43850, 43853, 43854, 43858, 43859, 43860, 43862, 43865, 43866, 43871, 43873, 43874, 43879, 43880, 43882, 43883, 43891, 43908, 43914, 43916, 43923, 43931, 43933, 43934, 43950, 43954, 43961, 43963, 43964, 43965, 43968, 43983, 43988, 43992, 43993, 43994, 44004, 44006, 44007, 44012, 44026, 44030, 44031, 44032, 44033, 44036, 44044, 44045, 44046, 44047, 44054, 44061, 44063, 44073, 44076, 44086, 44096, 44100, 44109, 44112, 44121, 44123, 44130, 44134, 44146, 44149, 44150, 44180, 44182, 44185, 44190, 44194, 44197, 44203, 44211, 44213, 44217, 44223, 44227, 44231, 44233, 44234, 44235, 44241, 44244, 44253, 44257, 44261, 44264, 44265, 44270, 44279, 44294, 44300, 44308, 44313, 44323, 44324, 44326, 44328, 44331, 44332, 44333, 44334, 44337, 44339, 44366, 44373, 44392, 44394, 44396, 44402, 44406, 44408, 44409, 44410, 44425, 44426, 44440, 44459, 44466, 44468, 44473, 44477, 44481, 44482, 44484, 44489, 44496, 44503, 44507, 44508, 44510, 44516, 44519, 44527, 44529, 44534, 44537, 44543, 44544, 44545, 44556, 44557, 44558, 44562, 44578, 44581, 44583, 44586, 44587, 44592, 44603, 44608, 44622, 44623, 44637, 44638, 44639, 44640, 44657, 44665, 44666, 44668, 44676, 44680, 44682, 44686, 44693, 44709, 44714, 44721, 44723, 44724, 44732, 44738, 44742, 44748, 44750, 44752, 44759, 44765, 44784, 44788, 44804, 44807, 44809, 44814, 44819, 44822, 44826, 44829, 44832, 44833, 44850, 44852, 44854, 44859, 44871, 44878, 44885, 44893, 44895, 44897, 44903, 44908, 44912, 44913, 44917, 44924, 44927, 44933, 44942, 44943, 44945, 44947, 44952, 44960, 44967, 44970, 44980, 44988, 44990, 44992, 44994, 45003, 45007, 45015, 45020, 45021, 45038, 45046, 45062, 45071, 45079, 45080, 45083, 45085, 45087, 45090, 45094, 45096, 45098, 45099, 45107, 45109, 45111, 45117, 45120, 45126, 45130, 45131, 45139, 45157, 45161, 45162, 45167, 45171, 45172, 45179, 45185, 45189, 45191, 45194, 45202, 45203, 45218, 45219, 45220, 45233, 45238, 45239, 45248, 45253, 45255, 45259, 45260, 45263, 45276, 45286, 45288, 45289, 45291, 45292, 45298, 45311, 45312, 45313, 45315, 45316, 45327, 45328, 45334, 45336, 45338, 45340, 45344, 45354, 45358, 45361, 45370, 45372, 45373, 45379, 45387, 45391, 45396, 45404, 45411, 45417, 45422, 45426, 45432, 45436, 45440, 45441, 45443, 45444, 45447, 45460, 45462, 45468, 45488, 45490, 45491, 45492, 45506, 45510, 45517, 45532, 45550, 45552, 45553, 45555, 45567, 45574, 45575, 45576, 45578, 45580, 45581, 45586, 45592, 45594, 45600, 45604, 45606, 45608, 45609, 45617, 45620, 45622, 45629, 45634, 45642, 45644, 45648, 45654, 45658, 45660, 45661, 45664, 45668, 45669, 45673, 45685, 45687, 45688, 45694, 45701, 45706, 45709, 45736, 45741, 45742, 45749, 45750, 45764, 45768, 45770, 45773, 45778, 45779, 45788, 45794, 45795, 45796, 45812, 45819, 45821, 45829, 45834, 45836, 45839, 45850, 45851, 45861, 45863, 45868, 45874, 45877, 45878, 45881, 45892, 45893, 45906, 45909, 45911, 45913, 45926, 45930, 45935, 45936, 45938, 45940, 45946, 45947, 45949, 45951, 45956, 45957, 45966, 45968, 45969, 45970, 45971, 45981, 45983, 45988, 45991, 45998, 46000, 46011, 46018, 46025, 46027, 46036, 46039, 46043, 46051, 46063, 46067, 46075, 46079, 46082, 46088, 46097, 46102, 46104, 46107, 46111, 46112, 46123, 46133, 46135, 46143, 46159, 46161, 46162, 46168, 46172, 46176, 46181, 46183, 46184, 46188, 46190, 46194, 46197, 46204, 46206, 46210, 46213, 46221, 46228, 46233, 46236, 46238, 46242, 46243, 46249, 46251, 46252, 46261, 46262, 46264, 46267, 46272, 46276, 46278, 46282, 46290, 46293, 46300, 46308, 46321, 46325, 46326, 46337, 46339, 46343, 46345, 46346, 46353, 46357, 46359, 46373, 46381, 46383, 46385, 46386, 46391, 46392, 46394, 46397, 46411, 46413, 46415, 46420, 46423, 46425, 46426, 46428, 46432, 46443, 46445, 46446, 46448, 46460, 46461, 46462, 46465, 46470, 46478, 46479, 46480, 46488, 46489, 46496, 46505, 46510, 46516, 46520, 46521, 46533, 46540, 46541, 46542, 46547, 46552, 46553, 46561, 46569, 46570, 46575, 46581, 46583, 46587, 46589, 46601, 46606, 46609, 46613, 46621, 46627, 46629, 46632, 46637, 46645, 46646, 46670, 46671, 46676, 46679, 46691, 46696, 46704, 46706, 46710, 46712, 46722, 46723, 46730, 46731, 46738, 46744, 46750, 46764, 46770, 46776, 46783, 46787, 46789, 46792, 46793, 46795, 46796, 46808, 46809, 46813, 46816, 46819, 46820, 46825, 46826, 46832, 46833, 46843, 46860, 46866, 46869, 46871, 46876, 46882, 46885, 46888, 46891, 46893, 46896, 46898, 46900, 46901, 46909, 46910, 46916, 46917, 46938, 46941, 46951, 46953, 46954, 46957, 46958, 46960, 46962, 46968, 46971, 46972, 46980, 46993, 46994, 47000, 47001, 47011, 47014, 47016, 47018, 47026, 47034, 47038, 47039, 47040, 47042, 47064, 47065, 47066, 47073, 47074, 47082, 47102, 47105, 47116, 47119, 47122, 47126, 47127, 47129, 47130, 47136, 47142, 47148, 47151, 47158, 47166, 47167, 47173, 47174, 47181, 47189, 47191, 47197, 47204, 47206, 47212, 47216, 47230, 47232, 47236, 47242, 47246, 47252, 47253, 47256, 47257, 47263, 47264, 47271, 47283, 47290, 47295, 47299, 47302, 47303, 47305, 47312, 47336, 47340, 47343, 47345, 47353, 47354, 47361, 47362, 47371, 47380, 47383, 47386, 47402, 47405, 47408, 47415, 47418, 47420, 47421, 47422, 47428, 47435, 47436, 47440, 47453, 47458, 47473, 47489, 47494, 47495, 47497, 47508, 47509, 47516, 47524, 47525, 47537, 47557, 47561, 47562, 47563, 47568, 47569, 47573, 47577, 47588, 47590, 47592, 47594, 47597, 47606, 47619, 47627, 47628, 47640, 47646, 47648, 47649, 47650, 47655, 47661, 47668, 47673, 47674, 47675, 47681, 47691, 47692, 47701, 47707, 47708, 47710, 47726, 47731, 47736, 47738, 47741, 47742, 47752, 47760, 47761, 47766, 47767, 47770, 47774, 47775, 47781, 47786, 47795, 47802, 47809, 47819, 47823, 47828, 47839, 47841, 47842, 47843, 47844, 47849, 47850, 47854, 47855, 47876, 47880, 47886, 47888, 47893, 47905, 47910, 47925, 47928, 47929, 47936, 47937, 47942, 47943, 47951, 47963, 47965, 47969, 47973, 47978, 47985, 47990, 47992], Type: <class 'list'>\n",
            "Group: (4, 4), Members: [4, 15, 19, 28, 30, 38, 40, 42, 43, 45, 52, 54, 70, 73, 74, 79, 81, 90, 96, 105, 112, 114, 120, 121, 125, 126, 132, 137, 140, 145, 150, 161, 165, 181, 182, 193, 198, 200, 211, 221, 234, 239, 243, 247, 253, 256, 264, 265, 272, 273, 274, 278, 279, 286, 288, 291, 297, 305, 307, 310, 312, 321, 324, 329, 336, 340, 345, 349, 360, 363, 371, 373, 380, 383, 391, 393, 406, 409, 413, 415, 416, 418, 425, 430, 435, 442, 450, 457, 460, 466, 471, 472, 477, 478, 479, 489, 495, 498, 501, 509, 549, 555, 562, 564, 575, 579, 584, 586, 590, 599, 600, 602, 605, 607, 609, 613, 618, 622, 624, 628, 631, 632, 633, 636, 645, 651, 655, 660, 661, 663, 664, 668, 691, 695, 696, 703, 710, 711, 721, 732, 740, 741, 744, 745, 746, 748, 772, 781, 783, 784, 807, 810, 816, 824, 825, 826, 833, 835, 841, 851, 855, 857, 858, 860, 874, 887, 889, 891, 897, 900, 904, 920, 923, 924, 929, 940, 952, 966, 974, 981, 984, 986, 995, 996, 998, 1006, 1010, 1011, 1025, 1027, 1033, 1035, 1037, 1039, 1040, 1042, 1044, 1050, 1051, 1060, 1063, 1080, 1084, 1092, 1095, 1097, 1099, 1102, 1115, 1118, 1126, 1129, 1134, 1139, 1144, 1153, 1158, 1166, 1167, 1170, 1172, 1174, 1175, 1189, 1204, 1207, 1209, 1219, 1220, 1229, 1235, 1236, 1243, 1245, 1250, 1257, 1260, 1270, 1276, 1279, 1288, 1290, 1293, 1297, 1298, 1299, 1305, 1312, 1314, 1328, 1329, 1335, 1340, 1348, 1349, 1359, 1374, 1388, 1389, 1394, 1400, 1401, 1403, 1409, 1410, 1411, 1421, 1424, 1425, 1428, 1431, 1436, 1440, 1441, 1450, 1454, 1466, 1487, 1506, 1509, 1513, 1515, 1523, 1529, 1532, 1539, 1547, 1555, 1556, 1557, 1560, 1565, 1566, 1567, 1576, 1578, 1580, 1587, 1612, 1613, 1617, 1624, 1626, 1632, 1638, 1644, 1659, 1665, 1670, 1698, 1699, 1713, 1715, 1717, 1718, 1726, 1729, 1742, 1747, 1762, 1766, 1780, 1781, 1783, 1785, 1795, 1800, 1807, 1821, 1823, 1836, 1848, 1851, 1860, 1868, 1876, 1889, 1894, 1898, 1903, 1904, 1909, 1911, 1912, 1913, 1916, 1921, 1924, 1937, 1944, 1947, 1955, 1958, 1962, 1970, 1977, 1981, 1986, 1990, 1996, 2009, 2015, 2017, 2022, 2044, 2046, 2049, 2051, 2063, 2065, 2074, 2076, 2085, 2086, 2088, 2102, 2107, 2110, 2115, 2138, 2142, 2143, 2144, 2146, 2148, 2156, 2157, 2160, 2161, 2168, 2174, 2206, 2208, 2209, 2212, 2220, 2222, 2233, 2237, 2238, 2242, 2245, 2250, 2256, 2265, 2273, 2274, 2276, 2286, 2320, 2329, 2339, 2342, 2346, 2352, 2354, 2362, 2365, 2367, 2380, 2381, 2393, 2395, 2397, 2402, 2404, 2406, 2407, 2417, 2422, 2424, 2427, 2428, 2429, 2430, 2432, 2439, 2443, 2453, 2460, 2461, 2464, 2470, 2472, 2476, 2479, 2480, 2481, 2484, 2489, 2498, 2502, 2524, 2527, 2528, 2533, 2537, 2538, 2542, 2543, 2546, 2555, 2558, 2561, 2563, 2572, 2587, 2592, 2609, 2611, 2618, 2620, 2626, 2629, 2631, 2633, 2639, 2640, 2641, 2643, 2645, 2646, 2653, 2662, 2673, 2680, 2682, 2686, 2690, 2699, 2706, 2712, 2721, 2730, 2736, 2744, 2750, 2755, 2759, 2775, 2785, 2788, 2789, 2790, 2791, 2794, 2797, 2799, 2801, 2803, 2804, 2807, 2810, 2811, 2812, 2814, 2816, 2824, 2829, 2840, 2846, 2847, 2855, 2859, 2869, 2870, 2871, 2874, 2879, 2883, 2884, 2885, 2897, 2904, 2916, 2920, 2924, 2927, 2931, 2932, 2933, 2944, 2952, 2953, 2957, 2963, 2968, 2990, 2991, 2992, 2993, 3001, 3002, 3003, 3007, 3014, 3019, 3025, 3029, 3033, 3044, 3050, 3064, 3069, 3072, 3074, 3079, 3089, 3090, 3091, 3096, 3098, 3104, 3109, 3110, 3120, 3125, 3126, 3131, 3135, 3137, 3138, 3140, 3144, 3165, 3166, 3168, 3174, 3180, 3182, 3184, 3185, 3188, 3189, 3191, 3197, 3201, 3212, 3214, 3218, 3219, 3225, 3229, 3234, 3236, 3239, 3241, 3245, 3247, 3251, 3266, 3267, 3273, 3274, 3276, 3279, 3281, 3292, 3296, 3298, 3310, 3315, 3316, 3319, 3325, 3328, 3362, 3366, 3371, 3374, 3379, 3390, 3395, 3400, 3402, 3403, 3412, 3414, 3416, 3420, 3436, 3437, 3442, 3444, 3447, 3450, 3466, 3469, 3474, 3479, 3484, 3486, 3490, 3491, 3492, 3495, 3497, 3501, 3504, 3510, 3528, 3532, 3540, 3545, 3551, 3552, 3560, 3563, 3568, 3570, 3578, 3579, 3593, 3595, 3610, 3611, 3613, 3624, 3630, 3633, 3639, 3654, 3655, 3657, 3662, 3668, 3675, 3687, 3693, 3696, 3700, 3703, 3715, 3725, 3728, 3730, 3733, 3735, 3736, 3742, 3747, 3748, 3749, 3753, 3754, 3759, 3777, 3794, 3795, 3800, 3807, 3814, 3829, 3844, 3847, 3849, 3855, 3856, 3859, 3860, 3862, 3874, 3879, 3880, 3881, 3895, 3900, 3905, 3906, 3917, 3926, 3928, 3931, 3935, 3943, 3945, 3957, 3958, 3962, 3968, 3974, 3977, 3988, 3990, 3991, 3998, 4004, 4008, 4009, 4012, 4019, 4020, 4021, 4022, 4026, 4031, 4054, 4060, 4071, 4075, 4079, 4081, 4087, 4092, 4096, 4099, 4101, 4117, 4119, 4121, 4128, 4130, 4141, 4143, 4146, 4149, 4151, 4155, 4160, 4164, 4166, 4174, 4178, 4184, 4188, 4190, 4201, 4205, 4206, 4218, 4220, 4236, 4240, 4250, 4252, 4255, 4256, 4258, 4260, 4262, 4264, 4271, 4273, 4279, 4280, 4283, 4291, 4294, 4304, 4306, 4312, 4322, 4325, 4326, 4330, 4347, 4350, 4352, 4353, 4356, 4364, 4366, 4367, 4379, 4384, 4386, 4395, 4398, 4399, 4400, 4409, 4411, 4413, 4414, 4415, 4416, 4424, 4433, 4434, 4435, 4446, 4447, 4450, 4459, 4463, 4464, 4466, 4476, 4478, 4482, 4490, 4492, 4496, 4508, 4520, 4523, 4531, 4539, 4551, 4552, 4555, 4557, 4560, 4561, 4574, 4581, 4582, 4583, 4595, 4597, 4612, 4614, 4622, 4625, 4633, 4636, 4638, 4641, 4644, 4655, 4663, 4665, 4669, 4681, 4688, 4693, 4695, 4696, 4713, 4714, 4715, 4716, 4717, 4720, 4734, 4735, 4736, 4742, 4751, 4754, 4756, 4762, 4773, 4777, 4782, 4795, 4799, 4812, 4814, 4817, 4824, 4828, 4831, 4832, 4849, 4850, 4854, 4858, 4876, 4887, 4896, 4906, 4917, 4920, 4921, 4922, 4929, 4931, 4938, 4946, 4949, 4953, 4955, 4959, 4961, 4969, 4975, 4976, 4983, 4986, 4989, 5005, 5014, 5017, 5025, 5028, 5032, 5033, 5036, 5041, 5054, 5064, 5065, 5078, 5079, 5090, 5091, 5097, 5100, 5103, 5109, 5120, 5131, 5149, 5151, 5164, 5165, 5171, 5175, 5176, 5185, 5187, 5189, 5195, 5198, 5200, 5203, 5208, 5210, 5213, 5222, 5223, 5224, 5231, 5247, 5255, 5259, 5263, 5264, 5269, 5270, 5277, 5281, 5282, 5292, 5294, 5295, 5298, 5305, 5312, 5314, 5327, 5339, 5351, 5354, 5355, 5358, 5368, 5379, 5382, 5386, 5389, 5391, 5401, 5406, 5410, 5424, 5425, 5427, 5429, 5432, 5439, 5442, 5444, 5449, 5450, 5452, 5455, 5456, 5464, 5473, 5480, 5498, 5508, 5512, 5514, 5517, 5518, 5525, 5534, 5538, 5540, 5548, 5550, 5552, 5554, 5561, 5568, 5569, 5571, 5576, 5581, 5592, 5593, 5598, 5599, 5606, 5611, 5612, 5615, 5619, 5625, 5627, 5630, 5632, 5639, 5645, 5649, 5663, 5667, 5672, 5675, 5677, 5680, 5690, 5694, 5697, 5701, 5702, 5712, 5715, 5723, 5725, 5730, 5734, 5737, 5738, 5739, 5746, 5752, 5754, 5755, 5765, 5768, 5770, 5774, 5775, 5784, 5785, 5788, 5790, 5794, 5798, 5802, 5813, 5819, 5822, 5828, 5829, 5831, 5833, 5835, 5839, 5846, 5852, 5865, 5867, 5872, 5881, 5901, 5906, 5920, 5924, 5929, 5932, 5934, 5940, 5943, 5959, 5965, 5968, 5969, 5976, 5979, 5991, 5994, 5997, 5998, 6001, 6012, 6021, 6022, 6023, 6027, 6031, 6048, 6052, 6062, 6078, 6080, 6081, 6082, 6092, 6094, 6097, 6108, 6110, 6112, 6129, 6135, 6139, 6140, 6141, 6148, 6156, 6163, 6179, 6187, 6192, 6197, 6198, 6201, 6205, 6209, 6210, 6211, 6213, 6226, 6232, 6233, 6234, 6240, 6245, 6246, 6247, 6255, 6257, 6258, 6265, 6273, 6279, 6281, 6292, 6293, 6294, 6308, 6318, 6322, 6323, 6329, 6332, 6333, 6352, 6353, 6355, 6357, 6359, 6377, 6379, 6380, 6394, 6402, 6410, 6420, 6421, 6422, 6424, 6426, 6433, 6435, 6445, 6446, 6452, 6453, 6459, 6469, 6492, 6498, 6504, 6505, 6508, 6512, 6515, 6517, 6522, 6528, 6537, 6540, 6544, 6563, 6572, 6575, 6578, 6582, 6583, 6590, 6593, 6597, 6600, 6602, 6624, 6626, 6637, 6639, 6648, 6649, 6650, 6652, 6655, 6657, 6659, 6660, 6661, 6664, 6665, 6668, 6670, 6680, 6693, 6695, 6696, 6700, 6705, 6709, 6716, 6721, 6723, 6731, 6735, 6736, 6740, 6747, 6754, 6760, 6761, 6762, 6763, 6769, 6785, 6787, 6788, 6801, 6802, 6804, 6809, 6812, 6817, 6821, 6827, 6831, 6833, 6835, 6838, 6847, 6857, 6864, 6880, 6883, 6884, 6889, 6898, 6904, 6913, 6914, 6915, 6922, 6932, 6935, 6944, 6947, 6949, 6950, 6954, 6957, 6960, 6969, 6972, 6976, 6982, 6993, 6997, 6998, 6999, 7006, 7011, 7018, 7019, 7021, 7022, 7028, 7030, 7033, 7041, 7045, 7047, 7062, 7091, 7097, 7101, 7111, 7129, 7139, 7152, 7154, 7163, 7168, 7182, 7184, 7199, 7218, 7219, 7229, 7234, 7235, 7247, 7256, 7257, 7261, 7265, 7270, 7273, 7280, 7282, 7293, 7303, 7306, 7307, 7309, 7313, 7314, 7317, 7326, 7327, 7329, 7335, 7345, 7351, 7357, 7379, 7382, 7386, 7389, 7392, 7395, 7399, 7402, 7413, 7421, 7443, 7446, 7447, 7451, 7476, 7477, 7482, 7483, 7485, 7489, 7492, 7522, 7523, 7536, 7539, 7545, 7553, 7554, 7574, 7583, 7590, 7607, 7614, 7618, 7622, 7628, 7639, 7640, 7650, 7669, 7671, 7675, 7680, 7682, 7684, 7685, 7699, 7701, 7708, 7716, 7718, 7719, 7723, 7743, 7749, 7761, 7765, 7777, 7779, 7780, 7795, 7796, 7801, 7809, 7817, 7819, 7823, 7826, 7834, 7838, 7839, 7844, 7851, 7853, 7858, 7861, 7863, 7866, 7867, 7872, 7889, 7892, 7894, 7903, 7907, 7910, 7913, 7929, 7935, 7936, 7937, 7938, 7941, 7946, 7947, 7948, 7950, 7954, 7962, 7963, 7964, 7975, 7988, 7990, 7991, 8003, 8005, 8009, 8015, 8018, 8020, 8029, 8030, 8031, 8033, 8034, 8037, 8039, 8043, 8050, 8066, 8068, 8072, 8084, 8090, 8099, 8100, 8108, 8119, 8133, 8134, 8136, 8137, 8139, 8146, 8147, 8148, 8161, 8173, 8174, 8187, 8188, 8204, 8211, 8220, 8232, 8233, 8260, 8274, 8275, 8289, 8293, 8294, 8295, 8304, 8307, 8316, 8320, 8329, 8331, 8339, 8344, 8345, 8346, 8347, 8349, 8372, 8376, 8379, 8383, 8388, 8392, 8404, 8406, 8415, 8419, 8428, 8438, 8445, 8453, 8456, 8457, 8458, 8465, 8468, 8471, 8472, 8473, 8485, 8487, 8488, 8492, 8494, 8496, 8501, 8504, 8517, 8520, 8525, 8527, 8530, 8539, 8543, 8550, 8560, 8563, 8564, 8570, 8574, 8575, 8585, 8590, 8602, 8610, 8618, 8619, 8627, 8629, 8638, 8640, 8641, 8647, 8649, 8655, 8656, 8657, 8670, 8671, 8678, 8686, 8687, 8690, 8691, 8693, 8694, 8707, 8720, 8723, 8724, 8745, 8751, 8753, 8759, 8765, 8773, 8777, 8781, 8796, 8804, 8816, 8821, 8845, 8848, 8852, 8858, 8860, 8864, 8869, 8870, 8871, 8876, 8885, 8886, 8888, 8899, 8905, 8908, 8916, 8928, 8929, 8935, 8937, 8938, 8939, 8941, 8942, 8945, 8951, 8953, 8954, 8955, 8956, 8958, 8966, 8967, 8968, 8981, 8985, 8986, 8998, 9011, 9015, 9021, 9025, 9032, 9047, 9055, 9071, 9073, 9075, 9083, 9084, 9089, 9094, 9095, 9100, 9114, 9120, 9121, 9122, 9126, 9128, 9142, 9149, 9154, 9158, 9162, 9171, 9173, 9184, 9198, 9207, 9213, 9215, 9221, 9225, 9230, 9232, 9243, 9248, 9252, 9254, 9258, 9271, 9272, 9280, 9290, 9292, 9309, 9321, 9327, 9330, 9337, 9338, 9343, 9352, 9356, 9365, 9371, 9376, 9378, 9382, 9385, 9388, 9389, 9390, 9397, 9407, 9409, 9421, 9432, 9438, 9443, 9445, 9447, 9449, 9452, 9461, 9463, 9467, 9475, 9485, 9492, 9493, 9496, 9497, 9501, 9502, 9507, 9510, 9513, 9515, 9517, 9518, 9521, 9526, 9530, 9531, 9532, 9535, 9537, 9540, 9542, 9544, 9549, 9551, 9580, 9582, 9583, 9584, 9590, 9595, 9598, 9599, 9601, 9612, 9613, 9614, 9617, 9622, 9627, 9632, 9635, 9640, 9642, 9645, 9647, 9649, 9650, 9652, 9660, 9669, 9672, 9684, 9689, 9690, 9696, 9699, 9700, 9723, 9725, 9726, 9727, 9732, 9733, 9734, 9739, 9746, 9753, 9755, 9757, 9758, 9785, 9787, 9789, 9795, 9797, 9800, 9802, 9810, 9813, 9814, 9817, 9819, 9823, 9828, 9829, 9834, 9836, 9837, 9843, 9845, 9862, 9868, 9889, 9896, 9897, 9898, 9907, 9917, 9922, 9932, 9934, 9939, 9942, 9944, 9945, 9953, 9954, 9963, 9971, 9977, 9979, 9983, 9991, 9992, 9993, 10006, 10012, 10019, 10021, 10023, 10024, 10043, 10047, 10048, 10054, 10062, 10068, 10076, 10081, 10087, 10089, 10095, 10098, 10100, 10101, 10103, 10105, 10117, 10120, 10124, 10126, 10128, 10131, 10136, 10139, 10148, 10159, 10168, 10171, 10176, 10178, 10193, 10215, 10218, 10222, 10223, 10230, 10232, 10259, 10264, 10265, 10270, 10275, 10277, 10281, 10284, 10293, 10308, 10312, 10313, 10317, 10318, 10321, 10322, 10326, 10330, 10337, 10339, 10342, 10348, 10355, 10356, 10364, 10367, 10368, 10380, 10383, 10401, 10404, 10413, 10417, 10419, 10422, 10426, 10433, 10434, 10437, 10439, 10443, 10444, 10446, 10452, 10459, 10466, 10470, 10480, 10486, 10487, 10489, 10492, 10499, 10516, 10517, 10518, 10533, 10535, 10537, 10539, 10546, 10549, 10551, 10554, 10555, 10565, 10570, 10582, 10590, 10598, 10605, 10609, 10611, 10617, 10622, 10634, 10636, 10650, 10652, 10655, 10656, 10668, 10669, 10672, 10679, 10682, 10684, 10687, 10706, 10713, 10714, 10715, 10720, 10725, 10729, 10734, 10736, 10737, 10741, 10742, 10746, 10747, 10748, 10749, 10754, 10761, 10766, 10767, 10769, 10775, 10779, 10781, 10786, 10790, 10798, 10799, 10822, 10826, 10841, 10844, 10847, 10848, 10850, 10857, 10862, 10873, 10883, 10886, 10896, 10898, 10906, 10912, 10917, 10924, 10933, 10935, 10936, 10942, 10943, 10945, 10947, 10952, 10955, 10957, 10959, 10976, 10978, 10980, 10984, 10994, 10996, 11009, 11018, 11026, 11033, 11034, 11040, 11041, 11042, 11048, 11078, 11091, 11093, 11095, 11100, 11109, 11111, 11112, 11114, 11115, 11118, 11122, 11134, 11138, 11144, 11146, 11148, 11154, 11157, 11159, 11162, 11167, 11173, 11180, 11182, 11196, 11197, 11198, 11205, 11207, 11210, 11214, 11225, 11227, 11243, 11245, 11246, 11248, 11254, 11260, 11262, 11266, 11274, 11290, 11293, 11300, 11301, 11311, 11314, 11318, 11326, 11328, 11334, 11337, 11343, 11350, 11351, 11362, 11367, 11368, 11370, 11373, 11374, 11379, 11381, 11382, 11390, 11393, 11400, 11402, 11403, 11421, 11423, 11433, 11438, 11440, 11441, 11448, 11453, 11458, 11461, 11463, 11478, 11481, 11483, 11484, 11496, 11504, 11511, 11512, 11514, 11518, 11537, 11540, 11541, 11549, 11553, 11554, 11563, 11565, 11566, 11567, 11568, 11580, 11581, 11582, 11584, 11586, 11589, 11591, 11624, 11640, 11648, 11649, 11651, 11670, 11672, 11675, 11684, 11685, 11696, 11698, 11703, 11704, 11716, 11718, 11720, 11728, 11729, 11730, 11735, 11737, 11743, 11744, 11756, 11763, 11766, 11769, 11777, 11778, 11790, 11793, 11798, 11805, 11806, 11808, 11812, 11813, 11817, 11831, 11832, 11839, 11842, 11843, 11851, 11852, 11853, 11876, 11877, 11885, 11887, 11892, 11894, 11899, 11908, 11915, 11916, 11923, 11929, 11941, 11959, 11962, 11963, 11964, 11966, 11967, 11972, 11992, 11994, 12002, 12006, 12021, 12025, 12032, 12041, 12057, 12059, 12064, 12069, 12071, 12078, 12081, 12086, 12090, 12092, 12103, 12105, 12107, 12113, 12116, 12119, 12121, 12124, 12144, 12145, 12167, 12169, 12170, 12172, 12182, 12183, 12188, 12190, 12194, 12198, 12206, 12207, 12220, 12223, 12226, 12239, 12241, 12243, 12249, 12251, 12266, 12268, 12273, 12278, 12280, 12285, 12287, 12288, 12290, 12299, 12304, 12312, 12322, 12324, 12326, 12334, 12339, 12343, 12351, 12359, 12362, 12371, 12397, 12400, 12401, 12402, 12409, 12411, 12412, 12417, 12426, 12434, 12438, 12443, 12449, 12451, 12471, 12477, 12478, 12481, 12483, 12484, 12490, 12491, 12503, 12504, 12506, 12508, 12514, 12517, 12520, 12521, 12528, 12529, 12531, 12532, 12538, 12542, 12560, 12562, 12575, 12577, 12589, 12590, 12591, 12594, 12604, 12605, 12606, 12609, 12611, 12617, 12619, 12632, 12666, 12677, 12682, 12688, 12700, 12701, 12716, 12729, 12730, 12739, 12740, 12744, 12757, 12761, 12764, 12770, 12780, 12785, 12787, 12788, 12794, 12800, 12801, 12809, 12812, 12813, 12824, 12826, 12827, 12829, 12837, 12838, 12840, 12842, 12843, 12848, 12850, 12853, 12859, 12860, 12862, 12867, 12881, 12883, 12891, 12893, 12901, 12904, 12907, 12911, 12913, 12915, 12920, 12922, 12926, 12938, 12939, 12940, 12946, 12947, 12959, 12978, 12983, 12984, 12995, 13001, 13009, 13011, 13014, 13018, 13023, 13025, 13029, 13043, 13045, 13060, 13066, 13075, 13076, 13077, 13091, 13095, 13103, 13109, 13114, 13121, 13131, 13135, 13138, 13140, 13141, 13147, 13154, 13157, 13163, 13167, 13170, 13172, 13174, 13177, 13182, 13212, 13229, 13237, 13238, 13240, 13242, 13245, 13255, 13256, 13257, 13272, 13283, 13288, 13292, 13293, 13298, 13301, 13305, 13307, 13320, 13321, 13329, 13339, 13346, 13356, 13358, 13373, 13375, 13378, 13379, 13382, 13395, 13396, 13397, 13398, 13405, 13413, 13416, 13418, 13419, 13421, 13436, 13437, 13439, 13442, 13444, 13449, 13450, 13453, 13456, 13458, 13459, 13460, 13461, 13465, 13471, 13476, 13482, 13483, 13488, 13489, 13500, 13502, 13503, 13505, 13506, 13515, 13521, 13531, 13532, 13533, 13534, 13544, 13547, 13549, 13561, 13572, 13573, 13574, 13578, 13579, 13587, 13597, 13599, 13614, 13619, 13626, 13648, 13649, 13653, 13654, 13657, 13673, 13682, 13691, 13694, 13695, 13702, 13704, 13711, 13718, 13720, 13725, 13734, 13737, 13738, 13739, 13747, 13748, 13754, 13756, 13757, 13758, 13759, 13760, 13774, 13787, 13792, 13793, 13794, 13796, 13802, 13824, 13829, 13835, 13840, 13841, 13842, 13845, 13849, 13857, 13858, 13864, 13865, 13868, 13882, 13885, 13896, 13898, 13900, 13911, 13913, 13920, 13929, 13939, 13941, 13944, 13958, 13967, 13972, 13978, 13979, 13985, 13995, 14012, 14014, 14019, 14025, 14028, 14037, 14039, 14040, 14045, 14053, 14055, 14058, 14059, 14065, 14069, 14075, 14076, 14098, 14100, 14103, 14109, 14112, 14120, 14125, 14136, 14143, 14145, 14146, 14153, 14154, 14155, 14158, 14159, 14160, 14161, 14165, 14167, 14171, 14172, 14177, 14180, 14183, 14185, 14186, 14198, 14199, 14216, 14223, 14227, 14228, 14230, 14236, 14249, 14255, 14261, 14264, 14265, 14269, 14277, 14278, 14283, 14284, 14288, 14304, 14313, 14314, 14315, 14328, 14343, 14346, 14360, 14362, 14364, 14374, 14381, 14383, 14384, 14387, 14388, 14389, 14398, 14403, 14407, 14416, 14430, 14435, 14436, 14442, 14447, 14457, 14459, 14463, 14471, 14485, 14488, 14494, 14496, 14507, 14509, 14512, 14515, 14518, 14525, 14528, 14529, 14530, 14536, 14546, 14548, 14551, 14556, 14563, 14578, 14592, 14593, 14596, 14614, 14616, 14617, 14624, 14644, 14649, 14657, 14662, 14667, 14673, 14692, 14693, 14704, 14707, 14717, 14718, 14719, 14720, 14723, 14724, 14728, 14731, 14740, 14743, 14747, 14748, 14754, 14757, 14767, 14768, 14770, 14773, 14776, 14778, 14786, 14792, 14793, 14801, 14804, 14815, 14822, 14832, 14841, 14843, 14849, 14850, 14852, 14869, 14871, 14876, 14877, 14888, 14891, 14892, 14906, 14909, 14913, 14920, 14924, 14927, 14928, 14931, 14932, 14937, 14941, 14947, 14956, 14959, 14965, 14967, 14968, 14973, 14980, 14983, 14984, 14985, 14991, 14992, 15000, 15001, 15002, 15015, 15017, 15021, 15023, 15025, 15027, 15032, 15033, 15038, 15047, 15048, 15050, 15056, 15064, 15066, 15067, 15079, 15081, 15086, 15094, 15101, 15117, 15120, 15121, 15122, 15137, 15142, 15151, 15163, 15164, 15173, 15175, 15177, 15187, 15188, 15202, 15215, 15216, 15223, 15227, 15231, 15245, 15249, 15258, 15259, 15261, 15262, 15278, 15280, 15292, 15302, 15306, 15315, 15322, 15325, 15327, 15336, 15339, 15340, 15342, 15343, 15351, 15354, 15366, 15367, 15374, 15384, 15386, 15394, 15396, 15401, 15404, 15405, 15414, 15416, 15419, 15421, 15429, 15430, 15431, 15432, 15441, 15442, 15448, 15463, 15468, 15476, 15479, 15481, 15482, 15485, 15487, 15510, 15516, 15519, 15522, 15524, 15541, 15544, 15545, 15551, 15560, 15563, 15575, 15576, 15594, 15595, 15597, 15605, 15609, 15610, 15618, 15623, 15639, 15640, 15642, 15660, 15661, 15663, 15667, 15677, 15678, 15680, 15685, 15693, 15696, 15700, 15705, 15707, 15708, 15709, 15710, 15712, 15714, 15715, 15726, 15727, 15734, 15745, 15748, 15753, 15765, 15767, 15780, 15782, 15787, 15791, 15799, 15801, 15805, 15806, 15809, 15813, 15816, 15817, 15818, 15830, 15833, 15840, 15841, 15858, 15861, 15863, 15864, 15869, 15871, 15883, 15884, 15890, 15899, 15908, 15928, 15944, 15949, 15950, 15969, 15973, 15975, 15976, 15987, 15990, 15991, 15992, 15993, 16008, 16010, 16022, 16023, 16036, 16039, 16055, 16056, 16061, 16064, 16069, 16085, 16089, 16104, 16109, 16113, 16114, 16116, 16126, 16127, 16129, 16130, 16133, 16134, 16137, 16145, 16146, 16148, 16149, 16152, 16155, 16170, 16172, 16179, 16190, 16194, 16200, 16201, 16204, 16208, 16216, 16217, 16234, 16245, 16250, 16254, 16256, 16257, 16258, 16268, 16276, 16285, 16296, 16297, 16309, 16311, 16314, 16316, 16319, 16320, 16324, 16329, 16331, 16337, 16340, 16341, 16347, 16351, 16360, 16362, 16374, 16378, 16380, 16382, 16388, 16398, 16408, 16409, 16414, 16417, 16420, 16443, 16456, 16458, 16459, 16462, 16464, 16468, 16469, 16481, 16485, 16489, 16494, 16498, 16500, 16504, 16509, 16513, 16515, 16540, 16547, 16550, 16557, 16563, 16564, 16565, 16568, 16572, 16580, 16582, 16586, 16593, 16594, 16600, 16601, 16606, 16607, 16609, 16614, 16616, 16623, 16626, 16635, 16644, 16646, 16653, 16662, 16670, 16674, 16678, 16680, 16681, 16685, 16692, 16694, 16710, 16713, 16714, 16718, 16719, 16720, 16723, 16725, 16726, 16729, 16748, 16749, 16750, 16753, 16759, 16761, 16764, 16766, 16767, 16774, 16777, 16782, 16783, 16785, 16786, 16794, 16795, 16807, 16810, 16811, 16819, 16827, 16830, 16836, 16841, 16845, 16868, 16882, 16889, 16893, 16894, 16913, 16923, 16925, 16926, 16927, 16935, 16936, 16937, 16938, 16945, 16950, 16961, 16968, 16969, 16980, 16983, 16986, 16987, 16992, 16996, 17002, 17007, 17008, 17010, 17011, 17028, 17029, 17033, 17039, 17044, 17057, 17061, 17074, 17084, 17088, 17099, 17101, 17104, 17106, 17112, 17116, 17118, 17136, 17144, 17155, 17160, 17165, 17169, 17170, 17174, 17175, 17179, 17185, 17189, 17196, 17198, 17210, 17218, 17228, 17231, 17245, 17249, 17259, 17266, 17267, 17281, 17282, 17286, 17296, 17306, 17313, 17318, 17323, 17329, 17330, 17334, 17342, 17343, 17344, 17345, 17358, 17361, 17372, 17379, 17380, 17383, 17384, 17389, 17391, 17395, 17399, 17413, 17415, 17421, 17430, 17432, 17435, 17441, 17445, 17446, 17452, 17466, 17474, 17475, 17489, 17493, 17499, 17514, 17516, 17530, 17531, 17537, 17541, 17542, 17551, 17555, 17559, 17562, 17567, 17568, 17569, 17586, 17589, 17601, 17610, 17611, 17626, 17636, 17641, 17643, 17661, 17668, 17671, 17701, 17702, 17708, 17712, 17716, 17717, 17718, 17725, 17730, 17731, 17735, 17737, 17756, 17757, 17758, 17762, 17764, 17766, 17771, 17775, 17776, 17780, 17782, 17783, 17793, 17795, 17796, 17803, 17804, 17805, 17820, 17826, 17844, 17851, 17860, 17862, 17864, 17876, 17878, 17881, 17889, 17891, 17893, 17896, 17898, 17902, 17903, 17908, 17911, 17912, 17914, 17918, 17920, 17921, 17948, 17953, 17971, 17972, 17973, 17998, 18000, 18010, 18014, 18015, 18016, 18023, 18026, 18032, 18038, 18047, 18048, 18049, 18056, 18060, 18061, 18063, 18065, 18071, 18080, 18082, 18087, 18093, 18096, 18101, 18103, 18104, 18117, 18130, 18136, 18142, 18148, 18152, 18158, 18164, 18184, 18189, 18191, 18199, 18205, 18210, 18214, 18216, 18218, 18223, 18232, 18248, 18249, 18265, 18273, 18285, 18293, 18295, 18302, 18305, 18310, 18314, 18318, 18327, 18341, 18347, 18348, 18361, 18363, 18374, 18377, 18379, 18381, 18392, 18397, 18400, 18401, 18406, 18416, 18417, 18426, 18428, 18432, 18433, 18434, 18439, 18466, 18471, 18472, 18480, 18493, 18497, 18501, 18506, 18509, 18510, 18511, 18517, 18524, 18527, 18530, 18531, 18535, 18536, 18537, 18543, 18551, 18565, 18576, 18578, 18588, 18590, 18591, 18594, 18597, 18606, 18609, 18618, 18628, 18634, 18637, 18644, 18650, 18657, 18665, 18669, 18674, 18676, 18684, 18687, 18690, 18693, 18700, 18711, 18713, 18721, 18722, 18740, 18741, 18752, 18753, 18755, 18760, 18773, 18780, 18782, 18785, 18787, 18798, 18799, 18805, 18809, 18812, 18817, 18818, 18819, 18827, 18829, 18831, 18832, 18834, 18835, 18859, 18866, 18867, 18869, 18872, 18877, 18887, 18891, 18897, 18901, 18904, 18909, 18911, 18920, 18922, 18927, 18933, 18942, 18944, 18954, 18956, 18959, 18966, 18969, 18971, 18980, 18989, 18997, 19001, 19002, 19007, 19008, 19009, 19025, 19032, 19041, 19046, 19049, 19054, 19055, 19058, 19071, 19072, 19074, 19075, 19091, 19093, 19103, 19105, 19112, 19121, 19123, 19128, 19133, 19137, 19142, 19151, 19152, 19153, 19155, 19163, 19166, 19174, 19182, 19184, 19200, 19208, 19211, 19218, 19219, 19221, 19223, 19237, 19239, 19248, 19257, 19259, 19268, 19269, 19275, 19277, 19290, 19292, 19307, 19309, 19311, 19312, 19313, 19316, 19319, 19320, 19322, 19327, 19335, 19354, 19356, 19378, 19389, 19399, 19416, 19418, 19421, 19423, 19437, 19438, 19451, 19455, 19458, 19459, 19460, 19462, 19471, 19476, 19484, 19504, 19505, 19506, 19509, 19513, 19515, 19516, 19536, 19541, 19545, 19553, 19562, 19573, 19581, 19583, 19585, 19587, 19595, 19598, 19602, 19632, 19634, 19635, 19640, 19647, 19648, 19656, 19661, 19663, 19664, 19665, 19672, 19673, 19679, 19690, 19691, 19694, 19705, 19708, 19712, 19724, 19730, 19731, 19732, 19735, 19736, 19740, 19750, 19757, 19775, 19777, 19787, 19804, 19806, 19811, 19816, 19818, 19822, 19825, 19832, 19839, 19854, 19855, 19869, 19877, 19895, 19908, 19916, 19920, 19922, 19924, 19925, 19927, 19929, 19939, 19941, 19948, 19953, 19969, 19981, 19983, 19990, 19994, 20001, 20004, 20006, 20009, 20015, 20016, 20022, 20023, 20026, 20030, 20031, 20033, 20034, 20038, 20039, 20046, 20054, 20056, 20058, 20067, 20068, 20084, 20085, 20086, 20105, 20106, 20117, 20126, 20128, 20135, 20136, 20148, 20150, 20168, 20180, 20181, 20190, 20208, 20225, 20242, 20248, 20249, 20251, 20259, 20263, 20266, 20267, 20269, 20270, 20272, 20279, 20281, 20283, 20294, 20295, 20313, 20314, 20316, 20333, 20337, 20347, 20362, 20364, 20367, 20369, 20375, 20376, 20379, 20394, 20406, 20421, 20433, 20441, 20447, 20448, 20454, 20458, 20459, 20463, 20472, 20474, 20479, 20489, 20497, 20498, 20501, 20508, 20509, 20510, 20520, 20526, 20529, 20542, 20543, 20545, 20547, 20549, 20552, 20562, 20575, 20578, 20579, 20586, 20589, 20591, 20596, 20602, 20604, 20608, 20611, 20629, 20640, 20646, 20649, 20651, 20654, 20665, 20672, 20690, 20693, 20715, 20717, 20719, 20726, 20735, 20737, 20741, 20752, 20756, 20758, 20759, 20768, 20772, 20774, 20775, 20776, 20781, 20788, 20795, 20800, 20821, 20834, 20835, 20838, 20849, 20850, 20856, 20857, 20864, 20865, 20866, 20876, 20878, 20891, 20892, 20894, 20896, 20901, 20907, 20923, 20924, 20926, 20930, 20938, 20939, 20942, 20948, 20963, 20969, 20970, 20976, 20996, 21000, 21002, 21017, 21019, 21036, 21037, 21048, 21050, 21051, 21056, 21058, 21061, 21065, 21074, 21076, 21082, 21084, 21086, 21099, 21100, 21103, 21113, 21120, 21130, 21132, 21146, 21159, 21162, 21164, 21166, 21172, 21174, 21175, 21189, 21190, 21194, 21205, 21208, 21213, 21221, 21226, 21228, 21230, 21231, 21238, 21277, 21289, 21291, 21294, 21297, 21298, 21304, 21307, 21314, 21326, 21330, 21333, 21334, 21342, 21344, 21346, 21352, 21362, 21366, 21368, 21369, 21373, 21378, 21380, 21388, 21391, 21406, 21408, 21413, 21421, 21422, 21423, 21441, 21453, 21454, 21462, 21466, 21468, 21473, 21483, 21485, 21486, 21493, 21503, 21508, 21511, 21520, 21521, 21522, 21532, 21537, 21542, 21543, 21546, 21548, 21552, 21554, 21566, 21567, 21571, 21575, 21582, 21588, 21595, 21597, 21601, 21614, 21616, 21627, 21628, 21637, 21638, 21640, 21641, 21642, 21657, 21658, 21676, 21683, 21685, 21686, 21691, 21692, 21693, 21698, 21701, 21703, 21709, 21718, 21720, 21732, 21737, 21739, 21747, 21753, 21761, 21765, 21767, 21773, 21776, 21780, 21782, 21795, 21796, 21810, 21811, 21823, 21835, 21839, 21841, 21853, 21868, 21872, 21874, 21892, 21899, 21903, 21906, 21907, 21917, 21918, 21922, 21931, 21942, 21943, 21944, 21950, 21958, 21960, 21964, 21971, 21973, 21978, 21980, 21982, 21992, 21994, 21995, 21999, 22021, 22026, 22035, 22041, 22042, 22044, 22049, 22050, 22056, 22062, 22070, 22073, 22085, 22088, 22090, 22095, 22097, 22099, 22106, 22116, 22129, 22130, 22141, 22143, 22156, 22161, 22166, 22169, 22170, 22172, 22190, 22205, 22226, 22227, 22233, 22234, 22238, 22242, 22248, 22251, 22260, 22264, 22265, 22266, 22267, 22268, 22269, 22274, 22282, 22292, 22295, 22300, 22302, 22303, 22307, 22308, 22323, 22337, 22339, 22358, 22362, 22365, 22367, 22377, 22384, 22389, 22393, 22394, 22400, 22403, 22404, 22405, 22410, 22417, 22418, 22420, 22434, 22436, 22443, 22449, 22451, 22453, 22454, 22455, 22456, 22468, 22473, 22474, 22477, 22479, 22481, 22494, 22501, 22507, 22510, 22511, 22515, 22518, 22521, 22524, 22527, 22547, 22548, 22550, 22565, 22566, 22578, 22609, 22614, 22621, 22622, 22624, 22632, 22639, 22645, 22652, 22658, 22659, 22660, 22665, 22674, 22675, 22687, 22692, 22705, 22706, 22707, 22712, 22718, 22726, 22727, 22734, 22736, 22737, 22740, 22742, 22744, 22745, 22747, 22755, 22757, 22767, 22769, 22772, 22782, 22790, 22793, 22795, 22804, 22814, 22816, 22827, 22837, 22838, 22839, 22842, 22844, 22850, 22854, 22858, 22861, 22865, 22876, 22883, 22895, 22901, 22909, 22924, 22925, 22928, 22931, 22933, 22935, 22938, 22940, 22951, 22955, 22965, 22971, 22973, 22975, 22988, 22989, 22990, 22991, 22999, 23001, 23002, 23007, 23012, 23021, 23030, 23032, 23033, 23044, 23054, 23059, 23064, 23067, 23068, 23075, 23076, 23083, 23086, 23090, 23093, 23094, 23107, 23112, 23125, 23130, 23138, 23139, 23142, 23156, 23158, 23168, 23170, 23172, 23174, 23175, 23184, 23187, 23189, 23193, 23202, 23203, 23206, 23209, 23214, 23215, 23230, 23232, 23249, 23252, 23254, 23262, 23265, 23271, 23273, 23277, 23279, 23283, 23289, 23305, 23320, 23322, 23327, 23330, 23332, 23337, 23338, 23339, 23340, 23352, 23353, 23354, 23357, 23362, 23364, 23366, 23368, 23370, 23372, 23374, 23384, 23389, 23392, 23394, 23397, 23404, 23407, 23411, 23414, 23415, 23416, 23419, 23427, 23439, 23443, 23445, 23460, 23463, 23465, 23477, 23480, 23481, 23482, 23486, 23491, 23496, 23498, 23499, 23500, 23502, 23512, 23514, 23519, 23529, 23532, 23546, 23549, 23551, 23559, 23568, 23570, 23573, 23575, 23578, 23586, 23587, 23590, 23594, 23598, 23609, 23626, 23633, 23638, 23639, 23640, 23647, 23655, 23671, 23672, 23673, 23678, 23680, 23682, 23690, 23692, 23701, 23705, 23712, 23714, 23719, 23724, 23727, 23737, 23744, 23746, 23751, 23772, 23778, 23780, 23787, 23792, 23794, 23803, 23810, 23812, 23817, 23825, 23826, 23830, 23831, 23841, 23843, 23848, 23849, 23869, 23871, 23873, 23886, 23894, 23907, 23908, 23910, 23915, 23923, 23926, 23933, 23934, 23937, 23939, 23940, 23942, 23945, 23948, 23949, 23955, 23970, 23984, 23986, 23996, 23998, 24006, 24008, 24022, 24029, 24031, 24034, 24035, 24043, 24047, 24049, 24062, 24068, 24072, 24075, 24081, 24090, 24121, 24124, 24125, 24129, 24134, 24138, 24155, 24157, 24162, 24184, 24185, 24194, 24195, 24210, 24211, 24213, 24223, 24235, 24236, 24238, 24241, 24245, 24246, 24257, 24261, 24262, 24269, 24282, 24292, 24303, 24304, 24305, 24307, 24329, 24340, 24343, 24346, 24355, 24356, 24358, 24361, 24364, 24365, 24372, 24373, 24374, 24398, 24401, 24402, 24413, 24415, 24416, 24424, 24437, 24440, 24441, 24446, 24453, 24454, 24455, 24456, 24458, 24460, 24470, 24473, 24475, 24476, 24481, 24488, 24490, 24495, 24507, 24508, 24520, 24533, 24535, 24539, 24541, 24543, 24544, 24553, 24560, 24562, 24565, 24586, 24591, 24593, 24594, 24597, 24599, 24604, 24618, 24620, 24623, 24633, 24636, 24638, 24649, 24653, 24654, 24655, 24658, 24659, 24661, 24674, 24675, 24676, 24678, 24682, 24689, 24691, 24700, 24701, 24706, 24710, 24718, 24723, 24726, 24730, 24733, 24740, 24744, 24745, 24751, 24767, 24780, 24785, 24787, 24790, 24802, 24811, 24818, 24820, 24826, 24830, 24833, 24841, 24845, 24849, 24851, 24854, 24857, 24858, 24862, 24864, 24877, 24879, 24889, 24890, 24892, 24901, 24902, 24905, 24907, 24912, 24916, 24923, 24927, 24929, 24933, 24935, 24938, 24942, 24944, 24960, 24961, 24966, 24967, 24978, 24980, 24986, 24996, 24997, 25003, 25004, 25007, 25012, 25013, 25021, 25026, 25037, 25040, 25050, 25052, 25062, 25064, 25066, 25071, 25073, 25074, 25076, 25077, 25083, 25088, 25094, 25096, 25097, 25109, 25112, 25115, 25121, 25133, 25149, 25150, 25154, 25161, 25162, 25180, 25181, 25182, 25192, 25197, 25203, 25208, 25213, 25239, 25255, 25256, 25259, 25261, 25267, 25284, 25288, 25291, 25294, 25311, 25312, 25317, 25318, 25323, 25327, 25336, 25337, 25343, 25362, 25363, 25365, 25366, 25369, 25382, 25383, 25398, 25402, 25405, 25409, 25410, 25411, 25414, 25424, 25429, 25435, 25436, 25440, 25441, 25447, 25450, 25458, 25460, 25465, 25467, 25478, 25480, 25483, 25493, 25495, 25496, 25498, 25503, 25508, 25513, 25518, 25521, 25522, 25528, 25529, 25532, 25534, 25538, 25541, 25551, 25559, 25561, 25563, 25564, 25570, 25573, 25575, 25584, 25589, 25592, 25595, 25596, 25603, 25607, 25608, 25611, 25630, 25637, 25641, 25652, 25653, 25654, 25665, 25675, 25677, 25679, 25682, 25690, 25701, 25702, 25705, 25714, 25717, 25719, 25723, 25724, 25727, 25739, 25745, 25746, 25748, 25753, 25758, 25762, 25766, 25767, 25781, 25792, 25793, 25796, 25805, 25810, 25822, 25825, 25827, 25831, 25840, 25843, 25844, 25852, 25859, 25862, 25863, 25866, 25869, 25870, 25871, 25878, 25879, 25885, 25901, 25907, 25919, 25928, 25935, 25936, 25937, 25940, 25946, 25948, 25954, 25967, 25968, 25974, 25979, 25980, 25983, 25986, 25992, 26001, 26004, 26018, 26019, 26020, 26023, 26033, 26034, 26036, 26038, 26043, 26045, 26048, 26064, 26065, 26066, 26070, 26075, 26101, 26102, 26104, 26117, 26133, 26134, 26145, 26150, 26152, 26153, 26156, 26168, 26176, 26193, 26197, 26201, 26227, 26232, 26233, 26234, 26235, 26240, 26245, 26248, 26249, 26257, 26259, 26261, 26263, 26271, 26276, 26277, 26280, 26281, 26284, 26287, 26294, 26304, 26311, 26319, 26324, 26337, 26347, 26353, 26366, 26370, 26374, 26376, 26383, 26390, 26398, 26399, 26400, 26404, 26406, 26412, 26415, 26420, 26427, 26435, 26437, 26438, 26440, 26442, 26443, 26445, 26446, 26447, 26454, 26455, 26465, 26479, 26483, 26489, 26498, 26500, 26501, 26503, 26512, 26517, 26526, 26528, 26538, 26545, 26546, 26549, 26568, 26578, 26581, 26583, 26584, 26587, 26591, 26603, 26609, 26613, 26619, 26625, 26627, 26628, 26631, 26636, 26639, 26648, 26654, 26658, 26666, 26669, 26672, 26682, 26685, 26688, 26695, 26698, 26700, 26708, 26715, 26716, 26718, 26720, 26728, 26730, 26734, 26740, 26741, 26742, 26758, 26764, 26769, 26771, 26775, 26776, 26780, 26781, 26790, 26802, 26804, 26806, 26819, 26823, 26826, 26836, 26837, 26843, 26847, 26852, 26854, 26879, 26882, 26884, 26894, 26899, 26906, 26915, 26926, 26927, 26934, 26943, 26947, 26949, 26953, 26962, 26966, 26971, 26975, 26976, 26986, 26994, 26998, 27004, 27008, 27009, 27019, 27022, 27024, 27037, 27053, 27062, 27063, 27068, 27069, 27070, 27072, 27073, 27076, 27078, 27080, 27086, 27088, 27095, 27098, 27101, 27103, 27108, 27114, 27123, 27136, 27139, 27140, 27142, 27165, 27167, 27171, 27209, 27212, 27218, 27221, 27234, 27238, 27244, 27247, 27251, 27259, 27261, 27264, 27265, 27272, 27273, 27276, 27283, 27285, 27293, 27300, 27305, 27307, 27310, 27312, 27324, 27331, 27334, 27337, 27338, 27351, 27354, 27369, 27372, 27373, 27376, 27385, 27387, 27394, 27404, 27405, 27406, 27418, 27420, 27421, 27432, 27442, 27449, 27457, 27481, 27486, 27491, 27493, 27494, 27497, 27498, 27503, 27504, 27510, 27511, 27512, 27513, 27521, 27532, 27552, 27555, 27556, 27557, 27561, 27575, 27576, 27577, 27582, 27591, 27594, 27596, 27597, 27610, 27611, 27623, 27625, 27635, 27642, 27661, 27665, 27670, 27676, 27685, 27686, 27692, 27697, 27702, 27710, 27712, 27714, 27716, 27719, 27720, 27722, 27734, 27738, 27742, 27758, 27770, 27772, 27782, 27784, 27786, 27787, 27795, 27803, 27806, 27807, 27817, 27822, 27825, 27828, 27834, 27838, 27842, 27843, 27854, 27858, 27862, 27863, 27865, 27866, 27875, 27881, 27882, 27885, 27889, 27891, 27893, 27904, 27905, 27907, 27908, 27914, 27917, 27920, 27922, 27937, 27938, 27941, 27943, 27946, 27948, 27952, 27954, 27965, 27966, 27968, 27974, 27976, 27982, 27983, 27989, 27992, 27998, 28000, 28003, 28011, 28014, 28018, 28020, 28021, 28024, 28027, 28033, 28049, 28056, 28058, 28059, 28060, 28061, 28063, 28066, 28075, 28077, 28081, 28083, 28092, 28096, 28097, 28101, 28103, 28109, 28111, 28112, 28113, 28116, 28122, 28129, 28131, 28139, 28141, 28144, 28146, 28149, 28154, 28163, 28177, 28189, 28199, 28200, 28201, 28203, 28204, 28226, 28236, 28237, 28240, 28242, 28245, 28251, 28260, 28268, 28276, 28284, 28288, 28293, 28294, 28308, 28313, 28319, 28320, 28322, 28333, 28335, 28339, 28340, 28342, 28346, 28347, 28351, 28354, 28355, 28357, 28367, 28390, 28399, 28400, 28403, 28414, 28417, 28422, 28430, 28431, 28433, 28434, 28438, 28455, 28457, 28472, 28474, 28478, 28487, 28491, 28498, 28500, 28512, 28523, 28525, 28527, 28535, 28546, 28551, 28557, 28566, 28572, 28593, 28597, 28598, 28609, 28610, 28619, 28625, 28626, 28634, 28640, 28641, 28643, 28648, 28662, 28664, 28665, 28666, 28673, 28677, 28683, 28684, 28685, 28686, 28698, 28701, 28703, 28705, 28712, 28725, 28726, 28731, 28752, 28753, 28767, 28787, 28790, 28791, 28795, 28798, 28804, 28805, 28813, 28818, 28834, 28836, 28840, 28844, 28848, 28849, 28852, 28856, 28857, 28859, 28861, 28868, 28871, 28876, 28881, 28889, 28890, 28893, 28896, 28899, 28903, 28905, 28918, 28921, 28931, 28934, 28938, 28943, 28947, 28953, 28966, 28974, 28982, 28984, 28985, 28999, 29001, 29002, 29005, 29013, 29015, 29018, 29020, 29021, 29034, 29036, 29037, 29051, 29052, 29061, 29069, 29074, 29078, 29092, 29109, 29110, 29113, 29128, 29134, 29141, 29142, 29150, 29156, 29157, 29162, 29175, 29180, 29187, 29207, 29210, 29216, 29217, 29219, 29220, 29222, 29226, 29229, 29232, 29237, 29239, 29243, 29246, 29257, 29262, 29265, 29273, 29275, 29281, 29296, 29298, 29306, 29314, 29316, 29331, 29333, 29335, 29345, 29350, 29352, 29357, 29368, 29369, 29371, 29372, 29380, 29383, 29385, 29388, 29389, 29390, 29402, 29409, 29410, 29418, 29428, 29436, 29440, 29442, 29451, 29455, 29456, 29458, 29461, 29464, 29471, 29483, 29484, 29490, 29498, 29499, 29503, 29511, 29519, 29525, 29528, 29538, 29543, 29547, 29557, 29564, 29567, 29569, 29576, 29579, 29580, 29589, 29590, 29602, 29604, 29609, 29611, 29618, 29620, 29622, 29626, 29634, 29640, 29654, 29657, 29658, 29660, 29664, 29671, 29674, 29682, 29684, 29692, 29694, 29695, 29701, 29707, 29709, 29710, 29717, 29719, 29720, 29722, 29726, 29731, 29732, 29734, 29735, 29737, 29742, 29754, 29755, 29757, 29765, 29771, 29778, 29783, 29794, 29797, 29800, 29805, 29822, 29829, 29831, 29834, 29838, 29843, 29847, 29849, 29850, 29860, 29863, 29878, 29880, 29884, 29888, 29891, 29892, 29894, 29897, 29898, 29899, 29903, 29905, 29908, 29915, 29918, 29922, 29924, 29928, 29934, 29954, 29958, 29960, 29981, 29984, 29986, 29987, 29990, 29997, 30000, 30006, 30007, 30012, 30017, 30018, 30030, 30034, 30038, 30049, 30056, 30058, 30061, 30071, 30072, 30074, 30101, 30109, 30110, 30121, 30134, 30137, 30145, 30157, 30159, 30162, 30165, 30180, 30187, 30188, 30191, 30193, 30198, 30204, 30205, 30207, 30211, 30216, 30221, 30233, 30235, 30245, 30250, 30261, 30264, 30265, 30266, 30268, 30270, 30271, 30274, 30292, 30294, 30297, 30333, 30339, 30340, 30342, 30345, 30348, 30353, 30354, 30358, 30371, 30377, 30380, 30387, 30388, 30389, 30400, 30402, 30408, 30420, 30439, 30441, 30442, 30458, 30472, 30474, 30483, 30484, 30486, 30488, 30493, 30501, 30506, 30510, 30525, 30530, 30531, 30533, 30543, 30544, 30545, 30549, 30553, 30557, 30558, 30559, 30582, 30598, 30599, 30622, 30629, 30637, 30638, 30640, 30653, 30655, 30661, 30682, 30692, 30699, 30710, 30715, 30717, 30721, 30730, 30743, 30750, 30752, 30759, 30772, 30773, 30776, 30783, 30788, 30789, 30798, 30799, 30802, 30803, 30813, 30818, 30832, 30842, 30850, 30865, 30867, 30875, 30886, 30901, 30902, 30903, 30910, 30911, 30912, 30916, 30920, 30929, 30931, 30937, 30943, 30953, 30973, 30977, 30982, 30986, 30994, 30995, 31012, 31022, 31024, 31027, 31029, 31039, 31044, 31046, 31047, 31054, 31056, 31068, 31072, 31080, 31082, 31083, 31087, 31101, 31104, 31112, 31114, 31123, 31128, 31131, 31134, 31140, 31148, 31159, 31167, 31179, 31193, 31195, 31196, 31198, 31204, 31211, 31213, 31214, 31218, 31227, 31230, 31233, 31236, 31237, 31244, 31249, 31255, 31262, 31263, 31279, 31299, 31300, 31307, 31312, 31328, 31331, 31332, 31334, 31336, 31337, 31338, 31342, 31343, 31354, 31357, 31358, 31362, 31364, 31368, 31376, 31380, 31381, 31386, 31388, 31401, 31409, 31413, 31417, 31421, 31433, 31437, 31439, 31452, 31456, 31458, 31470, 31471, 31477, 31481, 31484, 31493, 31501, 31505, 31506, 31510, 31521, 31526, 31527, 31530, 31537, 31539, 31563, 31567, 31569, 31571, 31580, 31583, 31588, 31589, 31591, 31595, 31602, 31608, 31612, 31613, 31614, 31615, 31630, 31647, 31649, 31655, 31657, 31661, 31662, 31670, 31672, 31682, 31686, 31688, 31690, 31691, 31693, 31700, 31705, 31706, 31707, 31710, 31715, 31718, 31719, 31726, 31734, 31738, 31744, 31745, 31749, 31752, 31753, 31755, 31757, 31761, 31780, 31781, 31787, 31797, 31804, 31811, 31812, 31813, 31827, 31828, 31830, 31831, 31833, 31839, 31841, 31846, 31851, 31852, 31854, 31858, 31865, 31869, 31879, 31885, 31889, 31891, 31892, 31894, 31899, 31900, 31918, 31919, 31923, 31925, 31926, 31934, 31938, 31947, 31953, 31957, 31964, 31967, 31968, 31973, 31977, 31986, 31987, 32001, 32003, 32004, 32021, 32023, 32024, 32027, 32034, 32039, 32040, 32050, 32052, 32064, 32077, 32078, 32079, 32085, 32091, 32097, 32100, 32108, 32111, 32114, 32115, 32117, 32126, 32129, 32132, 32134, 32136, 32142, 32143, 32146, 32152, 32158, 32164, 32176, 32178, 32190, 32191, 32207, 32208, 32217, 32221, 32222, 32228, 32231, 32232, 32236, 32237, 32240, 32247, 32255, 32257, 32260, 32263, 32272, 32278, 32281, 32287, 32288, 32311, 32318, 32326, 32330, 32335, 32339, 32341, 32348, 32363, 32365, 32366, 32376, 32380, 32386, 32387, 32389, 32400, 32402, 32403, 32410, 32414, 32418, 32427, 32435, 32448, 32450, 32454, 32459, 32480, 32481, 32497, 32515, 32517, 32518, 32520, 32523, 32532, 32533, 32534, 32539, 32542, 32551, 32552, 32553, 32555, 32565, 32568, 32574, 32575, 32582, 32588, 32595, 32603, 32616, 32621, 32624, 32626, 32628, 32631, 32633, 32638, 32642, 32643, 32647, 32654, 32655, 32659, 32662, 32663, 32688, 32701, 32703, 32704, 32705, 32721, 32722, 32765, 32770, 32773, 32774, 32777, 32785, 32788, 32790, 32805, 32806, 32808, 32817, 32820, 32832, 32837, 32846, 32847, 32852, 32853, 32856, 32866, 32867, 32872, 32878, 32887, 32890, 32895, 32900, 32903, 32907, 32913, 32914, 32915, 32916, 32924, 32926, 32927, 32928, 32930, 32940, 32941, 32960, 32962, 32964, 32967, 32980, 32983, 32984, 32986, 32996, 33004, 33007, 33010, 33014, 33023, 33024, 33037, 33040, 33045, 33062, 33065, 33069, 33083, 33084, 33085, 33098, 33100, 33108, 33112, 33116, 33119, 33133, 33134, 33135, 33136, 33154, 33159, 33167, 33173, 33188, 33193, 33205, 33207, 33217, 33220, 33221, 33222, 33223, 33228, 33260, 33269, 33270, 33277, 33279, 33283, 33289, 33292, 33294, 33300, 33306, 33308, 33316, 33332, 33339, 33348, 33350, 33363, 33365, 33368, 33382, 33384, 33390, 33410, 33413, 33425, 33431, 33433, 33437, 33440, 33450, 33454, 33457, 33458, 33465, 33477, 33485, 33494, 33503, 33505, 33512, 33517, 33519, 33524, 33532, 33534, 33539, 33542, 33553, 33563, 33564, 33565, 33571, 33575, 33576, 33579, 33585, 33594, 33600, 33603, 33612, 33616, 33622, 33625, 33628, 33632, 33636, 33639, 33649, 33650, 33660, 33662, 33663, 33669, 33678, 33684, 33685, 33692, 33697, 33705, 33707, 33708, 33709, 33712, 33716, 33721, 33724, 33725, 33726, 33735, 33738, 33741, 33744, 33750, 33757, 33773, 33776, 33787, 33792, 33799, 33801, 33802, 33804, 33811, 33818, 33828, 33829, 33835, 33849, 33856, 33859, 33860, 33866, 33869, 33871, 33872, 33873, 33876, 33898, 33903, 33907, 33912, 33925, 33926, 33927, 33935, 33945, 33953, 33960, 33968, 33969, 33983, 33984, 33985, 33991, 33995, 33998, 33999, 34002, 34012, 34015, 34017, 34020, 34027, 34028, 34035, 34039, 34043, 34050, 34052, 34059, 34060, 34066, 34073, 34079, 34080, 34082, 34095, 34110, 34112, 34116, 34118, 34122, 34127, 34129, 34130, 34132, 34138, 34145, 34148, 34151, 34160, 34163, 34169, 34175, 34182, 34184, 34185, 34188, 34191, 34196, 34199, 34205, 34209, 34214, 34230, 34244, 34249, 34254, 34259, 34261, 34265, 34271, 34275, 34278, 34288, 34293, 34300, 34303, 34304, 34310, 34315, 34322, 34325, 34339, 34342, 34343, 34358, 34359, 34361, 34372, 34374, 34394, 34399, 34400, 34403, 34407, 34415, 34424, 34428, 34430, 34434, 34443, 34449, 34450, 34452, 34462, 34472, 34476, 34478, 34479, 34481, 34482, 34483, 34490, 34492, 34496, 34500, 34501, 34516, 34521, 34522, 34523, 34534, 34543, 34544, 34546, 34551, 34559, 34561, 34565, 34568, 34571, 34578, 34581, 34588, 34591, 34595, 34601, 34605, 34615, 34626, 34640, 34648, 34657, 34659, 34662, 34666, 34667, 34668, 34675, 34688, 34690, 34692, 34698, 34706, 34711, 34722, 34724, 34731, 34734, 34735, 34739, 34755, 34761, 34762, 34770, 34781, 34798, 34800, 34801, 34807, 34810, 34814, 34815, 34817, 34818, 34819, 34822, 34824, 34827, 34832, 34836, 34838, 34845, 34851, 34862, 34863, 34876, 34882, 34903, 34919, 34921, 34927, 34930, 34931, 34933, 34936, 34946, 34949, 34951, 34952, 34954, 34957, 34973, 34979, 34982, 34986, 34989, 34993, 34997, 34998, 35001, 35002, 35009, 35020, 35028, 35029, 35030, 35031, 35033, 35051, 35057, 35058, 35059, 35062, 35074, 35076, 35077, 35079, 35090, 35091, 35092, 35093, 35099, 35101, 35103, 35106, 35113, 35114, 35117, 35120, 35122, 35126, 35133, 35135, 35137, 35145, 35152, 35157, 35161, 35164, 35168, 35169, 35176, 35178, 35188, 35192, 35196, 35202, 35204, 35205, 35210, 35211, 35213, 35219, 35225, 35227, 35228, 35229, 35240, 35242, 35243, 35247, 35255, 35260, 35267, 35268, 35269, 35270, 35271, 35275, 35277, 35278, 35280, 35287, 35293, 35302, 35303, 35305, 35308, 35309, 35314, 35328, 35344, 35351, 35352, 35353, 35354, 35355, 35356, 35358, 35362, 35370, 35374, 35376, 35377, 35380, 35386, 35392, 35398, 35400, 35405, 35408, 35411, 35419, 35424, 35427, 35429, 35441, 35442, 35445, 35454, 35462, 35463, 35467, 35468, 35474, 35488, 35493, 35495, 35499, 35501, 35502, 35514, 35515, 35527, 35529, 35533, 35535, 35536, 35538, 35554, 35557, 35563, 35570, 35575, 35584, 35586, 35600, 35602, 35603, 35605, 35621, 35623, 35636, 35641, 35643, 35646, 35653, 35656, 35659, 35665, 35673, 35676, 35682, 35687, 35691, 35694, 35698, 35700, 35707, 35708, 35710, 35716, 35729, 35738, 35743, 35750, 35756, 35761, 35763, 35764, 35774, 35776, 35791, 35793, 35807, 35808, 35813, 35823, 35825, 35835, 35836, 35839, 35848, 35867, 35875, 35877, 35884, 35889, 35900, 35902, 35909, 35910, 35916, 35919, 35921, 35922, 35924, 35930, 35932, 35947, 35959, 35960, 35962, 35969, 35970, 35971, 35972, 35973, 35984, 35990, 35994, 35995, 36001, 36003, 36005, 36012, 36015, 36017, 36025, 36031, 36037, 36038, 36042, 36046, 36051, 36056, 36062, 36067, 36070, 36076, 36084, 36088, 36100, 36103, 36105, 36108, 36113, 36114, 36116, 36117, 36119, 36132, 36143, 36148, 36158, 36159, 36163, 36174, 36180, 36185, 36197, 36199, 36204, 36208, 36213, 36214, 36236, 36259, 36262, 36265, 36269, 36273, 36281, 36282, 36285, 36296, 36301, 36303, 36307, 36308, 36310, 36311, 36321, 36322, 36329, 36330, 36334, 36344, 36355, 36356, 36366, 36372, 36376, 36379, 36382, 36384, 36386, 36387, 36389, 36403, 36409, 36414, 36433, 36438, 36440, 36441, 36442, 36464, 36465, 36481, 36483, 36484, 36490, 36492, 36505, 36507, 36520, 36523, 36528, 36533, 36541, 36543, 36546, 36547, 36553, 36565, 36569, 36574, 36578, 36581, 36586, 36592, 36599, 36600, 36614, 36615, 36621, 36628, 36634, 36636, 36640, 36643, 36649, 36651, 36657, 36660, 36661, 36663, 36670, 36673, 36681, 36683, 36686, 36696, 36697, 36702, 36708, 36712, 36715, 36719, 36720, 36723, 36726, 36731, 36734, 36735, 36739, 36741, 36753, 36757, 36758, 36762, 36763, 36765, 36776, 36781, 36790, 36799, 36800, 36805, 36809, 36812, 36822, 36829, 36837, 36838, 36839, 36840, 36844, 36846, 36869, 36871, 36875, 36888, 36897, 36898, 36914, 36916, 36918, 36930, 36931, 36950, 36956, 36961, 36962, 36965, 36972, 36977, 36982, 36990, 36996, 36997, 37000, 37004, 37006, 37008, 37009, 37014, 37022, 37034, 37035, 37045, 37047, 37048, 37050, 37059, 37060, 37062, 37067, 37071, 37072, 37075, 37077, 37085, 37090, 37091, 37098, 37100, 37105, 37106, 37112, 37120, 37129, 37135, 37136, 37142, 37160, 37177, 37196, 37197, 37205, 37206, 37209, 37215, 37224, 37232, 37239, 37263, 37265, 37266, 37271, 37275, 37280, 37293, 37297, 37301, 37303, 37313, 37315, 37317, 37328, 37330, 37332, 37333, 37334, 37337, 37339, 37341, 37369, 37370, 37374, 37385, 37387, 37394, 37399, 37400, 37402, 37403, 37413, 37415, 37419, 37420, 37425, 37427, 37429, 37439, 37441, 37446, 37448, 37466, 37469, 37475, 37496, 37497, 37500, 37502, 37506, 37512, 37514, 37523, 37530, 37533, 37547, 37561, 37576, 37578, 37583, 37585, 37586, 37594, 37597, 37612, 37613, 37614, 37627, 37630, 37639, 37642, 37643, 37645, 37646, 37653, 37658, 37662, 37664, 37667, 37672, 37674, 37680, 37682, 37684, 37690, 37694, 37698, 37700, 37703, 37711, 37713, 37721, 37726, 37727, 37735, 37737, 37746, 37748, 37753, 37757, 37764, 37769, 37777, 37781, 37789, 37797, 37803, 37817, 37820, 37837, 37843, 37844, 37845, 37851, 37856, 37859, 37863, 37868, 37869, 37873, 37876, 37885, 37889, 37895, 37897, 37901, 37927, 37929, 37934, 37936, 37938, 37953, 37957, 37967, 37974, 37984, 37985, 37986, 37988, 37989, 38000, 38010, 38017, 38023, 38024, 38030, 38040, 38050, 38057, 38058, 38059, 38060, 38065, 38087, 38110, 38112, 38125, 38127, 38128, 38130, 38138, 38147, 38148, 38150, 38151, 38152, 38154, 38160, 38165, 38192, 38199, 38202, 38204, 38205, 38218, 38223, 38229, 38232, 38233, 38248, 38253, 38271, 38273, 38291, 38293, 38302, 38304, 38307, 38309, 38311, 38314, 38321, 38325, 38327, 38329, 38332, 38334, 38336, 38337, 38339, 38347, 38355, 38362, 38366, 38369, 38375, 38381, 38391, 38392, 38396, 38402, 38411, 38421, 38425, 38429, 38442, 38444, 38449, 38450, 38452, 38465, 38467, 38470, 38472, 38481, 38483, 38485, 38489, 38497, 38499, 38504, 38508, 38511, 38516, 38532, 38539, 38545, 38546, 38547, 38551, 38552, 38554, 38561, 38570, 38575, 38583, 38584, 38597, 38598, 38599, 38605, 38613, 38614, 38615, 38624, 38643, 38647, 38649, 38650, 38655, 38656, 38662, 38665, 38668, 38684, 38685, 38692, 38696, 38699, 38703, 38721, 38727, 38730, 38733, 38737, 38747, 38753, 38766, 38767, 38788, 38790, 38803, 38804, 38810, 38817, 38823, 38824, 38828, 38839, 38844, 38852, 38854, 38857, 38860, 38864, 38874, 38876, 38881, 38885, 38889, 38890, 38898, 38913, 38914, 38915, 38938, 38943, 38945, 38946, 38957, 38966, 38970, 38980, 38984, 38988, 38994, 39000, 39003, 39005, 39009, 39013, 39016, 39018, 39019, 39022, 39023, 39031, 39035, 39037, 39039, 39048, 39053, 39057, 39058, 39070, 39076, 39087, 39091, 39092, 39119, 39123, 39128, 39130, 39133, 39144, 39158, 39161, 39172, 39194, 39196, 39201, 39211, 39219, 39220, 39225, 39229, 39232, 39236, 39246, 39249, 39252, 39257, 39259, 39263, 39264, 39277, 39295, 39310, 39316, 39322, 39332, 39348, 39350, 39354, 39360, 39361, 39365, 39379, 39389, 39392, 39395, 39398, 39399, 39415, 39424, 39426, 39427, 39430, 39435, 39440, 39449, 39453, 39458, 39459, 39468, 39484, 39485, 39503, 39510, 39515, 39524, 39525, 39526, 39539, 39545, 39553, 39567, 39568, 39575, 39576, 39585, 39586, 39588, 39589, 39604, 39606, 39609, 39610, 39612, 39618, 39623, 39624, 39633, 39635, 39642, 39649, 39651, 39652, 39654, 39655, 39656, 39669, 39670, 39671, 39672, 39680, 39684, 39685, 39693, 39698, 39706, 39714, 39715, 39716, 39725, 39731, 39734, 39744, 39747, 39750, 39751, 39753, 39759, 39767, 39776, 39785, 39786, 39787, 39793, 39797, 39798, 39809, 39812, 39818, 39821, 39824, 39827, 39832, 39840, 39842, 39843, 39861, 39864, 39866, 39868, 39869, 39871, 39885, 39889, 39890, 39894, 39902, 39909, 39923, 39924, 39925, 39933, 39945, 39948, 39963, 39978, 39979, 39980, 39988, 39994, 40004, 40013, 40015, 40021, 40023, 40025, 40029, 40035, 40038, 40045, 40050, 40055, 40056, 40059, 40063, 40066, 40067, 40082, 40085, 40086, 40091, 40093, 40101, 40103, 40105, 40112, 40113, 40123, 40134, 40135, 40151, 40155, 40156, 40157, 40159, 40161, 40162, 40163, 40164, 40174, 40180, 40186, 40189, 40197, 40204, 40206, 40209, 40213, 40214, 40219, 40221, 40231, 40239, 40243, 40245, 40248, 40254, 40255, 40273, 40274, 40281, 40289, 40291, 40303, 40305, 40307, 40314, 40319, 40337, 40338, 40340, 40342, 40343, 40353, 40355, 40358, 40359, 40363, 40370, 40376, 40379, 40382, 40385, 40388, 40397, 40400, 40405, 40420, 40433, 40439, 40440, 40443, 40447, 40451, 40453, 40455, 40457, 40459, 40465, 40472, 40477, 40478, 40481, 40485, 40491, 40503, 40505, 40506, 40511, 40513, 40528, 40529, 40537, 40550, 40557, 40558, 40561, 40579, 40585, 40591, 40594, 40599, 40603, 40605, 40614, 40623, 40629, 40630, 40633, 40635, 40639, 40643, 40646, 40648, 40664, 40667, 40670, 40671, 40678, 40686, 40694, 40698, 40706, 40716, 40721, 40724, 40728, 40729, 40734, 40736, 40739, 40746, 40747, 40749, 40758, 40762, 40764, 40769, 40784, 40785, 40801, 40803, 40818, 40821, 40823, 40844, 40851, 40852, 40854, 40855, 40856, 40862, 40863, 40871, 40874, 40879, 40887, 40905, 40909, 40919, 40920, 40921, 40925, 40929, 40948, 40951, 40957, 40959, 40969, 40971, 40973, 40975, 40976, 40977, 40988, 40989, 40994, 40996, 40998, 41003, 41008, 41009, 41010, 41021, 41022, 41033, 41034, 41035, 41036, 41037, 41040, 41044, 41059, 41060, 41067, 41068, 41070, 41075, 41079, 41083, 41092, 41093, 41099, 41103, 41104, 41107, 41113, 41151, 41152, 41168, 41169, 41170, 41177, 41181, 41187, 41188, 41190, 41199, 41202, 41208, 41211, 41213, 41225, 41228, 41240, 41243, 41249, 41251, 41252, 41255, 41260, 41269, 41282, 41297, 41305, 41307, 41308, 41310, 41314, 41316, 41320, 41321, 41324, 41334, 41335, 41351, 41361, 41362, 41368, 41376, 41377, 41394, 41410, 41411, 41416, 41417, 41420, 41436, 41437, 41442, 41445, 41449, 41457, 41458, 41461, 41481, 41488, 41494, 41507, 41518, 41519, 41520, 41521, 41524, 41528, 41537, 41539, 41548, 41550, 41560, 41565, 41569, 41570, 41571, 41574, 41582, 41592, 41595, 41598, 41602, 41603, 41605, 41606, 41611, 41618, 41622, 41631, 41632, 41656, 41659, 41664, 41665, 41675, 41677, 41678, 41681, 41687, 41692, 41701, 41702, 41706, 41709, 41711, 41715, 41723, 41725, 41743, 41745, 41751, 41760, 41761, 41769, 41771, 41774, 41776, 41787, 41795, 41810, 41821, 41825, 41826, 41836, 41838, 41840, 41841, 41843, 41845, 41858, 41867, 41877, 41879, 41881, 41882, 41885, 41887, 41891, 41896, 41897, 41899, 41903, 41905, 41912, 41916, 41917, 41926, 41927, 41934, 41937, 41940, 41941, 41960, 41971, 41972, 41976, 41993, 42007, 42023, 42025, 42026, 42035, 42038, 42045, 42054, 42055, 42065, 42073, 42076, 42082, 42088, 42090, 42101, 42105, 42106, 42112, 42118, 42120, 42129, 42136, 42139, 42150, 42153, 42162, 42177, 42178, 42192, 42200, 42211, 42216, 42218, 42236, 42249, 42250, 42256, 42258, 42260, 42265, 42273, 42277, 42282, 42285, 42290, 42299, 42302, 42314, 42316, 42318, 42329, 42343, 42344, 42345, 42349, 42356, 42357, 42362, 42369, 42374, 42377, 42386, 42389, 42394, 42408, 42414, 42416, 42418, 42422, 42432, 42434, 42444, 42446, 42451, 42459, 42466, 42467, 42468, 42477, 42481, 42484, 42485, 42489, 42497, 42503, 42509, 42519, 42521, 42523, 42533, 42535, 42538, 42547, 42550, 42551, 42554, 42559, 42574, 42576, 42578, 42581, 42582, 42587, 42591, 42592, 42594, 42596, 42601, 42602, 42616, 42617, 42626, 42635, 42637, 42643, 42646, 42647, 42648, 42650, 42651, 42657, 42671, 42674, 42682, 42693, 42695, 42698, 42705, 42721, 42722, 42731, 42737, 42743, 42746, 42758, 42761, 42778, 42780, 42792, 42812, 42819, 42827, 42829, 42832, 42835, 42837, 42839, 42847, 42848, 42856, 42862, 42872, 42876, 42878, 42886, 42897, 42903, 42911, 42916, 42928, 42931, 42936, 42938, 42943, 42944, 42945, 42954, 42960, 42961, 42962, 42963, 42966, 42976, 42978, 42979, 42997, 43002, 43003, 43008, 43009, 43014, 43021, 43024, 43029, 43030, 43038, 43044, 43056, 43060, 43063, 43064, 43073, 43080, 43088, 43093, 43094, 43098, 43106, 43107, 43122, 43131, 43142, 43149, 43164, 43166, 43179, 43188, 43193, 43200, 43214, 43215, 43216, 43217, 43221, 43235, 43239, 43242, 43245, 43248, 43249, 43255, 43256, 43257, 43261, 43262, 43263, 43268, 43273, 43278, 43283, 43284, 43287, 43300, 43315, 43316, 43329, 43330, 43331, 43332, 43337, 43345, 43348, 43352, 43353, 43356, 43359, 43366, 43368, 43375, 43377, 43379, 43382, 43397, 43400, 43402, 43407, 43415, 43422, 43434, 43435, 43440, 43444, 43456, 43465, 43466, 43472, 43474, 43478, 43485, 43486, 43487, 43491, 43493, 43498, 43507, 43511, 43512, 43523, 43524, 43526, 43553, 43566, 43573, 43585, 43588, 43603, 43605, 43607, 43608, 43613, 43614, 43617, 43618, 43624, 43626, 43642, 43647, 43649, 43651, 43660, 43664, 43667, 43670, 43677, 43678, 43682, 43684, 43685, 43687, 43689, 43690, 43706, 43707, 43708, 43709, 43717, 43726, 43733, 43742, 43743, 43751, 43753, 43758, 43761, 43770, 43771, 43773, 43777, 43788, 43799, 43802, 43807, 43815, 43821, 43823, 43839, 43870, 43875, 43889, 43890, 43895, 43904, 43912, 43915, 43925, 43930, 43938, 43943, 43944, 43949, 43966, 43971, 43974, 43975, 43978, 43979, 43980, 43996, 43997, 44001, 44013, 44018, 44019, 44023, 44025, 44029, 44042, 44058, 44060, 44064, 44066, 44074, 44084, 44088, 44092, 44105, 44107, 44108, 44110, 44113, 44114, 44126, 44127, 44137, 44141, 44143, 44169, 44174, 44178, 44184, 44187, 44196, 44201, 44204, 44207, 44210, 44214, 44220, 44221, 44224, 44225, 44228, 44247, 44249, 44250, 44263, 44274, 44275, 44277, 44293, 44297, 44299, 44304, 44319, 44322, 44327, 44329, 44330, 44354, 44355, 44360, 44362, 44370, 44377, 44380, 44383, 44387, 44398, 44400, 44404, 44422, 44429, 44433, 44436, 44438, 44460, 44461, 44462, 44463, 44465, 44472, 44476, 44483, 44487, 44488, 44492, 44494, 44497, 44498, 44500, 44504, 44506, 44509, 44517, 44518, 44521, 44525, 44531, 44552, 44559, 44566, 44569, 44572, 44573, 44576, 44579, 44597, 44604, 44618, 44619, 44620, 44621, 44627, 44631, 44634, 44636, 44643, 44653, 44654, 44658, 44661, 44663, 44664, 44678, 44688, 44690, 44691, 44694, 44697, 44706, 44722, 44751, 44757, 44764, 44766, 44772, 44774, 44782, 44789, 44791, 44793, 44798, 44806, 44815, 44817, 44830, 44844, 44858, 44864, 44869, 44870, 44873, 44876, 44879, 44882, 44886, 44887, 44888, 44891, 44896, 44914, 44920, 44922, 44935, 44936, 44940, 44941, 44949, 44958, 44971, 44975, 44978, 44987, 44998, 45002, 45004, 45005, 45013, 45017, 45018, 45028, 45029, 45035, 45039, 45041, 45045, 45047, 45050, 45051, 45054, 45058, 45061, 45068, 45070, 45075, 45076, 45095, 45103, 45121, 45128, 45129, 45143, 45144, 45149, 45152, 45153, 45168, 45178, 45182, 45193, 45198, 45199, 45208, 45214, 45215, 45216, 45221, 45229, 45232, 45234, 45249, 45251, 45252, 45258, 45265, 45277, 45278, 45294, 45307, 45309, 45314, 45321, 45322, 45326, 45329, 45337, 45346, 45348, 45357, 45366, 45368, 45369, 45374, 45385, 45386, 45390, 45392, 45408, 45416, 45423, 45424, 45429, 45439, 45451, 45459, 45486, 45495, 45498, 45511, 45512, 45514, 45518, 45522, 45527, 45529, 45531, 45533, 45534, 45539, 45548, 45549, 45554, 45561, 45568, 45571, 45584, 45585, 45597, 45598, 45605, 45613, 45618, 45623, 45624, 45633, 45639, 45640, 45645, 45646, 45649, 45651, 45652, 45655, 45657, 45659, 45663, 45665, 45670, 45672, 45677, 45678, 45681, 45684, 45686, 45693, 45700, 45707, 45710, 45715, 45718, 45731, 45734, 45740, 45745, 45754, 45758, 45765, 45767, 45776, 45785, 45786, 45790, 45792, 45809, 45810, 45814, 45815, 45825, 45826, 45827, 45831, 45835, 45840, 45842, 45843, 45847, 45853, 45857, 45859, 45867, 45872, 45873, 45875, 45884, 45887, 45888, 45889, 45900, 45903, 45922, 45934, 45945, 45950, 45958, 45960, 45967, 45976, 45980, 45994, 45996, 46003, 46008, 46010, 46012, 46022, 46033, 46048, 46049, 46053, 46057, 46062, 46069, 46070, 46071, 46073, 46092, 46098, 46103, 46109, 46114, 46115, 46116, 46121, 46129, 46131, 46136, 46146, 46147, 46148, 46149, 46156, 46160, 46164, 46169, 46170, 46173, 46195, 46196, 46198, 46199, 46203, 46207, 46208, 46209, 46220, 46226, 46231, 46234, 46240, 46244, 46250, 46275, 46280, 46299, 46311, 46314, 46319, 46333, 46335, 46344, 46347, 46351, 46379, 46402, 46404, 46405, 46409, 46417, 46419, 46422, 46424, 46430, 46434, 46438, 46441, 46444, 46456, 46463, 46467, 46475, 46476, 46481, 46482, 46487, 46493, 46501, 46504, 46512, 46524, 46526, 46527, 46528, 46544, 46545, 46548, 46550, 46551, 46559, 46560, 46568, 46573, 46580, 46585, 46594, 46600, 46607, 46611, 46617, 46618, 46635, 46636, 46643, 46644, 46650, 46651, 46658, 46659, 46666, 46669, 46683, 46688, 46690, 46694, 46699, 46702, 46705, 46708, 46713, 46714, 46718, 46719, 46728, 46729, 46737, 46743, 46747, 46749, 46755, 46760, 46762, 46773, 46781, 46782, 46784, 46798, 46800, 46801, 46824, 46831, 46839, 46840, 46848, 46856, 46865, 46880, 46883, 46895, 46897, 46907, 46908, 46914, 46915, 46931, 46932, 46934, 46937, 46948, 46959, 46964, 46965, 46973, 46976, 46978, 46981, 46991, 47008, 47009, 47010, 47015, 47019, 47021, 47024, 47032, 47033, 47044, 47045, 47046, 47050, 47051, 47055, 47062, 47072, 47080, 47081, 47086, 47087, 47096, 47097, 47099, 47100, 47103, 47104, 47120, 47128, 47132, 47137, 47144, 47150, 47154, 47155, 47165, 47172, 47180, 47187, 47193, 47194, 47200, 47201, 47211, 47214, 47227, 47233, 47235, 47237, 47240, 47243, 47250, 47262, 47269, 47275, 47280, 47284, 47285, 47289, 47297, 47301, 47309, 47323, 47324, 47325, 47329, 47339, 47352, 47359, 47360, 47366, 47367, 47373, 47376, 47384, 47389, 47391, 47392, 47397, 47401, 47410, 47411, 47417, 47430, 47431, 47439, 47442, 47445, 47451, 47452, 47457, 47464, 47469, 47474, 47483, 47498, 47499, 47500, 47501, 47514, 47515, 47523, 47532, 47535, 47545, 47548, 47549, 47554, 47570, 47581, 47585, 47587, 47593, 47595, 47599, 47600, 47617, 47618, 47626, 47635, 47636, 47641, 47643, 47647, 47657, 47666, 47683, 47695, 47700, 47716, 47721, 47722, 47733, 47734, 47735, 47746, 47749, 47764, 47773, 47785, 47791, 47792, 47801, 47812, 47818, 47824, 47827, 47829, 47830, 47831, 47833, 47837, 47840, 47847, 47848, 47853, 47861, 47864, 47875, 47877, 47884, 47896, 47897, 47899, 47901, 47914, 47917, 47918, 47920, 47926, 47935, 47940, 47941, 47948, 47949, 47956, 47960, 47962, 47975, 47976, 47979, 47994, 47995, 47997, 47999, 48003], Type: <class 'list'>\n",
            "Group: (1, 1), Members: [5, 7, 11, 14, 22, 24, 25, 27, 41, 46, 47, 65, 66, 72, 82, 87, 91, 97, 100, 102, 110, 119, 130, 131, 141, 146, 147, 148, 154, 155, 162, 166, 169, 174, 175, 179, 183, 186, 188, 195, 202, 203, 204, 205, 210, 213, 222, 246, 251, 252, 255, 258, 260, 261, 269, 270, 275, 284, 285, 289, 298, 300, 303, 306, 311, 317, 322, 337, 344, 352, 354, 361, 374, 377, 379, 385, 392, 399, 417, 426, 431, 433, 434, 438, 440, 441, 444, 447, 449, 453, 458, 465, 468, 493, 499, 510, 511, 513, 514, 518, 522, 524, 529, 535, 538, 539, 540, 554, 556, 557, 569, 570, 571, 582, 598, 604, 610, 615, 629, 640, 646, 647, 650, 652, 678, 679, 687, 689, 690, 693, 694, 697, 698, 702, 705, 714, 717, 726, 728, 735, 750, 757, 763, 775, 790, 796, 798, 809, 811, 812, 831, 832, 843, 844, 848, 850, 853, 865, 883, 893, 903, 906, 911, 912, 916, 922, 926, 927, 932, 938, 943, 950, 957, 959, 971, 980, 993, 994, 1002, 1005, 1015, 1017, 1019, 1024, 1038, 1043, 1046, 1047, 1056, 1059, 1061, 1064, 1072, 1075, 1077, 1082, 1088, 1090, 1093, 1096, 1106, 1110, 1116, 1120, 1121, 1125, 1127, 1149, 1150, 1151, 1155, 1157, 1160, 1162, 1179, 1182, 1183, 1184, 1191, 1196, 1212, 1225, 1227, 1232, 1241, 1242, 1248, 1249, 1252, 1259, 1268, 1269, 1277, 1280, 1281, 1289, 1291, 1300, 1304, 1307, 1315, 1319, 1320, 1322, 1330, 1331, 1332, 1341, 1344, 1353, 1372, 1375, 1376, 1380, 1382, 1384, 1390, 1391, 1405, 1406, 1407, 1416, 1422, 1426, 1438, 1445, 1446, 1451, 1463, 1469, 1474, 1479, 1481, 1489, 1495, 1496, 1497, 1503, 1505, 1511, 1512, 1514, 1519, 1522, 1528, 1535, 1543, 1545, 1546, 1553, 1558, 1564, 1569, 1570, 1574, 1584, 1585, 1594, 1598, 1599, 1605, 1609, 1615, 1621, 1622, 1627, 1628, 1630, 1631, 1635, 1645, 1655, 1663, 1667, 1668, 1671, 1675, 1676, 1677, 1687, 1688, 1690, 1696, 1706, 1707, 1710, 1722, 1725, 1743, 1746, 1750, 1753, 1758, 1767, 1768, 1771, 1773, 1792, 1794, 1796, 1797, 1798, 1817, 1819, 1827, 1828, 1832, 1835, 1837, 1839, 1857, 1862, 1863, 1869, 1877, 1880, 1882, 1890, 1893, 1895, 1908, 1917, 1926, 1932, 1933, 1951, 1967, 1971, 1973, 1974, 1980, 1984, 1987, 1995, 2007, 2010, 2012, 2013, 2014, 2019, 2029, 2030, 2031, 2036, 2053, 2055, 2056, 2070, 2100, 2101, 2106, 2113, 2119, 2130, 2136, 2137, 2140, 2145, 2153, 2154, 2158, 2163, 2165, 2173, 2178, 2184, 2185, 2186, 2189, 2196, 2198, 2205, 2213, 2214, 2216, 2224, 2227, 2228, 2230, 2232, 2236, 2247, 2248, 2253, 2255, 2259, 2266, 2270, 2283, 2291, 2295, 2299, 2301, 2303, 2306, 2307, 2308, 2311, 2314, 2326, 2332, 2334, 2341, 2348, 2351, 2353, 2368, 2369, 2370, 2373, 2387, 2409, 2410, 2419, 2425, 2433, 2434, 2441, 2446, 2447, 2449, 2452, 2454, 2465, 2466, 2490, 2492, 2496, 2512, 2513, 2520, 2523, 2525, 2531, 2534, 2535, 2539, 2540, 2544, 2548, 2569, 2581, 2584, 2593, 2601, 2602, 2613, 2619, 2638, 2647, 2649, 2650, 2655, 2656, 2658, 2659, 2660, 2663, 2667, 2671, 2674, 2675, 2676, 2681, 2689, 2705, 2707, 2713, 2718, 2720, 2723, 2725, 2727, 2737, 2742, 2753, 2758, 2764, 2771, 2773, 2776, 2780, 2781, 2782, 2796, 2817, 2819, 2832, 2838, 2843, 2844, 2845, 2849, 2858, 2860, 2863, 2865, 2866, 2875, 2881, 2890, 2891, 2902, 2913, 2918, 2926, 2928, 2929, 2938, 2940, 2942, 2945, 2948, 2949, 2960, 2967, 2972, 2975, 2985, 2988, 2989, 2994, 3000, 3006, 3028, 3030, 3040, 3048, 3056, 3057, 3061, 3063, 3065, 3071, 3081, 3095, 3105, 3118, 3130, 3134, 3139, 3143, 3149, 3157, 3172, 3175, 3179, 3183, 3194, 3196, 3199, 3205, 3215, 3221, 3224, 3226, 3240, 3242, 3254, 3256, 3263, 3268, 3275, 3277, 3282, 3295, 3308, 3312, 3320, 3321, 3323, 3324, 3332, 3346, 3348, 3349, 3361, 3365, 3380, 3382, 3383, 3384, 3385, 3387, 3393, 3398, 3399, 3404, 3411, 3415, 3417, 3419, 3427, 3429, 3449, 3453, 3458, 3462, 3464, 3470, 3473, 3476, 3485, 3487, 3489, 3494, 3509, 3512, 3523, 3527, 3534, 3553, 3555, 3561, 3564, 3571, 3573, 3575, 3585, 3597, 3599, 3600, 3601, 3603, 3604, 3607, 3628, 3629, 3635, 3651, 3652, 3656, 3658, 3659, 3666, 3669, 3672, 3678, 3681, 3694, 3704, 3712, 3713, 3714, 3724, 3726, 3732, 3737, 3739, 3750, 3755, 3760, 3768, 3770, 3773, 3783, 3785, 3786, 3790, 3801, 3808, 3820, 3825, 3834, 3840, 3851, 3854, 3863, 3864, 3872, 3884, 3891, 3892, 3897, 3902, 3915, 3916, 3918, 3936, 3937, 3950, 3951, 3952, 3956, 3971, 3973, 3981, 3982, 3983, 3984, 3994, 3997, 4010, 4014, 4018, 4038, 4048, 4053, 4055, 4059, 4061, 4062, 4064, 4067, 4068, 4069, 4074, 4076, 4089, 4091, 4098, 4102, 4106, 4109, 4112, 4115, 4120, 4122, 4129, 4131, 4135, 4136, 4152, 4162, 4165, 4169, 4171, 4173, 4180, 4182, 4185, 4186, 4196, 4208, 4219, 4227, 4234, 4235, 4238, 4246, 4249, 4254, 4269, 4270, 4285, 4286, 4293, 4295, 4298, 4299, 4301, 4302, 4310, 4313, 4316, 4327, 4329, 4331, 4333, 4335, 4342, 4348, 4351, 4361, 4370, 4378, 4390, 4391, 4405, 4406, 4408, 4419, 4421, 4423, 4451, 4458, 4471, 4474, 4480, 4483, 4485, 4500, 4501, 4503, 4505, 4509, 4511, 4518, 4522, 4536, 4538, 4542, 4545, 4556, 4558, 4562, 4563, 4566, 4571, 4573, 4578, 4580, 4584, 4588, 4590, 4596, 4600, 4603, 4605, 4618, 4629, 4630, 4631, 4632, 4637, 4649, 4652, 4653, 4656, 4659, 4672, 4673, 4674, 4686, 4697, 4698, 4708, 4711, 4719, 4725, 4726, 4727, 4729, 4732, 4737, 4740, 4741, 4744, 4746, 4755, 4764, 4768, 4774, 4778, 4783, 4788, 4790, 4791, 4804, 4807, 4811, 4826, 4829, 4830, 4834, 4841, 4842, 4843, 4844, 4846, 4851, 4853, 4859, 4860, 4861, 4868, 4875, 4881, 4882, 4890, 4893, 4898, 4899, 4907, 4912, 4913, 4927, 4932, 4934, 4939, 4943, 4948, 4960, 4967, 4968, 4970, 4974, 4979, 4982, 4993, 4995, 4996, 5011, 5015, 5023, 5026, 5029, 5031, 5042, 5044, 5051, 5069, 5072, 5074, 5075, 5084, 5086, 5098, 5106, 5115, 5125, 5128, 5129, 5130, 5134, 5138, 5140, 5142, 5152, 5154, 5156, 5160, 5168, 5169, 5177, 5184, 5186, 5188, 5191, 5193, 5197, 5205, 5206, 5212, 5228, 5230, 5232, 5233, 5235, 5245, 5258, 5265, 5272, 5274, 5279, 5287, 5297, 5300, 5301, 5304, 5308, 5310, 5313, 5320, 5326, 5331, 5343, 5345, 5360, 5364, 5369, 5374, 5385, 5388, 5395, 5397, 5403, 5405, 5407, 5412, 5418, 5421, 5441, 5445, 5447, 5451, 5459, 5460, 5461, 5471, 5472, 5474, 5476, 5484, 5486, 5487, 5488, 5489, 5513, 5515, 5519, 5520, 5524, 5526, 5530, 5532, 5536, 5537, 5547, 5549, 5551, 5555, 5556, 5558, 5566, 5573, 5579, 5591, 5602, 5617, 5624, 5626, 5636, 5643, 5646, 5653, 5658, 5662, 5665, 5681, 5686, 5689, 5696, 5699, 5707, 5714, 5729, 5732, 5736, 5745, 5747, 5760, 5762, 5776, 5783, 5791, 5793, 5795, 5808, 5811, 5815, 5817, 5844, 5849, 5853, 5858, 5860, 5863, 5868, 5874, 5876, 5887, 5890, 5895, 5897, 5898, 5908, 5911, 5912, 5917, 5923, 5925, 5926, 5946, 5954, 5958, 5964, 5973, 5974, 5975, 5983, 5987, 5993, 5996, 6003, 6004, 6006, 6011, 6020, 6035, 6036, 6047, 6053, 6059, 6061, 6063, 6066, 6070, 6076, 6077, 6087, 6088, 6089, 6090, 6093, 6098, 6099, 6100, 6103, 6104, 6111, 6118, 6123, 6128, 6133, 6134, 6137, 6146, 6150, 6158, 6167, 6169, 6178, 6188, 6199, 6203, 6204, 6207, 6208, 6212, 6214, 6216, 6219, 6222, 6225, 6227, 6229, 6231, 6235, 6236, 6238, 6256, 6268, 6270, 6285, 6291, 6297, 6298, 6300, 6310, 6312, 6327, 6340, 6342, 6346, 6348, 6358, 6362, 6368, 6378, 6381, 6383, 6384, 6387, 6403, 6407, 6408, 6409, 6411, 6412, 6417, 6418, 6429, 6431, 6436, 6441, 6444, 6451, 6461, 6463, 6476, 6479, 6481, 6483, 6496, 6500, 6501, 6509, 6511, 6525, 6527, 6535, 6536, 6549, 6552, 6556, 6559, 6564, 6565, 6567, 6573, 6574, 6586, 6587, 6588, 6589, 6595, 6599, 6610, 6614, 6619, 6632, 6643, 6645, 6674, 6678, 6681, 6687, 6697, 6706, 6707, 6711, 6724, 6732, 6733, 6738, 6748, 6750, 6751, 6764, 6767, 6768, 6771, 6774, 6776, 6781, 6790, 6793, 6794, 6795, 6799, 6807, 6810, 6814, 6837, 6841, 6848, 6852, 6860, 6863, 6868, 6869, 6871, 6874, 6881, 6888, 6890, 6894, 6895, 6896, 6902, 6903, 6905, 6909, 6910, 6912, 6923, 6924, 6927, 6931, 6956, 6958, 6973, 6975, 6981, 6987, 6988, 6989, 6990, 6994, 7005, 7014, 7016, 7017, 7031, 7034, 7037, 7046, 7048, 7051, 7053, 7055, 7060, 7067, 7073, 7075, 7077, 7080, 7085, 7086, 7088, 7089, 7093, 7094, 7095, 7102, 7106, 7120, 7121, 7123, 7124, 7126, 7128, 7133, 7143, 7145, 7156, 7157, 7158, 7159, 7171, 7172, 7174, 7179, 7183, 7187, 7188, 7190, 7196, 7204, 7205, 7216, 7223, 7240, 7243, 7244, 7258, 7259, 7263, 7269, 7276, 7279, 7281, 7287, 7289, 7297, 7299, 7318, 7321, 7324, 7328, 7336, 7337, 7346, 7348, 7349, 7350, 7352, 7358, 7359, 7373, 7374, 7383, 7387, 7396, 7398, 7400, 7401, 7405, 7406, 7407, 7414, 7416, 7418, 7423, 7424, 7428, 7432, 7435, 7436, 7441, 7442, 7454, 7455, 7459, 7466, 7467, 7484, 7491, 7494, 7497, 7500, 7505, 7512, 7514, 7516, 7517, 7526, 7531, 7533, 7538, 7551, 7555, 7571, 7576, 7579, 7581, 7584, 7588, 7589, 7591, 7599, 7600, 7601, 7603, 7605, 7613, 7615, 7627, 7631, 7638, 7645, 7652, 7655, 7658, 7663, 7670, 7674, 7676, 7681, 7683, 7689, 7690, 7692, 7693, 7694, 7696, 7704, 7705, 7706, 7707, 7715, 7720, 7725, 7726, 7729, 7732, 7738, 7739, 7741, 7742, 7745, 7751, 7759, 7764, 7767, 7772, 7773, 7776, 7778, 7781, 7784, 7793, 7799, 7800, 7810, 7814, 7815, 7816, 7829, 7837, 7840, 7846, 7852, 7855, 7856, 7864, 7868, 7870, 7871, 7873, 7875, 7881, 7883, 7887, 7896, 7905, 7908, 7911, 7917, 7923, 7925, 7934, 7939, 7951, 7957, 7959, 7966, 7968, 7970, 7972, 7982, 7984, 8010, 8012, 8019, 8027, 8044, 8045, 8046, 8049, 8052, 8053, 8055, 8058, 8059, 8061, 8063, 8065, 8069, 8076, 8077, 8082, 8085, 8086, 8088, 8094, 8095, 8098, 8101, 8112, 8153, 8158, 8169, 8178, 8190, 8193, 8208, 8209, 8212, 8227, 8235, 8239, 8241, 8244, 8250, 8251, 8264, 8265, 8270, 8276, 8282, 8283, 8284, 8298, 8299, 8302, 8311, 8312, 8313, 8314, 8317, 8322, 8327, 8332, 8333, 8337, 8352, 8353, 8361, 8363, 8367, 8371, 8377, 8386, 8390, 8394, 8402, 8405, 8409, 8411, 8417, 8424, 8440, 8450, 8451, 8455, 8462, 8463, 8479, 8480, 8481, 8483, 8490, 8493, 8502, 8507, 8515, 8518, 8524, 8532, 8533, 8538, 8545, 8551, 8554, 8567, 8576, 8580, 8582, 8586, 8591, 8595, 8597, 8605, 8606, 8609, 8611, 8614, 8615, 8622, 8623, 8626, 8630, 8637, 8644, 8646, 8659, 8660, 8661, 8664, 8698, 8701, 8705, 8706, 8710, 8716, 8718, 8719, 8721, 8742, 8748, 8754, 8757, 8761, 8762, 8764, 8768, 8772, 8778, 8784, 8787, 8791, 8799, 8802, 8806, 8817, 8818, 8819, 8820, 8824, 8826, 8834, 8844, 8849, 8855, 8856, 8857, 8865, 8872, 8874, 8877, 8880, 8906, 8911, 8919, 8923, 8924, 8940, 8943, 8947, 8959, 8962, 8964, 8972, 8975, 8976, 8982, 8984, 8990, 8997, 8999, 9019, 9027, 9028, 9029, 9031, 9035, 9044, 9046, 9063, 9065, 9067, 9082, 9092, 9096, 9103, 9105, 9138, 9140, 9141, 9144, 9147, 9151, 9155, 9160, 9165, 9169, 9170, 9179, 9194, 9196, 9202, 9204, 9208, 9216, 9219, 9227, 9229, 9231, 9235, 9238, 9240, 9244, 9249, 9253, 9255, 9270, 9283, 9284, 9286, 9296, 9307, 9310, 9313, 9317, 9324, 9326, 9348, 9354, 9357, 9360, 9361, 9363, 9367, 9380, 9387, 9392, 9393, 9406, 9408, 9413, 9417, 9422, 9429, 9435, 9437, 9448, 9458, 9464, 9473, 9478, 9479, 9482, 9487, 9506, 9509, 9519, 9528, 9556, 9558, 9559, 9568, 9574, 9575, 9576, 9589, 9591, 9600, 9603, 9608, 9610, 9620, 9628, 9655, 9656, 9661, 9663, 9667, 9668, 9673, 9681, 9682, 9688, 9693, 9698, 9704, 9713, 9715, 9716, 9719, 9724, 9742, 9745, 9759, 9765, 9767, 9771, 9774, 9775, 9777, 9780, 9786, 9790, 9791, 9792, 9793, 9799, 9806, 9807, 9818, 9821, 9831, 9832, 9835, 9839, 9840, 9853, 9856, 9857, 9860, 9861, 9865, 9870, 9871, 9872, 9875, 9876, 9890, 9892, 9895, 9903, 9909, 9920, 9931, 9937, 9943, 9949, 9955, 9956, 9960, 9970, 9978, 9984, 9990, 9994, 9997, 10005, 10017, 10025, 10032, 10033, 10034, 10037, 10045, 10064, 10065, 10067, 10069, 10079, 10084, 10088, 10096, 10099, 10116, 10125, 10129, 10134, 10142, 10144, 10147, 10161, 10162, 10167, 10169, 10177, 10183, 10194, 10199, 10203, 10214, 10220, 10225, 10227, 10228, 10239, 10243, 10244, 10249, 10251, 10256, 10257, 10261, 10268, 10269, 10273, 10285, 10286, 10287, 10288, 10291, 10296, 10299, 10302, 10304, 10305, 10319, 10327, 10329, 10332, 10334, 10338, 10346, 10350, 10354, 10358, 10359, 10360, 10370, 10379, 10384, 10389, 10392, 10403, 10405, 10408, 10411, 10416, 10423, 10424, 10440, 10442, 10460, 10464, 10473, 10481, 10482, 10485, 10494, 10497, 10503, 10504, 10506, 10509, 10511, 10513, 10521, 10525, 10541, 10550, 10553, 10558, 10560, 10569, 10572, 10574, 10577, 10585, 10591, 10612, 10614, 10621, 10626, 10627, 10628, 10631, 10632, 10642, 10645, 10648, 10654, 10658, 10659, 10678, 10692, 10697, 10701, 10703, 10704, 10708, 10721, 10724, 10730, 10744, 10750, 10755, 10758, 10760, 10785, 10787, 10789, 10791, 10792, 10795, 10796, 10803, 10805, 10807, 10814, 10816, 10818, 10819, 10820, 10821, 10823, 10827, 10831, 10843, 10849, 10853, 10860, 10861, 10863, 10869, 10884, 10885, 10890, 10891, 10893, 10900, 10901, 10902, 10903, 10918, 10923, 10925, 10927, 10929, 10934, 10937, 10939, 10941, 10956, 10964, 10965, 10966, 10967, 10972, 10991, 10995, 10997, 10999, 11003, 11013, 11014, 11022, 11031, 11053, 11055, 11058, 11061, 11064, 11069, 11073, 11084, 11101, 11103, 11123, 11126, 11130, 11133, 11136, 11139, 11141, 11142, 11143, 11147, 11149, 11160, 11161, 11164, 11166, 11172, 11174, 11176, 11183, 11184, 11185, 11193, 11194, 11204, 11215, 11216, 11217, 11218, 11220, 11229, 11232, 11234, 11238, 11249, 11251, 11265, 11267, 11272, 11275, 11282, 11283, 11286, 11287, 11289, 11291, 11294, 11297, 11298, 11304, 11309, 11327, 11330, 11338, 11340, 11345, 11359, 11364, 11369, 11385, 11396, 11404, 11409, 11410, 11412, 11413, 11417, 11419, 11424, 11434, 11436, 11439, 11451, 11459, 11464, 11465, 11471, 11472, 11475, 11477, 11482, 11486, 11494, 11498, 11501, 11508, 11515, 11531, 11543, 11544, 11551, 11559, 11560, 11571, 11575, 11577, 11593, 11598, 11600, 11605, 11607, 11609, 11625, 11627, 11628, 11631, 11638, 11639, 11641, 11647, 11655, 11661, 11667, 11677, 11679, 11691, 11693, 11694, 11702, 11708, 11710, 11725, 11734, 11738, 11739, 11741, 11747, 11749, 11752, 11771, 11773, 11788, 11789, 11791, 11797, 11802, 11814, 11818, 11819, 11820, 11822, 11826, 11827, 11838, 11847, 11855, 11859, 11865, 11867, 11868, 11871, 11879, 11881, 11882, 11884, 11898, 11900, 11909, 11910, 11921, 11924, 11927, 11980, 11983, 11985, 11988, 11990, 11995, 12003, 12004, 12012, 12013, 12018, 12022, 12024, 12026, 12036, 12044, 12045, 12046, 12048, 12051, 12058, 12061, 12062, 12065, 12068, 12074, 12076, 12085, 12087, 12096, 12109, 12117, 12127, 12129, 12134, 12138, 12139, 12151, 12153, 12155, 12159, 12164, 12165, 12171, 12173, 12174, 12175, 12180, 12189, 12192, 12193, 12201, 12202, 12203, 12209, 12216, 12217, 12219, 12228, 12230, 12231, 12250, 12255, 12258, 12260, 12261, 12264, 12267, 12274, 12284, 12289, 12295, 12297, 12305, 12308, 12320, 12325, 12329, 12344, 12346, 12349, 12357, 12361, 12365, 12370, 12373, 12376, 12377, 12378, 12379, 12384, 12387, 12395, 12396, 12405, 12407, 12408, 12414, 12427, 12428, 12430, 12433, 12436, 12439, 12458, 12460, 12461, 12479, 12485, 12487, 12488, 12498, 12509, 12516, 12519, 12523, 12526, 12527, 12530, 12533, 12539, 12549, 12550, 12551, 12557, 12568, 12569, 12580, 12582, 12602, 12607, 12610, 12613, 12623, 12625, 12629, 12631, 12638, 12645, 12648, 12651, 12654, 12664, 12665, 12670, 12676, 12681, 12686, 12689, 12690, 12691, 12693, 12696, 12706, 12708, 12722, 12733, 12735, 12737, 12742, 12753, 12758, 12759, 12765, 12767, 12768, 12795, 12799, 12803, 12810, 12814, 12818, 12823, 12828, 12830, 12832, 12833, 12836, 12844, 12851, 12852, 12854, 12863, 12872, 12874, 12884, 12887, 12889, 12898, 12906, 12910, 12914, 12924, 12934, 12942, 12951, 12952, 12958, 12965, 12966, 12975, 12982, 12987, 12990, 12992, 12997, 13008, 13017, 13028, 13033, 13034, 13036, 13038, 13040, 13050, 13052, 13058, 13063, 13064, 13065, 13072, 13082, 13092, 13096, 13100, 13102, 13105, 13112, 13126, 13127, 13129, 13130, 13133, 13136, 13144, 13150, 13161, 13164, 13166, 13169, 13179, 13185, 13191, 13192, 13197, 13200, 13201, 13208, 13218, 13221, 13223, 13234, 13239, 13243, 13246, 13252, 13260, 13262, 13291, 13297, 13312, 13313, 13316, 13319, 13323, 13324, 13325, 13334, 13335, 13336, 13337, 13341, 13347, 13348, 13350, 13352, 13355, 13361, 13362, 13367, 13368, 13377, 13380, 13389, 13393, 13399, 13400, 13403, 13406, 13407, 13415, 13417, 13424, 13426, 13432, 13433, 13434, 13446, 13447, 13448, 13457, 13463, 13469, 13479, 13486, 13487, 13490, 13514, 13516, 13520, 13527, 13529, 13530, 13537, 13538, 13550, 13555, 13558, 13562, 13564, 13566, 13594, 13605, 13611, 13625, 13635, 13636, 13637, 13642, 13655, 13662, 13663, 13668, 13669, 13671, 13672, 13674, 13676, 13677, 13678, 13686, 13690, 13693, 13698, 13699, 13706, 13710, 13721, 13727, 13728, 13743, 13744, 13752, 13753, 13765, 13770, 13771, 13775, 13779, 13790, 13799, 13800, 13804, 13813, 13814, 13818, 13819, 13820, 13823, 13825, 13826, 13828, 13833, 13839, 13848, 13855, 13862, 13866, 13872, 13873, 13876, 13878, 13881, 13890, 13891, 13892, 13893, 13905, 13907, 13908, 13910, 13922, 13925, 13937, 13943, 13952, 13962, 13963, 13965, 13966, 13968, 13974, 13986, 13990, 13991, 13999, 14007, 14009, 14013, 14020, 14022, 14032, 14056, 14061, 14071, 14074, 14079, 14080, 14084, 14085, 14087, 14093, 14097, 14099, 14119, 14122, 14126, 14129, 14130, 14135, 14137, 14142, 14148, 14150, 14162, 14163, 14168, 14174, 14178, 14190, 14191, 14193, 14208, 14210, 14218, 14224, 14225, 14226, 14231, 14234, 14243, 14244, 14252, 14266, 14280, 14289, 14293, 14297, 14298, 14307, 14309, 14317, 14325, 14330, 14338, 14339, 14340, 14345, 14347, 14348, 14350, 14352, 14353, 14367, 14368, 14378, 14380, 14396, 14399, 14412, 14414, 14415, 14417, 14419, 14422, 14424, 14425, 14428, 14431, 14438, 14450, 14454, 14456, 14460, 14465, 14472, 14475, 14478, 14484, 14486, 14490, 14501, 14503, 14511, 14519, 14520, 14534, 14537, 14543, 14550, 14552, 14558, 14577, 14582, 14584, 14587, 14591, 14595, 14602, 14604, 14605, 14606, 14611, 14615, 14618, 14619, 14625, 14628, 14633, 14637, 14646, 14652, 14656, 14658, 14664, 14669, 14679, 14684, 14698, 14699, 14708, 14712, 14714, 14721, 14726, 14734, 14739, 14753, 14781, 14782, 14790, 14803, 14805, 14810, 14825, 14834, 14842, 14846, 14847, 14848, 14854, 14861, 14864, 14866, 14881, 14883, 14896, 14897, 14899, 14900, 14922, 14925, 14929, 14930, 14934, 14935, 14938, 14939, 14940, 14946, 14948, 14952, 14960, 14961, 14975, 14979, 14982, 15018, 15022, 15039, 15040, 15044, 15049, 15052, 15055, 15065, 15070, 15072, 15073, 15080, 15082, 15084, 15092, 15093, 15105, 15106, 15108, 15110, 15113, 15114, 15123, 15124, 15125, 15143, 15147, 15162, 15166, 15168, 15170, 15172, 15182, 15186, 15190, 15196, 15200, 15201, 15206, 15208, 15209, 15210, 15211, 15217, 15224, 15225, 15236, 15237, 15238, 15248, 15250, 15276, 15282, 15305, 15312, 15316, 15317, 15318, 15329, 15331, 15346, 15360, 15370, 15375, 15378, 15383, 15387, 15392, 15395, 15397, 15403, 15408, 15409, 15410, 15415, 15422, 15423, 15424, 15426, 15437, 15438, 15440, 15444, 15453, 15464, 15470, 15474, 15480, 15486, 15489, 15491, 15496, 15498, 15499, 15500, 15501, 15505, 15508, 15509, 15525, 15529, 15532, 15540, 15547, 15567, 15568, 15577, 15581, 15582, 15583, 15584, 15600, 15601, 15602, 15624, 15629, 15630, 15633, 15635, 15644, 15645, 15650, 15666, 15669, 15676, 15686, 15687, 15692, 15695, 15701, 15713, 15716, 15724, 15736, 15737, 15738, 15756, 15757, 15773, 15783, 15788, 15789, 15790, 15810, 15822, 15824, 15825, 15827, 15839, 15842, 15847, 15849, 15859, 15872, 15879, 15880, 15891, 15896, 15907, 15909, 15916, 15918, 15923, 15924, 15931, 15932, 15933, 15943, 15945, 15953, 15954, 15966, 15968, 15980, 15982, 15985, 15997, 15999, 16007, 16016, 16026, 16027, 16031, 16043, 16047, 16051, 16052, 16057, 16062, 16063, 16066, 16067, 16078, 16086, 16090, 16102, 16103, 16107, 16108, 16110, 16123, 16124, 16142, 16162, 16164, 16173, 16176, 16177, 16188, 16197, 16205, 16214, 16221, 16223, 16232, 16233, 16235, 16239, 16240, 16243, 16248, 16255, 16264, 16270, 16271, 16275, 16284, 16288, 16290, 16294, 16295, 16307, 16310, 16323, 16326, 16333, 16334, 16339, 16350, 16352, 16353, 16357, 16370, 16373, 16381, 16383, 16390, 16394, 16396, 16400, 16401, 16403, 16404, 16405, 16406, 16410, 16412, 16418, 16426, 16428, 16438, 16441, 16444, 16445, 16448, 16450, 16451, 16453, 16465, 16466, 16467, 16471, 16474, 16484, 16486, 16488, 16492, 16493, 16499, 16505, 16507, 16516, 16522, 16528, 16530, 16539, 16542, 16544, 16545, 16546, 16552, 16554, 16556, 16558, 16573, 16578, 16584, 16590, 16592, 16596, 16602, 16604, 16612, 16622, 16624, 16629, 16634, 16640, 16648, 16649, 16652, 16657, 16661, 16665, 16677, 16686, 16687, 16690, 16701, 16704, 16708, 16730, 16731, 16736, 16740, 16741, 16751, 16755, 16756, 16757, 16762, 16769, 16784, 16789, 16806, 16809, 16812, 16817, 16823, 16828, 16829, 16832, 16840, 16844, 16848, 16850, 16857, 16862, 16871, 16875, 16883, 16885, 16891, 16898, 16900, 16901, 16914, 16919, 16928, 16931, 16939, 16943, 16948, 16954, 16958, 16959, 16970, 16972, 16973, 16974, 16976, 16978, 16985, 16990, 16994, 16995, 16998, 17001, 17006, 17012, 17015, 17025, 17026, 17034, 17041, 17042, 17050, 17062, 17065, 17066, 17070, 17081, 17085, 17089, 17108, 17121, 17124, 17125, 17126, 17129, 17130, 17141, 17158, 17173, 17180, 17204, 17205, 17209, 17212, 17215, 17220, 17221, 17223, 17226, 17230, 17232, 17234, 17238, 17244, 17246, 17248, 17260, 17268, 17274, 17276, 17277, 17279, 17283, 17285, 17290, 17292, 17294, 17295, 17297, 17302, 17303, 17305, 17309, 17319, 17321, 17326, 17335, 17337, 17346, 17347, 17348, 17353, 17357, 17360, 17366, 17367, 17368, 17376, 17378, 17381, 17385, 17387, 17392, 17398, 17400, 17403, 17404, 17410, 17412, 17416, 17418, 17419, 17422, 17437, 17440, 17444, 17448, 17449, 17462, 17468, 17488, 17490, 17498, 17500, 17505, 17506, 17508, 17513, 17521, 17522, 17545, 17552, 17553, 17557, 17563, 17565, 17575, 17576, 17585, 17587, 17604, 17614, 17621, 17622, 17628, 17629, 17631, 17633, 17638, 17644, 17649, 17655, 17657, 17660, 17665, 17670, 17672, 17673, 17679, 17682, 17686, 17688, 17691, 17693, 17695, 17699, 17704, 17705, 17707, 17714, 17715, 17719, 17723, 17728, 17733, 17740, 17743, 17746, 17747, 17753, 17754, 17755, 17761, 17763, 17765, 17769, 17774, 17779, 17781, 17785, 17792, 17799, 17801, 17806, 17810, 17812, 17814, 17823, 17824, 17825, 17828, 17829, 17839, 17840, 17847, 17850, 17852, 17853, 17855, 17856, 17858, 17866, 17868, 17882, 17883, 17892, 17899, 17907, 17910, 17917, 17922, 17934, 17943, 17945, 17947, 17954, 17955, 17956, 17961, 17963, 17969, 17977, 17979, 17984, 17985, 17986, 17990, 17991, 17992, 17994, 18018, 18019, 18022, 18027, 18031, 18040, 18042, 18050, 18054, 18055, 18058, 18073, 18079, 18081, 18090, 18095, 18100, 18106, 18109, 18116, 18118, 18121, 18124, 18125, 18132, 18139, 18143, 18149, 18153, 18160, 18161, 18165, 18166, 18175, 18182, 18196, 18198, 18203, 18206, 18207, 18219, 18225, 18226, 18231, 18235, 18238, 18239, 18241, 18245, 18247, 18250, 18252, 18255, 18259, 18262, 18270, 18281, 18283, 18284, 18289, 18301, 18306, 18313, 18316, 18328, 18351, 18353, 18365, 18367, 18369, 18370, 18378, 18382, 18383, 18384, 18387, 18399, 18412, 18414, 18424, 18425, 18430, 18431, 18440, 18449, 18455, 18457, 18458, 18460, 18476, 18478, 18479, 18481, 18482, 18489, 18490, 18491, 18494, 18496, 18502, 18507, 18515, 18525, 18526, 18528, 18532, 18534, 18542, 18548, 18556, 18558, 18566, 18571, 18577, 18585, 18586, 18593, 18598, 18610, 18619, 18626, 18638, 18641, 18642, 18645, 18646, 18649, 18654, 18656, 18675, 18692, 18697, 18704, 18710, 18712, 18714, 18715, 18717, 18718, 18723, 18728, 18730, 18731, 18736, 18744, 18746, 18757, 18759, 18779, 18790, 18801, 18811, 18813, 18828, 18836, 18840, 18846, 18850, 18853, 18860, 18873, 18875, 18894, 18896, 18905, 18910, 18912, 18919, 18926, 18949, 18960, 18968, 18973, 18979, 18982, 18987, 18993, 19000, 19003, 19010, 19018, 19024, 19027, 19033, 19036, 19038, 19042, 19047, 19048, 19057, 19064, 19065, 19073, 19078, 19079, 19080, 19081, 19097, 19098, 19099, 19109, 19110, 19113, 19136, 19140, 19148, 19154, 19160, 19164, 19165, 19171, 19172, 19177, 19178, 19180, 19197, 19198, 19207, 19217, 19225, 19228, 19230, 19234, 19235, 19247, 19249, 19252, 19256, 19264, 19267, 19278, 19279, 19280, 19281, 19283, 19298, 19303, 19314, 19318, 19323, 19340, 19345, 19346, 19347, 19350, 19357, 19361, 19363, 19368, 19369, 19373, 19383, 19384, 19391, 19410, 19411, 19425, 19427, 19431, 19433, 19434, 19441, 19444, 19448, 19450, 19452, 19464, 19467, 19483, 19485, 19492, 19502, 19507, 19511, 19523, 19528, 19533, 19535, 19544, 19549, 19552, 19554, 19572, 19576, 19584, 19589, 19590, 19596, 19599, 19600, 19607, 19612, 19614, 19619, 19622, 19624, 19625, 19626, 19627, 19628, 19637, 19639, 19652, 19658, 19667, 19676, 19677, 19685, 19688, 19689, 19695, 19702, 19709, 19710, 19717, 19720, 19722, 19728, 19734, 19738, 19742, 19743, 19747, 19755, 19759, 19767, 19769, 19782, 19784, 19794, 19796, 19801, 19807, 19815, 19819, 19842, 19845, 19848, 19849, 19851, 19859, 19860, 19861, 19864, 19865, 19872, 19879, 19881, 19887, 19890, 19892, 19893, 19894, 19897, 19899, 19905, 19907, 19930, 19932, 19933, 19937, 19940, 19945, 19946, 19949, 19957, 19960, 19963, 19965, 19970, 19975, 19977, 19978, 19989, 19991, 19997, 20027, 20041, 20047, 20048, 20057, 20066, 20069, 20073, 20076, 20087, 20094, 20096, 20097, 20101, 20103, 20123, 20125, 20132, 20140, 20143, 20146, 20156, 20157, 20158, 20166, 20171, 20176, 20184, 20186, 20187, 20192, 20194, 20195, 20196, 20212, 20214, 20224, 20226, 20229, 20244, 20245, 20246, 20253, 20255, 20256, 20257, 20260, 20265, 20278, 20280, 20285, 20287, 20292, 20298, 20300, 20305, 20307, 20310, 20322, 20324, 20331, 20338, 20339, 20350, 20353, 20371, 20373, 20377, 20381, 20392, 20397, 20398, 20401, 20403, 20404, 20408, 20415, 20420, 20426, 20430, 20439, 20440, 20457, 20461, 20466, 20471, 20485, 20486, 20490, 20491, 20495, 20496, 20500, 20503, 20505, 20512, 20515, 20516, 20525, 20531, 20533, 20534, 20546, 20550, 20551, 20564, 20572, 20573, 20574, 20581, 20584, 20585, 20594, 20605, 20610, 20616, 20617, 20626, 20628, 20631, 20632, 20637, 20648, 20656, 20658, 20663, 20671, 20677, 20681, 20695, 20703, 20707, 20709, 20723, 20725, 20740, 20742, 20761, 20769, 20782, 20792, 20802, 20805, 20806, 20809, 20810, 20814, 20815, 20827, 20829, 20837, 20841, 20855, 20868, 20870, 20879, 20881, 20883, 20884, 20899, 20909, 20911, 20913, 20916, 20920, 20936, 20941, 20943, 20944, 20950, 20974, 20975, 20977, 20981, 20984, 20997, 21001, 21003, 21006, 21011, 21012, 21026, 21031, 21038, 21045, 21049, 21057, 21059, 21068, 21075, 21092, 21095, 21105, 21111, 21123, 21127, 21128, 21139, 21140, 21143, 21144, 21147, 21161, 21168, 21170, 21171, 21177, 21188, 21192, 21200, 21211, 21218, 21233, 21242, 21243, 21247, 21261, 21262, 21270, 21281, 21282, 21283, 21286, 21296, 21299, 21305, 21311, 21312, 21313, 21319, 21321, 21327, 21328, 21340, 21351, 21353, 21354, 21370, 21376, 21377, 21379, 21381, 21386, 21392, 21395, 21397, 21403, 21405, 21410, 21412, 21415, 21428, 21429, 21430, 21431, 21432, 21434, 21446, 21450, 21452, 21457, 21467, 21469, 21496, 21498, 21499, 21500, 21505, 21510, 21516, 21523, 21531, 21535, 21539, 21540, 21557, 21558, 21569, 21572, 21576, 21583, 21585, 21591, 21605, 21606, 21617, 21621, 21622, 21625, 21632, 21633, 21634, 21644, 21653, 21660, 21661, 21665, 21670, 21677, 21687, 21697, 21700, 21704, 21705, 21717, 21726, 21733, 21738, 21740, 21742, 21751, 21763, 21768, 21770, 21775, 21777, 21783, 21784, 21788, 21790, 21792, 21799, 21801, 21807, 21809, 21812, 21814, 21818, 21819, 21824, 21827, 21829, 21830, 21832, 21833, 21836, 21854, 21855, 21857, 21873, 21876, 21890, 21893, 21896, 21908, 21912, 21930, 21932, 21935, 21947, 21949, 21963, 21965, 21974, 21976, 21985, 21993, 21997, 22000, 22017, 22020, 22022, 22028, 22030, 22031, 22038, 22039, 22048, 22052, 22054, 22058, 22061, 22063, 22069, 22080, 22094, 22096, 22101, 22107, 22108, 22112, 22113, 22119, 22121, 22123, 22134, 22137, 22149, 22150, 22158, 22160, 22168, 22171, 22177, 22180, 22194, 22195, 22196, 22197, 22198, 22202, 22203, 22204, 22211, 22214, 22216, 22219, 22220, 22222, 22224, 22228, 22237, 22240, 22244, 22257, 22259, 22261, 22271, 22275, 22286, 22287, 22288, 22293, 22297, 22299, 22309, 22311, 22312, 22314, 22318, 22321, 22322, 22333, 22348, 22355, 22357, 22359, 22363, 22371, 22375, 22378, 22380, 22381, 22386, 22396, 22397, 22408, 22409, 22419, 22421, 22424, 22426, 22442, 22445, 22465, 22480, 22485, 22492, 22499, 22500, 22504, 22516, 22529, 22530, 22536, 22539, 22549, 22552, 22560, 22564, 22571, 22574, 22576, 22580, 22582, 22585, 22592, 22593, 22594, 22602, 22604, 22607, 22615, 22618, 22620, 22625, 22626, 22630, 22635, 22637, 22638, 22641, 22647, 22653, 22670, 22676, 22677, 22678, 22684, 22685, 22686, 22689, 22690, 22693, 22697, 22698, 22715, 22722, 22738, 22741, 22758, 22759, 22761, 22766, 22773, 22774, 22784, 22785, 22786, 22788, 22792, 22802, 22807, 22810, 22813, 22821, 22822, 22835, 22836, 22840, 22845, 22853, 22869, 22878, 22880, 22881, 22885, 22887, 22892, 22903, 22904, 22905, 22906, 22915, 22920, 22923, 22945, 22946, 22956, 22960, 22961, 22963, 22969, 22978, 22980, 22993, 23009, 23010, 23011, 23016, 23022, 23029, 23035, 23048, 23051, 23052, 23060, 23066, 23070, 23072, 23073, 23082, 23087, 23091, 23092, 23098, 23099, 23103, 23110, 23118, 23122, 23123, 23131, 23132, 23144, 23146, 23153, 23157, 23164, 23166, 23182, 23191, 23194, 23196, 23204, 23207, 23210, 23211, 23217, 23223, 23225, 23226, 23227, 23229, 23248, 23250, 23259, 23263, 23266, 23267, 23274, 23275, 23278, 23280, 23285, 23297, 23298, 23299, 23302, 23310, 23311, 23312, 23315, 23321, 23323, 23333, 23342, 23348, 23350, 23359, 23377, 23382, 23383, 23386, 23393, 23396, 23400, 23401, 23405, 23406, 23409, 23421, 23432, 23433, 23435, 23436, 23446, 23448, 23452, 23454, 23456, 23469, 23471, 23472, 23487, 23488, 23489, 23493, 23497, 23501, 23507, 23508, 23524, 23535, 23536, 23537, 23539, 23540, 23541, 23547, 23561, 23566, 23571, 23574, 23580, 23584, 23593, 23611, 23614, 23617, 23621, 23622, 23628, 23631, 23641, 23645, 23646, 23649, 23651, 23661, 23662, 23667, 23679, 23698, 23717, 23725, 23731, 23732, 23733, 23738, 23741, 23743, 23752, 23753, 23757, 23758, 23759, 23763, 23767, 23770, 23773, 23777, 23782, 23785, 23786, 23789, 23808, 23809, 23811, 23822, 23823, 23824, 23828, 23834, 23835, 23839, 23853, 23858, 23860, 23864, 23875, 23878, 23880, 23888, 23902, 23905, 23909, 23919, 23921, 23925, 23929, 23931, 23946, 23947, 23952, 23959, 23960, 23962, 23965, 23969, 23971, 23976, 23993, 23995, 24016, 24020, 24023, 24025, 24028, 24044, 24045, 24052, 24054, 24060, 24063, 24073, 24076, 24083, 24084, 24089, 24093, 24094, 24095, 24099, 24104, 24105, 24107, 24108, 24109, 24110, 24114, 24119, 24120, 24122, 24123, 24128, 24130, 24132, 24142, 24143, 24145, 24151, 24153, 24187, 24193, 24200, 24202, 24215, 24217, 24227, 24228, 24229, 24230, 24240, 24248, 24251, 24253, 24254, 24259, 24274, 24278, 24283, 24293, 24301, 24321, 24323, 24325, 24326, 24331, 24334, 24341, 24342, 24349, 24359, 24369, 24375, 24378, 24383, 24385, 24395, 24397, 24407, 24423, 24430, 24432, 24435, 24444, 24449, 24452, 24462, 24465, 24466, 24496, 24497, 24498, 24505, 24512, 24514, 24516, 24518, 24526, 24528, 24549, 24551, 24556, 24561, 24566, 24567, 24575, 24577, 24581, 24582, 24588, 24590, 24603, 24609, 24610, 24613, 24617, 24629, 24630, 24635, 24640, 24642, 24650, 24652, 24657, 24680, 24684, 24690, 24692, 24697, 24698, 24699, 24704, 24717, 24721, 24728, 24735, 24737, 24738, 24739, 24742, 24747, 24749, 24756, 24762, 24770, 24775, 24778, 24792, 24793, 24799, 24805, 24808, 24809, 24810, 24817, 24819, 24825, 24828, 24832, 24838, 24843, 24847, 24850, 24855, 24865, 24869, 24871, 24882, 24884, 24886, 24904, 24908, 24925, 24936, 24939, 24943, 24947, 24949, 24950, 24953, 24954, 24956, 24973, 24974, 24983, 24990, 24993, 25005, 25006, 25009, 25018, 25023, 25024, 25029, 25035, 25039, 25047, 25051, 25053, 25056, 25057, 25098, 25106, 25117, 25129, 25130, 25136, 25142, 25146, 25151, 25158, 25166, 25170, 25172, 25183, 25186, 25187, 25188, 25190, 25198, 25204, 25215, 25216, 25220, 25224, 25225, 25235, 25236, 25243, 25244, 25246, 25266, 25271, 25273, 25279, 25285, 25287, 25300, 25303, 25307, 25313, 25321, 25325, 25326, 25332, 25342, 25346, 25347, 25348, 25350, 25353, 25368, 25372, 25374, 25375, 25376, 25377, 25386, 25393, 25401, 25408, 25413, 25422, 25423, 25425, 25426, 25427, 25438, 25443, 25448, 25451, 25457, 25459, 25472, 25474, 25485, 25486, 25488, 25490, 25497, 25500, 25502, 25505, 25514, 25517, 25520, 25539, 25552, 25556, 25557, 25567, 25571, 25576, 25588, 25597, 25600, 25602, 25604, 25605, 25616, 25618, 25621, 25625, 25627, 25629, 25631, 25639, 25642, 25644, 25646, 25655, 25656, 25673, 25674, 25676, 25678, 25683, 25685, 25686, 25691, 25693, 25698, 25700, 25711, 25718, 25722, 25726, 25728, 25730, 25734, 25737, 25749, 25756, 25757, 25772, 25777, 25780, 25782, 25787, 25799, 25800, 25801, 25806, 25819, 25820, 25828, 25834, 25838, 25845, 25851, 25858, 25873, 25877, 25882, 25886, 25887, 25894, 25900, 25909, 25911, 25912, 25913, 25920, 25924, 25926, 25951, 25956, 25958, 25960, 25963, 25977, 25981, 25984, 25985, 25989, 25993, 25995, 25996, 25997, 26005, 26007, 26008, 26012, 26017, 26040, 26041, 26044, 26046, 26049, 26050, 26054, 26058, 26067, 26069, 26080, 26123, 26125, 26128, 26130, 26132, 26135, 26139, 26144, 26154, 26162, 26167, 26169, 26170, 26172, 26178, 26180, 26181, 26190, 26191, 26200, 26202, 26207, 26210, 26211, 26213, 26216, 26224, 26230, 26243, 26246, 26258, 26264, 26266, 26274, 26278, 26285, 26289, 26290, 26295, 26298, 26300, 26302, 26305, 26307, 26310, 26314, 26315, 26321, 26328, 26329, 26336, 26344, 26346, 26348, 26350, 26352, 26364, 26373, 26375, 26377, 26389, 26392, 26393, 26402, 26414, 26416, 26418, 26419, 26423, 26426, 26428, 26439, 26453, 26457, 26461, 26462, 26472, 26475, 26481, 26485, 26490, 26491, 26508, 26518, 26520, 26529, 26532, 26535, 26537, 26539, 26543, 26544, 26547, 26563, 26570, 26575, 26580, 26588, 26590, 26597, 26598, 26608, 26611, 26612, 26615, 26620, 26623, 26629, 26634, 26637, 26647, 26651, 26655, 26660, 26668, 26677, 26686, 26691, 26693, 26699, 26705, 26706, 26707, 26736, 26737, 26738, 26745, 26747, 26754, 26760, 26763, 26768, 26770, 26788, 26794, 26798, 26799, 26803, 26815, 26818, 26825, 26827, 26841, 26858, 26859, 26860, 26867, 26872, 26874, 26889, 26892, 26900, 26901, 26907, 26924, 26925, 26938, 26940, 26941, 26942, 26944, 26945, 26961, 26968, 26977, 26982, 26990, 26993, 26996, 27000, 27006, 27011, 27012, 27014, 27017, 27018, 27020, 27021, 27028, 27034, 27038, 27042, 27043, 27052, 27054, 27061, 27064, 27066, 27074, 27081, 27082, 27099, 27107, 27109, 27119, 27128, 27135, 27138, 27143, 27153, 27155, 27156, 27159, 27169, 27170, 27175, 27176, 27179, 27184, 27197, 27203, 27204, 27206, 27214, 27222, 27226, 27227, 27229, 27230, 27241, 27243, 27256, 27270, 27289, 27298, 27301, 27315, 27321, 27323, 27325, 27328, 27335, 27343, 27345, 27348, 27349, 27355, 27357, 27360, 27365, 27367, 27377, 27379, 27393, 27398, 27399, 27400, 27411, 27412, 27413, 27414, 27417, 27423, 27426, 27427, 27433, 27435, 27441, 27445, 27452, 27454, 27456, 27458, 27465, 27482, 27484, 27487, 27500, 27502, 27506, 27507, 27509, 27514, 27517, 27518, 27523, 27545, 27548, 27551, 27563, 27564, 27566, 27568, 27574, 27583, 27585, 27586, 27602, 27606, 27613, 27615, 27616, 27621, 27629, 27630, 27641, 27646, 27648, 27655, 27673, 27677, 27678, 27684, 27688, 27696, 27699, 27700, 27704, 27706, 27707, 27731, 27737, 27743, 27744, 27745, 27746, 27750, 27751, 27754, 27759, 27764, 27765, 27766, 27767, 27771, 27777, 27778, 27779, 27783, 27790, 27792, 27797, 27818, 27820, 27821, 27824, 27827, 27831, 27833, 27840, 27844, 27846, 27847, 27848, 27883, 27884, 27888, 27890, 27892, 27894, 27896, 27902, 27912, 27913, 27923, 27924, 27926, 27928, 27929, 27930, 27933, 27942, 27944, 27959, 27960, 27967, 27971, 27972, 27979, 27988, 27990, 27995, 28001, 28017, 28019, 28034, 28054, 28057, 28062, 28065, 28070, 28074, 28082, 28084, 28088, 28095, 28099, 28104, 28106, 28114, 28117, 28118, 28119, 28130, 28132, 28135, 28136, 28137, 28143, 28145, 28148, 28151, 28153, 28156, 28157, 28161, 28171, 28173, 28178, 28180, 28182, 28185, 28188, 28194, 28205, 28210, 28216, 28223, 28224, 28228, 28232, 28235, 28238, 28243, 28247, 28248, 28249, 28264, 28266, 28267, 28281, 28286, 28289, 28299, 28301, 28314, 28317, 28321, 28325, 28328, 28332, 28345, 28350, 28352, 28363, 28370, 28371, 28372, 28374, 28377, 28381, 28396, 28398, 28402, 28404, 28406, 28412, 28413, 28415, 28416, 28432, 28437, 28440, 28443, 28445, 28456, 28459, 28460, 28461, 28470, 28471, 28477, 28486, 28493, 28497, 28501, 28506, 28508, 28509, 28510, 28517, 28530, 28531, 28537, 28541, 28544, 28550, 28558, 28559, 28565, 28568, 28569, 28576, 28577, 28591, 28599, 28604, 28606, 28607, 28617, 28631, 28633, 28651, 28660, 28667, 28671, 28679, 28692, 28697, 28699, 28700, 28706, 28713, 28717, 28718, 28727, 28735, 28744, 28745, 28747, 28748, 28749, 28751, 28756, 28757, 28760, 28764, 28765, 28772, 28774, 28781, 28783, 28785, 28794, 28796, 28797, 28808, 28816, 28825, 28828, 28832, 28837, 28839, 28845, 28853, 28858, 28864, 28866, 28869, 28870, 28879, 28885, 28892, 28894, 28898, 28904, 28911, 28914, 28915, 28916, 28919, 28920, 28945, 28951, 28952, 28955, 28959, 28961, 28962, 28973, 28975, 28979, 28988, 28989, 28991, 29000, 29006, 29008, 29023, 29025, 29030, 29039, 29062, 29063, 29065, 29082, 29087, 29088, 29091, 29093, 29101, 29108, 29111, 29112, 29117, 29119, 29120, 29133, 29147, 29149, 29166, 29167, 29169, 29171, 29182, 29186, 29188, 29202, 29206, 29208, 29215, 29225, 29228, 29242, 29247, 29258, 29261, 29276, 29286, 29297, 29302, 29303, 29305, 29320, 29321, 29323, 29327, 29330, 29338, 29346, 29347, 29354, 29363, 29364, 29384, 29391, 29399, 29406, 29407, 29415, 29416, 29420, 29422, 29426, 29432, 29441, 29446, 29450, 29454, 29460, 29478, 29479, 29481, 29488, 29512, 29517, 29518, 29520, 29523, 29526, 29531, 29537, 29544, 29555, 29561, 29562, 29563, 29566, 29581, 29587, 29591, 29593, 29600, 29601, 29603, 29605, 29614, 29615, 29624, 29630, 29638, 29644, 29645, 29647, 29650, 29651, 29662, 29666, 29676, 29677, 29685, 29698, 29699, 29700, 29714, 29716, 29729, 29730, 29733, 29741, 29749, 29750, 29756, 29764, 29767, 29768, 29770, 29773, 29784, 29785, 29786, 29793, 29798, 29803, 29804, 29808, 29815, 29819, 29823, 29830, 29832, 29836, 29842, 29844, 29848, 29853, 29856, 29862, 29864, 29871, 29873, 29876, 29883, 29885, 29890, 29893, 29895, 29904, 29913, 29921, 29925, 29926, 29927, 29932, 29933, 29938, 29946, 29949, 29957, 29963, 29964, 29971, 29974, 29976, 29979, 29983, 29991, 29993, 29996, 29998, 30005, 30009, 30010, 30022, 30024, 30026, 30028, 30032, 30040, 30042, 30043, 30051, 30052, 30054, 30060, 30066, 30067, 30073, 30077, 30085, 30088, 30094, 30095, 30096, 30098, 30103, 30104, 30111, 30122, 30128, 30130, 30132, 30139, 30142, 30144, 30147, 30148, 30153, 30154, 30158, 30163, 30166, 30169, 30171, 30176, 30177, 30179, 30194, 30195, 30199, 30203, 30206, 30212, 30219, 30226, 30228, 30240, 30242, 30243, 30251, 30254, 30257, 30258, 30259, 30269, 30278, 30282, 30283, 30284, 30290, 30296, 30303, 30306, 30308, 30312, 30323, 30324, 30331, 30335, 30336, 30338, 30356, 30357, 30366, 30367, 30376, 30382, 30383, 30393, 30394, 30395, 30403, 30409, 30411, 30413, 30424, 30427, 30429, 30433, 30434, 30444, 30445, 30455, 30460, 30463, 30464, 30467, 30476, 30479, 30485, 30487, 30489, 30497, 30499, 30502, 30505, 30521, 30522, 30528, 30532, 30536, 30538, 30550, 30552, 30555, 30569, 30570, 30573, 30576, 30581, 30592, 30595, 30602, 30608, 30610, 30613, 30615, 30630, 30631, 30635, 30649, 30656, 30659, 30660, 30663, 30665, 30670, 30689, 30694, 30697, 30705, 30707, 30712, 30719, 30722, 30729, 30737, 30751, 30754, 30757, 30760, 30763, 30764, 30770, 30784, 30786, 30791, 30797, 30826, 30833, 30841, 30851, 30859, 30860, 30863, 30870, 30872, 30883, 30885, 30907, 30919, 30924, 30925, 30933, 30940, 30941, 30942, 30951, 30954, 30955, 30958, 30966, 30967, 30970, 30988, 31002, 31006, 31017, 31018, 31032, 31033, 31035, 31049, 31050, 31051, 31062, 31067, 31070, 31076, 31079, 31085, 31089, 31098, 31099, 31109, 31116, 31124, 31127, 31141, 31143, 31145, 31151, 31154, 31155, 31158, 31174, 31177, 31184, 31185, 31200, 31201, 31203, 31223, 31224, 31226, 31229, 31235, 31238, 31240, 31242, 31251, 31253, 31259, 31260, 31266, 31268, 31281, 31286, 31289, 31291, 31304, 31317, 31323, 31325, 31333, 31335, 31339, 31340, 31341, 31347, 31353, 31359, 31361, 31370, 31373, 31378, 31390, 31395, 31398, 31399, 31403, 31408, 31411, 31414, 31419, 31426, 31431, 31440, 31449, 31450, 31451, 31455, 31461, 31464, 31475, 31479, 31486, 31488, 31490, 31491, 31500, 31514, 31532, 31540, 31544, 31545, 31555, 31558, 31561, 31564, 31565, 31572, 31586, 31592, 31593, 31599, 31606, 31621, 31637, 31639, 31646, 31648, 31668, 31676, 31683, 31684, 31699, 31703, 31704, 31722, 31723, 31724, 31739, 31741, 31750, 31758, 31762, 31765, 31772, 31777, 31779, 31789, 31790, 31791, 31793, 31802, 31806, 31808, 31814, 31819, 31836, 31838, 31845, 31847, 31848, 31857, 31861, 31864, 31871, 31875, 31878, 31883, 31908, 31909, 31910, 31912, 31916, 31924, 31935, 31941, 31949, 31950, 31951, 31956, 31960, 31961, 31963, 31969, 31970, 31971, 31974, 31978, 31979, 31992, 31994, 32000, 32009, 32011, 32012, 32033, 32045, 32051, 32056, 32061, 32066, 32067, 32068, 32069, 32082, 32086, 32087, 32092, 32095, 32098, 32103, 32107, 32109, 32112, 32113, 32120, 32121, 32127, 32147, 32154, 32172, 32173, 32181, 32182, 32183, 32189, 32196, 32198, 32224, 32226, 32227, 32239, 32244, 32246, 32252, 32258, 32264, 32273, 32275, 32283, 32286, 32301, 32306, 32313, 32314, 32315, 32319, 32320, 32321, 32324, 32333, 32336, 32340, 32344, 32347, 32353, 32355, 32372, 32375, 32383, 32395, 32396, 32398, 32405, 32409, 32413, 32422, 32426, 32434, 32436, 32439, 32441, 32442, 32444, 32451, 32456, 32457, 32463, 32466, 32468, 32469, 32470, 32472, 32473, 32475, 32477, 32478, 32484, 32485, 32488, 32503, 32506, 32507, 32508, 32509, 32511, 32521, 32524, 32525, 32527, 32540, 32548, 32566, 32576, 32580, 32601, 32605, 32606, 32609, 32611, 32613, 32615, 32618, 32627, 32629, 32644, 32665, 32666, 32670, 32681, 32683, 32686, 32690, 32696, 32700, 32702, 32706, 32711, 32712, 32713, 32716, 32727, 32730, 32735, 32739, 32740, 32741, 32744, 32754, 32763, 32766, 32767, 32771, 32780, 32781, 32782, 32797, 32798, 32803, 32809, 32812, 32818, 32819, 32824, 32826, 32828, 32833, 32849, 32858, 32875, 32879, 32886, 32888, 32891, 32906, 32908, 32912, 32919, 32921, 32950, 32954, 32956, 32963, 32965, 32966, 32973, 32981, 32987, 32993, 33002, 33005, 33008, 33009, 33025, 33028, 33034, 33042, 33047, 33048, 33050, 33052, 33054, 33056, 33060, 33074, 33086, 33088, 33090, 33093, 33095, 33099, 33106, 33121, 33124, 33127, 33131, 33137, 33138, 33139, 33144, 33147, 33149, 33155, 33158, 33164, 33165, 33169, 33171, 33179, 33181, 33185, 33191, 33194, 33196, 33200, 33202, 33208, 33213, 33216, 33225, 33230, 33231, 33233, 33253, 33254, 33256, 33261, 33271, 33276, 33280, 33290, 33293, 33295, 33314, 33321, 33324, 33325, 33338, 33347, 33353, 33370, 33385, 33387, 33389, 33399, 33404, 33407, 33415, 33416, 33426, 33427, 33434, 33435, 33436, 33442, 33448, 33480, 33481, 33487, 33489, 33496, 33500, 33521, 33525, 33540, 33547, 33552, 33561, 33566, 33572, 33583, 33588, 33590, 33599, 33604, 33605, 33614, 33617, 33620, 33631, 33633, 33638, 33643, 33651, 33655, 33657, 33665, 33666, 33667, 33674, 33677, 33679, 33681, 33688, 33691, 33698, 33714, 33715, 33718, 33723, 33729, 33731, 33733, 33739, 33746, 33752, 33768, 33769, 33779, 33781, 33783, 33785, 33788, 33790, 33793, 33795, 33808, 33813, 33820, 33823, 33826, 33827, 33833, 33839, 33841, 33845, 33861, 33863, 33867, 33868, 33877, 33879, 33882, 33883, 33890, 33901, 33902, 33911, 33919, 33930, 33933, 33936, 33950, 33955, 33958, 33962, 33965, 33974, 33980, 33994, 33996, 34011, 34013, 34016, 34022, 34023, 34033, 34037, 34042, 34044, 34045, 34049, 34054, 34069, 34070, 34072, 34075, 34086, 34089, 34096, 34097, 34100, 34101, 34115, 34123, 34140, 34152, 34153, 34156, 34158, 34159, 34162, 34164, 34167, 34171, 34172, 34190, 34198, 34203, 34204, 34207, 34212, 34218, 34228, 34229, 34239, 34240, 34242, 34251, 34253, 34256, 34260, 34266, 34268, 34279, 34294, 34298, 34309, 34311, 34312, 34320, 34324, 34328, 34329, 34330, 34335, 34338, 34345, 34347, 34348, 34351, 34353, 34355, 34363, 34364, 34365, 34368, 34371, 34373, 34376, 34378, 34387, 34392, 34395, 34401, 34411, 34413, 34423, 34426, 34435, 34439, 34455, 34456, 34458, 34460, 34466, 34468, 34475, 34484, 34485, 34488, 34495, 34497, 34498, 34502, 34504, 34505, 34510, 34511, 34513, 34517, 34539, 34541, 34545, 34550, 34554, 34558, 34562, 34566, 34567, 34569, 34579, 34589, 34593, 34594, 34604, 34606, 34607, 34608, 34624, 34635, 34636, 34639, 34642, 34650, 34651, 34653, 34660, 34663, 34664, 34670, 34676, 34682, 34684, 34697, 34699, 34700, 34703, 34713, 34714, 34715, 34726, 34732, 34740, 34742, 34746, 34747, 34749, 34750, 34756, 34757, 34758, 34763, 34767, 34772, 34778, 34779, 34780, 34782, 34785, 34789, 34794, 34795, 34805, 34808, 34809, 34834, 34835, 34839, 34844, 34848, 34849, 34852, 34859, 34871, 34877, 34891, 34904, 34906, 34909, 34911, 34915, 34925, 34929, 34935, 34938, 34939, 34941, 34948, 34960, 34969, 34978, 34987, 34991, 34995, 35004, 35005, 35012, 35013, 35017, 35025, 35026, 35034, 35045, 35052, 35053, 35054, 35060, 35067, 35081, 35082, 35083, 35084, 35094, 35097, 35102, 35104, 35109, 35110, 35121, 35139, 35149, 35155, 35156, 35163, 35172, 35174, 35177, 35182, 35185, 35197, 35199, 35200, 35207, 35222, 35223, 35224, 35233, 35234, 35235, 35248, 35250, 35253, 35257, 35283, 35285, 35290, 35299, 35318, 35322, 35324, 35326, 35327, 35330, 35331, 35339, 35343, 35346, 35357, 35361, 35365, 35366, 35367, 35369, 35382, 35384, 35388, 35396, 35399, 35401, 35407, 35413, 35423, 35430, 35431, 35438, 35453, 35456, 35457, 35459, 35480, 35492, 35494, 35503, 35505, 35512, 35513, 35516, 35518, 35525, 35528, 35530, 35534, 35539, 35541, 35543, 35544, 35549, 35550, 35551, 35559, 35560, 35561, 35573, 35574, 35579, 35585, 35591, 35594, 35606, 35607, 35610, 35612, 35618, 35624, 35629, 35631, 35634, 35649, 35650, 35651, 35652, 35654, 35657, 35672, 35677, 35681, 35701, 35702, 35703, 35704, 35721, 35727, 35737, 35741, 35751, 35752, 35759, 35762, 35781, 35783, 35788, 35790, 35799, 35800, 35814, 35822, 35826, 35828, 35838, 35841, 35843, 35852, 35855, 35857, 35878, 35879, 35887, 35891, 35897, 35898, 35928, 35938, 35939, 35975, 35982, 35999, 36030, 36034, 36048, 36050, 36053, 36054, 36061, 36080, 36082, 36087, 36090, 36091, 36096, 36098, 36107, 36127, 36128, 36129, 36145, 36149, 36154, 36155, 36175, 36176, 36181, 36184, 36191, 36192, 36217, 36225, 36226, 36230, 36232, 36234, 36237, 36238, 36239, 36241, 36247, 36249, 36251, 36267, 36272, 36278, 36280, 36286, 36287, 36291, 36295, 36299, 36300, 36304, 36306, 36313, 36316, 36317, 36318, 36325, 36327, 36335, 36341, 36343, 36345, 36349, 36350, 36351, 36353, 36354, 36358, 36365, 36371, 36373, 36388, 36392, 36396, 36397, 36406, 36408, 36410, 36419, 36424, 36444, 36456, 36458, 36471, 36476, 36491, 36500, 36501, 36503, 36512, 36514, 36519, 36526, 36527, 36530, 36532, 36536, 36538, 36542, 36548, 36549, 36551, 36564, 36567, 36584, 36585, 36590, 36591, 36593, 36596, 36605, 36612, 36613, 36620, 36630, 36631, 36635, 36642, 36646, 36650, 36653, 36655, 36656, 36662, 36669, 36674, 36682, 36687, 36691, 36698, 36701, 36710, 36713, 36714, 36724, 36728, 36732, 36745, 36746, 36748, 36760, 36769, 36772, 36782, 36783, 36791, 36792, 36797, 36804, 36807, 36814, 36817, 36820, 36823, 36826, 36831, 36841, 36842, 36849, 36858, 36863, 36867, 36868, 36874, 36876, 36878, 36881, 36883, 36884, 36893, 36896, 36902, 36911, 36912, 36913, 36917, 36924, 36925, 36929, 36932, 36937, 36938, 36946, 36951, 36952, 36966, 36968, 36969, 36974, 36984, 36987, 36989, 36991, 36993, 36998, 37001, 37010, 37012, 37013, 37017, 37018, 37027, 37029, 37040, 37042, 37043, 37049, 37051, 37054, 37056, 37057, 37074, 37076, 37096, 37102, 37114, 37119, 37122, 37128, 37134, 37140, 37143, 37145, 37146, 37149, 37158, 37159, 37170, 37174, 37176, 37179, 37187, 37188, 37200, 37202, 37213, 37218, 37223, 37228, 37230, 37236, 37242, 37245, 37246, 37247, 37248, 37250, 37252, 37259, 37261, 37267, 37276, 37279, 37282, 37283, 37286, 37291, 37305, 37306, 37318, 37322, 37335, 37338, 37342, 37345, 37353, 37356, 37365, 37366, 37375, 37376, 37377, 37393, 37404, 37416, 37434, 37449, 37453, 37459, 37462, 37468, 37470, 37474, 37482, 37486, 37487, 37489, 37495, 37498, 37511, 37525, 37526, 37528, 37534, 37535, 37536, 37539, 37542, 37543, 37554, 37556, 37559, 37569, 37571, 37574, 37581, 37584, 37587, 37590, 37591, 37593, 37595, 37610, 37622, 37623, 37625, 37631, 37635, 37647, 37652, 37665, 37671, 37676, 37681, 37691, 37701, 37708, 37709, 37717, 37719, 37720, 37722, 37730, 37732, 37736, 37742, 37758, 37763, 37767, 37772, 37785, 37787, 37788, 37790, 37795, 37798, 37804, 37805, 37812, 37814, 37825, 37828, 37834, 37839, 37841, 37849, 37853, 37858, 37867, 37874, 37886, 37896, 37898, 37907, 37909, 37916, 37918, 37930, 37932, 37943, 37944, 37945, 37955, 37956, 37970, 37972, 37983, 37987, 37991, 37993, 38003, 38013, 38016, 38018, 38026, 38028, 38032, 38035, 38036, 38038, 38043, 38045, 38046, 38051, 38066, 38072, 38079, 38082, 38085, 38089, 38091, 38094, 38098, 38100, 38105, 38107, 38109, 38113, 38115, 38117, 38119, 38121, 38136, 38141, 38142, 38143, 38144, 38145, 38146, 38149, 38157, 38159, 38163, 38168, 38169, 38170, 38171, 38172, 38186, 38190, 38191, 38206, 38215, 38216, 38219, 38220, 38227, 38228, 38234, 38246, 38247, 38252, 38261, 38262, 38263, 38264, 38278, 38279, 38281, 38294, 38295, 38296, 38308, 38316, 38319, 38324, 38326, 38335, 38340, 38341, 38345, 38350, 38358, 38360, 38361, 38365, 38372, 38378, 38379, 38383, 38389, 38395, 38398, 38399, 38401, 38412, 38414, 38420, 38426, 38427, 38431, 38434, 38436, 38443, 38445, 38453, 38455, 38473, 38474, 38475, 38479, 38484, 38496, 38513, 38515, 38523, 38538, 38544, 38556, 38565, 38566, 38576, 38589, 38595, 38604, 38609, 38616, 38618, 38625, 38630, 38635, 38640, 38642, 38644, 38651, 38652, 38653, 38659, 38667, 38678, 38679, 38680, 38686, 38687, 38689, 38701, 38705, 38706, 38709, 38724, 38729, 38731, 38734, 38735, 38742, 38755, 38757, 38760, 38764, 38769, 38773, 38779, 38780, 38793, 38795, 38797, 38802, 38808, 38809, 38811, 38819, 38820, 38822, 38834, 38840, 38842, 38855, 38856, 38862, 38888, 38899, 38900, 38920, 38922, 38924, 38933, 38934, 38935, 38951, 38954, 38955, 38956, 38965, 38973, 38975, 38976, 38977, 38978, 38991, 38993, 38998, 39001, 39004, 39012, 39014, 39026, 39032, 39034, 39044, 39052, 39054, 39065, 39071, 39072, 39074, 39088, 39090, 39098, 39106, 39113, 39125, 39127, 39136, 39137, 39139, 39142, 39147, 39150, 39152, 39160, 39164, 39166, 39167, 39168, 39181, 39184, 39202, 39205, 39210, 39218, 39228, 39231, 39238, 39240, 39241, 39245, 39254, 39266, 39267, 39268, 39283, 39290, 39291, 39292, 39297, 39300, 39302, 39305, 39307, 39311, 39317, 39331, 39335, 39336, 39342, 39343, 39345, 39349, 39351, 39353, 39364, 39366, 39370, 39371, 39373, 39374, 39383, 39400, 39402, 39405, 39413, 39414, 39419, 39428, 39431, 39433, 39443, 39445, 39447, 39448, 39452, 39455, 39456, 39463, 39467, 39469, 39473, 39475, 39477, 39482, 39498, 39499, 39507, 39513, 39519, 39520, 39536, 39538, 39540, 39541, 39542, 39543, 39547, 39552, 39556, 39560, 39561, 39562, 39563, 39564, 39572, 39574, 39577, 39583, 39587, 39594, 39596, 39603, 39611, 39614, 39628, 39639, 39645, 39663, 39667, 39673, 39674, 39677, 39679, 39687, 39691, 39701, 39705, 39711, 39721, 39723, 39735, 39737, 39741, 39745, 39760, 39763, 39764, 39768, 39807, 39808, 39811, 39813, 39823, 39825, 39833, 39838, 39839, 39847, 39848, 39849, 39851, 39857, 39858, 39860, 39863, 39872, 39873, 39876, 39877, 39883, 39886, 39892, 39897, 39899, 39911, 39913, 39918, 39922, 39927, 39929, 39942, 39950, 39951, 39953, 39954, 39955, 39956, 39957, 39958, 39964, 39966, 39971, 39972, 39981, 39984, 39987, 39993, 39997, 39999, 40005, 40006, 40011, 40024, 40028, 40032, 40042, 40048, 40058, 40060, 40074, 40075, 40092, 40100, 40104, 40106, 40121, 40130, 40131, 40137, 40141, 40154, 40160, 40165, 40168, 40178, 40183, 40190, 40191, 40192, 40193, 40194, 40198, 40199, 40207, 40220, 40226, 40232, 40233, 40235, 40238, 40242, 40256, 40257, 40258, 40260, 40264, 40266, 40269, 40276, 40280, 40292, 40296, 40297, 40298, 40299, 40302, 40306, 40317, 40320, 40323, 40326, 40327, 40331, 40334, 40348, 40350, 40357, 40360, 40371, 40381, 40386, 40389, 40391, 40402, 40406, 40407, 40410, 40411, 40413, 40419, 40424, 40425, 40428, 40432, 40436, 40445, 40450, 40452, 40460, 40464, 40466, 40467, 40474, 40480, 40482, 40483, 40489, 40510, 40517, 40519, 40541, 40542, 40544, 40556, 40567, 40569, 40571, 40574, 40575, 40581, 40582, 40584, 40586, 40588, 40593, 40597, 40604, 40606, 40607, 40610, 40612, 40615, 40620, 40621, 40628, 40634, 40636, 40637, 40653, 40683, 40690, 40692, 40693, 40709, 40712, 40741, 40748, 40754, 40759, 40760, 40761, 40763, 40767, 40773, 40774, 40781, 40790, 40791, 40792, 40796, 40802, 40806, 40813, 40815, 40817, 40819, 40820, 40822, 40825, 40826, 40827, 40832, 40836, 40837, 40839, 40841, 40843, 40858, 40869, 40875, 40893, 40894, 40912, 40916, 40917, 40918, 40926, 40927, 40930, 40938, 40939, 40940, 40941, 40950, 40952, 40965, 40966, 41012, 41013, 41014, 41016, 41017, 41020, 41027, 41032, 41038, 41051, 41052, 41056, 41061, 41062, 41063, 41094, 41096, 41098, 41106, 41115, 41124, 41125, 41126, 41137, 41138, 41141, 41143, 41156, 41157, 41159, 41172, 41173, 41175, 41185, 41191, 41194, 41204, 41205, 41210, 41212, 41215, 41245, 41256, 41258, 41268, 41272, 41274, 41278, 41279, 41280, 41283, 41284, 41288, 41294, 41299, 41301, 41315, 41331, 41336, 41337, 41338, 41349, 41352, 41353, 41359, 41363, 41367, 41371, 41380, 41382, 41388, 41392, 41400, 41403, 41405, 41408, 41419, 41421, 41424, 41430, 41433, 41438, 41444, 41447, 41448, 41451, 41456, 41459, 41464, 41470, 41472, 41473, 41483, 41484, 41492, 41493, 41514, 41516, 41526, 41527, 41529, 41543, 41559, 41564, 41566, 41573, 41578, 41581, 41585, 41593, 41596, 41600, 41613, 41615, 41623, 41633, 41635, 41636, 41640, 41647, 41650, 41653, 41658, 41661, 41663, 41668, 41669, 41671, 41673, 41679, 41682, 41685, 41718, 41726, 41728, 41729, 41731, 41733, 41737, 41739, 41744, 41752, 41754, 41756, 41764, 41766, 41772, 41777, 41781, 41785, 41797, 41799, 41800, 41814, 41815, 41816, 41831, 41833, 41844, 41853, 41854, 41868, 41869, 41883, 41893, 41900, 41906, 41909, 41915, 41919, 41922, 41930, 41935, 41942, 41949, 41951, 41953, 41956, 41961, 41962, 41975, 41978, 41981, 41982, 41989, 41997, 42000, 42004, 42008, 42013, 42015, 42016, 42022, 42033, 42041, 42046, 42056, 42081, 42083, 42084, 42085, 42086, 42096, 42103, 42111, 42125, 42126, 42131, 42135, 42148, 42152, 42156, 42158, 42160, 42166, 42169, 42170, 42172, 42181, 42182, 42187, 42194, 42196, 42197, 42201, 42203, 42212, 42220, 42232, 42240, 42242, 42245, 42257, 42259, 42266, 42267, 42274, 42278, 42279, 42287, 42288, 42292, 42300, 42301, 42306, 42307, 42311, 42312, 42336, 42338, 42348, 42351, 42354, 42358, 42368, 42381, 42382, 42383, 42385, 42393, 42396, 42399, 42406, 42409, 42410, 42412, 42413, 42420, 42426, 42436, 42438, 42441, 42443, 42449, 42452, 42456, 42457, 42458, 42460, 42462, 42471, 42478, 42490, 42492, 42498, 42501, 42502, 42514, 42515, 42516, 42517, 42528, 42530, 42542, 42555, 42557, 42563, 42593, 42595, 42603, 42607, 42608, 42618, 42619, 42620, 42623, 42624, 42627, 42634, 42636, 42649, 42652, 42664, 42666, 42680, 42681, 42683, 42690, 42697, 42699, 42701, 42718, 42719, 42725, 42726, 42728, 42729, 42734, 42736, 42739, 42740, 42754, 42760, 42770, 42781, 42787, 42789, 42802, 42803, 42807, 42809, 42815, 42817, 42818, 42833, 42834, 42841, 42844, 42855, 42857, 42859, 42866, 42871, 42889, 42890, 42891, 42892, 42906, 42913, 42921, 42923, 42930, 42934, 42937, 42941, 42951, 42953, 42968, 42970, 42971, 42981, 42985, 42987, 42988, 42991, 42995, 42996, 42998, 43001, 43006, 43013, 43015, 43018, 43019, 43023, 43025, 43026, 43035, 43036, 43048, 43055, 43057, 43068, 43071, 43083, 43085, 43086, 43092, 43104, 43105, 43113, 43114, 43115, 43117, 43121, 43126, 43137, 43139, 43146, 43155, 43168, 43171, 43173, 43180, 43184, 43185, 43198, 43204, 43208, 43213, 43223, 43228, 43229, 43231, 43234, 43240, 43241, 43244, 43252, 43259, 43264, 43266, 43276, 43277, 43279, 43280, 43286, 43290, 43292, 43297, 43304, 43306, 43308, 43320, 43321, 43322, 43327, 43333, 43338, 43339, 43351, 43358, 43363, 43376, 43384, 43391, 43398, 43404, 43412, 43414, 43418, 43419, 43420, 43421, 43427, 43437, 43438, 43442, 43447, 43448, 43453, 43454, 43457, 43459, 43462, 43463, 43464, 43468, 43469, 43473, 43476, 43477, 43481, 43488, 43489, 43492, 43496, 43501, 43517, 43518, 43530, 43532, 43533, 43540, 43541, 43556, 43558, 43561, 43563, 43567, 43575, 43577, 43578, 43581, 43593, 43596, 43597, 43600, 43602, 43621, 43623, 43625, 43631, 43632, 43635, 43639, 43640, 43643, 43646, 43654, 43657, 43665, 43666, 43679, 43692, 43701, 43704, 43714, 43716, 43727, 43731, 43732, 43735, 43748, 43750, 43754, 43756, 43764, 43767, 43769, 43774, 43778, 43785, 43787, 43790, 43792, 43797, 43798, 43800, 43804, 43812, 43814, 43816, 43820, 43826, 43834, 43836, 43842, 43845, 43846, 43847, 43848, 43856, 43881, 43884, 43885, 43887, 43894, 43898, 43900, 43901, 43902, 43903, 43909, 43910, 43917, 43919, 43928, 43932, 43937, 43939, 43947, 43953, 43972, 43973, 43976, 43986, 43987, 43990, 43991, 43995, 43998, 44003, 44008, 44014, 44016, 44020, 44035, 44038, 44039, 44043, 44048, 44049, 44050, 44052, 44059, 44065, 44081, 44083, 44094, 44101, 44111, 44115, 44118, 44120, 44125, 44131, 44135, 44136, 44147, 44148, 44151, 44157, 44160, 44161, 44163, 44164, 44168, 44170, 44176, 44183, 44191, 44209, 44215, 44237, 44239, 44246, 44251, 44252, 44255, 44259, 44262, 44267, 44268, 44271, 44278, 44280, 44282, 44284, 44290, 44291, 44302, 44306, 44309, 44310, 44318, 44320, 44325, 44340, 44349, 44351, 44352, 44356, 44359, 44385, 44386, 44388, 44393, 44397, 44412, 44413, 44414, 44427, 44439, 44441, 44444, 44445, 44447, 44452, 44458, 44470, 44471, 44478, 44480, 44513, 44514, 44522, 44532, 44535, 44536, 44542, 44548, 44554, 44568, 44575, 44582, 44584, 44589, 44591, 44596, 44600, 44606, 44607, 44609, 44610, 44615, 44624, 44626, 44635, 44642, 44644, 44648, 44659, 44677, 44679, 44684, 44685, 44689, 44695, 44696, 44700, 44702, 44704, 44707, 44710, 44712, 44715, 44725, 44730, 44737, 44743, 44745, 44753, 44755, 44760, 44761, 44763, 44767, 44775, 44777, 44783, 44787, 44790, 44803, 44810, 44811, 44812, 44813, 44818, 44820, 44821, 44834, 44835, 44845, 44847, 44851, 44853, 44855, 44857, 44868, 44877, 44880, 44884, 44894, 44898, 44921, 44923, 44926, 44938, 44948, 44951, 44966, 44969, 44974, 44977, 44984, 44986, 44993, 44996, 45008, 45022, 45023, 45024, 45033, 45037, 45043, 45044, 45052, 45053, 45056, 45059, 45066, 45074, 45077, 45078, 45086, 45101, 45115, 45125, 45133, 45136, 45140, 45145, 45158, 45165, 45170, 45173, 45183, 45184, 45192, 45200, 45205, 45206, 45207, 45217, 45222, 45225, 45231, 45240, 45241, 45242, 45250, 45257, 45262, 45273, 45282, 45290, 45293, 45295, 45299, 45304, 45308, 45318, 45319, 45320, 45325, 45332, 45352, 45353, 45355, 45367, 45371, 45375, 45380, 45399, 45401, 45407, 45412, 45413, 45415, 45425, 45428, 45430, 45442, 45453, 45475, 45477, 45478, 45479, 45481, 45482, 45502, 45503, 45504, 45516, 45519, 45521, 45525, 45526, 45546, 45558, 45560, 45563, 45564, 45572, 45587, 45596, 45611, 45612, 45615, 45621, 45625, 45631, 45680, 45689, 45696, 45697, 45698, 45699, 45705, 45716, 45723, 45725, 45726, 45733, 45735, 45744, 45751, 45752, 45753, 45761, 45763, 45769, 45771, 45772, 45775, 45781, 45782, 45798, 45800, 45816, 45830, 45832, 45833, 45844, 45849, 45852, 45854, 45860, 45864, 45865, 45866, 45870, 45876, 45886, 45890, 45894, 45902, 45908, 45912, 45915, 45925, 45932, 45933, 45937, 45939, 45941, 45942, 45954, 45961, 45962, 45963, 45973, 45974, 45978, 45984, 45986, 45995, 45999, 46001, 46002, 46004, 46005, 46013, 46017, 46019, 46026, 46029, 46038, 46040, 46041, 46045, 46077, 46078, 46085, 46086, 46090, 46094, 46096, 46099, 46100, 46105, 46108, 46110, 46113, 46117, 46119, 46120, 46122, 46125, 46126, 46127, 46137, 46140, 46142, 46144, 46157, 46158, 46165, 46167, 46185, 46193, 46201, 46202, 46205, 46214, 46216, 46217, 46222, 46225, 46230, 46239, 46246, 46253, 46254, 46259, 46266, 46270, 46279, 46281, 46301, 46304, 46307, 46312, 46316, 46318, 46324, 46327, 46330, 46331, 46332, 46340, 46341, 46342, 46348, 46349, 46356, 46358, 46360, 46361, 46365, 46376, 46377, 46380, 46387, 46389, 46390, 46395, 46401, 46407, 46414, 46429, 46431, 46436, 46440, 46442, 46454, 46455, 46457, 46468, 46471, 46472, 46473, 46474, 46477, 46483, 46485, 46486, 46490, 46492, 46502, 46506, 46507, 46513, 46514, 46523, 46532, 46538, 46543, 46554, 46555, 46563, 46564, 46571, 46578, 46584, 46595, 46598, 46604, 46610, 46616, 46619, 46623, 46624, 46626, 46638, 46653, 46661, 46662, 46673, 46674, 46675, 46681, 46684, 46685, 46689, 46692, 46695, 46698, 46724, 46732, 46740, 46741, 46748, 46751, 46752, 46753, 46754, 46758, 46766, 46777, 46803, 46805, 46811, 46814, 46818, 46821, 46822, 46827, 46828, 46834, 46835, 46844, 46846, 46851, 46855, 46858, 46863, 46873, 46879, 46886, 46890, 46892, 46911, 46912, 46918, 46924, 46933, 46935, 46936, 46943, 46945, 46947, 46949, 46952, 46963, 46982, 46983, 46987, 46988, 46995, 46996, 47002, 47003, 47020, 47029, 47030, 47031, 47041, 47043, 47048, 47052, 47053, 47059, 47060, 47067, 47068, 47075, 47076, 47083, 47084, 47101, 47109, 47115, 47118, 47121, 47124, 47131, 47135, 47156, 47157, 47160, 47161, 47163, 47175, 47182, 47188, 47190, 47192, 47205, 47222, 47225, 47228, 47231, 47234, 47248, 47255, 47258, 47259, 47265, 47266, 47272, 47278, 47281, 47286, 47294, 47300, 47304, 47310, 47311, 47316, 47318, 47331, 47341, 47342, 47346, 47347, 47355, 47363, 47369, 47370, 47377, 47382, 47395, 47399, 47400, 47406, 47413, 47416, 47419, 47425, 47433, 47443, 47447, 47454, 47459, 47460, 47468, 47475, 47476, 47477, 47478, 47481, 47484, 47486, 47492, 47505, 47507, 47510, 47518, 47519, 47526, 47527, 47533, 47540, 47542, 47543, 47544, 47553, 47555, 47558, 47559, 47564, 47576, 47578, 47582, 47601, 47605, 47608, 47609, 47611, 47612, 47620, 47621, 47629, 47630, 47642, 47653, 47654, 47660, 47662, 47664, 47670, 47672, 47679, 47682, 47687, 47693, 47696, 47702, 47711, 47714, 47718, 47719, 47728, 47730, 47737, 47740, 47743, 47753, 47756, 47758, 47763, 47769, 47776, 47782, 47783, 47788, 47793, 47794, 47797, 47804, 47806, 47813, 47825, 47838, 47851, 47856, 47862, 47863, 47865, 47866, 47870, 47871, 47872, 47873, 47874, 47894, 47898, 47903, 47908, 47913, 47916, 47921, 47924, 47930, 47931, 47938, 47944, 47945, 47952, 47966, 47968, 47971, 47977, 47980, 47984, 47986, 47989, 47996, 48000], Type: <class 'list'>\n",
            "Group: (3, 3), Members: [12, 13, 16, 26, 29, 33, 35, 36, 39, 49, 59, 63, 69, 76, 78, 84, 86, 103, 106, 109, 116, 117, 122, 127, 129, 135, 138, 152, 153, 160, 173, 180, 185, 191, 194, 196, 206, 209, 227, 229, 238, 240, 241, 244, 257, 262, 268, 277, 280, 293, 294, 308, 309, 318, 325, 335, 338, 342, 343, 346, 353, 355, 368, 370, 378, 381, 384, 388, 390, 395, 396, 401, 407, 410, 420, 422, 432, 443, 445, 446, 456, 469, 474, 475, 491, 496, 497, 500, 502, 504, 506, 508, 512, 523, 525, 537, 545, 547, 548, 561, 576, 578, 580, 585, 587, 589, 597, 603, 606, 611, 614, 625, 626, 634, 635, 638, 641, 642, 649, 654, 657, 658, 662, 666, 674, 676, 686, 706, 707, 708, 709, 712, 715, 718, 720, 723, 727, 729, 730, 739, 749, 751, 753, 755, 759, 760, 764, 765, 767, 771, 777, 778, 780, 782, 785, 788, 793, 800, 802, 814, 819, 820, 822, 837, 838, 839, 849, 852, 863, 871, 876, 878, 886, 898, 901, 907, 908, 909, 918, 921, 928, 934, 935, 937, 939, 944, 956, 958, 960, 962, 963, 964, 972, 975, 983, 988, 989, 990, 992, 1012, 1021, 1023, 1032, 1045, 1048, 1053, 1062, 1066, 1067, 1070, 1074, 1076, 1078, 1079, 1083, 1087, 1089, 1091, 1100, 1113, 1119, 1122, 1123, 1128, 1130, 1141, 1142, 1143, 1147, 1154, 1156, 1164, 1168, 1176, 1186, 1195, 1198, 1203, 1208, 1215, 1217, 1222, 1230, 1233, 1239, 1247, 1251, 1253, 1255, 1267, 1271, 1273, 1286, 1294, 1296, 1308, 1310, 1313, 1323, 1326, 1327, 1337, 1338, 1351, 1352, 1358, 1368, 1369, 1370, 1379, 1386, 1387, 1393, 1395, 1398, 1399, 1402, 1418, 1419, 1420, 1427, 1429, 1430, 1432, 1437, 1439, 1447, 1448, 1449, 1462, 1465, 1470, 1472, 1473, 1482, 1485, 1486, 1488, 1492, 1500, 1504, 1517, 1520, 1521, 1526, 1527, 1530, 1533, 1541, 1542, 1552, 1561, 1563, 1568, 1572, 1573, 1593, 1595, 1596, 1597, 1601, 1616, 1618, 1629, 1633, 1646, 1650, 1656, 1658, 1660, 1661, 1662, 1679, 1681, 1682, 1686, 1691, 1695, 1697, 1700, 1705, 1711, 1716, 1721, 1724, 1727, 1731, 1733, 1735, 1739, 1740, 1745, 1749, 1756, 1764, 1778, 1779, 1787, 1790, 1793, 1801, 1804, 1805, 1809, 1816, 1818, 1825, 1842, 1843, 1845, 1846, 1849, 1859, 1866, 1867, 1870, 1885, 1886, 1887, 1888, 1899, 1900, 1905, 1907, 1910, 1914, 1915, 1945, 1948, 1952, 1954, 1972, 1985, 1989, 1991, 1993, 1994, 1999, 2000, 2001, 2006, 2016, 2018, 2020, 2028, 2035, 2038, 2047, 2048, 2058, 2061, 2062, 2071, 2072, 2084, 2087, 2089, 2105, 2108, 2109, 2111, 2116, 2121, 2123, 2126, 2127, 2128, 2129, 2131, 2134, 2139, 2141, 2151, 2159, 2162, 2164, 2167, 2175, 2191, 2192, 2197, 2199, 2201, 2202, 2204, 2211, 2219, 2226, 2229, 2249, 2257, 2260, 2262, 2267, 2268, 2269, 2278, 2279, 2288, 2290, 2292, 2304, 2317, 2322, 2327, 2328, 2330, 2338, 2340, 2359, 2360, 2363, 2376, 2378, 2385, 2388, 2390, 2391, 2392, 2398, 2401, 2412, 2414, 2436, 2442, 2445, 2451, 2455, 2456, 2459, 2467, 2469, 2473, 2475, 2482, 2483, 2493, 2499, 2500, 2504, 2507, 2515, 2517, 2518, 2526, 2536, 2541, 2545, 2557, 2567, 2568, 2570, 2571, 2575, 2583, 2588, 2589, 2596, 2603, 2604, 2607, 2608, 2622, 2624, 2628, 2634, 2636, 2642, 2657, 2664, 2666, 2668, 2670, 2677, 2694, 2696, 2700, 2710, 2715, 2726, 2728, 2731, 2741, 2743, 2745, 2756, 2760, 2761, 2763, 2766, 2779, 2792, 2800, 2806, 2808, 2813, 2818, 2820, 2826, 2827, 2833, 2834, 2839, 2848, 2861, 2882, 2898, 2900, 2903, 2912, 2917, 2921, 2925, 2939, 2955, 2964, 2970, 2971, 2974, 2979, 2981, 2995, 2996, 2997, 3005, 3008, 3010, 3012, 3013, 3018, 3020, 3026, 3027, 3031, 3032, 3035, 3041, 3042, 3045, 3049, 3053, 3054, 3055, 3068, 3070, 3082, 3087, 3092, 3093, 3097, 3106, 3111, 3112, 3116, 3122, 3123, 3128, 3129, 3132, 3141, 3142, 3147, 3148, 3150, 3155, 3156, 3158, 3159, 3160, 3167, 3187, 3192, 3193, 3198, 3211, 3213, 3217, 3223, 3227, 3231, 3232, 3233, 3243, 3248, 3255, 3257, 3261, 3262, 3264, 3269, 3272, 3287, 3288, 3303, 3311, 3318, 3322, 3331, 3337, 3340, 3342, 3350, 3355, 3360, 3363, 3364, 3367, 3370, 3373, 3376, 3377, 3381, 3388, 3389, 3397, 3407, 3409, 3422, 3430, 3432, 3434, 3443, 3446, 3451, 3455, 3456, 3460, 3461, 3471, 3472, 3475, 3477, 3480, 3481, 3482, 3483, 3488, 3498, 3505, 3506, 3507, 3511, 3513, 3517, 3533, 3536, 3537, 3556, 3562, 3576, 3577, 3589, 3591, 3606, 3608, 3609, 3614, 3616, 3617, 3618, 3620, 3623, 3631, 3632, 3634, 3636, 3649, 3660, 3663, 3664, 3673, 3674, 3679, 3684, 3686, 3697, 3701, 3708, 3721, 3722, 3723, 3731, 3738, 3741, 3756, 3763, 3766, 3774, 3775, 3776, 3782, 3784, 3792, 3805, 3811, 3815, 3817, 3821, 3826, 3827, 3833, 3836, 3837, 3841, 3850, 3861, 3868, 3877, 3878, 3886, 3889, 3894, 3899, 3903, 3909, 3912, 3922, 3923, 3925, 3927, 3929, 3933, 3941, 3955, 3966, 3969, 3975, 3976, 3980, 3986, 3995, 3999, 4002, 4005, 4006, 4013, 4015, 4017, 4025, 4032, 4041, 4051, 4056, 4065, 4066, 4083, 4088, 4100, 4103, 4104, 4114, 4116, 4125, 4126, 4127, 4147, 4150, 4154, 4158, 4159, 4181, 4187, 4191, 4194, 4199, 4203, 4204, 4207, 4213, 4216, 4221, 4223, 4228, 4230, 4231, 4232, 4244, 4251, 4263, 4266, 4275, 4276, 4282, 4289, 4290, 4292, 4307, 4309, 4314, 4317, 4323, 4332, 4339, 4340, 4341, 4344, 4358, 4359, 4362, 4363, 4373, 4374, 4381, 4387, 4394, 4396, 4401, 4412, 4417, 4422, 4429, 4430, 4431, 4432, 4439, 4440, 4441, 4442, 4443, 4448, 4449, 4452, 4456, 4457, 4462, 4465, 4469, 4486, 4493, 4495, 4497, 4512, 4514, 4516, 4519, 4525, 4533, 4535, 4541, 4543, 4544, 4549, 4565, 4572, 4577, 4579, 4592, 4593, 4602, 4606, 4610, 4611, 4616, 4617, 4624, 4626, 4628, 4634, 4640, 4642, 4648, 4654, 4657, 4661, 4662, 4670, 4675, 4677, 4678, 4683, 4689, 4702, 4703, 4724, 4728, 4730, 4731, 4738, 4748, 4750, 4759, 4761, 4763, 4765, 4766, 4769, 4772, 4779, 4780, 4789, 4793, 4796, 4797, 4798, 4808, 4809, 4810, 4819, 4823, 4825, 4836, 4837, 4839, 4840, 4847, 4866, 4867, 4869, 4878, 4885, 4891, 4894, 4902, 4903, 4908, 4909, 4910, 4915, 4918, 4925, 4937, 4940, 4951, 4957, 4958, 4972, 4987, 4988, 4992, 5001, 5007, 5008, 5009, 5019, 5021, 5022, 5027, 5039, 5047, 5049, 5052, 5063, 5071, 5080, 5083, 5085, 5094, 5096, 5099, 5102, 5107, 5108, 5110, 5111, 5113, 5114, 5118, 5119, 5144, 5145, 5147, 5161, 5162, 5167, 5173, 5174, 5178, 5179, 5182, 5183, 5199, 5201, 5207, 5214, 5215, 5217, 5229, 5234, 5236, 5237, 5239, 5246, 5250, 5253, 5254, 5256, 5260, 5261, 5262, 5271, 5278, 5296, 5306, 5309, 5325, 5330, 5333, 5336, 5344, 5347, 5349, 5352, 5353, 5359, 5361, 5366, 5370, 5371, 5372, 5375, 5376, 5380, 5387, 5396, 5398, 5408, 5411, 5416, 5426, 5433, 5436, 5437, 5443, 5458, 5462, 5468, 5470, 5475, 5492, 5495, 5497, 5500, 5501, 5503, 5505, 5506, 5510, 5516, 5527, 5528, 5529, 5531, 5543, 5546, 5562, 5563, 5570, 5572, 5580, 5586, 5588, 5600, 5603, 5607, 5608, 5616, 5618, 5628, 5633, 5637, 5641, 5642, 5656, 5657, 5661, 5664, 5669, 5673, 5674, 5682, 5708, 5711, 5717, 5718, 5722, 5735, 5740, 5744, 5748, 5750, 5751, 5757, 5761, 5763, 5766, 5767, 5772, 5787, 5797, 5801, 5804, 5805, 5810, 5812, 5814, 5816, 5820, 5823, 5826, 5827, 5830, 5848, 5851, 5855, 5856, 5869, 5884, 5885, 5888, 5889, 5891, 5892, 5899, 5902, 5904, 5914, 5915, 5918, 5927, 5930, 5931, 5938, 5939, 5945, 5947, 5951, 5961, 5978, 5980, 5981, 5989, 5990, 5995, 6005, 6008, 6010, 6013, 6017, 6025, 6028, 6030, 6039, 6042, 6044, 6046, 6054, 6058, 6069, 6074, 6083, 6085, 6091, 6095, 6109, 6124, 6125, 6126, 6138, 6142, 6144, 6151, 6154, 6162, 6166, 6176, 6177, 6182, 6186, 6189, 6196, 6206, 6217, 6220, 6230, 6243, 6244, 6250, 6260, 6276, 6277, 6280, 6289, 6290, 6304, 6315, 6320, 6325, 6335, 6338, 6344, 6349, 6351, 6356, 6360, 6363, 6370, 6372, 6374, 6390, 6391, 6392, 6395, 6399, 6401, 6404, 6414, 6425, 6428, 6437, 6443, 6450, 6454, 6455, 6457, 6458, 6460, 6462, 6464, 6468, 6473, 6486, 6488, 6495, 6502, 6513, 6514, 6516, 6518, 6519, 6520, 6521, 6523, 6526, 6539, 6548, 6550, 6555, 6560, 6562, 6568, 6569, 6576, 6579, 6585, 6596, 6605, 6612, 6620, 6622, 6623, 6633, 6635, 6638, 6641, 6646, 6651, 6654, 6658, 6669, 6676, 6684, 6685, 6689, 6690, 6694, 6698, 6701, 6714, 6719, 6725, 6726, 6728, 6741, 6744, 6752, 6757, 6758, 6765, 6775, 6782, 6783, 6796, 6797, 6800, 6805, 6813, 6815, 6816, 6818, 6824, 6829, 6830, 6836, 6839, 6845, 6856, 6865, 6867, 6873, 6876, 6877, 6887, 6891, 6893, 6901, 6920, 6921, 6928, 6929, 6937, 6946, 6953, 6968, 6974, 6979, 6980, 6995, 6996, 7003, 7008, 7010, 7015, 7039, 7042, 7052, 7057, 7058, 7059, 7061, 7063, 7064, 7065, 7066, 7071, 7074, 7078, 7082, 7083, 7084, 7096, 7098, 7099, 7100, 7107, 7108, 7109, 7110, 7112, 7114, 7115, 7122, 7138, 7146, 7147, 7148, 7150, 7164, 7166, 7173, 7178, 7180, 7185, 7189, 7195, 7202, 7207, 7208, 7215, 7217, 7220, 7221, 7224, 7230, 7231, 7236, 7248, 7255, 7264, 7267, 7277, 7278, 7283, 7286, 7291, 7295, 7302, 7304, 7308, 7310, 7312, 7322, 7330, 7341, 7344, 7353, 7363, 7365, 7366, 7367, 7369, 7372, 7375, 7381, 7390, 7393, 7397, 7410, 7411, 7415, 7417, 7419, 7422, 7425, 7427, 7430, 7437, 7444, 7445, 7470, 7472, 7474, 7478, 7481, 7493, 7502, 7511, 7520, 7524, 7529, 7530, 7534, 7537, 7540, 7541, 7542, 7546, 7552, 7560, 7566, 7572, 7573, 7575, 7578, 7586, 7594, 7595, 7596, 7604, 7606, 7608, 7612, 7619, 7620, 7623, 7630, 7633, 7634, 7636, 7641, 7644, 7654, 7657, 7659, 7660, 7662, 7672, 7677, 7678, 7698, 7703, 7711, 7712, 7721, 7722, 7724, 7727, 7730, 7735, 7740, 7755, 7757, 7768, 7770, 7774, 7775, 7792, 7806, 7807, 7808, 7812, 7820, 7821, 7825, 7830, 7841, 7845, 7854, 7857, 7859, 7874, 7882, 7891, 7899, 7902, 7906, 7914, 7919, 7920, 7922, 7927, 7930, 7943, 7944, 7952, 7953, 7961, 7981, 7983, 7985, 7987, 7989, 8000, 8014, 8016, 8021, 8022, 8025, 8028, 8036, 8047, 8048, 8057, 8062, 8089, 8093, 8104, 8105, 8106, 8111, 8115, 8117, 8118, 8123, 8124, 8127, 8129, 8130, 8131, 8140, 8149, 8157, 8159, 8162, 8165, 8170, 8172, 8175, 8183, 8186, 8196, 8200, 8201, 8203, 8205, 8217, 8222, 8223, 8224, 8225, 8226, 8229, 8231, 8234, 8236, 8242, 8253, 8256, 8258, 8271, 8272, 8273, 8290, 8301, 8303, 8323, 8324, 8330, 8334, 8342, 8351, 8356, 8360, 8368, 8369, 8370, 8375, 8378, 8380, 8389, 8395, 8401, 8403, 8408, 8413, 8422, 8423, 8429, 8432, 8435, 8437, 8439, 8454, 8466, 8467, 8469, 8476, 8509, 8512, 8519, 8521, 8534, 8535, 8552, 8553, 8561, 8562, 8568, 8569, 8571, 8578, 8579, 8581, 8583, 8587, 8596, 8598, 8603, 8608, 8612, 8616, 8617, 8621, 8631, 8632, 8634, 8636, 8651, 8653, 8654, 8662, 8666, 8668, 8669, 8673, 8675, 8681, 8683, 8685, 8699, 8704, 8711, 8714, 8727, 8728, 8730, 8733, 8738, 8741, 8743, 8752, 8755, 8760, 8767, 8769, 8770, 8776, 8779, 8780, 8788, 8793, 8795, 8809, 8823, 8831, 8835, 8836, 8838, 8841, 8843, 8850, 8859, 8866, 8867, 8868, 8882, 8884, 8887, 8894, 8898, 8900, 8914, 8915, 8922, 8926, 8927, 8931, 8932, 8934, 8936, 8948, 8950, 8961, 8963, 8969, 8987, 8993, 8994, 9000, 9003, 9012, 9022, 9026, 9036, 9038, 9052, 9054, 9056, 9058, 9068, 9069, 9070, 9081, 9086, 9087, 9098, 9101, 9108, 9109, 9110, 9115, 9119, 9124, 9129, 9131, 9137, 9146, 9152, 9157, 9159, 9164, 9168, 9175, 9176, 9177, 9182, 9183, 9193, 9199, 9200, 9205, 9206, 9211, 9217, 9223, 9226, 9228, 9239, 9241, 9245, 9260, 9262, 9263, 9264, 9265, 9279, 9282, 9288, 9304, 9312, 9323, 9331, 9335, 9336, 9340, 9342, 9344, 9346, 9351, 9353, 9355, 9364, 9374, 9375, 9377, 9394, 9398, 9401, 9403, 9404, 9415, 9416, 9418, 9425, 9434, 9442, 9444, 9450, 9451, 9454, 9459, 9469, 9480, 9483, 9484, 9488, 9490, 9504, 9514, 9516, 9523, 9527, 9536, 9543, 9546, 9548, 9552, 9557, 9562, 9569, 9573, 9581, 9586, 9588, 9596, 9604, 9609, 9616, 9630, 9643, 9644, 9646, 9657, 9664, 9674, 9677, 9685, 9687, 9692, 9695, 9707, 9710, 9712, 9714, 9718, 9722, 9728, 9735, 9736, 9741, 9744, 9747, 9754, 9756, 9761, 9763, 9769, 9782, 9798, 9803, 9811, 9812, 9815, 9822, 9825, 9827, 9847, 9874, 9878, 9881, 9885, 9893, 9908, 9910, 9912, 9919, 9924, 9926, 9927, 9929, 9935, 9946, 9951, 9957, 9959, 9961, 9962, 9969, 9973, 9975, 9981, 9982, 10001, 10003, 10009, 10011, 10013, 10014, 10016, 10018, 10026, 10029, 10035, 10039, 10044, 10051, 10055, 10059, 10061, 10077, 10078, 10080, 10082, 10086, 10092, 10104, 10113, 10127, 10135, 10141, 10143, 10150, 10174, 10175, 10180, 10184, 10185, 10190, 10192, 10196, 10198, 10204, 10207, 10208, 10209, 10211, 10217, 10219, 10236, 10242, 10253, 10266, 10267, 10271, 10278, 10279, 10280, 10282, 10290, 10292, 10300, 10309, 10314, 10320, 10324, 10351, 10353, 10362, 10365, 10371, 10374, 10376, 10387, 10388, 10393, 10399, 10400, 10406, 10409, 10412, 10420, 10427, 10430, 10431, 10432, 10435, 10438, 10448, 10462, 10463, 10465, 10468, 10474, 10490, 10493, 10502, 10512, 10514, 10515, 10523, 10526, 10530, 10531, 10532, 10534, 10540, 10547, 10548, 10552, 10557, 10562, 10564, 10573, 10575, 10588, 10589, 10596, 10601, 10618, 10623, 10625, 10635, 10638, 10641, 10643, 10649, 10651, 10657, 10660, 10664, 10675, 10677, 10681, 10686, 10695, 10696, 10700, 10702, 10709, 10711, 10723, 10731, 10735, 10740, 10743, 10772, 10780, 10782, 10783, 10794, 10810, 10811, 10813, 10825, 10830, 10832, 10835, 10845, 10851, 10852, 10855, 10856, 10859, 10874, 10876, 10877, 10878, 10892, 10910, 10911, 10916, 10930, 10932, 10938, 10944, 10949, 10951, 10954, 10963, 10969, 10971, 10974, 10987, 10992, 10998, 11000, 11005, 11006, 11007, 11008, 11010, 11011, 11012, 11020, 11021, 11025, 11030, 11032, 11035, 11045, 11046, 11049, 11050, 11054, 11062, 11065, 11067, 11068, 11071, 11074, 11075, 11076, 11085, 11086, 11090, 11092, 11105, 11107, 11113, 11119, 11124, 11128, 11131, 11140, 11145, 11151, 11170, 11171, 11175, 11179, 11181, 11195, 11199, 11202, 11208, 11221, 11222, 11223, 11233, 11235, 11239, 11257, 11258, 11261, 11270, 11279, 11284, 11288, 11302, 11308, 11310, 11313, 11315, 11321, 11324, 11331, 11336, 11347, 11356, 11360, 11376, 11386, 11387, 11391, 11392, 11395, 11397, 11398, 11399, 11411, 11420, 11422, 11425, 11428, 11429, 11432, 11437, 11442, 11457, 11462, 11468, 11469, 11480, 11489, 11491, 11493, 11497, 11500, 11503, 11506, 11507, 11521, 11522, 11525, 11536, 11538, 11545, 11550, 11552, 11562, 11564, 11574, 11579, 11587, 11592, 11602, 11604, 11606, 11611, 11614, 11618, 11629, 11635, 11642, 11643, 11646, 11650, 11652, 11656, 11659, 11662, 11664, 11665, 11668, 11678, 11682, 11690, 11692, 11699, 11700, 11711, 11713, 11714, 11715, 11717, 11722, 11727, 11732, 11751, 11759, 11764, 11767, 11768, 11775, 11780, 11783, 11792, 11796, 11803, 11804, 11809, 11810, 11816, 11821, 11823, 11824, 11830, 11837, 11841, 11844, 11845, 11850, 11856, 11858, 11870, 11872, 11874, 11888, 11890, 11906, 11913, 11917, 11920, 11928, 11937, 11939, 11945, 11946, 11947, 11952, 11956, 11968, 11975, 11976, 11981, 11982, 11993, 12005, 12009, 12010, 12016, 12020, 12030, 12031, 12043, 12049, 12052, 12054, 12055, 12056, 12066, 12073, 12079, 12088, 12102, 12104, 12114, 12120, 12122, 12125, 12126, 12136, 12142, 12146, 12149, 12152, 12154, 12158, 12160, 12162, 12168, 12176, 12177, 12181, 12187, 12195, 12197, 12200, 12208, 12214, 12218, 12224, 12235, 12237, 12248, 12252, 12254, 12257, 12259, 12263, 12265, 12272, 12275, 12291, 12301, 12303, 12310, 12318, 12321, 12330, 12332, 12335, 12340, 12347, 12352, 12353, 12354, 12356, 12363, 12364, 12367, 12369, 12372, 12380, 12385, 12386, 12390, 12394, 12398, 12399, 12410, 12421, 12422, 12425, 12437, 12454, 12465, 12472, 12474, 12476, 12480, 12500, 12505, 12507, 12513, 12522, 12543, 12544, 12545, 12558, 12559, 12573, 12574, 12576, 12581, 12584, 12587, 12593, 12599, 12603, 12608, 12612, 12616, 12618, 12636, 12644, 12649, 12653, 12658, 12659, 12660, 12667, 12671, 12673, 12678, 12684, 12687, 12692, 12699, 12702, 12709, 12712, 12714, 12727, 12728, 12731, 12736, 12738, 12747, 12748, 12749, 12755, 12771, 12772, 12773, 12776, 12778, 12791, 12793, 12797, 12806, 12807, 12811, 12820, 12835, 12841, 12846, 12847, 12849, 12858, 12861, 12865, 12877, 12879, 12880, 12882, 12890, 12894, 12903, 12905, 12912, 12918, 12928, 12929, 12930, 12935, 12948, 12949, 12950, 12955, 12957, 12964, 12968, 12981, 12994, 12996, 13003, 13006, 13012, 13019, 13020, 13021, 13032, 13039, 13041, 13046, 13068, 13071, 13073, 13078, 13081, 13099, 13107, 13110, 13118, 13119, 13124, 13132, 13143, 13145, 13148, 13151, 13165, 13176, 13183, 13193, 13196, 13204, 13205, 13211, 13216, 13219, 13225, 13226, 13227, 13233, 13235, 13241, 13251, 13253, 13259, 13265, 13269, 13271, 13273, 13277, 13281, 13285, 13287, 13294, 13300, 13309, 13310, 13315, 13322, 13327, 13328, 13332, 13342, 13345, 13351, 13354, 13357, 13363, 13364, 13369, 13374, 13376, 13383, 13386, 13391, 13392, 13401, 13411, 13412, 13414, 13425, 13428, 13430, 13435, 13438, 13445, 13454, 13455, 13462, 13468, 13472, 13473, 13474, 13477, 13478, 13481, 13497, 13501, 13504, 13511, 13512, 13513, 13517, 13518, 13545, 13546, 13559, 13565, 13570, 13571, 13576, 13582, 13584, 13590, 13591, 13595, 13603, 13604, 13609, 13612, 13615, 13618, 13630, 13632, 13633, 13647, 13652, 13658, 13660, 13661, 13670, 13675, 13684, 13696, 13697, 13700, 13703, 13709, 13715, 13719, 13733, 13735, 13736, 13745, 13746, 13749, 13750, 13762, 13767, 13768, 13769, 13782, 13788, 13789, 13805, 13806, 13808, 13809, 13816, 13821, 13827, 13836, 13838, 13850, 13853, 13854, 13856, 13863, 13870, 13875, 13883, 13884, 13888, 13894, 13897, 13904, 13906, 13909, 13916, 13918, 13919, 13927, 13930, 13931, 13935, 13942, 13949, 13951, 13955, 13957, 13969, 14000, 14001, 14002, 14010, 14023, 14026, 14035, 14036, 14038, 14041, 14042, 14050, 14054, 14063, 14068, 14094, 14102, 14113, 14114, 14115, 14117, 14121, 14131, 14141, 14147, 14157, 14169, 14170, 14181, 14192, 14196, 14197, 14201, 14205, 14232, 14240, 14242, 14248, 14250, 14251, 14257, 14258, 14262, 14268, 14270, 14273, 14274, 14276, 14287, 14290, 14292, 14300, 14305, 14308, 14311, 14319, 14320, 14326, 14332, 14334, 14351, 14358, 14359, 14372, 14373, 14379, 14385, 14391, 14392, 14400, 14404, 14406, 14409, 14418, 14420, 14423, 14427, 14441, 14444, 14445, 14452, 14455, 14461, 14462, 14464, 14467, 14474, 14476, 14483, 14491, 14492, 14500, 14504, 14508, 14510, 14522, 14526, 14527, 14533, 14538, 14541, 14545, 14557, 14562, 14565, 14569, 14570, 14576, 14579, 14583, 14586, 14598, 14599, 14613, 14623, 14630, 14635, 14638, 14640, 14642, 14647, 14671, 14674, 14677, 14680, 14687, 14689, 14690, 14694, 14700, 14702, 14705, 14706, 14722, 14727, 14732, 14735, 14736, 14744, 14745, 14751, 14762, 14763, 14764, 14765, 14766, 14775, 14777, 14787, 14795, 14798, 14817, 14821, 14824, 14837, 14840, 14845, 14851, 14853, 14855, 14857, 14865, 14872, 14873, 14874, 14889, 14890, 14905, 14908, 14916, 14919, 14921, 14933, 14950, 14953, 14966, 14969, 14970, 14974, 14976, 14977, 14986, 14994, 14996, 14998, 15005, 15008, 15009, 15013, 15016, 15019, 15030, 15031, 15045, 15046, 15057, 15060, 15062, 15077, 15078, 15083, 15085, 15087, 15090, 15091, 15100, 15107, 15111, 15116, 15118, 15127, 15129, 15132, 15146, 15152, 15155, 15157, 15191, 15194, 15195, 15198, 15205, 15212, 15214, 15229, 15242, 15244, 15254, 15256, 15257, 15263, 15265, 15268, 15270, 15275, 15279, 15293, 15300, 15308, 15320, 15326, 15333, 15334, 15338, 15345, 15347, 15348, 15350, 15355, 15362, 15371, 15377, 15379, 15380, 15388, 15390, 15399, 15402, 15407, 15412, 15427, 15433, 15436, 15443, 15445, 15447, 15449, 15450, 15455, 15456, 15460, 15466, 15478, 15493, 15494, 15495, 15504, 15506, 15511, 15515, 15520, 15527, 15528, 15536, 15537, 15538, 15556, 15557, 15569, 15573, 15574, 15587, 15589, 15591, 15599, 15606, 15608, 15611, 15613, 15617, 15622, 15625, 15631, 15636, 15638, 15649, 15651, 15653, 15655, 15658, 15673, 15679, 15681, 15682, 15688, 15689, 15691, 15706, 15725, 15730, 15732, 15740, 15746, 15750, 15751, 15758, 15760, 15762, 15763, 15768, 15777, 15796, 15798, 15811, 15821, 15828, 15832, 15838, 15844, 15845, 15852, 15854, 15860, 15867, 15870, 15876, 15877, 15882, 15885, 15888, 15898, 15902, 15911, 15915, 15920, 15936, 15940, 15956, 15958, 15959, 15967, 15974, 15978, 15986, 15988, 16004, 16005, 16006, 16011, 16017, 16021, 16028, 16033, 16034, 16037, 16046, 16048, 16049, 16060, 16068, 16070, 16075, 16079, 16083, 16092, 16095, 16099, 16106, 16111, 16117, 16128, 16135, 16140, 16154, 16158, 16163, 16166, 16167, 16168, 16169, 16171, 16174, 16181, 16193, 16195, 16207, 16218, 16220, 16222, 16225, 16228, 16237, 16244, 16246, 16259, 16260, 16263, 16266, 16274, 16277, 16281, 16287, 16291, 16293, 16298, 16299, 16301, 16304, 16305, 16315, 16322, 16332, 16343, 16355, 16358, 16371, 16376, 16385, 16386, 16389, 16395, 16397, 16413, 16425, 16431, 16434, 16439, 16446, 16449, 16452, 16455, 16460, 16463, 16472, 16480, 16487, 16491, 16495, 16497, 16503, 16508, 16511, 16514, 16517, 16518, 16523, 16529, 16533, 16536, 16538, 16548, 16562, 16571, 16579, 16583, 16589, 16599, 16611, 16617, 16619, 16620, 16621, 16633, 16636, 16641, 16645, 16647, 16650, 16654, 16655, 16666, 16667, 16671, 16672, 16682, 16688, 16689, 16695, 16699, 16700, 16709, 16711, 16721, 16722, 16732, 16735, 16746, 16747, 16754, 16770, 16775, 16776, 16793, 16798, 16800, 16808, 16814, 16822, 16831, 16838, 16843, 16849, 16854, 16856, 16859, 16860, 16863, 16873, 16877, 16880, 16886, 16890, 16892, 16905, 16906, 16915, 16920, 16921, 16922, 16924, 16932, 16934, 16940, 16944, 16949, 16951, 16953, 16971, 16981, 16982, 16989, 16999, 17004, 17013, 17023, 17037, 17047, 17049, 17051, 17052, 17053, 17055, 17068, 17072, 17075, 17094, 17095, 17097, 17098, 17102, 17113, 17114, 17117, 17119, 17123, 17131, 17132, 17133, 17135, 17137, 17145, 17147, 17148, 17149, 17151, 17163, 17164, 17177, 17178, 17182, 17186, 17190, 17194, 17195, 17197, 17200, 17201, 17202, 17208, 17213, 17222, 17233, 17237, 17239, 17253, 17257, 17258, 17261, 17304, 17310, 17324, 17325, 17327, 17331, 17338, 17340, 17352, 17362, 17365, 17394, 17397, 17402, 17405, 17406, 17411, 17420, 17423, 17426, 17427, 17429, 17431, 17434, 17436, 17442, 17447, 17450, 17454, 17464, 17470, 17471, 17473, 17476, 17479, 17480, 17481, 17482, 17496, 17497, 17501, 17511, 17512, 17517, 17523, 17529, 17536, 17540, 17543, 17544, 17554, 17556, 17560, 17561, 17570, 17580, 17592, 17600, 17605, 17607, 17613, 17617, 17620, 17630, 17635, 17640, 17645, 17652, 17667, 17675, 17676, 17678, 17684, 17689, 17698, 17710, 17713, 17724, 17727, 17729, 17732, 17734, 17738, 17739, 17742, 17750, 17751, 17760, 17768, 17770, 17777, 17778, 17787, 17790, 17797, 17809, 17835, 17838, 17841, 17842, 17849, 17857, 17859, 17867, 17872, 17873, 17874, 17875, 17887, 17888, 17890, 17894, 17897, 17904, 17915, 17916, 17925, 17931, 17933, 17935, 17940, 17949, 17958, 17964, 17968, 17970, 17974, 17982, 17993, 17997, 17999, 18001, 18002, 18012, 18024, 18025, 18028, 18035, 18037, 18046, 18059, 18070, 18072, 18076, 18077, 18083, 18085, 18089, 18092, 18098, 18102, 18110, 18112, 18119, 18123, 18133, 18137, 18145, 18151, 18154, 18156, 18157, 18159, 18167, 18173, 18185, 18187, 18190, 18197, 18200, 18202, 18213, 18215, 18221, 18228, 18236, 18242, 18258, 18260, 18261, 18263, 18271, 18272, 18275, 18276, 18278, 18287, 18292, 18300, 18303, 18304, 18309, 18312, 18315, 18321, 18326, 18329, 18332, 18336, 18337, 18340, 18352, 18357, 18358, 18359, 18360, 18373, 18375, 18385, 18389, 18398, 18408, 18410, 18411, 18413, 18420, 18422, 18429, 18436, 18445, 18453, 18459, 18461, 18467, 18474, 18475, 18498, 18499, 18500, 18503, 18514, 18516, 18518, 18519, 18520, 18521, 18538, 18541, 18549, 18552, 18563, 18564, 18572, 18573, 18574, 18579, 18580, 18584, 18592, 18600, 18605, 18611, 18617, 18620, 18623, 18629, 18640, 18643, 18647, 18648, 18652, 18659, 18660, 18661, 18664, 18668, 18670, 18671, 18680, 18688, 18689, 18695, 18709, 18716, 18727, 18735, 18737, 18738, 18743, 18745, 18751, 18762, 18764, 18768, 18769, 18770, 18776, 18783, 18792, 18793, 18797, 18802, 18804, 18814, 18815, 18816, 18821, 18822, 18824, 18837, 18839, 18843, 18847, 18848, 18849, 18858, 18864, 18878, 18883, 18884, 18885, 18889, 18900, 18907, 18914, 18917, 18918, 18924, 18930, 18932, 18935, 18936, 18946, 18948, 18958, 18961, 18963, 18976, 18983, 18984, 18991, 18995, 19005, 19011, 19013, 19014, 19015, 19022, 19023, 19028, 19029, 19030, 19039, 19044, 19060, 19066, 19069, 19070, 19082, 19084, 19086, 19089, 19092, 19101, 19102, 19111, 19120, 19129, 19130, 19138, 19139, 19169, 19176, 19181, 19183, 19185, 19187, 19189, 19202, 19209, 19213, 19216, 19220, 19222, 19224, 19231, 19232, 19236, 19238, 19240, 19241, 19253, 19255, 19272, 19274, 19276, 19282, 19287, 19288, 19289, 19293, 19294, 19299, 19302, 19305, 19310, 19317, 19321, 19328, 19332, 19342, 19344, 19371, 19374, 19379, 19380, 19381, 19385, 19393, 19394, 19395, 19397, 19400, 19405, 19406, 19412, 19414, 19417, 19428, 19429, 19435, 19445, 19446, 19457, 19472, 19475, 19480, 19491, 19500, 19508, 19517, 19518, 19527, 19539, 19556, 19557, 19558, 19564, 19567, 19569, 19570, 19571, 19580, 19592, 19593, 19594, 19597, 19605, 19608, 19613, 19618, 19620, 19629, 19630, 19633, 19644, 19646, 19653, 19655, 19666, 19668, 19669, 19671, 19678, 19680, 19681, 19683, 19696, 19700, 19704, 19706, 19711, 19715, 19716, 19718, 19719, 19723, 19727, 19729, 19739, 19746, 19748, 19753, 19758, 19772, 19773, 19778, 19785, 19788, 19789, 19792, 19799, 19802, 19809, 19812, 19821, 19823, 19826, 19829, 19856, 19857, 19863, 19866, 19867, 19873, 19883, 19886, 19891, 19900, 19903, 19904, 19906, 19913, 19914, 19915, 19917, 19926, 19928, 19934, 19947, 19967, 19972, 19976, 19996, 20007, 20017, 20020, 20021, 20028, 20029, 20032, 20043, 20044, 20051, 20059, 20064, 20078, 20079, 20080, 20082, 20088, 20092, 20095, 20098, 20100, 20112, 20113, 20114, 20116, 20122, 20124, 20130, 20131, 20133, 20142, 20149, 20153, 20159, 20161, 20164, 20170, 20172, 20174, 20177, 20179, 20182, 20188, 20189, 20203, 20211, 20222, 20231, 20237, 20241, 20247, 20274, 20275, 20290, 20291, 20302, 20312, 20319, 20321, 20327, 20329, 20330, 20332, 20343, 20344, 20345, 20349, 20352, 20354, 20355, 20357, 20360, 20365, 20370, 20372, 20374, 20388, 20412, 20414, 20416, 20419, 20424, 20432, 20435, 20438, 20446, 20449, 20450, 20451, 20456, 20462, 20468, 20470, 20478, 20482, 20483, 20487, 20493, 20518, 20524, 20532, 20538, 20539, 20541, 20555, 20563, 20565, 20566, 20569, 20570, 20588, 20590, 20592, 20595, 20597, 20618, 20623, 20624, 20627, 20635, 20645, 20652, 20655, 20664, 20673, 20678, 20682, 20685, 20696, 20698, 20700, 20704, 20708, 20712, 20716, 20722, 20724, 20730, 20731, 20732, 20743, 20746, 20747, 20757, 20765, 20766, 20770, 20773, 20779, 20786, 20787, 20793, 20796, 20799, 20801, 20803, 20811, 20817, 20831, 20832, 20845, 20846, 20853, 20858, 20869, 20872, 20873, 20875, 20877, 20886, 20888, 20890, 20895, 20898, 20904, 20910, 20912, 20914, 20915, 20917, 20919, 20927, 20933, 20937, 20940, 20949, 20953, 20956, 20962, 20968, 20973, 20978, 20980, 20983, 20992, 21004, 21005, 21007, 21010, 21020, 21021, 21028, 21052, 21054, 21062, 21066, 21067, 21080, 21081, 21096, 21097, 21106, 21108, 21117, 21119, 21121, 21122, 21134, 21136, 21137, 21151, 21155, 21157, 21158, 21160, 21167, 21169, 21185, 21187, 21193, 21195, 21201, 21202, 21203, 21204, 21210, 21225, 21227, 21236, 21237, 21241, 21245, 21246, 21248, 21257, 21258, 21265, 21266, 21271, 21272, 21278, 21279, 21288, 21292, 21295, 21300, 21301, 21302, 21322, 21329, 21332, 21338, 21339, 21345, 21349, 21358, 21359, 21360, 21363, 21371, 21382, 21389, 21390, 21396, 21402, 21409, 21411, 21418, 21419, 21424, 21437, 21439, 21443, 21445, 21449, 21455, 21461, 21463, 21464, 21474, 21475, 21479, 21480, 21487, 21488, 21489, 21495, 21502, 21509, 21512, 21517, 21524, 21529, 21536, 21538, 21547, 21550, 21556, 21559, 21561, 21579, 21587, 21596, 21598, 21599, 21609, 21611, 21612, 21615, 21624, 21626, 21631, 21636, 21643, 21645, 21646, 21650, 21652, 21654, 21655, 21656, 21666, 21669, 21694, 21696, 21711, 21722, 21724, 21725, 21727, 21744, 21746, 21749, 21755, 21758, 21760, 21774, 21785, 21800, 21803, 21804, 21805, 21806, 21813, 21815, 21816, 21821, 21834, 21838, 21842, 21843, 21846, 21847, 21851, 21859, 21861, 21862, 21867, 21875, 21877, 21880, 21881, 21885, 21898, 21916, 21921, 21924, 21926, 21938, 21939, 21940, 21954, 21955, 21957, 21966, 21969, 21970, 21972, 21979, 21983, 21988, 21991, 21998, 22006, 22007, 22014, 22024, 22037, 22051, 22055, 22064, 22066, 22068, 22075, 22076, 22081, 22082, 22084, 22093, 22098, 22103, 22104, 22109, 22114, 22117, 22124, 22126, 22128, 22138, 22140, 22155, 22176, 22178, 22179, 22189, 22200, 22206, 22218, 22223, 22230, 22231, 22245, 22246, 22247, 22249, 22250, 22254, 22256, 22263, 22281, 22284, 22289, 22290, 22298, 22320, 22324, 22330, 22331, 22334, 22347, 22353, 22361, 22366, 22368, 22373, 22376, 22379, 22382, 22391, 22392, 22402, 22414, 22416, 22423, 22427, 22428, 22431, 22432, 22433, 22441, 22450, 22460, 22462, 22464, 22467, 22476, 22478, 22483, 22484, 22486, 22496, 22497, 22517, 22526, 22528, 22532, 22535, 22543, 22544, 22545, 22567, 22570, 22572, 22583, 22587, 22590, 22595, 22598, 22603, 22610, 22612, 22613, 22627, 22633, 22636, 22640, 22642, 22648, 22655, 22668, 22680, 22683, 22701, 22708, 22713, 22719, 22720, 22730, 22733, 22735, 22746, 22754, 22763, 22765, 22768, 22770, 22778, 22780, 22781, 22789, 22791, 22797, 22801, 22806, 22808, 22812, 22815, 22818, 22826, 22832, 22855, 22856, 22862, 22868, 22873, 22882, 22884, 22886, 22889, 22890, 22896, 22897, 22898, 22900, 22907, 22908, 22916, 22918, 22919, 22927, 22939, 22949, 22954, 22964, 22967, 22968, 22970, 22972, 22985, 22987, 22995, 23000, 23003, 23005, 23013, 23018, 23019, 23020, 23023, 23025, 23028, 23031, 23040, 23041, 23045, 23046, 23047, 23050, 23058, 23061, 23069, 23071, 23074, 23078, 23084, 23088, 23089, 23095, 23100, 23101, 23104, 23109, 23111, 23115, 23136, 23137, 23149, 23152, 23154, 23155, 23161, 23165, 23169, 23173, 23180, 23190, 23201, 23205, 23208, 23216, 23220, 23228, 23236, 23241, 23244, 23253, 23255, 23256, 23261, 23264, 23276, 23281, 23292, 23301, 23303, 23328, 23341, 23344, 23349, 23358, 23371, 23376, 23378, 23380, 23387, 23388, 23395, 23408, 23413, 23422, 23428, 23430, 23434, 23437, 23474, 23476, 23478, 23483, 23494, 23495, 23504, 23511, 23516, 23517, 23518, 23521, 23522, 23523, 23545, 23550, 23553, 23555, 23560, 23565, 23567, 23572, 23583, 23591, 23592, 23599, 23603, 23606, 23612, 23615, 23618, 23620, 23635, 23637, 23652, 23653, 23656, 23658, 23666, 23668, 23674, 23683, 23706, 23707, 23715, 23718, 23720, 23730, 23740, 23742, 23747, 23749, 23750, 23756, 23760, 23761, 23764, 23769, 23776, 23795, 23798, 23799, 23801, 23804, 23816, 23820, 23827, 23829, 23833, 23852, 23854, 23857, 23863, 23867, 23868, 23874, 23876, 23883, 23884, 23885, 23887, 23892, 23899, 23912, 23918, 23920, 23941, 23951, 23966, 23973, 23980, 23982, 23983, 23991, 23994, 24004, 24005, 24009, 24011, 24012, 24014, 24021, 24026, 24027, 24036, 24037, 24038, 24039, 24042, 24050, 24053, 24058, 24065, 24067, 24069, 24071, 24079, 24097, 24100, 24113, 24131, 24136, 24137, 24140, 24149, 24158, 24160, 24166, 24168, 24170, 24174, 24177, 24178, 24180, 24189, 24190, 24192, 24199, 24201, 24208, 24209, 24231, 24233, 24243, 24247, 24249, 24258, 24265, 24271, 24276, 24280, 24281, 24288, 24291, 24294, 24296, 24297, 24298, 24310, 24314, 24317, 24319, 24320, 24322, 24327, 24328, 24344, 24353, 24371, 24376, 24381, 24382, 24386, 24387, 24392, 24394, 24396, 24400, 24408, 24411, 24412, 24420, 24425, 24427, 24438, 24443, 24445, 24451, 24459, 24463, 24464, 24469, 24471, 24479, 24486, 24487, 24489, 24491, 24502, 24503, 24504, 24519, 24521, 24527, 24531, 24540, 24546, 24548, 24550, 24554, 24558, 24563, 24568, 24572, 24573, 24574, 24576, 24579, 24585, 24587, 24605, 24606, 24607, 24608, 24612, 24615, 24616, 24627, 24639, 24646, 24647, 24648, 24660, 24662, 24664, 24668, 24670, 24671, 24673, 24681, 24686, 24688, 24703, 24715, 24729, 24734, 24736, 24753, 24755, 24759, 24760, 24763, 24769, 24774, 24779, 24784, 24788, 24789, 24794, 24797, 24803, 24807, 24815, 24821, 24822, 24823, 24829, 24831, 24837, 24860, 24863, 24868, 24875, 24876, 24881, 24883, 24887, 24888, 24891, 24899, 24910, 24911, 24913, 24914, 24918, 24926, 24930, 24940, 24945, 24948, 24952, 24955, 24959, 24965, 24972, 24982, 24984, 24987, 24989, 24995, 24998, 25000, 25002, 25008, 25015, 25016, 25017, 25036, 25038, 25046, 25048, 25058, 25060, 25061, 25063, 25067, 25082, 25091, 25092, 25099, 25102, 25119, 25120, 25125, 25128, 25131, 25137, 25138, 25141, 25143, 25147, 25148, 25157, 25177, 25179, 25193, 25195, 25196, 25200, 25209, 25211, 25214, 25218, 25223, 25232, 25247, 25252, 25254, 25258, 25260, 25262, 25269, 25274, 25277, 25281, 25282, 25283, 25290, 25293, 25297, 25298, 25306, 25308, 25309, 25324, 25328, 25329, 25330, 25334, 25335, 25338, 25341, 25355, 25357, 25358, 25360, 25364, 25380, 25381, 25384, 25389, 25391, 25395, 25403, 25404, 25412, 25415, 25416, 25418, 25428, 25433, 25434, 25439, 25444, 25445, 25453, 25454, 25489, 25492, 25494, 25499, 25501, 25504, 25515, 25516, 25523, 25531, 25536, 25537, 25543, 25546, 25547, 25562, 25565, 25572, 25577, 25578, 25581, 25582, 25587, 25599, 25617, 25623, 25624, 25626, 25633, 25636, 25643, 25648, 25650, 25658, 25659, 25661, 25662, 25663, 25667, 25668, 25669, 25671, 25689, 25699, 25704, 25712, 25743, 25747, 25754, 25755, 25759, 25760, 25761, 25763, 25775, 25779, 25783, 25790, 25804, 25809, 25812, 25814, 25818, 25821, 25823, 25830, 25833, 25835, 25837, 25841, 25847, 25853, 25856, 25857, 25860, 25865, 25867, 25874, 25875, 25888, 25893, 25896, 25903, 25904, 25908, 25931, 25932, 25933, 25941, 25943, 25945, 25950, 25953, 25959, 25973, 25978, 25991, 26000, 26006, 26011, 26022, 26027, 26030, 26074, 26076, 26081, 26085, 26087, 26093, 26096, 26097, 26100, 26113, 26115, 26116, 26120, 26124, 26127, 26129, 26131, 26142, 26148, 26157, 26158, 26159, 26161, 26163, 26165, 26171, 26173, 26177, 26179, 26182, 26185, 26189, 26195, 26203, 26209, 26214, 26217, 26221, 26222, 26242, 26247, 26250, 26251, 26253, 26254, 26255, 26265, 26267, 26292, 26293, 26299, 26309, 26316, 26320, 26322, 26323, 26334, 26339, 26340, 26343, 26349, 26357, 26365, 26368, 26369, 26380, 26381, 26385, 26386, 26388, 26395, 26397, 26401, 26407, 26409, 26410, 26413, 26421, 26424, 26432, 26433, 26444, 26449, 26450, 26452, 26459, 26464, 26468, 26474, 26476, 26482, 26492, 26494, 26497, 26499, 26502, 26510, 26514, 26515, 26516, 26522, 26527, 26534, 26542, 26548, 26550, 26551, 26553, 26555, 26564, 26567, 26569, 26571, 26572, 26585, 26586, 26593, 26596, 26600, 26607, 26622, 26633, 26635, 26641, 26649, 26656, 26661, 26662, 26673, 26678, 26681, 26683, 26684, 26694, 26696, 26711, 26712, 26714, 26721, 26723, 26733, 26739, 26744, 26751, 26757, 26761, 26778, 26785, 26789, 26792, 26793, 26796, 26805, 26811, 26813, 26814, 26816, 26828, 26830, 26831, 26840, 26842, 26845, 26848, 26850, 26855, 26856, 26865, 26871, 26878, 26880, 26883, 26885, 26888, 26890, 26893, 26902, 26903, 26908, 26909, 26917, 26918, 26922, 26928, 26936, 26939, 26946, 26950, 26954, 26956, 26959, 26964, 26970, 26973, 26984, 26987, 26991, 27007, 27015, 27026, 27029, 27040, 27044, 27046, 27047, 27051, 27060, 27065, 27079, 27085, 27090, 27091, 27092, 27100, 27102, 27104, 27116, 27121, 27122, 27133, 27146, 27149, 27150, 27157, 27160, 27162, 27173, 27178, 27180, 27183, 27186, 27187, 27194, 27196, 27200, 27213, 27219, 27224, 27235, 27240, 27242, 27253, 27258, 27260, 27274, 27287, 27288, 27290, 27296, 27299, 27308, 27316, 27318, 27322, 27327, 27332, 27336, 27340, 27341, 27347, 27350, 27352, 27353, 27359, 27364, 27371, 27375, 27382, 27383, 27396, 27402, 27408, 27410, 27416, 27428, 27431, 27436, 27437, 27438, 27439, 27451, 27455, 27459, 27463, 27464, 27467, 27473, 27474, 27479, 27480, 27489, 27499, 27505, 27508, 27515, 27522, 27525, 27529, 27530, 27534, 27536, 27543, 27554, 27558, 27565, 27571, 27573, 27588, 27590, 27592, 27607, 27608, 27609, 27617, 27618, 27624, 27626, 27628, 27638, 27643, 27649, 27651, 27652, 27653, 27658, 27659, 27660, 27672, 27674, 27680, 27681, 27687, 27691, 27694, 27695, 27708, 27715, 27721, 27723, 27728, 27739, 27740, 27741, 27748, 27752, 27768, 27769, 27773, 27774, 27780, 27788, 27789, 27791, 27793, 27794, 27801, 27802, 27804, 27805, 27809, 27810, 27812, 27813, 27814, 27836, 27849, 27852, 27864, 27868, 27870, 27872, 27886, 27898, 27901, 27915, 27916, 27919, 27935, 27949, 27950, 27958, 27961, 27963, 27964, 27970, 27973, 27977, 27978, 27980, 27985, 27993, 27994, 27997, 27999, 28008, 28013, 28015, 28016, 28022, 28023, 28029, 28030, 28040, 28043, 28044, 28067, 28071, 28073, 28076, 28086, 28091, 28093, 28110, 28125, 28127, 28128, 28140, 28142, 28150, 28158, 28164, 28168, 28172, 28176, 28184, 28191, 28195, 28206, 28208, 28211, 28212, 28213, 28214, 28218, 28219, 28221, 28227, 28229, 28231, 28241, 28256, 28272, 28274, 28277, 28282, 28285, 28292, 28300, 28302, 28305, 28306, 28315, 28318, 28330, 28337, 28344, 28348, 28353, 28361, 28382, 28384, 28388, 28395, 28405, 28409, 28410, 28411, 28423, 28424, 28425, 28450, 28452, 28462, 28467, 28469, 28482, 28484, 28485, 28488, 28492, 28499, 28502, 28504, 28511, 28513, 28514, 28515, 28522, 28533, 28538, 28545, 28553, 28555, 28561, 28570, 28587, 28589, 28596, 28602, 28603, 28611, 28623, 28628, 28636, 28638, 28639, 28642, 28657, 28669, 28674, 28681, 28687, 28688, 28691, 28704, 28720, 28722, 28724, 28728, 28732, 28736, 28738, 28743, 28746, 28758, 28761, 28762, 28782, 28788, 28789, 28802, 28803, 28811, 28817, 28819, 28820, 28821, 28823, 28831, 28833, 28841, 28854, 28862, 28874, 28882, 28884, 28887, 28895, 28902, 28906, 28907, 28908, 28909, 28917, 28926, 28936, 28939, 28946, 28948, 28958, 28963, 28964, 28965, 28970, 28977, 28980, 28981, 28995, 28996, 28997, 28998, 29003, 29007, 29014, 29016, 29022, 29033, 29040, 29042, 29043, 29058, 29059, 29066, 29073, 29075, 29077, 29079, 29086, 29094, 29097, 29098, 29100, 29105, 29122, 29125, 29126, 29137, 29139, 29144, 29154, 29160, 29165, 29177, 29178, 29179, 29184, 29192, 29194, 29198, 29199, 29211, 29221, 29231, 29236, 29238, 29241, 29248, 29259, 29263, 29266, 29269, 29278, 29279, 29285, 29292, 29294, 29300, 29304, 29310, 29311, 29312, 29319, 29328, 29336, 29337, 29339, 29340, 29358, 29362, 29367, 29370, 29375, 29379, 29393, 29395, 29397, 29404, 29405, 29413, 29414, 29417, 29421, 29424, 29435, 29437, 29445, 29447, 29452, 29463, 29470, 29475, 29476, 29482, 29485, 29492, 29495, 29497, 29507, 29508, 29510, 29522, 29524, 29529, 29533, 29535, 29539, 29546, 29553, 29554, 29556, 29560, 29565, 29572, 29573, 29594, 29597, 29610, 29616, 29619, 29633, 29635, 29648, 29656, 29661, 29663, 29665, 29668, 29673, 29690, 29703, 29704, 29706, 29711, 29718, 29738, 29740, 29746, 29748, 29751, 29752, 29762, 29766, 29769, 29774, 29777, 29790, 29791, 29792, 29802, 29806, 29809, 29810, 29811, 29814, 29818, 29820, 29824, 29825, 29827, 29833, 29839, 29840, 29861, 29868, 29872, 29877, 29887, 29906, 29909, 29911, 29912, 29914, 29916, 29919, 29935, 29950, 29952, 29953, 29959, 29961, 29962, 29977, 29978, 29980, 29995, 30002, 30015, 30019, 30020, 30021, 30023, 30039, 30046, 30059, 30068, 30069, 30070, 30076, 30081, 30082, 30089, 30099, 30102, 30105, 30107, 30114, 30117, 30120, 30123, 30129, 30138, 30168, 30174, 30175, 30181, 30182, 30183, 30185, 30190, 30196, 30197, 30209, 30210, 30214, 30231, 30247, 30249, 30256, 30262, 30263, 30267, 30275, 30277, 30287, 30288, 30295, 30302, 30309, 30311, 30313, 30329, 30343, 30344, 30347, 30349, 30355, 30360, 30361, 30368, 30385, 30398, 30406, 30410, 30414, 30416, 30422, 30428, 30431, 30432, 30436, 30437, 30440, 30448, 30451, 30453, 30456, 30459, 30461, 30470, 30473, 30494, 30495, 30503, 30507, 30513, 30515, 30517, 30518, 30527, 30529, 30541, 30551, 30556, 30561, 30574, 30577, 30579, 30584, 30585, 30586, 30589, 30590, 30591, 30606, 30607, 30611, 30612, 30616, 30632, 30633, 30634, 30636, 30644, 30645, 30646, 30647, 30648, 30664, 30671, 30673, 30675, 30677, 30679, 30680, 30688, 30690, 30695, 30696, 30700, 30704, 30708, 30713, 30714, 30716, 30728, 30734, 30736, 30739, 30745, 30746, 30748, 30749, 30755, 30769, 30780, 30785, 30790, 30793, 30794, 30796, 30805, 30812, 30814, 30815, 30816, 30820, 30821, 30830, 30838, 30846, 30848, 30852, 30862, 30871, 30873, 30878, 30879, 30880, 30890, 30893, 30895, 30900, 30917, 30922, 30927, 30938, 30944, 30945, 30947, 30948, 30952, 30962, 30969, 30972, 30978, 30984, 30989, 30990, 30996, 31007, 31008, 31013, 31015, 31023, 31025, 31034, 31038, 31040, 31042, 31055, 31058, 31059, 31061, 31065, 31071, 31073, 31084, 31088, 31093, 31107, 31120, 31121, 31126, 31133, 31139, 31142, 31146, 31152, 31161, 31163, 31166, 31170, 31173, 31175, 31182, 31191, 31202, 31205, 31207, 31209, 31215, 31221, 31228, 31232, 31239, 31243, 31246, 31247, 31250, 31256, 31264, 31269, 31271, 31272, 31277, 31282, 31283, 31292, 31296, 31297, 31308, 31313, 31314, 31320, 31330, 31344, 31348, 31355, 31356, 31367, 31369, 31372, 31377, 31379, 31387, 31392, 31404, 31406, 31423, 31425, 31428, 31429, 31432, 31434, 31435, 31445, 31446, 31447, 31468, 31473, 31476, 31478, 31480, 31482, 31492, 31496, 31498, 31502, 31504, 31508, 31511, 31512, 31520, 31522, 31531, 31533, 31535, 31536, 31538, 31546, 31548, 31553, 31573, 31574, 31581, 31590, 31604, 31610, 31611, 31622, 31627, 31628, 31629, 31631, 31636, 31638, 31645, 31650, 31653, 31658, 31659, 31664, 31667, 31680, 31692, 31694, 31695, 31698, 31701, 31709, 31712, 31716, 31729, 31733, 31740, 31746, 31747, 31748, 31759, 31766, 31767, 31769, 31776, 31783, 31794, 31796, 31807, 31809, 31816, 31821, 31824, 31826, 31829, 31837, 31843, 31844, 31884, 31887, 31888, 31895, 31896, 31902, 31917, 31922, 31929, 31932, 31937, 31942, 31955, 31959, 31962, 31966, 31975, 31984, 31998, 32017, 32019, 32029, 32030, 32037, 32038, 32042, 32043, 32044, 32047, 32054, 32055, 32063, 32074, 32075, 32081, 32084, 32088, 32093, 32101, 32110, 32119, 32135, 32137, 32140, 32151, 32161, 32166, 32175, 32177, 32186, 32188, 32192, 32197, 32203, 32204, 32205, 32206, 32212, 32215, 32216, 32238, 32243, 32262, 32267, 32277, 32282, 32289, 32291, 32295, 32296, 32299, 32300, 32308, 32309, 32310, 32316, 32322, 32323, 32337, 32338, 32342, 32346, 32350, 32357, 32360, 32362, 32368, 32388, 32391, 32392, 32399, 32406, 32411, 32412, 32416, 32417, 32421, 32423, 32429, 32431, 32432, 32437, 32443, 32445, 32446, 32455, 32458, 32460, 32461, 32464, 32486, 32490, 32491, 32495, 32498, 32505, 32514, 32516, 32526, 32529, 32530, 32537, 32549, 32557, 32560, 32562, 32564, 32577, 32585, 32589, 32596, 32597, 32598, 32607, 32608, 32617, 32620, 32623, 32636, 32640, 32641, 32646, 32649, 32650, 32653, 32661, 32664, 32679, 32687, 32694, 32698, 32710, 32717, 32718, 32719, 32720, 32733, 32736, 32746, 32747, 32751, 32757, 32764, 32772, 32776, 32784, 32791, 32814, 32827, 32835, 32839, 32841, 32851, 32854, 32857, 32860, 32868, 32870, 32889, 32892, 32893, 32898, 32911, 32925, 32929, 32936, 32943, 32945, 32946, 32949, 32952, 32953, 32955, 32957, 32959, 32961, 32968, 32972, 32974, 32978, 32982, 32985, 32994, 32995, 32999, 33011, 33016, 33018, 33021, 33029, 33030, 33035, 33038, 33039, 33041, 33061, 33067, 33068, 33071, 33080, 33081, 33082, 33089, 33096, 33097, 33102, 33110, 33111, 33113, 33114, 33122, 33123, 33140, 33145, 33148, 33151, 33152, 33153, 33178, 33180, 33186, 33195, 33197, 33201, 33203, 33215, 33226, 33235, 33237, 33238, 33245, 33247, 33249, 33251, 33257, 33259, 33267, 33275, 33278, 33284, 33286, 33297, 33299, 33301, 33310, 33323, 33331, 33337, 33340, 33342, 33345, 33346, 33351, 33359, 33360, 33361, 33371, 33373, 33375, 33378, 33380, 33381, 33383, 33386, 33388, 33391, 33402, 33403, 33411, 33420, 33429, 33430, 33432, 33438, 33446, 33449, 33452, 33456, 33462, 33464, 33474, 33486, 33495, 33497, 33499, 33501, 33504, 33515, 33516, 33518, 33529, 33530, 33531, 33537, 33548, 33554, 33560, 33569, 33581, 33586, 33593, 33595, 33596, 33597, 33608, 33615, 33618, 33623, 33626, 33630, 33635, 33640, 33641, 33642, 33644, 33646, 33647, 33668, 33670, 33671, 33673, 33675, 33676, 33680, 33683, 33686, 33695, 33704, 33706, 33722, 33728, 33734, 33737, 33740, 33743, 33747, 33748, 33749, 33751, 33753, 33756, 33758, 33760, 33771, 33772, 33775, 33780, 33782, 33786, 33789, 33807, 33819, 33825, 33834, 33837, 33846, 33847, 33848, 33853, 33855, 33858, 33865, 33878, 33880, 33894, 33900, 33908, 33910, 33913, 33921, 33923, 33934, 33941, 33943, 33946, 33947, 33952, 33954, 33956, 33978, 33979, 33987, 33990, 33992, 33997, 34001, 34009, 34010, 34018, 34032, 34034, 34036, 34038, 34040, 34051, 34057, 34058, 34067, 34076, 34084, 34092, 34093, 34094, 34102, 34106, 34108, 34114, 34119, 34126, 34133, 34135, 34150, 34154, 34166, 34170, 34173, 34174, 34178, 34194, 34195, 34197, 34200, 34202, 34206, 34211, 34213, 34215, 34227, 34231, 34233, 34235, 34236, 34238, 34246, 34247, 34257, 34269, 34273, 34274, 34280, 34281, 34283, 34290, 34301, 34306, 34316, 34323, 34326, 34327, 34333, 34340, 34341, 34346, 34354, 34362, 34370, 34379, 34382, 34383, 34384, 34393, 34397, 34404, 34416, 34420, 34429, 34432, 34438, 34441, 34444, 34446, 34453, 34454, 34465, 34473, 34474, 34480, 34487, 34491, 34518, 34520, 34528, 34531, 34532, 34533, 34535, 34536, 34542, 34548, 34560, 34577, 34580, 34592, 34603, 34614, 34623, 34625, 34628, 34629, 34632, 34644, 34645, 34649, 34656, 34672, 34673, 34677, 34679, 34683, 34685, 34686, 34701, 34702, 34704, 34705, 34707, 34709, 34717, 34720, 34721, 34727, 34729, 34738, 34743, 34751, 34764, 34768, 34769, 34776, 34786, 34788, 34792, 34793, 34796, 34797, 34802, 34812, 34813, 34823, 34830, 34831, 34833, 34842, 34850, 34855, 34864, 34866, 34868, 34873, 34875, 34878, 34883, 34892, 34894, 34899, 34901, 34902, 34913, 34916, 34917, 34918, 34926, 34940, 34942, 34945, 34953, 34956, 34964, 34966, 34970, 34972, 34974, 34975, 34983, 34984, 34990, 34992, 34999, 35007, 35011, 35015, 35018, 35035, 35036, 35038, 35040, 35042, 35046, 35056, 35073, 35087, 35089, 35095, 35111, 35115, 35116, 35119, 35125, 35128, 35129, 35131, 35136, 35140, 35141, 35142, 35165, 35166, 35181, 35184, 35186, 35195, 35198, 35201, 35208, 35214, 35218, 35220, 35241, 35249, 35256, 35258, 35261, 35263, 35265, 35272, 35274, 35276, 35291, 35298, 35301, 35304, 35306, 35313, 35317, 35323, 35325, 35329, 35332, 35338, 35348, 35349, 35350, 35363, 35368, 35371, 35375, 35378, 35389, 35390, 35391, 35406, 35414, 35416, 35418, 35428, 35443, 35452, 35466, 35469, 35476, 35477, 35482, 35483, 35491, 35497, 35498, 35506, 35508, 35520, 35524, 35531, 35540, 35545, 35552, 35558, 35562, 35564, 35565, 35577, 35580, 35582, 35587, 35589, 35599, 35601, 35613, 35615, 35619, 35625, 35626, 35627, 35635, 35642, 35645, 35647, 35648, 35661, 35667, 35668, 35670, 35671, 35674, 35690, 35695, 35696, 35709, 35715, 35724, 35726, 35728, 35731, 35732, 35735, 35739, 35742, 35747, 35767, 35773, 35782, 35787, 35789, 35794, 35798, 35802, 35804, 35805, 35809, 35818, 35819, 35820, 35821, 35832, 35834, 35853, 35859, 35860, 35862, 35863, 35864, 35865, 35869, 35872, 35873, 35883, 35885, 35886, 35890, 35893, 35920, 35942, 35943, 35945, 35946, 35951, 35955, 35957, 35966, 35968, 35974, 35977, 35978, 35981, 35987, 35992, 35996, 36002, 36004, 36009, 36023, 36027, 36033, 36035, 36047, 36052, 36059, 36060, 36065, 36072, 36073, 36083, 36092, 36099, 36106, 36111, 36112, 36130, 36133, 36141, 36144, 36146, 36160, 36161, 36165, 36167, 36168, 36172, 36179, 36186, 36198, 36200, 36211, 36215, 36223, 36224, 36228, 36231, 36233, 36235, 36240, 36244, 36253, 36255, 36261, 36270, 36271, 36274, 36283, 36288, 36292, 36294, 36315, 36326, 36331, 36337, 36342, 36352, 36363, 36368, 36377, 36378, 36383, 36390, 36393, 36402, 36405, 36413, 36425, 36429, 36434, 36436, 36437, 36443, 36446, 36448, 36455, 36461, 36462, 36463, 36468, 36475, 36477, 36478, 36479, 36488, 36497, 36498, 36499, 36502, 36508, 36511, 36516, 36518, 36521, 36524, 36529, 36531, 36534, 36537, 36539, 36545, 36550, 36556, 36557, 36561, 36570, 36576, 36580, 36583, 36588, 36597, 36611, 36618, 36619, 36624, 36627, 36629, 36639, 36665, 36666, 36667, 36671, 36684, 36690, 36694, 36699, 36703, 36711, 36717, 36725, 36730, 36738, 36744, 36751, 36754, 36770, 36774, 36785, 36787, 36798, 36803, 36808, 36810, 36816, 36830, 36832, 36835, 36845, 36848, 36852, 36853, 36854, 36856, 36857, 36860, 36862, 36872, 36877, 36879, 36880, 36882, 36885, 36889, 36894, 36899, 36903, 36905, 36915, 36926, 36927, 36928, 36940, 36943, 36944, 36945, 36949, 36955, 36958, 36963, 36970, 36971, 36978, 36981, 36983, 36985, 37002, 37019, 37020, 37023, 37028, 37030, 37031, 37036, 37037, 37041, 37046, 37058, 37068, 37069, 37078, 37080, 37083, 37093, 37094, 37101, 37103, 37107, 37109, 37111, 37113, 37121, 37125, 37130, 37131, 37133, 37141, 37148, 37154, 37155, 37161, 37168, 37169, 37182, 37186, 37195, 37207, 37219, 37222, 37229, 37231, 37233, 37240, 37243, 37254, 37255, 37273, 37281, 37285, 37302, 37304, 37314, 37316, 37319, 37321, 37324, 37325, 37329, 37331, 37344, 37348, 37349, 37350, 37351, 37352, 37359, 37363, 37368, 37373, 37381, 37383, 37390, 37397, 37398, 37409, 37410, 37412, 37422, 37423, 37430, 37437, 37445, 37450, 37456, 37460, 37461, 37464, 37472, 37479, 37484, 37490, 37491, 37493, 37499, 37503, 37504, 37505, 37508, 37524, 37529, 37532, 37548, 37557, 37562, 37564, 37568, 37575, 37600, 37607, 37615, 37617, 37624, 37632, 37636, 37638, 37640, 37649, 37650, 37654, 37655, 37666, 37685, 37689, 37695, 37704, 37710, 37714, 37723, 37724, 37733, 37734, 37740, 37749, 37750, 37751, 37752, 37754, 37760, 37771, 37774, 37782, 37783, 37792, 37801, 37807, 37811, 37816, 37818, 37821, 37822, 37832, 37838, 37847, 37850, 37854, 37870, 37881, 37887, 37892, 37894, 37903, 37914, 37915, 37921, 37937, 37939, 37949, 37950, 37951, 37960, 37962, 37965, 37966, 37968, 37978, 37979, 37981, 37982, 37990, 37996, 37997, 38006, 38007, 38008, 38012, 38015, 38027, 38029, 38048, 38049, 38068, 38069, 38070, 38071, 38074, 38076, 38080, 38084, 38090, 38093, 38096, 38099, 38106, 38108, 38124, 38126, 38129, 38133, 38153, 38156, 38164, 38180, 38181, 38185, 38193, 38195, 38197, 38203, 38208, 38213, 38239, 38240, 38241, 38244, 38256, 38257, 38266, 38267, 38269, 38270, 38284, 38289, 38301, 38306, 38310, 38320, 38322, 38331, 38333, 38338, 38344, 38349, 38353, 38364, 38374, 38376, 38387, 38405, 38423, 38424, 38428, 38446, 38447, 38448, 38460, 38461, 38463, 38464, 38476, 38480, 38488, 38490, 38491, 38494, 38498, 38500, 38502, 38503, 38505, 38507, 38509, 38514, 38520, 38521, 38522, 38527, 38528, 38529, 38534, 38536, 38540, 38543, 38548, 38549, 38550, 38553, 38557, 38560, 38572, 38574, 38594, 38596, 38610, 38611, 38612, 38617, 38620, 38628, 38636, 38639, 38641, 38657, 38660, 38663, 38664, 38671, 38673, 38675, 38683, 38691, 38693, 38695, 38698, 38708, 38711, 38718, 38723, 38726, 38732, 38740, 38749, 38756, 38765, 38768, 38771, 38783, 38784, 38785, 38786, 38813, 38814, 38815, 38816, 38821, 38825, 38826, 38848, 38849, 38861, 38867, 38870, 38873, 38880, 38886, 38891, 38892, 38894, 38895, 38903, 38907, 38911, 38916, 38917, 38918, 38926, 38928, 38930, 38939, 38940, 38942, 38947, 38960, 38961, 38969, 38971, 38981, 38983, 38985, 38987, 38990, 38992, 39002, 39006, 39010, 39015, 39024, 39025, 39027, 39033, 39036, 39047, 39051, 39056, 39063, 39064, 39073, 39075, 39079, 39080, 39083, 39101, 39104, 39105, 39108, 39111, 39112, 39114, 39118, 39124, 39129, 39132, 39145, 39149, 39153, 39157, 39173, 39176, 39178, 39182, 39185, 39188, 39197, 39203, 39206, 39212, 39215, 39217, 39221, 39226, 39233, 39239, 39242, 39247, 39250, 39256, 39258, 39260, 39261, 39265, 39269, 39272, 39274, 39276, 39285, 39286, 39294, 39303, 39312, 39314, 39315, 39320, 39326, 39327, 39339, 39344, 39346, 39357, 39358, 39359, 39362, 39363, 39369, 39387, 39390, 39404, 39408, 39410, 39417, 39422, 39423, 39438, 39439, 39451, 39454, 39457, 39470, 39474, 39480, 39481, 39488, 39495, 39496, 39508, 39509, 39516, 39528, 39531, 39533, 39534, 39537, 39544, 39546, 39549, 39557, 39565, 39570, 39579, 39580, 39592, 39600, 39601, 39602, 39608, 39621, 39622, 39634, 39636, 39641, 39647, 39648, 39657, 39658, 39660, 39661, 39678, 39683, 39692, 39710, 39712, 39713, 39720, 39722, 39728, 39729, 39736, 39742, 39749, 39752, 39756, 39777, 39782, 39783, 39792, 39794, 39801, 39802, 39804, 39814, 39816, 39820, 39831, 39834, 39837, 39841, 39845, 39850, 39865, 39867, 39870, 39875, 39879, 39881, 39887, 39888, 39896, 39904, 39906, 39916, 39919, 39920, 39921, 39931, 39932, 39938, 39947, 39960, 39969, 39990, 39991, 39992, 39996, 40000, 40001, 40007, 40008, 40010, 40026, 40027, 40039, 40044, 40049, 40053, 40054, 40061, 40062, 40070, 40071, 40073, 40081, 40083, 40084, 40089, 40096, 40097, 40099, 40102, 40110, 40111, 40115, 40117, 40120, 40122, 40125, 40127, 40133, 40136, 40147, 40148, 40150, 40152, 40176, 40181, 40195, 40202, 40205, 40210, 40211, 40216, 40217, 40227, 40228, 40240, 40241, 40246, 40247, 40249, 40251, 40259, 40263, 40271, 40272, 40287, 40304, 40311, 40315, 40316, 40321, 40324, 40325, 40328, 40329, 40333, 40335, 40339, 40341, 40349, 40361, 40366, 40367, 40369, 40378, 40380, 40383, 40393, 40401, 40415, 40434, 40437, 40444, 40458, 40471, 40473, 40476, 40492, 40498, 40500, 40504, 40512, 40516, 40518, 40520, 40523, 40525, 40526, 40530, 40547, 40554, 40562, 40563, 40564, 40568, 40576, 40598, 40600, 40609, 40611, 40618, 40625, 40626, 40627, 40641, 40642, 40644, 40656, 40660, 40661, 40663, 40672, 40673, 40674, 40675, 40676, 40685, 40688, 40689, 40695, 40696, 40699, 40700, 40708, 40714, 40719, 40726, 40733, 40735, 40738, 40740, 40743, 40745, 40752, 40753, 40755, 40766, 40772, 40779, 40780, 40782, 40789, 40794, 40797, 40798, 40799, 40814, 40816, 40828, 40834, 40846, 40849, 40865, 40870, 40880, 40888, 40892, 40895, 40897, 40898, 40901, 40902, 40907, 40914, 40915, 40922, 40928, 40937, 40946, 40955, 40956, 40958, 40972, 40974, 40978, 40981, 40983, 40984, 40985, 40986, 41001, 41005, 41006, 41018, 41026, 41029, 41030, 41057, 41064, 41076, 41077, 41082, 41086, 41088, 41089, 41095, 41097, 41108, 41116, 41118, 41122, 41123, 41127, 41129, 41134, 41140, 41146, 41147, 41148, 41158, 41160, 41165, 41166, 41167, 41174, 41180, 41189, 41193, 41197, 41200, 41201, 41203, 41216, 41217, 41218, 41221, 41222, 41226, 41229, 41236, 41237, 41239, 41241, 41246, 41247, 41253, 41257, 41262, 41264, 41265, 41266, 41270, 41275, 41276, 41290, 41291, 41293, 41300, 41302, 41309, 41312, 41317, 41325, 41340, 41341, 41347, 41354, 41358, 41360, 41364, 41372, 41373, 41374, 41375, 41383, 41387, 41389, 41393, 41395, 41396, 41401, 41402, 41404, 41407, 41409, 41413, 41425, 41429, 41441, 41443, 41453, 41454, 41466, 41474, 41487, 41489, 41490, 41505, 41509, 41533, 41534, 41535, 41536, 41538, 41544, 41547, 41549, 41554, 41575, 41576, 41577, 41579, 41583, 41587, 41589, 41601, 41619, 41621, 41624, 41627, 41628, 41634, 41637, 41642, 41644, 41645, 41649, 41652, 41655, 41657, 41660, 41691, 41694, 41695, 41696, 41703, 41708, 41710, 41714, 41724, 41730, 41732, 41738, 41741, 41749, 41759, 41763, 41767, 41768, 41770, 41779, 41780, 41783, 41788, 41790, 41792, 41793, 41805, 41806, 41807, 41808, 41813, 41819, 41822, 41823, 41824, 41839, 41852, 41855, 41862, 41864, 41872, 41878, 41892, 41894, 41895, 41918, 41924, 41925, 41936, 41947, 41948, 41952, 41957, 41963, 41965, 41977, 41980, 41987, 41988, 41990, 41992, 41999, 42005, 42020, 42021, 42029, 42032, 42034, 42036, 42037, 42039, 42040, 42043, 42047, 42049, 42050, 42057, 42058, 42061, 42066, 42069, 42074, 42078, 42079, 42080, 42087, 42092, 42094, 42099, 42107, 42108, 42110, 42113, 42115, 42117, 42127, 42130, 42140, 42146, 42151, 42154, 42157, 42174, 42175, 42179, 42183, 42188, 42190, 42191, 42202, 42205, 42219, 42223, 42225, 42227, 42228, 42233, 42234, 42238, 42239, 42241, 42243, 42251, 42254, 42263, 42268, 42269, 42271, 42280, 42283, 42293, 42297, 42298, 42305, 42309, 42313, 42315, 42325, 42326, 42328, 42332, 42341, 42342, 42346, 42353, 42355, 42359, 42360, 42361, 42364, 42370, 42371, 42380, 42388, 42391, 42392, 42397, 42400, 42404, 42423, 42424, 42427, 42428, 42433, 42435, 42437, 42445, 42470, 42479, 42482, 42486, 42487, 42491, 42496, 42505, 42506, 42508, 42512, 42520, 42534, 42541, 42549, 42553, 42562, 42565, 42566, 42570, 42575, 42579, 42588, 42599, 42600, 42605, 42606, 42610, 42612, 42613, 42615, 42621, 42631, 42633, 42642, 42644, 42654, 42663, 42672, 42676, 42678, 42689, 42691, 42692, 42694, 42696, 42712, 42720, 42724, 42742, 42751, 42757, 42759, 42763, 42771, 42777, 42793, 42794, 42801, 42808, 42810, 42822, 42823, 42831, 42836, 42843, 42854, 42860, 42861, 42865, 42867, 42884, 42885, 42887, 42893, 42899, 42901, 42904, 42908, 42915, 42917, 42918, 42922, 42927, 42949, 42957, 42959, 42973, 42975, 42977, 42980, 42983, 42992, 42994, 42999, 43022, 43031, 43033, 43034, 43037, 43039, 43041, 43042, 43054, 43066, 43070, 43077, 43078, 43079, 43084, 43087, 43090, 43097, 43099, 43101, 43108, 43116, 43129, 43136, 43145, 43147, 43160, 43162, 43174, 43178, 43182, 43186, 43187, 43192, 43199, 43203, 43206, 43209, 43211, 43226, 43232, 43236, 43243, 43246, 43247, 43269, 43270, 43271, 43272, 43288, 43298, 43299, 43305, 43310, 43311, 43312, 43314, 43318, 43326, 43328, 43340, 43341, 43343, 43344, 43346, 43357, 43361, 43371, 43373, 43378, 43380, 43383, 43387, 43388, 43389, 43390, 43394, 43396, 43401, 43403, 43425, 43426, 43433, 43449, 43450, 43458, 43470, 43471, 43483, 43484, 43495, 43505, 43508, 43509, 43513, 43527, 43531, 43537, 43539, 43542, 43550, 43560, 43564, 43582, 43589, 43594, 43595, 43598, 43606, 43612, 43627, 43628, 43634, 43637, 43641, 43644, 43648, 43653, 43656, 43661, 43675, 43683, 43691, 43694, 43698, 43705, 43712, 43719, 43722, 43724, 43725, 43738, 43739, 43740, 43744, 43752, 43755, 43765, 43766, 43768, 43781, 43793, 43794, 43795, 43796, 43801, 43809, 43817, 43818, 43819, 43825, 43841, 43844, 43849, 43852, 43867, 43869, 43888, 43907, 43913, 43921, 43922, 43924, 43926, 43927, 43941, 43946, 43952, 43959, 43962, 43967, 43969, 43977, 43981, 43984, 44002, 44010, 44017, 44021, 44022, 44024, 44034, 44040, 44051, 44055, 44057, 44062, 44071, 44072, 44075, 44078, 44080, 44082, 44085, 44087, 44097, 44098, 44099, 44102, 44103, 44116, 44117, 44119, 44124, 44133, 44140, 44144, 44145, 44154, 44158, 44165, 44172, 44177, 44179, 44181, 44189, 44193, 44198, 44199, 44205, 44206, 44212, 44222, 44226, 44229, 44230, 44232, 44243, 44245, 44258, 44260, 44272, 44286, 44288, 44296, 44298, 44301, 44303, 44307, 44311, 44314, 44317, 44335, 44341, 44343, 44345, 44346, 44350, 44358, 44361, 44363, 44364, 44365, 44368, 44372, 44374, 44381, 44382, 44389, 44391, 44395, 44399, 44401, 44416, 44418, 44419, 44420, 44423, 44434, 44435, 44442, 44448, 44450, 44451, 44453, 44455, 44457, 44474, 44479, 44491, 44499, 44501, 44502, 44511, 44512, 44523, 44528, 44530, 44539, 44540, 44547, 44564, 44567, 44570, 44571, 44574, 44577, 44580, 44590, 44595, 44599, 44601, 44605, 44612, 44614, 44616, 44617, 44625, 44630, 44632, 44649, 44650, 44651, 44660, 44667, 44670, 44672, 44673, 44675, 44683, 44687, 44692, 44699, 44701, 44705, 44716, 44718, 44720, 44727, 44728, 44729, 44731, 44735, 44744, 44746, 44747, 44749, 44756, 44762, 44768, 44769, 44771, 44776, 44781, 44792, 44795, 44797, 44802, 44808, 44827, 44831, 44839, 44840, 44842, 44846, 44848, 44860, 44865, 44867, 44874, 44875, 44883, 44890, 44892, 44899, 44901, 44902, 44905, 44907, 44910, 44918, 44919, 44930, 44932, 44937, 44944, 44946, 44950, 44954, 44955, 44957, 44959, 44961, 44964, 44972, 44973, 44981, 44983, 44989, 44991, 44999, 45000, 45001, 45006, 45014, 45016, 45025, 45030, 45040, 45042, 45049, 45089, 45092, 45093, 45100, 45102, 45104, 45105, 45116, 45127, 45132, 45134, 45135, 45141, 45146, 45150, 45151, 45156, 45159, 45164, 45169, 45174, 45175, 45177, 45181, 45186, 45188, 45190, 45197, 45204, 45210, 45211, 45212, 45227, 45228, 45230, 45237, 45245, 45246, 45247, 45256, 45266, 45267, 45268, 45269, 45272, 45275, 45279, 45284, 45285, 45296, 45302, 45305, 45306, 45310, 45317, 45323, 45330, 45333, 45339, 45341, 45342, 45349, 45350, 45351, 45360, 45362, 45363, 45365, 45376, 45377, 45384, 45398, 45402, 45406, 45410, 45418, 45419, 45421, 45427, 45435, 45445, 45450, 45455, 45456, 45458, 45463, 45464, 45467, 45469, 45472, 45473, 45474, 45480, 45485, 45487, 45493, 45496, 45497, 45501, 45505, 45509, 45515, 45523, 45528, 45530, 45535, 45537, 45540, 45542, 45543, 45545, 45547, 45551, 45556, 45559, 45562, 45569, 45570, 45577, 45589, 45595, 45601, 45603, 45607, 45610, 45626, 45628, 45630, 45632, 45635, 45638, 45643, 45653, 45666, 45667, 45671, 45674, 45676, 45679, 45683, 45690, 45691, 45692, 45702, 45708, 45711, 45719, 45722, 45724, 45727, 45730, 45732, 45738, 45739, 45756, 45757, 45760, 45766, 45774, 45780, 45787, 45789, 45791, 45799, 45803, 45806, 45822, 45828, 45841, 45846, 45848, 45855, 45858, 45871, 45879, 45880, 45891, 45896, 45898, 45899, 45901, 45904, 45907, 45916, 45921, 45924, 45927, 45931, 45944, 45948, 45952, 45953, 45965, 45972, 45977, 45985, 45990, 45992, 46006, 46024, 46028, 46032, 46034, 46037, 46044, 46046, 46050, 46054, 46055, 46058, 46059, 46060, 46061, 46065, 46066, 46068, 46076, 46080, 46081, 46083, 46089, 46093, 46101, 46118, 46132, 46134, 46138, 46139, 46141, 46151, 46153, 46154, 46166, 46174, 46186, 46187, 46192, 46212, 46218, 46219, 46223, 46224, 46229, 46232, 46235, 46241, 46247, 46248, 46255, 46260, 46273, 46277, 46284, 46286, 46296, 46297, 46303, 46305, 46309, 46310, 46320, 46323, 46328, 46350, 46352, 46354, 46355, 46363, 46369, 46374, 46378, 46382, 46393, 46396, 46398, 46406, 46408, 46410, 46412, 46421, 46437, 46439, 46451, 46452, 46453, 46459, 46464, 46469, 46484, 46495, 46497, 46499, 46500, 46503, 46509, 46511, 46515, 46518, 46522, 46525, 46529, 46531, 46534, 46537, 46549, 46557, 46558, 46567, 46572, 46574, 46577, 46582, 46588, 46596, 46599, 46603, 46605, 46625, 46630, 46631, 46641, 46642, 46649, 46656, 46657, 46660, 46663, 46667, 46668, 46672, 46686, 46693, 46697, 46700, 46703, 46707, 46715, 46717, 46727, 46735, 46736, 46746, 46756, 46761, 46763, 46767, 46771, 46774, 46778, 46779, 46780, 46786, 46788, 46790, 46815, 46817, 46823, 46830, 46838, 46841, 46842, 46845, 46847, 46852, 46854, 46874, 46878, 46881, 46887, 46894, 46899, 46905, 46906, 46913, 46921, 46922, 46925, 46927, 46930, 46940, 46955, 46956, 46961, 46966, 46969, 46975, 46979, 46985, 46989, 46990, 46999, 47006, 47007, 47022, 47023, 47037, 47047, 47057, 47070, 47078, 47079, 47085, 47088, 47091, 47107, 47110, 47123, 47125, 47138, 47139, 47140, 47146, 47149, 47152, 47164, 47170, 47171, 47178, 47179, 47186, 47196, 47198, 47203, 47209, 47218, 47219, 47224, 47229, 47238, 47244, 47247, 47249, 47251, 47261, 47268, 47274, 47279, 47287, 47288, 47291, 47298, 47307, 47314, 47315, 47317, 47320, 47321, 47326, 47332, 47334, 47335, 47337, 47338, 47350, 47351, 47358, 47365, 47379, 47385, 47387, 47388, 47394, 47412, 47423, 47424, 47427, 47429, 47434, 47444, 47449, 47450, 47456, 47463, 47465, 47467, 47470, 47479, 47482, 47490, 47502, 47503, 47504, 47512, 47513, 47522, 47530, 47531, 47538, 47539, 47551, 47565, 47575, 47579, 47580, 47583, 47586, 47591, 47598, 47602, 47603, 47604, 47615, 47616, 47624, 47625, 47633, 47634, 47638, 47639, 47645, 47651, 47658, 47665, 47669, 47676, 47678, 47680, 47686, 47689, 47699, 47704, 47705, 47715, 47720, 47725, 47727, 47729, 47732, 47747, 47748, 47754, 47759, 47765, 47771, 47779, 47780, 47784, 47790, 47796, 47805, 47808, 47810, 47811, 47815, 47816, 47817, 47820, 47826, 47832, 47835, 47836, 47846, 47859, 47860, 47879, 47881, 47882, 47883, 47887, 47890, 47892, 47895, 47904, 47906, 47909, 47915, 47922, 47933, 47934, 47947, 47950, 47955, 47957, 47958, 47964, 47972, 47974, 47982, 47983, 47987, 47988, 47991, 47993, 48002], Type: <class 'list'>\n",
            "Group: (0, 3), Members: [21, 67, 1098, 1159, 1664, 1728, 2077, 2836, 2893, 3326, 3896, 4507, 4889, 5089, 5136, 5404, 5577, 5670, 6480, 6710, 6892, 6906, 7000, 7155, 7748, 7965, 8102, 8325, 8489, 8584, 8830, 9106, 9476, 10213, 10276, 10544, 10568, 11096, 11169, 11244, 11835, 12869, 13111, 13282, 13741, 14106, 14107, 15185, 15297, 15917, 16054, 16724, 17032, 18380, 19201, 19559, 20061, 20185, 20683, 21186, 21268, 22011, 22047, 22072, 22120, 22185, 22555, 22619, 22764, 23981, 24161, 24450, 24631, 24896, 24924, 25829, 25854, 26226, 26787, 26851, 27025, 27549, 27593, 27878, 28408, 28630, 29758, 31197, 31422, 31626, 31985, 32060, 32467, 32723, 32799, 32862, 33032, 33285, 33629, 34055, 34865, 34937, 36221, 36391, 36819, 37241, 37278, 37294, 37392, 37443, 37928, 37980, 38054, 38716, 38792, 38925, 39109, 39165, 39289, 40589, 40631, 40911, 41039, 41475, 41512, 41758, 42262, 42849, 43392, 44671, 44780, 45084, 45389, 45583, 45743, 46016, 46035, 46711, 46850, 47036, 47610, 47953], Type: <class 'list'>\n",
            "Group: (4, 0), Members: [51, 226, 333, 1146, 1582, 2652, 2822, 2908, 3024, 3343, 3368, 3454, 4142, 4526, 4870, 6164, 6490, 7642, 7824, 8277, 8343, 8744, 8992, 9088, 9633, 10461, 10727, 12161, 12674, 12775, 12941, 13004, 13059, 13387, 13585, 13846, 13886, 14254, 14936, 15140, 15267, 16659, 17030, 17571, 18243, 18698, 19426, 19604, 19793, 20077, 21040, 21150, 21762, 22199, 22588, 23056, 24000, 24017, 24318, 24814, 25041, 25591, 26024, 27164, 27249, 27434, 28766, 28993, 29159, 29653, 30625, 31111, 31118, 31190, 31220, 32124, 32476, 32997, 33204, 33392, 33736, 34071, 34493, 34552, 34708, 35064, 35138, 35336, 35485, 36276, 36906, 37026, 37755, 38871, 38948, 39323, 40395, 40602, 41055, 42027, 42327, 42868, 42880, 43004, 43111, 43429, 43676, 43789, 44009, 44202, 44240, 44505, 44533, 45335, 45465, 45964, 46614, 46620, 46875, 46977, 47159, 47217, 47270, 47712, 47878], Type: <class 'list'>\n",
            "Group: (3, 1), Members: [56, 517, 999, 1197, 2082, 2693, 2815, 2850, 5321, 6057, 6299, 6734, 7262, 7453, 7747, 9051, 9341, 9423, 9989, 10968, 11510, 11907, 11914, 12150, 13970, 14127, 14260, 14286, 14540, 14665, 16359, 17242, 17595, 17624, 17833, 18672, 18677, 18748, 19844, 19998, 20261, 20553, 20634, 20750, 20791, 20862, 21482, 21589, 22962, 23106, 23197, 23251, 23928, 26003, 26042, 26496, 26599, 26812, 27237, 28072, 28468, 28644, 28850, 29200, 29678, 30960, 31060, 31171, 31298, 31454, 31457, 31863, 31904, 32635, 32810, 33063, 33570, 34621, 35547, 35699, 35846, 35985, 36297, 36340, 37226, 37405, 37478, 37609, 37923, 38179, 38287, 38300, 38745, 39384, 40114, 40495, 40590, 40756, 41273, 41511, 43123, 43439, 43636, 43840, 43893, 43948, 44128, 45123, 45124, 45557, 46215, 46322, 47221, 47403, 47656, 47724, 47822], Type: <class 'list'>\n",
            "Group: (1, 2), Members: [89, 237, 675, 701, 1000, 1138, 1282, 1287, 1811, 2099, 2251, 2550, 3146, 4328, 4609, 5266, 7119, 7519, 7890, 7996, 8143, 9751, 9830, 10138, 11490, 11524, 12495, 12597, 13184, 13638, 14188, 14738, 14760, 14923, 16368, 16824, 17036, 17417, 18492, 18522, 19114, 19265, 19432, 19546, 19841, 19962, 21207, 21904, 22135, 22236, 22354, 22537, 22911, 24172, 24981, 25089, 25105, 25238, 26456, 26877, 27158, 27800, 28174, 28349, 28451, 28812, 29284, 29400, 29739, 29799, 30014, 30149, 30724, 30839, 31576, 31768, 32148, 33234, 33372, 33696, 33761, 33972, 34048, 35451, 35664, 36120, 36555, 37277, 37692, 38537, 38762, 39060, 39280, 39284, 39446, 39662, 41707, 42264, 42465, 42639, 43127, 43195, 45235, 45590, 45979, 46106, 46257, 46367, 46785, 46889, 47491], Type: <class 'list'>\n",
            "Group: (0, 2), Members: [99, 487, 1185, 2508, 3176, 3769, 3946, 4389, 4436, 4667, 5311, 5957, 6295, 6844, 6908, 7260, 7370, 7486, 7753, 7979, 8073, 8122, 8247, 8536, 8840, 9125, 9570, 10157, 10396, 10410, 10415, 10520, 10698, 10962, 11660, 13692, 14408, 14634, 14780, 14788, 14862, 15335, 15535, 15665, 15702, 16059, 16342, 17433, 18346, 18686, 19062, 19168, 19375, 19551, 20638, 20702, 20812, 21250, 21492, 22067, 23398, 23605, 23807, 24286, 25715, 26521, 26988, 27409, 27675, 28166, 28270, 28324, 28583, 30037, 30365, 30523, 31125, 31270, 31273, 31285, 32755, 33176, 33607, 33654, 33672, 34245, 34977, 35124, 35175, 35359, 35555, 35829, 36020, 36085, 37264, 37292, 37884, 38363, 38761, 38847, 38893, 39385, 40139, 40392, 40679, 41219, 41233, 41446, 41465, 41943, 42119, 42526, 42670, 42677, 43135, 43899, 44152, 44656, 44925, 45409, 45520, 45793, 46295, 46338, 46652, 46739, 46799, 47772, 47800], Type: <class 'list'>\n",
            "Group: (2, 0), Members: [111, 266, 402, 534, 543, 1966, 2901, 3835, 4315, 4838, 5362, 5440, 5666, 6009, 6193, 6314, 6704, 6978, 7105, 7252, 7292, 7356, 7714, 8979, 9303, 9491, 9820, 9854, 11110, 11281, 12212, 13120, 13153, 13822, 14015, 14622, 14730, 14954, 15376, 15469, 15984, 16040, 16477, 17928, 18003, 18344, 19531, 20075, 20692, 20988, 21173, 21244, 22087, 22982, 24836, 24919, 25839, 25952, 26140, 26566, 26817, 26910, 26923, 27344, 27472, 27934, 28463, 28585, 28824, 29028, 29032, 29250, 29515, 30423, 31048, 31319, 31842, 31862, 32352, 32382, 32447, 32935, 33357, 33364, 33461, 33812, 34914, 35108, 35680, 36496, 36594, 37061, 37560, 37606, 37846, 38435, 38533, 38781, 39333, 39386, 39626, 39835, 39853, 39901, 40372, 41468, 41562, 41568, 41938, 42417, 42611, 42685, 42993, 43134, 43729, 44588, 44872, 45142, 45717, 45897, 46602, 47677], Type: <class 'list'>\n",
            "Group: (0, 4), Members: [113, 168, 955, 1653, 1680, 2246, 2349, 2702, 2729, 2774, 3358, 3431, 3919, 4237, 4852, 4962, 5847, 6002, 6132, 6766, 7319, 7464, 7924, 8895, 8988, 9320, 9987, 10108, 10115, 10608, 10858, 11108, 11450, 11891, 11970, 11999, 12185, 12204, 12717, 13333, 13494, 13960, 14187, 14437, 14661, 15866, 15892, 16366, 16947, 17284, 17314, 17460, 18168, 18222, 18663, 19351, 20320, 20583, 20971, 22115, 22506, 22525, 22657, 23821, 24921, 25055, 26372, 26382, 26898, 27378, 27553, 28290, 28376, 28658, 28891, 28940, 29625, 29669, 29866, 30520, 30562, 30744, 32022, 33971, 33986, 34248, 34905, 35127, 35132, 35194, 35927, 35979, 36166, 36309, 36323, 36988, 37088, 37172, 37784, 38237, 38397, 39151, 39504, 40118, 40404, 41329, 42224, 42372, 42474, 42499, 43110, 43159, 43700, 43838, 43897, 44093, 44407, 45236, 45395, 45397, 45434, 45777, 46171, 46384, 46562, 46986, 47313, 47517, 47902], Type: <class 'list'>\n",
            "Group: (1, 3), Members: [156, 461, 747, 821, 882, 2042, 2277, 3036, 3698, 4521, 4936, 5012, 5059, 5076, 5483, 5671, 5706, 5789, 5967, 6720, 6855, 6907, 7404, 8219, 8418, 8983, 9061, 9220, 9372, 9462, 10298, 10378, 10491, 10752, 10880, 11116, 11547, 11836, 12954, 13220, 13306, 13689, 13716, 13983, 14395, 14594, 14769, 14859, 15356, 16415, 16760, 16853, 17063, 17265, 17354, 17946, 18415, 19297, 19649, 20141, 20517, 20760, 20783, 20897, 21154, 22522, 22569, 22771, 22997, 23654, 24308, 24312, 24542, 24552, 24806, 25240, 25320, 25525, 25788, 26417, 26469, 26579, 28207, 28573, 28935, 29775, 31310, 31620, 31931, 31945, 32792, 33419, 33421, 33459, 33917, 33970, 34556, 35065, 35458, 35617, 35876, 35915, 36138, 36554, 36677, 37516, 39042, 39703, 39859, 40394, 40650, 40701, 41227, 41597, 41846, 42270, 42330, 43319, 43545, 43629, 43699, 43877, 44866, 45565, 45647, 46023, 46317, 47090, 47098, 47254, 47485, 47685], Type: <class 'list'>\n",
            "Group: (3, 2), Members: [158, 411, 463, 476, 1295, 1588, 2073, 2305, 2610, 3418, 3857, 4864, 4905, 5068, 5268, 5350, 6288, 6524, 6919, 7469, 7931, 7999, 8071, 9017, 9428, 9453, 9508, 10118, 10247, 10377, 10571, 10680, 11241, 11561, 11637, 12130, 13106, 13409, 13646, 14006, 14062, 15803, 16153, 16292, 16673, 19087, 19191, 19474, 20311, 21320, 21494, 21808, 22043, 22157, 22523, 22631, 22902, 23167, 23347, 23558, 23728, 23935, 24070, 24277, 24315, 24687, 25803, 26784, 26958, 27016, 27077, 27161, 27346, 27633, 27669, 28323, 28378, 28723, 28737, 29080, 29474, 29608, 29688, 29859, 29900, 29917, 30155, 30450, 30593, 30939, 31165, 31303, 31427, 31528, 31754, 32487, 32673, 33092, 33322, 33798, 34689, 34748, 35684, 35686, 35901, 36029, 36992, 37651, 37900, 38176, 38770, 38875, 39573, 39697, 39952, 40052, 40107, 40566, 40730, 40935, 41610, 43201, 43423, 43878, 44421, 44432, 44904, 45032, 45437, 45914, 46072, 47374, 47426, 47441, 47560, 47744], Type: <class 'list'>\n",
            "Group: (0, 1), Members: [172, 1265, 1577, 1858, 2364, 2617, 3203, 3423, 3503, 3641, 4176, 4498, 4998, 5124, 5878, 6045, 6301, 6820, 7518, 7653, 7697, 8357, 9267, 9297, 10027, 10133, 10428, 10567, 10630, 11178, 11558, 12621, 12864, 13687, 14267, 14448, 15475, 16101, 16150, 17315, 17654, 17831, 18288, 18667, 18739, 19132, 19134, 19398, 19623, 19645, 20306, 20411, 20642, 20686, 21607, 21688, 22032, 22086, 22750, 23179, 24091, 25795, 26342, 26576, 26864, 26989, 27124, 27147, 27148, 27987, 29344, 29796, 30718, 30854, 32035, 32379, 33886, 35231, 35282, 35381, 35383, 35425, 35444, 35837, 35888, 36960, 37038, 37053, 37192, 37431, 37454, 37802, 37842, 37975, 38569, 38853, 38986, 39664, 40310, 41847, 41985, 42138, 43049, 43124, 43281, 43528, 43762, 43827, 43855, 43982, 44285, 44390, 44520, 45031, 45195, 46974, 47344], Type: <class 'list'>\n",
            "Group: (3, 0), Members: [177, 484, 681, 1206, 1339, 2060, 2867, 3073, 3127, 3396, 3538, 3908, 4040, 4214, 4513, 4680, 5249, 5668, 6026, 6591, 6941, 7149, 7420, 7499, 7667, 7786, 9136, 9302, 9611, 10226, 10335, 10921, 11758, 11905, 12245, 12246, 12413, 12963, 13203, 13607, 13723, 14316, 14470, 14549, 14559, 15793, 16570, 17273, 17685, 17811, 17816, 18193, 19108, 19440, 19817, 20155, 20175, 21404, 21793, 22447, 22533, 23390, 23604, 24434, 24624, 24971, 25103, 25586, 26589, 26835, 27002, 27711, 29308, 29521, 30035, 30041, 30224, 30363, 30386, 30509, 30843, 31721, 32756, 32869, 33058, 34530, 35171, 35993, 36385, 36401, 36489, 36975, 37156, 37362, 38092, 39121, 39461, 39483, 39778, 40423, 40431, 40997, 41426, 41435, 42247, 42248, 42536, 42598, 42939, 43872, 44166, 44549, 44825, 45154, 45264, 45641, 45721, 45823, 46015, 46289, 46427, 46586, 47095, 47185, 47390], Type: <class 'list'>\n",
            "Group: (2, 4), Members: [190, 248, 643, 1324, 1639, 1931, 2358, 2506, 2821, 3646, 3688, 4318, 4901, 5006, 6107, 6917, 7266, 7290, 8013, 8075, 8505, 9414, 9553, 9731, 10398, 10613, 12080, 12459, 12502, 13051, 13276, 13650, 14282, 14697, 14911, 15797, 15886, 17127, 18094, 18512, 18529, 19790, 20297, 20739, 20790, 22232, 22714, 23842, 24272, 25111, 25651, 26729, 26844, 26919, 26955, 27856, 28316, 29487, 29494, 29552, 29702, 29854, 30116, 30417, 30621, 30657, 30898, 31651, 31982, 32165, 32630, 33198, 33206, 33218, 33281, 33764, 34090, 34220, 34241, 35842, 36018, 37299, 37364, 37378, 37520, 37745, 37776, 38174, 38238, 38274, 38919, 39089, 41721, 42323, 42715, 42795, 43970, 44911, 45055, 45838, 46056, 46639, 46733, 47226], Type: <class 'list'>\n",
            "Group: (4, 1), Members: [223, 332, 945, 1131, 1397, 1902, 2120, 2471, 2529, 2687, 3022, 3023, 3438, 4156, 4461, 4924, 4928, 5499, 5691, 5952, 5970, 6228, 6249, 6307, 6343, 6427, 6699, 6964, 7597, 7733, 8056, 8257, 8573, 8917, 9009, 9030, 9132, 9167, 9189, 11037, 11231, 11430, 11770, 11833, 11931, 12089, 12873, 12917, 13000, 13295, 14233, 14433, 14580, 15785, 15906, 16045, 16967, 18078, 18921, 19260, 19402, 19878, 20037, 20989, 21098, 21184, 21553, 21820, 22092, 22159, 22164, 22470, 22953, 23889, 24761, 25628, 26312, 26359, 26624, 27031, 27302, 28536, 29434, 30222, 30438, 30457, 30504, 30583, 31943, 32385, 32581, 32939, 33854, 34146, 35771, 36153, 36362, 36870, 37137, 37729, 39159, 39828, 40033, 40580, 40990, 42048, 42210, 42494, 43295, 43999, 44156, 44379, 44828, 45138, 46720, 46868, 47398], Type: <class 'list'>\n",
            "Group: (4, 3), Members: [276, 1683, 1776, 2585, 2612, 3058, 4598, 5150, 5535, 5679, 6284, 6561, 6630, 7429, 7782, 7805, 7885, 8214, 9369, 10476, 10640, 11190, 11875, 11957, 12389, 13263, 13563, 13580, 13783, 14029, 14421, 14672, 14828, 15130, 15207, 15662, 15846, 16065, 17924, 18291, 18402, 18463, 18523, 18553, 18902, 19037, 19291, 19367, 20010, 20169, 20183, 20193, 20252, 20286, 20619, 20691, 21141, 21990, 22364, 22439, 22469, 22879, 23403, 23771, 24102, 24103, 24348, 25339, 25735, 26356, 26396, 26690, 26904, 27528, 27880, 28050, 28295, 28954, 29011, 29332, 29501, 30127, 30946, 31010, 31284, 32305, 32873, 33143, 33938, 34357, 34674, 35553, 35830, 35956, 36941, 37073, 37157, 37216, 37549, 37925, 38052, 38512, 38728, 39170, 39397, 40119, 40595, 40665, 40737, 40838, 40943, 41332, 41964, 42091, 42098, 42376, 43805, 44104, 44132, 44357, 44403, 44953, 45163, 45524, 45755, 45808, 45982, 46716, 47550], Type: <class 'list'>\n",
            "Group: (3, 4), Members: [530, 1007, 1058, 1108, 1941, 1976, 2386, 3086, 4621, 4994, 5523, 5861, 6432, 6708, 6737, 6967, 7027, 7354, 7592, 7802, 7880, 8540, 9730, 9833, 9884, 9918, 10445, 10879, 11998, 12444, 12518, 12821, 12937, 13717, 13924, 14498, 15112, 15158, 15382, 15497, 15539, 15562, 16272, 16375, 16399, 16454, 16697, 17923, 18138, 18673, 18996, 19020, 19701, 20238, 20477, 20906, 21025, 21684, 21798, 22046, 22186, 22350, 23373, 23861, 25417, 25892, 25914, 25955, 26002, 26060, 26480, 27089, 27117, 28429, 28702, 29606, 29680, 29936, 31459, 31513, 31542, 32547, 33160, 33889, 34134, 34137, 35134, 35655, 35669, 36064, 36824, 37180, 37193, 38268, 38462, 38601, 38833, 39420, 39967, 40732, 40847, 41164, 41330, 41870, 42024, 42207, 42933, 43177, 43365, 43663, 43956, 44982, 45364, 45500, 46175, 46498, 46665, 46812, 47071, 47143, 47276, 47709], Type: <class 'list'>\n",
            "Group: (1, 0), Members: [667, 925, 1704, 1803, 2002, 2280, 2416, 2487, 2922, 3602, 3711, 3771, 3882, 3934, 4045, 4369, 4980, 5414, 5986, 6218, 6642, 6730, 6859, 7025, 7200, 7378, 8807, 9366, 9925, 9940, 10074, 10075, 10507, 11427, 12093, 12698, 13844, 13938, 14005, 14641, 16470, 17227, 17478, 17503, 17656, 17989, 18172, 18450, 18544, 19499, 19749, 20797, 21476, 21528, 21674, 21865, 21871, 21977, 22514, 22732, 23336, 23441, 24414, 24625, 25314, 26083, 26460, 26824, 27115, 27268, 27313, 27823, 28025, 28543, 29114, 29146, 29251, 29299, 30392, 30405, 30779, 31278, 31322, 32668, 32863, 33398, 34631, 35426, 35522, 35593, 36095, 36124, 36137, 36328, 36423, 36577, 36648, 36693, 36780, 36921, 37198, 37284, 37471, 37551, 37976, 39491, 39732, 40224, 40682, 40810, 40967, 41047, 41700, 41974, 42540, 42826, 43571, 43737, 44794, 45704, 46494, 46647, 46872, 46877, 47566, 47757, 47807], Type: <class 'list'>\n",
            "Group: (2, 3), Members: [677, 880, 890, 1132, 1283, 1708, 1856, 1949, 3181, 3699, 4243, 4320, 5315, 6933, 7246, 7294, 7702, 8155, 8359, 8528, 8811, 8996, 9539, 10210, 10366, 10676, 11742, 11753, 12035, 12077, 12147, 12420, 13079, 13317, 13588, 13781, 13830, 14104, 14164, 14337, 14366, 15287, 15290, 15452, 15530, 15728, 16091, 16241, 16437, 17093, 17216, 17467, 18201, 18323, 18870, 19034, 19118, 19501, 20443, 20519, 21072, 21897, 22065, 23024, 23399, 23458, 24087, 24641, 24766, 25079, 25185, 26387, 27798, 27837, 28085, 28419, 29009, 29103, 29227, 29828, 30327, 30471, 30524, 31625, 31640, 32049, 32209, 32279, 32302, 34046, 34804, 35003, 35071, 35833, 36209, 36482, 36652, 36679, 36764, 36786, 37382, 38055, 38288, 38883, 39115, 39769, 41120, 41154, 41385, 41837, 42852, 43906, 44338, 44454, 44456, 44467, 44551, 44565, 44598, 45060, 45448, 45712, 45928, 46903, 47789], Type: <class 'list'>\n",
            "Group: (2, 1), Members: [769, 1969, 2862, 2880, 3119, 3590, 4140, 4284, 4287, 4425, 4499, 4658, 6603, 7213, 7385, 7509, 8067, 8384, 8750, 9427, 10241, 10245, 10732, 11268, 11405, 12082, 12457, 12876, 13117, 14838, 15109, 15483, 15829, 16532, 16534, 16742, 17225, 17615, 17618, 18030, 18129, 18244, 18682, 19534, 19898, 20230, 20994, 21324, 21433, 21507, 21781, 21919, 22709, 23105, 23124, 23602, 23723, 24250, 24702, 24840, 26194, 26282, 26318, 26983, 27845, 28080, 28169, 28358, 28427, 29329, 29473, 29879, 30490, 30508, 32002, 32053, 32133, 32591, 32894, 32922, 33555, 33924, 34176, 34619, 35069, 35415, 35583, 35784, 36563, 37204, 37211, 37346, 38299, 38400, 39771, 41074, 41876, 42476, 42687, 43053, 43451, 43482, 43616, 43985, 44931, 44976, 45813, 46128, 46923, 47567], Type: <class 'list'>\n",
            "Group: (1, 4), Members: [861, 1524, 1669, 1853, 2078, 2272, 2576, 3075, 3080, 3535, 3550, 3791, 4036, 4437, 4916, 5299, 6862, 6951, 7054, 7298, 7368, 8946, 8974, 8991, 9007, 9212, 9436, 9665, 9938, 10008, 10083, 10429, 11502, 11612, 12473, 13202, 13726, 13810, 14206, 14682, 14988, 15071, 15903, 16867, 16876, 17090, 17377, 17813, 18454, 18604, 18678, 18796, 19465, 19651, 20271, 20277, 20882, 21534, 21580, 22045, 22221, 24979, 25396, 26183, 27614, 27829, 28064, 28326, 28447, 28476, 28582, 28608, 28719, 28855, 30097, 30143, 30232, 30370, 31074, 31147, 31385, 32307, 32775, 32990, 33488, 33538, 33551, 34893, 35098, 35815, 35929, 36013, 36216, 36320, 36400, 36418, 36610, 36995, 38588, 38676, 38868, 39846, 40208, 40655, 41048, 41261, 41859, 41998, 42741, 42813, 42869, 43430, 43892, 44555, 45297, 46399, 46612, 46902, 47049, 47787], Type: <class 'list'>\n",
            "Group: (4, 2), Members: [1408, 2221, 2235, 2809, 2914, 2978, 3665, 3746, 3839, 3853, 4532, 4923, 5088, 6306, 6961, 7132, 7343, 7709, 8374, 8407, 9097, 9567, 9888, 10093, 10738, 10894, 12998, 13022, 13621, 13899, 13932, 14875, 15026, 15138, 15952, 15972, 16196, 16587, 16834, 16895, 18615, 18953, 19271, 19386, 19478, 19780, 20081, 20233, 20254, 20667, 20699, 20734, 20764, 20991, 21771, 21878, 22803, 23038, 23065, 23391, 24506, 24934, 25030, 26829, 26935, 27281, 27519, 27799, 27808, 28147, 28259, 28426, 28768, 28937, 29637, 29708, 29975, 30771, 31407, 32025, 32065, 32371, 32619, 32734, 32831, 32947, 33189, 33794, 34646, 34870, 36086, 36540, 36939, 37117, 37411, 37611, 37829, 38865, 39780, 40475, 41182, 41491, 41551, 42776, 43572, 44633, 45166, 46152, 46608, 46992, 47319], Type: <class 'list'>\n"
          ]
        }
      ],
      "source": [
        "for group, members in trainset.group_partition.items():\n",
        "    print(f\"Group: {group}, Members: {members}, Type: {type(members)}\")"
      ]
    },
    {
      "cell_type": "code",
      "execution_count": null,
      "metadata": {
        "colab": {
          "base_uri": "https://localhost:8080/",
          "height": 447
        },
        "id": "-HjPe6rd_8P9",
        "outputId": "605d624d-e220-4156-a4ad-f2515b5e59e9"
      },
      "outputs": [
        {
          "data": {
            "image/png": "[encoded data removed]",
            "text/plain": [
              "<Figure size 640x480 with 1 Axes>"
            ]
          },
          "metadata": {},
          "output_type": "display_data"
        }
      ],
      "source": [
        "sns.barplot(trainset_df, x=\"JTT\", y=\"forgettability_scores\", hue=\"class_type\")\n",
        "plt.title('Forgettability and JTT Measures for each Datapoint in the Training Set, for Minority and Majority Classes');\n",
        "plt.xlabel('JTT Classification');\n",
        "plt.ylabel('Forgettability Score');"
      ]
    },
    {
      "cell_type": "code",
      "execution_count": null,
      "metadata": {
        "id": "dR2cbja5-3kL"
      },
      "outputs": [],
      "source": [
        "# train_acc_history_lst = []\n",
        "# test_acc_history_lst = []\n",
        "\n",
        "# for epoch in range(num_epochs):\n",
        "#     train(model, train_loader, optimizer, criterion, device)\n",
        "#     train_acc, train_acc_history = evaluate(model, not_shuffle_train_loader, criterion, device)\n",
        "#     test_acc, test_acc_history = evaluate(model, test_loader, criterion, device)\n",
        "\n",
        "#     print(f\"Epoch {epoch+1}/{num_epochs}, Train Acc: {train_acc:.4f}, Test Acc: {test_acc:.4f}\")\n",
        "\n",
        "#     train_acc_history_lst.append(train_acc_history)\n",
        "#     test_acc_history_lst.append(test_acc_history)"
      ]
    },
    {
      "cell_type": "code",
      "execution_count": null,
      "metadata": {
        "id": "jITBLG3W-3ZC"
      },
      "outputs": [],
      "source": []
    },
    {
      "cell_type": "code",
      "execution_count": null,
      "metadata": {
        "colab": {
          "base_uri": "https://localhost:8080/",
          "height": 918
        },
        "id": "cyoTS8baCDxQ",
        "outputId": "a80d6526-b397-48c6-ccdc-ba73c7268bff"
      },
      "outputs": [
        {
          "name": "stdout",
          "output_type": "stream",
          "text": [
            "(2, 2) 0.008537013214828675\n",
            "(0, 0) 0.008942497660393053\n",
            "(4, 4) 0.00859854829704076\n",
            "(1, 1) 0.005772791634898159\n",
            "(3, 3) 0.007891891891891892\n",
            "(0, 3) 3.408450704225352\n",
            "(4, 0) 1.872\n",
            "(3, 1) 4.512820512820513\n",
            "(1, 2) 2.171171171171171\n",
            "(0, 2) 2.488372093023256\n",
            "(2, 0) 3.7131147540983607\n",
            "(0, 4) 1.4883720930232558\n",
            "(1, 3) 4.416666666666667\n",
            "(3, 2) 2.2205882352941178\n",
            "(0, 1) 3.4615384615384617\n",
            "(3, 0) 2.432\n",
            "(2, 4) 6.0\n",
            "(4, 1) 5.948717948717949\n",
            "(4, 3) 4.224806201550388\n",
            "(3, 4) 4.778688524590164\n",
            "(1, 0) 2.3149606299212597\n",
            "(2, 3) 3.432\n",
            "(2, 1) 3.2181818181818183\n",
            "(1, 4) 5.133333333333334\n",
            "(4, 2) 6.0\n"
          ]
        },
        {
          "data": {
            "image/png": "[encoded data removed]",
            "text/plain": [
              "<Figure size 640x480 with 2 Axes>"
            ]
          },
          "metadata": {},
          "output_type": "display_data"
        }
      ],
      "source": [
        "# DONE BY MIRELLE GEORGE\n",
        "train_acc_history_lst_transpose = np.array(train_acc_history_lst).T\n",
        "train_forgettability_scores=calculate_forgetability(train_acc_history_lst_transpose)\n",
        "train_forgettability_scores=np.array(train_forgettability_scores)\n",
        "\n",
        "rows = 5\n",
        "cols = 5\n",
        "\n",
        "data = []\n",
        "for _ in range(rows):\n",
        "    row = []\n",
        "    for _ in range(cols):\n",
        "        row.append(0)\n",
        "    data.append(row)\n",
        "\n",
        "for group, members in trainset.group_partition.items():\n",
        "    group_score = train_forgettability_scores[members]\n",
        "    gs_mean = group_score.mean()\n",
        "    data[group[1]][group[0]] = gs_mean\n",
        "    print(group,gs_mean)\n",
        "\n",
        "hm = sns.heatmap(data = data, xticklabels=True, yticklabels=True, annot = True, cmap=\"Reds\")\n",
        "hm.invert_yaxis()\n",
        "plt.xlabel('Spurious Class (colors)')\n",
        "plt.ylabel('Feature Class (numbers)')\n",
        "plt.title('Forgetability Score by Groups')\n",
        "plt.show()"
      ]
    },
    {
      "cell_type": "markdown",
      "metadata": {
        "id": "-ZUeCBeuGQXd"
      },
      "source": [
        "Robust Training with Forgetting-Based Upsampling"
      ]
    },
    {
      "cell_type": "code",
      "execution_count": null,
      "metadata": {
        "colab": {
          "base_uri": "https://localhost:8080/"
        },
        "id": "cEJsC_Z6GQGF",
        "outputId": "3d94d126-15d5-44ab-ef05-50be8d1e6e12"
      },
      "outputs": [
        {
          "name": "stdout",
          "output_type": "stream",
          "text": [
            "[0. 1. 2. 3. 4. 5. 6.]\n",
            "Group 1: 45740 data points\n",
            "Group 7: 1333 data points\n",
            "Group 2: 687 data points\n",
            "Group 3: 201 data points\n",
            "Group 4: 43 data points\n",
            "Group 0: 45740 data points\n",
            "Group 1: 2264 data points\n",
            "45740\n",
            "45740\n"
          ]
        }
      ],
      "source": [
        "\n",
        "def group_data(forgetability_scores, num_groups=6):\n",
        "    #groups data directly based on forgetting score\n",
        "\n",
        "    min_score = min(forgetability_scores)\n",
        "    max_score = max(forgetability_scores)\n",
        "    bins = np.linspace(min_score, max_score, num_groups + 1)\n",
        "    print(bins)\n",
        "\n",
        "    group_indices = np.digitize(forgetability_scores, bins)\n",
        "\n",
        "    grouped_data = {}\n",
        "    for i, score in enumerate(forgetability_scores):\n",
        "      group = group_indices[i]\n",
        "      if group not in grouped_data:\n",
        "          grouped_data[group] = []\n",
        "      grouped_data[group].append(i)\n",
        "    return grouped_data\n",
        "\n",
        "\n",
        "def group_data_binary(forgetability_scores, num_groups=2):\n",
        "    #group data into 2 based on if forgettability floored is 0 or not\n",
        "    grouped_data = {0: [], 1: []}\n",
        "    for i, score in enumerate(forgetability_scores):\n",
        "        if int(score) == 0:\n",
        "            grouped_data[0].append(i)\n",
        "        else:\n",
        "            grouped_data[1].append(i)\n",
        "    return grouped_data\n",
        "\n",
        "grouped_data_indices = group_data(train_forgettability_scores, num_groups=6)\n",
        "\n",
        "grouped_data_indices_binary = group_data_binary(train_forgettability_scores, num_groups=1)\n",
        "\n",
        "for group, members in grouped_data_indices.items():\n",
        "    print(f\"Group {group}: {len(members)} data points\")\n",
        "\n",
        "for group, members in grouped_data_indices_binary.items():\n",
        "    print(f\"Group {group}: {len(members)} data points\")\n",
        "\n",
        "# Create a new dataset with samples in each group, upsampled to the maximum group size\n",
        "len_max_group = max([len(grouped_data_indices[key]) for key in grouped_data_indices.keys()])\n",
        "indices = []\n",
        "for key in grouped_data_indices.keys():\n",
        "    group_reordered_indices = [grouped_data_indices[key][i] for i in torch.randperm(len(grouped_data_indices[key])).tolist()]\n",
        "    group_indices = []\n",
        "    while len(group_indices) < len_max_group:\n",
        "        group_indices.extend(group_reordered_indices)\n",
        "    indices.extend(group_indices[:len_max_group])\n",
        "print(len_max_group)\n",
        "\n",
        "len_max_group = max([len(grouped_data_indices_binary[key]) for key in grouped_data_indices_binary.keys()])\n",
        "indices_binary = []\n",
        "for key in grouped_data_indices_binary.keys():\n",
        "    group_reordered_indices_binary = [grouped_data_indices_binary[key][i] for i in torch.randperm(len(grouped_data_indices_binary[key])).tolist()]\n",
        "    group_indices_binary = []\n",
        "    while len(group_indices_binary) < len_max_group:\n",
        "        group_indices_binary.extend(group_reordered_indices_binary)\n",
        "    indices_binary.extend(group_indices_binary[:len_max_group])\n",
        "print(len_max_group)\n",
        "\n",
        "# Create the new data loaders with indices to upsample\n",
        "upsampled_train_loader = DataLoader(trainset, batch_size=64, shuffle=False, sampler=CustomIndicesSampler(indices=indices, shuffle=True))\n",
        "upsampled_train_loader_binary = DataLoader(trainset, batch_size=64, shuffle=False, sampler=CustomIndicesSampler(indices=indices_binary, shuffle=True))\n"
      ]
    },
    {
      "cell_type": "code",
      "execution_count": null,
      "metadata": {
        "colab": {
          "base_uri": "https://localhost:8080/"
        },
        "id": "Fa9EwD_6HnOT",
        "outputId": "16693e78-3b20-4d1c-a59c-c80179374b0f"
      },
      "outputs": [
        {
          "name": "stdout",
          "output_type": "stream",
          "text": [
            "Epoch 1/10, Train Acc: 0.8397, Test Acc: 0.6303\n",
            "Epoch 2/10, Train Acc: 0.9519, Test Acc: 0.7649\n",
            "Epoch 3/10, Train Acc: 0.9812, Test Acc: 0.7942\n",
            "Epoch 4/10, Train Acc: 0.9914, Test Acc: 0.8110\n",
            "Epoch 5/10, Train Acc: 0.9958, Test Acc: 0.8420\n",
            "Epoch 6/10, Train Acc: 0.9968, Test Acc: 0.8129\n",
            "Epoch 7/10, Train Acc: 0.9984, Test Acc: 0.8126\n",
            "Epoch 8/10, Train Acc: 0.9982, Test Acc: 0.8210\n",
            "Epoch 9/10, Train Acc: 0.9987, Test Acc: 0.8201\n",
            "Epoch 10/10, Train Acc: 0.9985, Test Acc: 0.8204\n"
          ]
        }
      ],
      "source": [
        "#reset train lists, model, optimizer\n",
        "train_acc_history_lst_forgetting = []\n",
        "test_acc_history_lst_forgetting = []\n",
        "\n",
        "model_forgetting = model_factory(\"mlp\", trainset[0][0].shape, trainset.num_classes).to(device)\n",
        "optimizer_forgetting = optim.SGD(model_forgetting.parameters(), lr=1e-3, momentum=0.9, nesterov=False)\n",
        "\n",
        "\n",
        "# Use upsampled_train_loader for training\n",
        "for epoch in range(num_epochs):\n",
        "    train(model_forgetting, upsampled_train_loader, optimizer_forgetting, criterion, device)\n",
        "    train_acc, train_acc_history = evaluate(model_forgetting, upsampled_train_loader, criterion, device)\n",
        "    test_acc, test_acc_history = evaluate(model_forgetting, test_loader, criterion, device)\n",
        "\n",
        "    print(f\"Epoch {epoch+1}/{num_epochs}, Train Acc: {train_acc:.4f}, Test Acc: {test_acc:.4f}\")\n",
        "\n",
        "    train_acc_history_lst_forgetting.append(train_acc_history)\n",
        "    test_acc_history_lst_forgetting.append(test_acc_history)"
      ]
    },
    {
      "cell_type": "code",
      "execution_count": null,
      "metadata": {
        "colab": {
          "base_uri": "https://localhost:8080/"
        },
        "id": "OpFfjDfQIidP",
        "outputId": "5dcd7568-e2fc-482c-a3f7-60f681c1d0b4"
      },
      "outputs": [
        {
          "name": "stdout",
          "output_type": "stream",
          "text": [
            "Epoch 1/10, Train Acc: 0.6186, Test Acc: 0.3906\n",
            "Epoch 2/10, Train Acc: 0.7604, Test Acc: 0.6496\n",
            "Epoch 3/10, Train Acc: 0.8301, Test Acc: 0.6937\n",
            "Epoch 4/10, Train Acc: 0.8972, Test Acc: 0.7660\n",
            "Epoch 5/10, Train Acc: 0.9405, Test Acc: 0.7780\n",
            "Epoch 6/10, Train Acc: 0.9627, Test Acc: 0.7924\n",
            "Epoch 7/10, Train Acc: 0.9781, Test Acc: 0.8005\n",
            "Epoch 8/10, Train Acc: 0.9897, Test Acc: 0.8230\n",
            "Epoch 9/10, Train Acc: 0.9884, Test Acc: 0.8270\n",
            "Epoch 10/10, Train Acc: 0.9917, Test Acc: 0.8145\n"
          ]
        }
      ],
      "source": [
        "#reset train lists, model, optimizer\n",
        "train_acc_history_lst_forgetting_bin = []\n",
        "test_acc_history_lst_forgetting_bin = []\n",
        "\n",
        "model_bin = model_factory(\"mlp\", trainset[0][0].shape, trainset.num_classes).to(device)\n",
        "optimizer_bin = optim.SGD(model_bin.parameters(), lr=1e-3, momentum=0.9, nesterov=False)\n",
        "\n",
        "\n",
        "# Use upsampled_train_loader for training\n",
        "for epoch in range(num_epochs):\n",
        "    train(model_bin, upsampled_train_loader_binary, optimizer_bin, criterion, device)\n",
        "    train_acc, train_acc_history = evaluate(model_bin, upsampled_train_loader_binary, criterion, device)\n",
        "    test_acc, test_acc_history = evaluate(model_bin, test_loader, criterion, device)\n",
        "\n",
        "    print(f\"Epoch {epoch+1}/{num_epochs}, Train Acc: {train_acc:.4f}, Test Acc: {test_acc:.4f}\")\n",
        "\n",
        "    train_acc_history_lst_forgetting_bin.append(train_acc_history)\n",
        "    test_acc_history_lst_forgetting_bin.append(test_acc_history)"
      ]
    },
    {
      "cell_type": "code",
      "execution_count": null,
      "metadata": {
        "colab": {
          "base_uri": "https://localhost:8080/"
        },
        "id": "276JngzpIo_X",
        "outputId": "c4a83f6c-40b0-415e-fd7c-d4c0775ac4b2"
      },
      "outputs": [
        {
          "name": "stderr",
          "output_type": "stream",
          "text": [
            "/usr/local/lib/python3.10/dist-packages/torch/utils/data/dataloader.py:617: UserWarning: This DataLoader will create 4 worker processes in total. Our suggested max number of worker in current system is 2, which is smaller than what this DataLoader is going to create. Please be aware that excessive worker creation might get DataLoader running slow or even freeze, lower the worker number to avoid potential slowness/freeze if necessary.\n",
            "  warnings.warn(\n",
            "Epoch 0:   2%|▏         | 14/751 [00:00<00:14, 52.15batch/s, accuracy=70.3125%, loss=1.4] "
          ]
        },
        {
          "name": "stdout",
          "output_type": "stream",
          "text": [
            " | Epoch 0 | Loss: 1.6315945386886597 | Accuracy: 7.8125%\n",
            " | Epoch 0 | Loss: 1.629549264907837 | Accuracy: 12.5%\n",
            " | Epoch 0 | Loss: 1.6245113611221313 | Accuracy: 15.625%\n",
            " | Epoch 0 | Loss: 1.6299986839294434 | Accuracy: 9.375%\n",
            " | Epoch 0 | Loss: 1.5896592140197754 | Accuracy: 23.4375%\n",
            " | Epoch 0 | Loss: 1.6047457456588745 | Accuracy: 17.1875%\n",
            " | Epoch 0 | Loss: 1.6085692644119263 | Accuracy: 17.1875%\n",
            " | Epoch 0 | Loss: 1.5802440643310547 | Accuracy: 26.5625%\n",
            " | Epoch 0 | Loss: 1.5801992416381836 | Accuracy: 21.875%\n",
            " | Epoch 0 | Loss: 1.5854880809783936 | Accuracy: 26.5625%\n",
            " | Epoch 0 | Loss: 1.585250735282898 | Accuracy: 31.25%\n",
            " | Epoch 0 | Loss: 1.5484070777893066 | Accuracy: 40.625%\n",
            " | Epoch 0 | Loss: 1.5557129383087158 | Accuracy: 40.625%\n",
            " | Epoch 0 | Loss: 1.54139244556427 | Accuracy: 53.125%\n",
            " | Epoch 0 | Loss: 1.53076171875 | Accuracy: 51.5625%\n",
            " | Epoch 0 | Loss: 1.5188159942626953 | Accuracy: 50.0%\n",
            " | Epoch 0 | Loss: 1.507048487663269 | Accuracy: 59.375%\n",
            " | Epoch 0 | Loss: 1.5101118087768555 | Accuracy: 54.6875%\n",
            " | Epoch 0 | Loss: 1.4878175258636475 | Accuracy: 60.9375%\n",
            " | Epoch 0 | Loss: 1.4849268198013306 | Accuracy: 57.8125%\n",
            " | Epoch 0 | Loss: 1.4562643766403198 | Accuracy: 65.625%\n",
            " | Epoch 0 | Loss: 1.455657720565796 | Accuracy: 62.5%\n",
            " | Epoch 0 | Loss: 1.4521219730377197 | Accuracy: 65.625%\n",
            " | Epoch 0 | Loss: 1.4469316005706787 | Accuracy: 64.0625%\n",
            " | Epoch 0 | Loss: 1.4118098020553589 | Accuracy: 76.5625%\n",
            " | Epoch 0 | Loss: 1.4105783700942993 | Accuracy: 75.0%\n",
            " | Epoch 0 | Loss: 1.396544337272644 | Accuracy: 67.1875%\n",
            " | Epoch 0 | Loss: 1.391800045967102 | Accuracy: 73.4375%\n",
            " | Epoch 0 | Loss: 1.4019345045089722 | Accuracy: 70.3125%\n"
          ]
        },
        {
          "name": "stderr",
          "output_type": "stream",
          "text": [
            "Epoch 0:   6%|▌         | 45/751 [00:00<00:06, 104.83batch/s, accuracy=95.3125%, loss=0.893]"
          ]
        },
        {
          "name": "stdout",
          "output_type": "stream",
          "text": [
            " | Epoch 0 | Loss: 1.3463844060897827 | Accuracy: 76.5625%\n",
            " | Epoch 0 | Loss: 1.3776124715805054 | Accuracy: 59.375%\n",
            " | Epoch 0 | Loss: 1.359575867652893 | Accuracy: 70.3125%\n",
            " | Epoch 0 | Loss: 1.321457862854004 | Accuracy: 73.4375%\n",
            " | Epoch 0 | Loss: 1.345926284790039 | Accuracy: 67.1875%\n",
            " | Epoch 0 | Loss: 1.269155740737915 | Accuracy: 81.25%\n",
            " | Epoch 0 | Loss: 1.2507795095443726 | Accuracy: 78.125%\n",
            " | Epoch 0 | Loss: 1.3049582242965698 | Accuracy: 68.75%\n",
            " | Epoch 0 | Loss: 1.271910309791565 | Accuracy: 73.4375%\n",
            " | Epoch 0 | Loss: 1.2520831823349 | Accuracy: 75.0%\n",
            " | Epoch 0 | Loss: 1.2355180978775024 | Accuracy: 81.25%\n",
            " | Epoch 0 | Loss: 1.2286298274993896 | Accuracy: 79.6875%\n",
            " | Epoch 0 | Loss: 1.2602888345718384 | Accuracy: 79.6875%\n",
            " | Epoch 0 | Loss: 1.2511307001113892 | Accuracy: 78.125%\n",
            " | Epoch 0 | Loss: 1.2543935775756836 | Accuracy: 71.875%\n",
            " | Epoch 0 | Loss: 1.1342687606811523 | Accuracy: 93.75%\n",
            " | Epoch 0 | Loss: 1.1436896324157715 | Accuracy: 89.0625%\n",
            " | Epoch 0 | Loss: 1.1591503620147705 | Accuracy: 90.625%\n",
            " | Epoch 0 | Loss: 1.1598048210144043 | Accuracy: 81.25%\n",
            " | Epoch 0 | Loss: 1.0668896436691284 | Accuracy: 90.625%\n",
            " | Epoch 0 | Loss: 1.090004801750183 | Accuracy: 92.1875%\n",
            " | Epoch 0 | Loss: 1.0931540727615356 | Accuracy: 95.3125%\n",
            " | Epoch 0 | Loss: 1.070419430732727 | Accuracy: 89.0625%\n",
            " | Epoch 0 | Loss: 1.0330908298492432 | Accuracy: 90.625%\n",
            " | Epoch 0 | Loss: 1.0282942056655884 | Accuracy: 92.1875%\n",
            " | Epoch 0 | Loss: 1.0158008337020874 | Accuracy: 90.625%\n",
            " | Epoch 0 | Loss: 1.0243918895721436 | Accuracy: 90.625%\n",
            " | Epoch 0 | Loss: 0.9562785625457764 | Accuracy: 95.3125%\n",
            " | Epoch 0 | Loss: 0.9466977119445801 | Accuracy: 95.3125%\n",
            " | Epoch 0 | Loss: 1.0305616855621338 | Accuracy: 92.1875%\n"
          ]
        },
        {
          "name": "stderr",
          "output_type": "stream",
          "text": [
            "Epoch 0:  10%|█         | 78/751 [00:00<00:05, 132.74batch/s, accuracy=96.875%, loss=0.513] "
          ]
        },
        {
          "name": "stdout",
          "output_type": "stream",
          "text": [
            " | Epoch 0 | Loss: 0.8934930562973022 | Accuracy: 95.3125%\n",
            " | Epoch 0 | Loss: 1.0101760625839233 | Accuracy: 82.8125%\n",
            " | Epoch 0 | Loss: 0.8880354166030884 | Accuracy: 96.875%\n",
            " | Epoch 0 | Loss: 0.9555026292800903 | Accuracy: 95.3125%\n",
            " | Epoch 0 | Loss: 0.8314305543899536 | Accuracy: 98.4375%\n",
            " | Epoch 0 | Loss: 0.8690094351768494 | Accuracy: 95.3125%\n",
            " | Epoch 0 | Loss: 0.869179368019104 | Accuracy: 93.75%\n",
            " | Epoch 0 | Loss: 0.877598762512207 | Accuracy: 93.75%\n",
            " | Epoch 0 | Loss: 0.7368341088294983 | Accuracy: 100.0%\n",
            " | Epoch 0 | Loss: 0.8651109933853149 | Accuracy: 89.0625%\n",
            " | Epoch 0 | Loss: 0.837452232837677 | Accuracy: 90.625%\n",
            " | Epoch 0 | Loss: 0.7230631709098816 | Accuracy: 95.3125%\n",
            " | Epoch 0 | Loss: 0.777238130569458 | Accuracy: 92.1875%\n",
            " | Epoch 0 | Loss: 0.7431835532188416 | Accuracy: 92.1875%\n",
            " | Epoch 0 | Loss: 0.7393561601638794 | Accuracy: 95.3125%\n",
            " | Epoch 0 | Loss: 0.6792259812355042 | Accuracy: 96.875%\n",
            " | Epoch 0 | Loss: 0.6532847881317139 | Accuracy: 96.875%\n",
            " | Epoch 0 | Loss: 0.6156854033470154 | Accuracy: 98.4375%\n",
            " | Epoch 0 | Loss: 0.6834647059440613 | Accuracy: 92.1875%\n",
            " | Epoch 0 | Loss: 0.6810997724533081 | Accuracy: 92.1875%\n",
            " | Epoch 0 | Loss: 0.7247021794319153 | Accuracy: 93.75%\n",
            " | Epoch 0 | Loss: 0.6429871916770935 | Accuracy: 95.3125%\n",
            " | Epoch 0 | Loss: 0.6823970675468445 | Accuracy: 92.1875%\n",
            " | Epoch 0 | Loss: 0.6451268196105957 | Accuracy: 92.1875%\n",
            " | Epoch 0 | Loss: 0.5798326134681702 | Accuracy: 96.875%\n",
            " | Epoch 0 | Loss: 0.6240307688713074 | Accuracy: 93.75%\n",
            " | Epoch 0 | Loss: 0.5794246792793274 | Accuracy: 95.3125%\n",
            " | Epoch 0 | Loss: 0.5873623490333557 | Accuracy: 95.3125%\n",
            " | Epoch 0 | Loss: 0.5311490297317505 | Accuracy: 93.75%\n",
            " | Epoch 0 | Loss: 0.5300111174583435 | Accuracy: 95.3125%\n",
            " | Epoch 0 | Loss: 0.5955687165260315 | Accuracy: 92.1875%\n",
            " | Epoch 0 | Loss: 0.5125991702079773 | Accuracy: 96.875%\n"
          ]
        },
        {
          "name": "stderr",
          "output_type": "stream",
          "text": [
            "Epoch 0:  15%|█▍        | 111/751 [00:01<00:04, 144.48batch/s, accuracy=95.3125%, loss=0.362]"
          ]
        },
        {
          "name": "stdout",
          "output_type": "stream",
          "text": [
            " | Epoch 0 | Loss: 0.44205793738365173 | Accuracy: 93.75%\n",
            " | Epoch 0 | Loss: 0.5077492594718933 | Accuracy: 95.3125%\n",
            " | Epoch 0 | Loss: 0.5958635807037354 | Accuracy: 92.1875%\n",
            " | Epoch 0 | Loss: 0.4116199314594269 | Accuracy: 96.875%\n",
            " | Epoch 0 | Loss: 0.35608384013175964 | Accuracy: 100.0%\n",
            " | Epoch 0 | Loss: 0.5002611875534058 | Accuracy: 93.75%\n",
            " | Epoch 0 | Loss: 0.35848018527030945 | Accuracy: 98.4375%\n",
            " | Epoch 0 | Loss: 0.5243564248085022 | Accuracy: 93.75%\n",
            " | Epoch 0 | Loss: 0.39114779233932495 | Accuracy: 95.3125%\n",
            " | Epoch 0 | Loss: 0.38423803448677063 | Accuracy: 98.4375%\n",
            " | Epoch 0 | Loss: 0.5105670690536499 | Accuracy: 92.1875%\n",
            " | Epoch 0 | Loss: 0.46621185541152954 | Accuracy: 95.3125%\n",
            " | Epoch 0 | Loss: 0.40563535690307617 | Accuracy: 95.3125%\n",
            " | Epoch 0 | Loss: 0.3345537483692169 | Accuracy: 98.4375%\n",
            " | Epoch 0 | Loss: 0.3311484456062317 | Accuracy: 98.4375%\n",
            " | Epoch 0 | Loss: 0.35682159662246704 | Accuracy: 96.875%\n",
            " | Epoch 0 | Loss: 0.4099058210849762 | Accuracy: 96.875%\n",
            " | Epoch 0 | Loss: 0.3928118348121643 | Accuracy: 96.875%\n",
            " | Epoch 0 | Loss: 0.5651525855064392 | Accuracy: 90.625%\n",
            " | Epoch 0 | Loss: 0.47672411799430847 | Accuracy: 93.75%\n",
            " | Epoch 0 | Loss: 0.4022192060947418 | Accuracy: 95.3125%\n",
            " | Epoch 0 | Loss: 0.3456249237060547 | Accuracy: 95.3125%\n",
            " | Epoch 0 | Loss: 0.4090152084827423 | Accuracy: 95.3125%\n",
            " | Epoch 0 | Loss: 0.4497215747833252 | Accuracy: 92.1875%\n",
            " | Epoch 0 | Loss: 0.5051677227020264 | Accuracy: 93.75%\n",
            " | Epoch 0 | Loss: 0.4390515089035034 | Accuracy: 92.1875%\n",
            " | Epoch 0 | Loss: 0.2882183790206909 | Accuracy: 96.875%\n",
            " | Epoch 0 | Loss: 0.5141172409057617 | Accuracy: 90.625%\n",
            " | Epoch 0 | Loss: 0.45631730556488037 | Accuracy: 92.1875%\n",
            " | Epoch 0 | Loss: 0.4678429365158081 | Accuracy: 90.625%\n"
          ]
        },
        {
          "name": "stderr",
          "output_type": "stream",
          "text": [
            "Epoch 0:  19%|█▉        | 141/751 [00:01<00:04, 133.96batch/s, accuracy=95.3125%, loss=0.308]"
          ]
        },
        {
          "name": "stdout",
          "output_type": "stream",
          "text": [
            " | Epoch 0 | Loss: 0.36206352710723877 | Accuracy: 95.3125%\n",
            " | Epoch 0 | Loss: 0.3739266097545624 | Accuracy: 95.3125%\n",
            " | Epoch 0 | Loss: 0.3708580434322357 | Accuracy: 95.3125%\n",
            " | Epoch 0 | Loss: 0.17145347595214844 | Accuracy: 100.0%\n",
            " | Epoch 0 | Loss: 0.33549103140830994 | Accuracy: 96.875%\n",
            " | Epoch 0 | Loss: 0.3511311709880829 | Accuracy: 95.3125%\n",
            " | Epoch 0 | Loss: 0.2844600975513458 | Accuracy: 96.875%\n",
            " | Epoch 0 | Loss: 0.19831568002700806 | Accuracy: 98.4375%\n",
            " | Epoch 0 | Loss: 0.30255329608917236 | Accuracy: 95.3125%\n",
            " | Epoch 0 | Loss: 0.3776867091655731 | Accuracy: 95.3125%\n",
            " | Epoch 0 | Loss: 0.3871042728424072 | Accuracy: 95.3125%\n",
            " | Epoch 0 | Loss: 0.4925876259803772 | Accuracy: 90.625%\n",
            " | Epoch 0 | Loss: 0.510008692741394 | Accuracy: 90.625%\n",
            " | Epoch 0 | Loss: 0.295093834400177 | Accuracy: 95.3125%\n",
            " | Epoch 0 | Loss: 0.4329497218132019 | Accuracy: 92.1875%\n",
            " | Epoch 0 | Loss: 0.35021042823791504 | Accuracy: 95.3125%\n",
            " | Epoch 0 | Loss: 0.30015963315963745 | Accuracy: 93.75%\n",
            " | Epoch 0 | Loss: 0.18830285966396332 | Accuracy: 98.4375%\n",
            " | Epoch 0 | Loss: 0.6507601141929626 | Accuracy: 90.625%\n",
            " | Epoch 0 | Loss: 0.5333217978477478 | Accuracy: 90.625%\n",
            " | Epoch 0 | Loss: 0.25802546739578247 | Accuracy: 95.3125%\n",
            " | Epoch 0 | Loss: 0.493307501077652 | Accuracy: 92.1875%\n",
            " | Epoch 0 | Loss: 0.3037388324737549 | Accuracy: 95.3125%\n",
            " | Epoch 0 | Loss: 0.3080219328403473 | Accuracy: 95.3125%\n"
          ]
        },
        {
          "name": "stderr",
          "output_type": "stream",
          "text": [
            "Epoch 0:  23%|██▎       | 169/751 [00:01<00:04, 128.41batch/s, accuracy=93.75%, loss=0.429]  "
          ]
        },
        {
          "name": "stdout",
          "output_type": "stream",
          "text": [
            " | Epoch 0 | Loss: 0.3069009780883789 | Accuracy: 95.3125%\n",
            " | Epoch 0 | Loss: 0.49533823132514954 | Accuracy: 90.625%\n",
            " | Epoch 0 | Loss: 0.5567346811294556 | Accuracy: 89.0625%\n",
            " | Epoch 0 | Loss: 0.3672042489051819 | Accuracy: 95.3125%\n",
            " | Epoch 0 | Loss: 0.1806347519159317 | Accuracy: 98.4375%\n",
            " | Epoch 0 | Loss: 0.44640427827835083 | Accuracy: 93.75%\n",
            " | Epoch 0 | Loss: 0.35716065764427185 | Accuracy: 95.3125%\n",
            " | Epoch 0 | Loss: 0.12995533645153046 | Accuracy: 100.0%\n",
            " | Epoch 0 | Loss: 0.39693495631217957 | Accuracy: 92.1875%\n",
            " | Epoch 0 | Loss: 0.27340859174728394 | Accuracy: 96.875%\n",
            " | Epoch 0 | Loss: 0.2532135844230652 | Accuracy: 98.4375%\n",
            " | Epoch 0 | Loss: 0.4249154031276703 | Accuracy: 93.75%\n",
            " | Epoch 0 | Loss: 0.2994046211242676 | Accuracy: 96.875%\n",
            " | Epoch 0 | Loss: 0.2573736906051636 | Accuracy: 96.875%\n",
            " | Epoch 0 | Loss: 0.32683423161506653 | Accuracy: 95.3125%\n",
            " | Epoch 0 | Loss: 0.2629600763320923 | Accuracy: 96.875%\n",
            " | Epoch 0 | Loss: 0.3216278851032257 | Accuracy: 93.75%\n",
            " | Epoch 0 | Loss: 0.29280921816825867 | Accuracy: 95.3125%\n",
            " | Epoch 0 | Loss: 0.1644463837146759 | Accuracy: 98.4375%\n",
            " | Epoch 0 | Loss: 0.21410612761974335 | Accuracy: 98.4375%\n",
            " | Epoch 0 | Loss: 0.38197341561317444 | Accuracy: 93.75%\n",
            " | Epoch 0 | Loss: 0.3908495306968689 | Accuracy: 93.75%\n",
            " | Epoch 0 | Loss: 0.19603098928928375 | Accuracy: 98.4375%\n",
            " | Epoch 0 | Loss: 0.35145190358161926 | Accuracy: 95.3125%\n",
            " | Epoch 0 | Loss: 0.5496643781661987 | Accuracy: 90.625%\n",
            " | Epoch 0 | Loss: 0.32569101452827454 | Accuracy: 95.3125%\n"
          ]
        },
        {
          "name": "stderr",
          "output_type": "stream",
          "text": [
            "Epoch 0:  24%|██▍       | 182/751 [00:01<00:04, 123.10batch/s, accuracy=90.625%, loss=0.569] "
          ]
        },
        {
          "name": "stdout",
          "output_type": "stream",
          "text": [
            " | Epoch 0 | Loss: 0.4290551245212555 | Accuracy: 93.75%\n",
            " | Epoch 0 | Loss: 0.15869495272636414 | Accuracy: 98.4375%\n",
            " | Epoch 0 | Loss: 0.1550661325454712 | Accuracy: 98.4375%\n",
            " | Epoch 0 | Loss: 0.4964935779571533 | Accuracy: 92.1875%\n",
            " | Epoch 0 | Loss: 0.7472652196884155 | Accuracy: 89.0625%\n",
            " | Epoch 0 | Loss: 0.38373059034347534 | Accuracy: 95.3125%\n",
            " | Epoch 0 | Loss: 0.34983497858047485 | Accuracy: 95.3125%\n",
            " | Epoch 0 | Loss: 0.3428754210472107 | Accuracy: 95.3125%\n",
            " | Epoch 0 | Loss: 0.32664841413497925 | Accuracy: 95.3125%\n",
            " | Epoch 0 | Loss: 0.20074477791786194 | Accuracy: 98.4375%\n",
            " | Epoch 0 | Loss: 0.28733548521995544 | Accuracy: 95.3125%\n",
            " | Epoch 0 | Loss: 0.31289854645729065 | Accuracy: 96.875%\n",
            " | Epoch 0 | Loss: 0.42211946845054626 | Accuracy: 92.1875%\n",
            " | Epoch 0 | Loss: 0.4201101064682007 | Accuracy: 93.75%\n",
            " | Epoch 0 | Loss: 0.5069685578346252 | Accuracy: 90.625%\n",
            " | Epoch 0 | Loss: 0.28999271988868713 | Accuracy: 96.875%\n",
            " | Epoch 0 | Loss: 0.6520329117774963 | Accuracy: 89.0625%\n",
            " | Epoch 0 | Loss: 0.33170023560523987 | Accuracy: 96.875%\n",
            " | Epoch 0 | Loss: 0.5542135238647461 | Accuracy: 89.0625%\n",
            " | Epoch 0 | Loss: 0.2745755612850189 | Accuracy: 96.875%\n",
            " | Epoch 0 | Loss: 0.40377962589263916 | Accuracy: 92.1875%\n",
            " | Epoch 0 | Loss: 0.3578302264213562 | Accuracy: 92.1875%\n",
            " | Epoch 0 | Loss: 0.5685297250747681 | Accuracy: 90.625%\n"
          ]
        },
        {
          "name": "stderr",
          "output_type": "stream",
          "text": [
            "Epoch 0:  28%|██▊       | 208/751 [00:01<00:04, 118.80batch/s, accuracy=96.875%, loss=0.228] "
          ]
        },
        {
          "name": "stdout",
          "output_type": "stream",
          "text": [
            " | Epoch 0 | Loss: 0.46016925573349 | Accuracy: 95.3125%\n",
            " | Epoch 0 | Loss: 0.45499059557914734 | Accuracy: 93.75%\n",
            " | Epoch 0 | Loss: 0.5205575823783875 | Accuracy: 90.625%\n",
            " | Epoch 0 | Loss: 0.19018305838108063 | Accuracy: 96.875%\n",
            " | Epoch 0 | Loss: 0.2793450951576233 | Accuracy: 95.3125%\n",
            " | Epoch 0 | Loss: 0.164164200425148 | Accuracy: 98.4375%\n",
            " | Epoch 0 | Loss: 0.3140244483947754 | Accuracy: 95.3125%\n",
            " | Epoch 0 | Loss: 0.6144602298736572 | Accuracy: 89.0625%\n",
            " | Epoch 0 | Loss: 0.1868308186531067 | Accuracy: 96.875%\n",
            " | Epoch 0 | Loss: 0.4727291464805603 | Accuracy: 92.1875%\n",
            " | Epoch 0 | Loss: 0.327180951833725 | Accuracy: 95.3125%\n",
            " | Epoch 0 | Loss: 0.32851889729499817 | Accuracy: 93.75%\n",
            " | Epoch 0 | Loss: 0.5111480355262756 | Accuracy: 92.1875%\n",
            " | Epoch 0 | Loss: 0.3230033814907074 | Accuracy: 95.3125%\n",
            " | Epoch 0 | Loss: 0.20004305243492126 | Accuracy: 96.875%\n",
            " | Epoch 0 | Loss: 0.29376712441444397 | Accuracy: 95.3125%\n",
            " | Epoch 0 | Loss: 0.19645799696445465 | Accuracy: 96.875%\n",
            " | Epoch 0 | Loss: 0.2546280026435852 | Accuracy: 95.3125%\n",
            " | Epoch 0 | Loss: 0.3312426507472992 | Accuracy: 95.3125%\n",
            " | Epoch 0 | Loss: 0.09038271009922028 | Accuracy: 100.0%\n",
            " | Epoch 0 | Loss: 0.5116068124771118 | Accuracy: 93.75%\n",
            " | Epoch 0 | Loss: 0.19672279059886932 | Accuracy: 98.4375%\n",
            " | Epoch 0 | Loss: 0.20911554992198944 | Accuracy: 98.4375%\n",
            " | Epoch 0 | Loss: 0.22774797677993774 | Accuracy: 96.875%\n"
          ]
        },
        {
          "name": "stderr",
          "output_type": "stream",
          "text": [
            "Epoch 0:  31%|███       | 232/751 [00:02<00:04, 118.42batch/s, accuracy=92.1875%, loss=0.56] "
          ]
        },
        {
          "name": "stdout",
          "output_type": "stream",
          "text": [
            " | Epoch 0 | Loss: 0.34807977080345154 | Accuracy: 95.3125%\n",
            " | Epoch 0 | Loss: 0.17745737731456757 | Accuracy: 98.4375%\n",
            " | Epoch 0 | Loss: 0.4297451078891754 | Accuracy: 93.75%\n",
            " | Epoch 0 | Loss: 0.4199300706386566 | Accuracy: 92.1875%\n",
            " | Epoch 0 | Loss: 0.20514865219593048 | Accuracy: 96.875%\n",
            " | Epoch 0 | Loss: 0.2483946681022644 | Accuracy: 96.875%\n",
            " | Epoch 0 | Loss: 0.5207512974739075 | Accuracy: 92.1875%\n",
            " | Epoch 0 | Loss: 0.2024879902601242 | Accuracy: 96.875%\n",
            " | Epoch 0 | Loss: 0.15669146180152893 | Accuracy: 96.875%\n",
            " | Epoch 0 | Loss: 0.12307639420032501 | Accuracy: 98.4375%\n",
            " | Epoch 0 | Loss: 0.2568717300891876 | Accuracy: 96.875%\n",
            " | Epoch 0 | Loss: 0.36962583661079407 | Accuracy: 93.75%\n",
            " | Epoch 0 | Loss: 0.20494312047958374 | Accuracy: 96.875%\n",
            " | Epoch 0 | Loss: 0.32342132925987244 | Accuracy: 95.3125%\n",
            " | Epoch 0 | Loss: 0.238119438290596 | Accuracy: 96.875%\n",
            " | Epoch 0 | Loss: 0.2742455005645752 | Accuracy: 95.3125%\n",
            " | Epoch 0 | Loss: 0.36484280228614807 | Accuracy: 95.3125%\n",
            " | Epoch 0 | Loss: 0.26895537972450256 | Accuracy: 95.3125%\n",
            " | Epoch 0 | Loss: 0.6609427332878113 | Accuracy: 89.0625%\n",
            " | Epoch 0 | Loss: 0.48065000772476196 | Accuracy: 90.625%\n",
            " | Epoch 0 | Loss: 0.2107408344745636 | Accuracy: 96.875%\n",
            " | Epoch 0 | Loss: 0.5473958849906921 | Accuracy: 89.0625%\n",
            " | Epoch 0 | Loss: 0.36810192465782166 | Accuracy: 95.3125%\n",
            " | Epoch 0 | Loss: 0.4632415771484375 | Accuracy: 92.1875%\n",
            " | Epoch 0 | Loss: 0.5597605109214783 | Accuracy: 92.1875%\n"
          ]
        },
        {
          "name": "stderr",
          "output_type": "stream",
          "text": [
            "Epoch 0:  34%|███▍      | 257/751 [00:02<00:04, 120.09batch/s, accuracy=96.875%, loss=0.266] "
          ]
        },
        {
          "name": "stdout",
          "output_type": "stream",
          "text": [
            " | Epoch 0 | Loss: 0.4727732241153717 | Accuracy: 90.625%\n",
            " | Epoch 0 | Loss: 0.24322150647640228 | Accuracy: 95.3125%\n",
            " | Epoch 0 | Loss: 0.32246601581573486 | Accuracy: 93.75%\n",
            " | Epoch 0 | Loss: 0.18791364133358002 | Accuracy: 98.4375%\n",
            " | Epoch 0 | Loss: 0.23553955554962158 | Accuracy: 95.3125%\n",
            " | Epoch 0 | Loss: 0.19288262724876404 | Accuracy: 98.4375%\n",
            " | Epoch 0 | Loss: 0.21316854655742645 | Accuracy: 96.875%\n",
            " | Epoch 0 | Loss: 0.14345911145210266 | Accuracy: 98.4375%\n",
            " | Epoch 0 | Loss: 0.4300116002559662 | Accuracy: 90.625%\n",
            " | Epoch 0 | Loss: 0.311786949634552 | Accuracy: 95.3125%\n",
            " | Epoch 0 | Loss: 0.4038647711277008 | Accuracy: 92.1875%\n",
            " | Epoch 0 | Loss: 0.08596676588058472 | Accuracy: 100.0%\n",
            " | Epoch 0 | Loss: 0.3250373303890228 | Accuracy: 95.3125%\n",
            " | Epoch 0 | Loss: 0.3728821873664856 | Accuracy: 93.75%\n",
            " | Epoch 0 | Loss: 0.7103991508483887 | Accuracy: 90.625%\n",
            " | Epoch 0 | Loss: 0.16170255839824677 | Accuracy: 98.4375%\n",
            " | Epoch 0 | Loss: 0.4022476375102997 | Accuracy: 95.3125%\n",
            " | Epoch 0 | Loss: 0.25857073068618774 | Accuracy: 96.875%\n",
            " | Epoch 0 | Loss: 0.4371517300605774 | Accuracy: 92.1875%\n",
            " | Epoch 0 | Loss: 0.6197211146354675 | Accuracy: 87.5%\n",
            " | Epoch 0 | Loss: 0.4058857858181 | Accuracy: 93.75%\n",
            " | Epoch 0 | Loss: 0.3305765986442566 | Accuracy: 93.75%\n",
            " | Epoch 0 | Loss: 0.3065418601036072 | Accuracy: 95.3125%\n",
            " | Epoch 0 | Loss: 0.13079962134361267 | Accuracy: 98.4375%\n",
            " | Epoch 0 | Loss: 0.14715692400932312 | Accuracy: 98.4375%\n",
            " | Epoch 0 | Loss: 0.26577791571617126 | Accuracy: 96.875%\n"
          ]
        },
        {
          "name": "stderr",
          "output_type": "stream",
          "text": [
            "Epoch 0:  38%|███▊      | 283/751 [00:02<00:03, 119.56batch/s, accuracy=96.875%, loss=0.257]"
          ]
        },
        {
          "name": "stdout",
          "output_type": "stream",
          "text": [
            " | Epoch 0 | Loss: 0.5144423246383667 | Accuracy: 92.1875%\n",
            " | Epoch 0 | Loss: 0.4469478726387024 | Accuracy: 92.1875%\n",
            " | Epoch 0 | Loss: 0.29039955139160156 | Accuracy: 95.3125%\n",
            " | Epoch 0 | Loss: 0.5756286382675171 | Accuracy: 90.625%\n",
            " | Epoch 0 | Loss: 0.1908113956451416 | Accuracy: 98.4375%\n",
            " | Epoch 0 | Loss: 0.38072752952575684 | Accuracy: 93.75%\n",
            " | Epoch 0 | Loss: 0.2028452306985855 | Accuracy: 98.4375%\n",
            " | Epoch 0 | Loss: 0.3136158883571625 | Accuracy: 95.3125%\n",
            " | Epoch 0 | Loss: 0.5683562159538269 | Accuracy: 92.1875%\n",
            " | Epoch 0 | Loss: 0.38354232907295227 | Accuracy: 92.1875%\n",
            " | Epoch 0 | Loss: 0.2839660942554474 | Accuracy: 95.3125%\n",
            " | Epoch 0 | Loss: 0.3832066059112549 | Accuracy: 93.75%\n",
            " | Epoch 0 | Loss: 0.22457455098628998 | Accuracy: 98.4375%\n",
            " | Epoch 0 | Loss: 0.3959762752056122 | Accuracy: 93.75%\n",
            " | Epoch 0 | Loss: 0.32005390524864197 | Accuracy: 95.3125%\n",
            " | Epoch 0 | Loss: 0.31076112389564514 | Accuracy: 95.3125%\n",
            " | Epoch 0 | Loss: 0.43058305978775024 | Accuracy: 92.1875%\n",
            " | Epoch 0 | Loss: 0.24145489931106567 | Accuracy: 95.3125%\n",
            " | Epoch 0 | Loss: 0.3147948086261749 | Accuracy: 95.3125%\n",
            " | Epoch 0 | Loss: 0.24587838351726532 | Accuracy: 96.875%\n",
            " | Epoch 0 | Loss: 0.21368394792079926 | Accuracy: 96.875%\n",
            " | Epoch 0 | Loss: 0.5171345472335815 | Accuracy: 93.75%\n",
            " | Epoch 0 | Loss: 0.3747921586036682 | Accuracy: 93.75%\n",
            " | Epoch 0 | Loss: 0.25697314739227295 | Accuracy: 96.875%\n"
          ]
        },
        {
          "name": "stderr",
          "output_type": "stream",
          "text": [
            "Epoch 0:  41%|████      | 307/751 [00:02<00:03, 117.75batch/s, accuracy=98.4375%, loss=0.142]"
          ]
        },
        {
          "name": "stdout",
          "output_type": "stream",
          "text": [
            " | Epoch 0 | Loss: 0.47903212904930115 | Accuracy: 90.625%\n",
            " | Epoch 0 | Loss: 0.6292901039123535 | Accuracy: 89.0625%\n",
            " | Epoch 0 | Loss: 0.3771900236606598 | Accuracy: 93.75%\n",
            " | Epoch 0 | Loss: 0.3124105632305145 | Accuracy: 93.75%\n",
            " | Epoch 0 | Loss: 0.2739329934120178 | Accuracy: 95.3125%\n",
            " | Epoch 0 | Loss: 0.19155603647232056 | Accuracy: 98.4375%\n",
            " | Epoch 0 | Loss: 0.19925275444984436 | Accuracy: 96.875%\n",
            " | Epoch 0 | Loss: 0.21481145918369293 | Accuracy: 96.875%\n",
            " | Epoch 0 | Loss: 0.259814590215683 | Accuracy: 95.3125%\n",
            " | Epoch 0 | Loss: 0.2886822521686554 | Accuracy: 95.3125%\n",
            " | Epoch 0 | Loss: 0.3066396713256836 | Accuracy: 96.875%\n",
            " | Epoch 0 | Loss: 0.3337004780769348 | Accuracy: 95.3125%\n",
            " | Epoch 0 | Loss: 0.41897401213645935 | Accuracy: 93.75%\n",
            " | Epoch 0 | Loss: 0.45960697531700134 | Accuracy: 92.1875%\n",
            " | Epoch 0 | Loss: 0.33973419666290283 | Accuracy: 92.1875%\n",
            " | Epoch 0 | Loss: 0.4741210639476776 | Accuracy: 92.1875%\n",
            " | Epoch 0 | Loss: 0.3139362037181854 | Accuracy: 93.75%\n",
            " | Epoch 0 | Loss: 0.5224987864494324 | Accuracy: 92.1875%\n",
            " | Epoch 0 | Loss: 0.19057291746139526 | Accuracy: 98.4375%\n",
            " | Epoch 0 | Loss: 0.3819594383239746 | Accuracy: 92.1875%\n",
            " | Epoch 0 | Loss: 0.1215319111943245 | Accuracy: 98.4375%\n",
            " | Epoch 0 | Loss: 0.1784941554069519 | Accuracy: 98.4375%\n",
            " | Epoch 0 | Loss: 0.13916043937206268 | Accuracy: 98.4375%\n",
            " | Epoch 0 | Loss: 0.14230313897132874 | Accuracy: 98.4375%\n"
          ]
        },
        {
          "name": "stderr",
          "output_type": "stream",
          "text": [
            "Epoch 0:  44%|████▍     | 332/751 [00:02<00:03, 119.27batch/s, accuracy=96.875%, loss=0.283]"
          ]
        },
        {
          "name": "stdout",
          "output_type": "stream",
          "text": [
            " | Epoch 0 | Loss: 0.3319854736328125 | Accuracy: 93.75%\n",
            " | Epoch 0 | Loss: 0.3799839913845062 | Accuracy: 93.75%\n",
            " | Epoch 0 | Loss: 0.2941148579120636 | Accuracy: 95.3125%\n",
            " | Epoch 0 | Loss: 0.4011990427970886 | Accuracy: 92.1875%\n",
            " | Epoch 0 | Loss: 0.34197884798049927 | Accuracy: 95.3125%\n",
            " | Epoch 0 | Loss: 0.3802611529827118 | Accuracy: 93.75%\n",
            " | Epoch 0 | Loss: 0.3812185525894165 | Accuracy: 93.75%\n",
            " | Epoch 0 | Loss: 0.1904621422290802 | Accuracy: 96.875%\n",
            " | Epoch 0 | Loss: 0.34938299655914307 | Accuracy: 95.3125%\n",
            " | Epoch 0 | Loss: 0.31681838631629944 | Accuracy: 95.3125%\n",
            " | Epoch 0 | Loss: 0.42407655715942383 | Accuracy: 92.1875%\n",
            " | Epoch 0 | Loss: 0.5620613098144531 | Accuracy: 90.625%\n",
            " | Epoch 0 | Loss: 0.27742981910705566 | Accuracy: 93.75%\n",
            " | Epoch 0 | Loss: 0.3071616590023041 | Accuracy: 95.3125%\n",
            " | Epoch 0 | Loss: 0.2476576566696167 | Accuracy: 96.875%\n",
            " | Epoch 0 | Loss: 0.5683250427246094 | Accuracy: 92.1875%\n",
            " | Epoch 0 | Loss: 0.32171979546546936 | Accuracy: 95.3125%\n",
            " | Epoch 0 | Loss: 0.4124048054218292 | Accuracy: 93.75%\n",
            " | Epoch 0 | Loss: 0.2979574203491211 | Accuracy: 93.75%\n",
            " | Epoch 0 | Loss: 0.5731576681137085 | Accuracy: 89.0625%\n",
            " | Epoch 0 | Loss: 0.0879392921924591 | Accuracy: 100.0%\n",
            " | Epoch 0 | Loss: 0.25515761971473694 | Accuracy: 96.875%\n",
            " | Epoch 0 | Loss: 0.3163936138153076 | Accuracy: 93.75%\n",
            " | Epoch 0 | Loss: 0.3062684237957001 | Accuracy: 95.3125%\n",
            " | Epoch 0 | Loss: 0.603441059589386 | Accuracy: 87.5%\n",
            " | Epoch 0 | Loss: 0.2305561602115631 | Accuracy: 96.875%\n",
            " | Epoch 0 | Loss: 0.20335978269577026 | Accuracy: 96.875%\n",
            " | Epoch 0 | Loss: 0.28329944610595703 | Accuracy: 96.875%\n"
          ]
        },
        {
          "name": "stderr",
          "output_type": "stream",
          "text": [
            "Epoch 0:  48%|████▊     | 362/751 [00:03<00:02, 131.77batch/s, accuracy=92.1875%, loss=0.468]"
          ]
        },
        {
          "name": "stdout",
          "output_type": "stream",
          "text": [
            " | Epoch 0 | Loss: 0.20282603800296783 | Accuracy: 96.875%\n",
            " | Epoch 0 | Loss: 0.2179538607597351 | Accuracy: 96.875%\n",
            " | Epoch 0 | Loss: 0.4597589373588562 | Accuracy: 92.1875%\n",
            " | Epoch 0 | Loss: 0.2719738185405731 | Accuracy: 95.3125%\n",
            " | Epoch 0 | Loss: 0.4559767544269562 | Accuracy: 90.625%\n",
            " | Epoch 0 | Loss: 0.3856561481952667 | Accuracy: 93.75%\n",
            " | Epoch 0 | Loss: 0.3031470477581024 | Accuracy: 95.3125%\n",
            " | Epoch 0 | Loss: 0.5116695165634155 | Accuracy: 90.625%\n",
            " | Epoch 0 | Loss: 0.18514423072338104 | Accuracy: 96.875%\n",
            " | Epoch 0 | Loss: 0.12520435452461243 | Accuracy: 98.4375%\n",
            " | Epoch 0 | Loss: 0.2544948160648346 | Accuracy: 95.3125%\n",
            " | Epoch 0 | Loss: 0.25949761271476746 | Accuracy: 95.3125%\n",
            " | Epoch 0 | Loss: 0.18362459540367126 | Accuracy: 96.875%\n",
            " | Epoch 0 | Loss: 0.21555659174919128 | Accuracy: 96.875%\n",
            " | Epoch 0 | Loss: 0.22285008430480957 | Accuracy: 96.875%\n",
            " | Epoch 0 | Loss: 0.2913796007633209 | Accuracy: 96.875%\n",
            " | Epoch 0 | Loss: 0.2873082458972931 | Accuracy: 95.3125%\n",
            " | Epoch 0 | Loss: 0.4003118574619293 | Accuracy: 93.75%\n",
            " | Epoch 0 | Loss: 0.35646069049835205 | Accuracy: 93.75%\n",
            " | Epoch 0 | Loss: 0.31280478835105896 | Accuracy: 93.75%\n",
            " | Epoch 0 | Loss: 0.2087870091199875 | Accuracy: 96.875%\n",
            " | Epoch 0 | Loss: 0.42331448197364807 | Accuracy: 93.75%\n",
            " | Epoch 0 | Loss: 0.2350539267063141 | Accuracy: 96.875%\n",
            " | Epoch 0 | Loss: 0.22619804739952087 | Accuracy: 96.875%\n",
            " | Epoch 0 | Loss: 0.18930691480636597 | Accuracy: 96.875%\n",
            " | Epoch 0 | Loss: 0.286509245634079 | Accuracy: 96.875%\n",
            " | Epoch 0 | Loss: 0.6216621398925781 | Accuracy: 89.0625%\n",
            " | Epoch 0 | Loss: 0.468464195728302 | Accuracy: 92.1875%\n"
          ]
        },
        {
          "name": "stderr",
          "output_type": "stream",
          "text": [
            "Epoch 0:  52%|█████▏    | 389/751 [00:03<00:02, 128.19batch/s, accuracy=93.75%, loss=0.361]"
          ]
        },
        {
          "name": "stdout",
          "output_type": "stream",
          "text": [
            " | Epoch 0 | Loss: 0.25892069935798645 | Accuracy: 96.875%\n",
            " | Epoch 0 | Loss: 0.1526353359222412 | Accuracy: 98.4375%\n",
            " | Epoch 0 | Loss: 0.300010085105896 | Accuracy: 95.3125%\n",
            " | Epoch 0 | Loss: 0.3024211525917053 | Accuracy: 96.875%\n",
            " | Epoch 0 | Loss: 0.45494359731674194 | Accuracy: 92.1875%\n",
            " | Epoch 0 | Loss: 0.1342676728963852 | Accuracy: 98.4375%\n",
            " | Epoch 0 | Loss: 0.21984632313251495 | Accuracy: 96.875%\n",
            " | Epoch 0 | Loss: 0.40395423769950867 | Accuracy: 92.1875%\n",
            " | Epoch 0 | Loss: 0.3461988568305969 | Accuracy: 95.3125%\n",
            " | Epoch 0 | Loss: 0.22211436927318573 | Accuracy: 96.875%\n",
            " | Epoch 0 | Loss: 0.31431135535240173 | Accuracy: 95.3125%\n",
            " | Epoch 0 | Loss: 0.32643288373947144 | Accuracy: 93.75%\n",
            " | Epoch 0 | Loss: 0.3771374225616455 | Accuracy: 93.75%\n",
            " | Epoch 0 | Loss: 0.3255302309989929 | Accuracy: 95.3125%\n",
            " | Epoch 0 | Loss: 0.30596470832824707 | Accuracy: 93.75%\n",
            " | Epoch 0 | Loss: 0.39274951815605164 | Accuracy: 93.75%\n",
            " | Epoch 0 | Loss: 0.3122168779373169 | Accuracy: 93.75%\n",
            " | Epoch 0 | Loss: 0.3843560218811035 | Accuracy: 92.1875%\n",
            " | Epoch 0 | Loss: 0.14133495092391968 | Accuracy: 98.4375%\n",
            " | Epoch 0 | Loss: 0.5340783596038818 | Accuracy: 90.625%\n",
            " | Epoch 0 | Loss: 0.2942470908164978 | Accuracy: 95.3125%\n",
            " | Epoch 0 | Loss: 0.2841032147407532 | Accuracy: 95.3125%\n",
            " | Epoch 0 | Loss: 0.3151533603668213 | Accuracy: 95.3125%\n",
            " | Epoch 0 | Loss: 0.20039419829845428 | Accuracy: 96.875%\n",
            " | Epoch 0 | Loss: 0.36128148436546326 | Accuracy: 93.75%\n"
          ]
        },
        {
          "name": "stderr",
          "output_type": "stream",
          "text": [
            "Epoch 0:  56%|█████▌    | 417/751 [00:03<00:02, 130.87batch/s, accuracy=98.4375%, loss=0.153]"
          ]
        },
        {
          "name": "stdout",
          "output_type": "stream",
          "text": [
            " | Epoch 0 | Loss: 0.2585548758506775 | Accuracy: 95.3125%\n",
            " | Epoch 0 | Loss: 0.19338662922382355 | Accuracy: 96.875%\n",
            " | Epoch 0 | Loss: 0.16319069266319275 | Accuracy: 98.4375%\n",
            " | Epoch 0 | Loss: 0.5288051962852478 | Accuracy: 90.625%\n",
            " | Epoch 0 | Loss: 0.2507810890674591 | Accuracy: 95.3125%\n",
            " | Epoch 0 | Loss: 0.34900906682014465 | Accuracy: 92.1875%\n",
            " | Epoch 0 | Loss: 0.666209876537323 | Accuracy: 87.5%\n",
            " | Epoch 0 | Loss: 0.36764368414878845 | Accuracy: 95.3125%\n",
            " | Epoch 0 | Loss: 0.37255144119262695 | Accuracy: 93.75%\n",
            " | Epoch 0 | Loss: 0.21889081597328186 | Accuracy: 95.3125%\n",
            " | Epoch 0 | Loss: 0.16194936633110046 | Accuracy: 98.4375%\n",
            " | Epoch 0 | Loss: 0.32682156562805176 | Accuracy: 93.75%\n",
            " | Epoch 0 | Loss: 0.5122309923171997 | Accuracy: 92.1875%\n",
            " | Epoch 0 | Loss: 0.27550366520881653 | Accuracy: 96.875%\n",
            " | Epoch 0 | Loss: 0.3466169536113739 | Accuracy: 95.3125%\n",
            " | Epoch 0 | Loss: 0.44477909803390503 | Accuracy: 93.75%\n",
            " | Epoch 0 | Loss: 0.3221387565135956 | Accuracy: 96.875%\n",
            " | Epoch 0 | Loss: 0.3793799579143524 | Accuracy: 93.75%\n",
            " | Epoch 0 | Loss: 0.17025963962078094 | Accuracy: 98.4375%\n",
            " | Epoch 0 | Loss: 0.3882932662963867 | Accuracy: 93.75%\n",
            " | Epoch 0 | Loss: 0.20039574801921844 | Accuracy: 96.875%\n",
            " | Epoch 0 | Loss: 0.4000096321105957 | Accuracy: 92.1875%\n",
            " | Epoch 0 | Loss: 0.1764162927865982 | Accuracy: 98.4375%\n",
            " | Epoch 0 | Loss: 0.3298685550689697 | Accuracy: 93.75%\n",
            " | Epoch 0 | Loss: 0.2464648336172104 | Accuracy: 95.3125%\n",
            " | Epoch 0 | Loss: 0.324605256319046 | Accuracy: 95.3125%\n",
            " | Epoch 0 | Loss: 0.540820837020874 | Accuracy: 92.1875%\n",
            " | Epoch 0 | Loss: 0.27422353625297546 | Accuracy: 95.3125%\n",
            " | Epoch 0 | Loss: 0.1527160406112671 | Accuracy: 98.4375%\n"
          ]
        },
        {
          "name": "stderr",
          "output_type": "stream",
          "text": [
            "Epoch 0:  60%|█████▉    | 447/751 [00:03<00:02, 134.44batch/s, accuracy=95.3125%, loss=0.245]"
          ]
        },
        {
          "name": "stdout",
          "output_type": "stream",
          "text": [
            " | Epoch 0 | Loss: 0.24849750101566315 | Accuracy: 96.875%\n",
            " | Epoch 0 | Loss: 0.25391513109207153 | Accuracy: 96.875%\n",
            " | Epoch 0 | Loss: 0.174063578248024 | Accuracy: 98.4375%\n",
            " | Epoch 0 | Loss: 0.5039777755737305 | Accuracy: 92.1875%\n",
            " | Epoch 0 | Loss: 0.3627830743789673 | Accuracy: 93.75%\n",
            " | Epoch 0 | Loss: 0.36372458934783936 | Accuracy: 95.3125%\n",
            " | Epoch 0 | Loss: 0.4514065384864807 | Accuracy: 92.1875%\n",
            " | Epoch 0 | Loss: 0.33020445704460144 | Accuracy: 95.3125%\n",
            " | Epoch 0 | Loss: 0.41368937492370605 | Accuracy: 93.75%\n",
            " | Epoch 0 | Loss: 0.23993489146232605 | Accuracy: 96.875%\n",
            " | Epoch 0 | Loss: 0.19604390859603882 | Accuracy: 98.4375%\n",
            " | Epoch 0 | Loss: 0.4200563430786133 | Accuracy: 92.1875%\n",
            " | Epoch 0 | Loss: 0.5424458980560303 | Accuracy: 92.1875%\n",
            " | Epoch 0 | Loss: 0.5015579462051392 | Accuracy: 92.1875%\n",
            " | Epoch 0 | Loss: 0.19257095456123352 | Accuracy: 96.875%\n",
            " | Epoch 0 | Loss: 0.12678101658821106 | Accuracy: 98.4375%\n",
            " | Epoch 0 | Loss: 0.269148588180542 | Accuracy: 95.3125%\n",
            " | Epoch 0 | Loss: 0.44733238220214844 | Accuracy: 92.1875%\n",
            " | Epoch 0 | Loss: 0.3441396951675415 | Accuracy: 93.75%\n",
            " | Epoch 0 | Loss: 0.18161946535110474 | Accuracy: 98.4375%\n",
            " | Epoch 0 | Loss: 0.08062411099672318 | Accuracy: 100.0%\n",
            " | Epoch 0 | Loss: 0.37485942244529724 | Accuracy: 92.1875%\n",
            " | Epoch 0 | Loss: 0.19392769038677216 | Accuracy: 96.875%\n",
            " | Epoch 0 | Loss: 0.4234819710254669 | Accuracy: 92.1875%\n",
            " | Epoch 0 | Loss: 0.3367455303668976 | Accuracy: 92.1875%\n",
            " | Epoch 0 | Loss: 0.4762401878833771 | Accuracy: 92.1875%\n",
            " | Epoch 0 | Loss: 0.507582426071167 | Accuracy: 90.625%\n",
            " | Epoch 0 | Loss: 0.24483150243759155 | Accuracy: 95.3125%\n"
          ]
        },
        {
          "name": "stderr",
          "output_type": "stream",
          "text": [
            "Epoch 0:  64%|██████▍   | 479/751 [00:03<00:01, 142.66batch/s, accuracy=92.1875%, loss=0.345]"
          ]
        },
        {
          "name": "stdout",
          "output_type": "stream",
          "text": [
            " | Epoch 0 | Loss: 0.2477770298719406 | Accuracy: 96.875%\n",
            " | Epoch 0 | Loss: 0.2497360110282898 | Accuracy: 95.3125%\n",
            " | Epoch 0 | Loss: 0.2401365488767624 | Accuracy: 96.875%\n",
            " | Epoch 0 | Loss: 0.16304367780685425 | Accuracy: 98.4375%\n",
            " | Epoch 0 | Loss: 0.20762287080287933 | Accuracy: 95.3125%\n",
            " | Epoch 0 | Loss: 0.1871177852153778 | Accuracy: 96.875%\n",
            " | Epoch 0 | Loss: 0.546992838382721 | Accuracy: 90.625%\n",
            " | Epoch 0 | Loss: 0.3995765149593353 | Accuracy: 93.75%\n",
            " | Epoch 0 | Loss: 0.5802367925643921 | Accuracy: 92.1875%\n",
            " | Epoch 0 | Loss: 0.25792765617370605 | Accuracy: 96.875%\n",
            " | Epoch 0 | Loss: 0.5080472826957703 | Accuracy: 90.625%\n",
            " | Epoch 0 | Loss: 0.49653390049934387 | Accuracy: 90.625%\n",
            " | Epoch 0 | Loss: 0.410004198551178 | Accuracy: 93.75%\n",
            " | Epoch 0 | Loss: 0.35365134477615356 | Accuracy: 93.75%\n",
            " | Epoch 0 | Loss: 0.5478339195251465 | Accuracy: 92.1875%\n",
            " | Epoch 0 | Loss: 0.22476805746555328 | Accuracy: 96.875%\n",
            " | Epoch 0 | Loss: 0.23580986261367798 | Accuracy: 96.875%\n",
            " | Epoch 0 | Loss: 0.23752713203430176 | Accuracy: 96.875%\n",
            " | Epoch 0 | Loss: 0.3017558753490448 | Accuracy: 95.3125%\n",
            " | Epoch 0 | Loss: 0.39002725481987 | Accuracy: 93.75%\n",
            " | Epoch 0 | Loss: 0.2606898248195648 | Accuracy: 96.875%\n",
            " | Epoch 0 | Loss: 0.22730405628681183 | Accuracy: 95.3125%\n",
            " | Epoch 0 | Loss: 0.48323529958724976 | Accuracy: 90.625%\n",
            " | Epoch 0 | Loss: 0.39076849818229675 | Accuracy: 93.75%\n",
            " | Epoch 0 | Loss: 0.35569900274276733 | Accuracy: 93.75%\n",
            " | Epoch 0 | Loss: 0.4549807012081146 | Accuracy: 92.1875%\n",
            " | Epoch 0 | Loss: 0.24944624304771423 | Accuracy: 93.75%\n",
            " | Epoch 0 | Loss: 0.24937474727630615 | Accuracy: 96.875%\n",
            " | Epoch 0 | Loss: 0.45116740465164185 | Accuracy: 92.1875%\n",
            " | Epoch 0 | Loss: 0.344897598028183 | Accuracy: 92.1875%\n"
          ]
        },
        {
          "name": "stderr",
          "output_type": "stream",
          "text": [
            "Epoch 0:  66%|██████▌   | 494/751 [00:04<00:01, 129.29batch/s, accuracy=96.875%, loss=0.188] "
          ]
        },
        {
          "name": "stdout",
          "output_type": "stream",
          "text": [
            " | Epoch 0 | Loss: 0.18064552545547485 | Accuracy: 96.875%\n",
            " | Epoch 0 | Loss: 0.3618236184120178 | Accuracy: 92.1875%\n",
            " | Epoch 0 | Loss: 0.14632867276668549 | Accuracy: 96.875%\n",
            " | Epoch 0 | Loss: 0.36554259061813354 | Accuracy: 93.75%\n",
            " | Epoch 0 | Loss: 0.35123369097709656 | Accuracy: 95.3125%\n",
            " | Epoch 0 | Loss: 0.31015273928642273 | Accuracy: 95.3125%\n",
            " | Epoch 0 | Loss: 0.21852773427963257 | Accuracy: 96.875%\n",
            " | Epoch 0 | Loss: 0.19485071301460266 | Accuracy: 96.875%\n",
            " | Epoch 0 | Loss: 0.17869889736175537 | Accuracy: 96.875%\n",
            " | Epoch 0 | Loss: 0.17204301059246063 | Accuracy: 98.4375%\n",
            " | Epoch 0 | Loss: 0.2802460193634033 | Accuracy: 95.3125%\n",
            " | Epoch 0 | Loss: 0.5135382413864136 | Accuracy: 92.1875%\n",
            " | Epoch 0 | Loss: 0.407123327255249 | Accuracy: 93.75%\n",
            " | Epoch 0 | Loss: 0.14821377396583557 | Accuracy: 98.4375%\n",
            " | Epoch 0 | Loss: 0.33535635471343994 | Accuracy: 93.75%\n",
            " | Epoch 0 | Loss: 0.1960749477148056 | Accuracy: 96.875%\n",
            " | Epoch 0 | Loss: 0.11934711784124374 | Accuracy: 98.4375%\n",
            " | Epoch 0 | Loss: 0.266644150018692 | Accuracy: 95.3125%\n",
            " | Epoch 0 | Loss: 0.14373916387557983 | Accuracy: 98.4375%\n",
            " | Epoch 0 | Loss: 0.18769820034503937 | Accuracy: 96.875%\n"
          ]
        },
        {
          "name": "stderr",
          "output_type": "stream",
          "text": [
            "Epoch 0:  69%|██████▉   | 520/751 [00:04<00:02, 111.45batch/s, accuracy=95.3125%, loss=0.328]"
          ]
        },
        {
          "name": "stdout",
          "output_type": "stream",
          "text": [
            " | Epoch 0 | Loss: 0.13192027807235718 | Accuracy: 98.4375%\n",
            " | Epoch 0 | Loss: 0.07992295175790787 | Accuracy: 100.0%\n",
            " | Epoch 0 | Loss: 0.1393454223871231 | Accuracy: 98.4375%\n",
            " | Epoch 0 | Loss: 0.1926429271697998 | Accuracy: 96.875%\n",
            " | Epoch 0 | Loss: 0.467829167842865 | Accuracy: 92.1875%\n",
            " | Epoch 0 | Loss: 0.38994699716567993 | Accuracy: 93.75%\n",
            " | Epoch 0 | Loss: 0.30116066336631775 | Accuracy: 96.875%\n",
            " | Epoch 0 | Loss: 0.41173967719078064 | Accuracy: 92.1875%\n",
            " | Epoch 0 | Loss: 0.1163143739104271 | Accuracy: 98.4375%\n",
            " | Epoch 0 | Loss: 0.3365190327167511 | Accuracy: 93.75%\n",
            " | Epoch 0 | Loss: 0.23671621084213257 | Accuracy: 96.875%\n",
            " | Epoch 0 | Loss: 0.5174052715301514 | Accuracy: 90.625%\n",
            " | Epoch 0 | Loss: 0.4577009379863739 | Accuracy: 92.1875%\n",
            " | Epoch 0 | Loss: 0.5733287930488586 | Accuracy: 89.0625%\n",
            " | Epoch 0 | Loss: 0.32091885805130005 | Accuracy: 93.75%\n",
            " | Epoch 0 | Loss: 0.15912602841854095 | Accuracy: 96.875%\n",
            " | Epoch 0 | Loss: 0.29371756315231323 | Accuracy: 95.3125%\n",
            " | Epoch 0 | Loss: 0.4751490354537964 | Accuracy: 90.625%\n",
            " | Epoch 0 | Loss: 0.35642164945602417 | Accuracy: 93.75%\n",
            " | Epoch 0 | Loss: 0.32792699337005615 | Accuracy: 95.3125%\n"
          ]
        },
        {
          "name": "stderr",
          "output_type": "stream",
          "text": [
            "Epoch 0:  72%|███████▏  | 544/751 [00:04<00:01, 106.90batch/s, accuracy=96.875%, loss=0.192]"
          ]
        },
        {
          "name": "stdout",
          "output_type": "stream",
          "text": [
            " | Epoch 0 | Loss: 0.35046735405921936 | Accuracy: 93.75%\n",
            " | Epoch 0 | Loss: 0.30218377709388733 | Accuracy: 93.75%\n",
            " | Epoch 0 | Loss: 0.2840685248374939 | Accuracy: 95.3125%\n",
            " | Epoch 0 | Loss: 0.37012019753456116 | Accuracy: 93.75%\n",
            " | Epoch 0 | Loss: 0.23085062205791473 | Accuracy: 96.875%\n",
            " | Epoch 0 | Loss: 0.2947372794151306 | Accuracy: 95.3125%\n",
            " | Epoch 0 | Loss: 0.15347515046596527 | Accuracy: 98.4375%\n",
            " | Epoch 0 | Loss: 0.23871585726737976 | Accuracy: 95.3125%\n",
            " | Epoch 0 | Loss: 0.2690272629261017 | Accuracy: 95.3125%\n",
            " | Epoch 0 | Loss: 0.2618771195411682 | Accuracy: 95.3125%\n",
            " | Epoch 0 | Loss: 0.25465360283851624 | Accuracy: 95.3125%\n",
            " | Epoch 0 | Loss: 0.2545369267463684 | Accuracy: 95.3125%\n",
            " | Epoch 0 | Loss: 0.3093642294406891 | Accuracy: 93.75%\n",
            " | Epoch 0 | Loss: 0.4274439215660095 | Accuracy: 92.1875%\n",
            " | Epoch 0 | Loss: 0.2994448244571686 | Accuracy: 95.3125%\n",
            " | Epoch 0 | Loss: 0.2542770206928253 | Accuracy: 96.875%\n",
            " | Epoch 0 | Loss: 0.3293461203575134 | Accuracy: 95.3125%\n",
            " | Epoch 0 | Loss: 0.6268642544746399 | Accuracy: 89.0625%\n",
            " | Epoch 0 | Loss: 0.2747650742530823 | Accuracy: 95.3125%\n",
            " | Epoch 0 | Loss: 0.3032671809196472 | Accuracy: 95.3125%\n",
            " | Epoch 0 | Loss: 0.4003235399723053 | Accuracy: 92.1875%\n",
            " | Epoch 0 | Loss: 0.19182327389717102 | Accuracy: 96.875%\n"
          ]
        },
        {
          "name": "stderr",
          "output_type": "stream",
          "text": [
            "Epoch 0:  75%|███████▌  | 566/751 [00:04<00:01, 103.19batch/s, accuracy=98.4375%, loss=0.143]"
          ]
        },
        {
          "name": "stdout",
          "output_type": "stream",
          "text": [
            " | Epoch 0 | Loss: 0.31305885314941406 | Accuracy: 93.75%\n",
            " | Epoch 0 | Loss: 0.43277275562286377 | Accuracy: 92.1875%\n",
            " | Epoch 0 | Loss: 0.5146111249923706 | Accuracy: 92.1875%\n",
            " | Epoch 0 | Loss: 0.24680458009243011 | Accuracy: 96.875%\n",
            " | Epoch 0 | Loss: 0.37776947021484375 | Accuracy: 92.1875%\n",
            " | Epoch 0 | Loss: 0.49704408645629883 | Accuracy: 90.625%\n",
            " | Epoch 0 | Loss: 0.07139391452074051 | Accuracy: 100.0%\n",
            " | Epoch 0 | Loss: 0.11696892231702805 | Accuracy: 98.4375%\n",
            " | Epoch 0 | Loss: 0.42586782574653625 | Accuracy: 90.625%\n",
            " | Epoch 0 | Loss: 0.27442803978919983 | Accuracy: 95.3125%\n",
            " | Epoch 0 | Loss: 0.22949685156345367 | Accuracy: 96.875%\n",
            " | Epoch 0 | Loss: 0.3959106504917145 | Accuracy: 92.1875%\n",
            " | Epoch 0 | Loss: 0.2680782079696655 | Accuracy: 95.3125%\n",
            " | Epoch 0 | Loss: 0.14106079936027527 | Accuracy: 98.4375%\n",
            " | Epoch 0 | Loss: 0.16604328155517578 | Accuracy: 98.4375%\n",
            " | Epoch 0 | Loss: 0.18544937670230865 | Accuracy: 96.875%\n",
            " | Epoch 0 | Loss: 0.27214306592941284 | Accuracy: 95.3125%\n",
            " | Epoch 0 | Loss: 0.2689037621021271 | Accuracy: 95.3125%\n",
            " | Epoch 0 | Loss: 0.13498379290103912 | Accuracy: 98.4375%\n",
            " | Epoch 0 | Loss: 0.19579187035560608 | Accuracy: 96.875%\n",
            " | Epoch 0 | Loss: 0.14257755875587463 | Accuracy: 98.4375%\n"
          ]
        },
        {
          "name": "stderr",
          "output_type": "stream",
          "text": [
            "Epoch 0:  78%|███████▊  | 588/751 [00:04<00:01, 100.16batch/s, accuracy=95.3125%, loss=0.239]"
          ]
        },
        {
          "name": "stdout",
          "output_type": "stream",
          "text": [
            " | Epoch 0 | Loss: 0.6465492844581604 | Accuracy: 89.0625%\n",
            " | Epoch 0 | Loss: 0.3369990587234497 | Accuracy: 93.75%\n",
            " | Epoch 0 | Loss: 0.30210018157958984 | Accuracy: 95.3125%\n",
            " | Epoch 0 | Loss: 0.28338849544525146 | Accuracy: 95.3125%\n",
            " | Epoch 0 | Loss: 0.36045041680336 | Accuracy: 95.3125%\n",
            " | Epoch 0 | Loss: 0.31610867381095886 | Accuracy: 93.75%\n",
            " | Epoch 0 | Loss: 0.22657570242881775 | Accuracy: 96.875%\n",
            " | Epoch 0 | Loss: 0.37015360593795776 | Accuracy: 92.1875%\n",
            " | Epoch 0 | Loss: 0.25372716784477234 | Accuracy: 96.875%\n",
            " | Epoch 0 | Loss: 0.45594799518585205 | Accuracy: 92.1875%\n",
            " | Epoch 0 | Loss: 0.33776748180389404 | Accuracy: 93.75%\n",
            " | Epoch 0 | Loss: 0.16827082633972168 | Accuracy: 96.875%\n",
            " | Epoch 0 | Loss: 0.42157217860221863 | Accuracy: 92.1875%\n",
            " | Epoch 0 | Loss: 0.21512365341186523 | Accuracy: 95.3125%\n",
            " | Epoch 0 | Loss: 0.3947486877441406 | Accuracy: 93.75%\n",
            " | Epoch 0 | Loss: 0.2901321351528168 | Accuracy: 95.3125%\n",
            " | Epoch 0 | Loss: 0.14009249210357666 | Accuracy: 98.4375%\n",
            " | Epoch 0 | Loss: 0.49491211771965027 | Accuracy: 90.625%\n",
            " | Epoch 0 | Loss: 0.2743075489997864 | Accuracy: 95.3125%\n",
            " | Epoch 0 | Loss: 0.23861204087734222 | Accuracy: 95.3125%\n"
          ]
        },
        {
          "name": "stderr",
          "output_type": "stream",
          "text": [
            "Epoch 0:  80%|███████▉  | 599/751 [00:05<00:01, 99.69batch/s, accuracy=92.1875%, loss=0.385]"
          ]
        },
        {
          "name": "stdout",
          "output_type": "stream",
          "text": [
            " | Epoch 0 | Loss: 0.14510802924633026 | Accuracy: 98.4375%\n",
            " | Epoch 0 | Loss: 0.21590293943881989 | Accuracy: 96.875%\n",
            " | Epoch 0 | Loss: 0.27621257305145264 | Accuracy: 95.3125%\n",
            " | Epoch 0 | Loss: 0.279889315366745 | Accuracy: 95.3125%\n",
            " | Epoch 0 | Loss: 0.3190775513648987 | Accuracy: 95.3125%\n",
            " | Epoch 0 | Loss: 0.16915126144886017 | Accuracy: 96.875%\n",
            " | Epoch 0 | Loss: 0.21792174875736237 | Accuracy: 96.875%\n",
            " | Epoch 0 | Loss: 0.35800209641456604 | Accuracy: 93.75%\n",
            " | Epoch 0 | Loss: 0.1040886640548706 | Accuracy: 98.4375%\n",
            " | Epoch 0 | Loss: 0.16687992215156555 | Accuracy: 96.875%\n",
            " | Epoch 0 | Loss: 0.28872233629226685 | Accuracy: 95.3125%\n",
            " | Epoch 0 | Loss: 0.2776135206222534 | Accuracy: 95.3125%\n",
            " | Epoch 0 | Loss: 0.23253771662712097 | Accuracy: 96.875%\n",
            " | Epoch 0 | Loss: 0.2306654304265976 | Accuracy: 96.875%\n",
            " | Epoch 0 | Loss: 0.14544998109340668 | Accuracy: 98.4375%\n",
            " | Epoch 0 | Loss: 0.21081170439720154 | Accuracy: 95.3125%\n",
            " | Epoch 0 | Loss: 0.46189501881599426 | Accuracy: 92.1875%\n",
            " | Epoch 0 | Loss: 0.07652945816516876 | Accuracy: 100.0%\n",
            " | Epoch 0 | Loss: 0.5299602150917053 | Accuracy: 90.625%\n",
            " | Epoch 0 | Loss: 0.3821486234664917 | Accuracy: 90.625%\n",
            " | Epoch 0 | Loss: 0.21812190115451813 | Accuracy: 96.875%\n"
          ]
        },
        {
          "name": "stderr",
          "output_type": "stream",
          "text": [
            "Epoch 0:  83%|████████▎ | 621/751 [00:05<00:01, 102.96batch/s, accuracy=96.875%, loss=0.228] "
          ]
        },
        {
          "name": "stdout",
          "output_type": "stream",
          "text": [
            " | Epoch 0 | Loss: 0.3850168287754059 | Accuracy: 92.1875%\n",
            " | Epoch 0 | Loss: 0.22228850424289703 | Accuracy: 96.875%\n",
            " | Epoch 0 | Loss: 0.22942081093788147 | Accuracy: 96.875%\n",
            " | Epoch 0 | Loss: 0.2781696319580078 | Accuracy: 95.3125%\n",
            " | Epoch 0 | Loss: 0.24442903697490692 | Accuracy: 95.3125%\n",
            " | Epoch 0 | Loss: 0.3037607669830322 | Accuracy: 93.75%\n",
            " | Epoch 0 | Loss: 0.1574297547340393 | Accuracy: 98.4375%\n",
            " | Epoch 0 | Loss: 0.30090710520744324 | Accuracy: 95.3125%\n",
            " | Epoch 0 | Loss: 0.12353824079036713 | Accuracy: 98.4375%\n",
            " | Epoch 0 | Loss: 0.32874807715415955 | Accuracy: 93.75%\n",
            " | Epoch 0 | Loss: 0.16719360649585724 | Accuracy: 96.875%\n",
            " | Epoch 0 | Loss: 0.20270034670829773 | Accuracy: 96.875%\n",
            " | Epoch 0 | Loss: 0.29500091075897217 | Accuracy: 95.3125%\n",
            " | Epoch 0 | Loss: 0.38739362359046936 | Accuracy: 92.1875%\n",
            " | Epoch 0 | Loss: 0.3353032171726227 | Accuracy: 95.3125%\n",
            " | Epoch 0 | Loss: 0.1482442170381546 | Accuracy: 98.4375%\n",
            " | Epoch 0 | Loss: 0.13855381309986115 | Accuracy: 98.4375%\n",
            " | Epoch 0 | Loss: 0.4131508767604828 | Accuracy: 93.75%\n",
            " | Epoch 0 | Loss: 0.5289096236228943 | Accuracy: 89.0625%\n",
            " | Epoch 0 | Loss: 0.22444398701190948 | Accuracy: 95.3125%\n",
            " | Epoch 0 | Loss: 0.2283923625946045 | Accuracy: 96.875%\n"
          ]
        },
        {
          "name": "stderr",
          "output_type": "stream",
          "text": [
            "Epoch 0:  86%|████████▌ | 643/751 [00:05<00:01, 98.83batch/s, accuracy=96.875%, loss=0.228] "
          ]
        },
        {
          "name": "stdout",
          "output_type": "stream",
          "text": [
            " | Epoch 0 | Loss: 0.2149893045425415 | Accuracy: 96.875%\n",
            " | Epoch 0 | Loss: 0.05948137864470482 | Accuracy: 100.0%\n",
            " | Epoch 0 | Loss: 0.40539032220840454 | Accuracy: 93.75%\n",
            " | Epoch 0 | Loss: 0.2358807921409607 | Accuracy: 96.875%\n",
            " | Epoch 0 | Loss: 0.21017047762870789 | Accuracy: 96.875%\n",
            " | Epoch 0 | Loss: 0.34279143810272217 | Accuracy: 93.75%\n",
            " | Epoch 0 | Loss: 0.3908200263977051 | Accuracy: 93.75%\n",
            " | Epoch 0 | Loss: 0.49410656094551086 | Accuracy: 90.625%\n",
            " | Epoch 0 | Loss: 0.1312367469072342 | Accuracy: 98.4375%\n",
            " | Epoch 0 | Loss: 0.3989273011684418 | Accuracy: 93.75%\n",
            " | Epoch 0 | Loss: 0.29016953706741333 | Accuracy: 95.3125%\n",
            " | Epoch 0 | Loss: 0.2957638204097748 | Accuracy: 93.75%\n",
            " | Epoch 0 | Loss: 0.20246079564094543 | Accuracy: 96.875%\n",
            " | Epoch 0 | Loss: 0.28190720081329346 | Accuracy: 95.3125%\n",
            " | Epoch 0 | Loss: 0.25784212350845337 | Accuracy: 95.3125%\n",
            " | Epoch 0 | Loss: 0.3745248019695282 | Accuracy: 93.75%\n",
            " | Epoch 0 | Loss: 0.4473366141319275 | Accuracy: 92.1875%\n",
            " | Epoch 0 | Loss: 0.25653132796287537 | Accuracy: 95.3125%\n",
            " | Epoch 0 | Loss: 0.13709822297096252 | Accuracy: 98.4375%\n",
            " | Epoch 0 | Loss: 0.22838175296783447 | Accuracy: 96.875%\n"
          ]
        },
        {
          "name": "stderr",
          "output_type": "stream",
          "text": [
            "Epoch 0:  88%|████████▊ | 663/751 [00:05<00:00, 95.44batch/s, accuracy=98.4375%, loss=0.118]"
          ]
        },
        {
          "name": "stdout",
          "output_type": "stream",
          "text": [
            " | Epoch 0 | Loss: 0.33407431840896606 | Accuracy: 95.3125%\n",
            " | Epoch 0 | Loss: 0.1404007375240326 | Accuracy: 98.4375%\n",
            " | Epoch 0 | Loss: 0.17647552490234375 | Accuracy: 96.875%\n",
            " | Epoch 0 | Loss: 0.33358898758888245 | Accuracy: 93.75%\n",
            " | Epoch 0 | Loss: 0.26558560132980347 | Accuracy: 96.875%\n",
            " | Epoch 0 | Loss: 0.29096975922584534 | Accuracy: 95.3125%\n",
            " | Epoch 0 | Loss: 0.10880530625581741 | Accuracy: 98.4375%\n",
            " | Epoch 0 | Loss: 0.5318962335586548 | Accuracy: 89.0625%\n",
            " | Epoch 0 | Loss: 0.343716025352478 | Accuracy: 93.75%\n",
            " | Epoch 0 | Loss: 0.20818591117858887 | Accuracy: 95.3125%\n",
            " | Epoch 0 | Loss: 0.1066024899482727 | Accuracy: 98.4375%\n",
            " | Epoch 0 | Loss: 0.5621275305747986 | Accuracy: 89.0625%\n",
            " | Epoch 0 | Loss: 0.31029555201530457 | Accuracy: 93.75%\n",
            " | Epoch 0 | Loss: 0.07479748129844666 | Accuracy: 100.0%\n",
            " | Epoch 0 | Loss: 0.2515906095504761 | Accuracy: 96.875%\n",
            " | Epoch 0 | Loss: 0.3728010058403015 | Accuracy: 93.75%\n",
            " | Epoch 0 | Loss: 0.19594284892082214 | Accuracy: 96.875%\n",
            " | Epoch 0 | Loss: 0.26592403650283813 | Accuracy: 95.3125%\n",
            " | Epoch 0 | Loss: 0.4419495463371277 | Accuracy: 90.625%\n",
            " | Epoch 0 | Loss: 0.11752492189407349 | Accuracy: 98.4375%\n"
          ]
        },
        {
          "name": "stderr",
          "output_type": "stream",
          "text": [
            "Epoch 0:  91%|█████████ | 683/751 [00:06<00:00, 94.71batch/s, accuracy=90.625%, loss=0.446]"
          ]
        },
        {
          "name": "stdout",
          "output_type": "stream",
          "text": [
            " | Epoch 0 | Loss: 0.22295407950878143 | Accuracy: 95.3125%\n",
            " | Epoch 0 | Loss: 0.3687460422515869 | Accuracy: 93.75%\n",
            " | Epoch 0 | Loss: 0.4916522204875946 | Accuracy: 90.625%\n",
            " | Epoch 0 | Loss: 0.2633931338787079 | Accuracy: 95.3125%\n",
            " | Epoch 0 | Loss: 0.3551526963710785 | Accuracy: 92.1875%\n",
            " | Epoch 0 | Loss: 0.38103803992271423 | Accuracy: 92.1875%\n",
            " | Epoch 0 | Loss: 0.19034424424171448 | Accuracy: 96.875%\n",
            " | Epoch 0 | Loss: 0.16814890503883362 | Accuracy: 98.4375%\n",
            " | Epoch 0 | Loss: 0.15190356969833374 | Accuracy: 98.4375%\n",
            " | Epoch 0 | Loss: 0.237221360206604 | Accuracy: 95.3125%\n",
            " | Epoch 0 | Loss: 0.40642300248146057 | Accuracy: 92.1875%\n",
            " | Epoch 0 | Loss: 0.3137750029563904 | Accuracy: 93.75%\n",
            " | Epoch 0 | Loss: 0.07087412476539612 | Accuracy: 100.0%\n",
            " | Epoch 0 | Loss: 0.31889402866363525 | Accuracy: 95.3125%\n",
            " | Epoch 0 | Loss: 0.17481809854507446 | Accuracy: 96.875%\n",
            " | Epoch 0 | Loss: 0.352802038192749 | Accuracy: 93.75%\n",
            " | Epoch 0 | Loss: 0.2494712918996811 | Accuracy: 95.3125%\n",
            " | Epoch 0 | Loss: 0.06543983519077301 | Accuracy: 100.0%\n",
            " | Epoch 0 | Loss: 0.44571101665496826 | Accuracy: 90.625%\n"
          ]
        },
        {
          "name": "stderr",
          "output_type": "stream",
          "text": [
            "Epoch 0:  94%|█████████▎| 704/751 [00:06<00:00, 96.05batch/s, accuracy=92.1875%, loss=0.399]"
          ]
        },
        {
          "name": "stdout",
          "output_type": "stream",
          "text": [
            " | Epoch 0 | Loss: 0.26749488711357117 | Accuracy: 95.3125%\n",
            " | Epoch 0 | Loss: 0.33291929960250854 | Accuracy: 93.75%\n",
            " | Epoch 0 | Loss: 0.549835741519928 | Accuracy: 89.0625%\n",
            " | Epoch 0 | Loss: 0.24932539463043213 | Accuracy: 96.875%\n",
            " | Epoch 0 | Loss: 0.39298295974731445 | Accuracy: 93.75%\n",
            " | Epoch 0 | Loss: 0.25204306840896606 | Accuracy: 95.3125%\n",
            " | Epoch 0 | Loss: 0.16065990924835205 | Accuracy: 98.4375%\n",
            " | Epoch 0 | Loss: 0.36800113320350647 | Accuracy: 93.75%\n",
            " | Epoch 0 | Loss: 0.6331708431243896 | Accuracy: 87.5%\n",
            " | Epoch 0 | Loss: 0.32310202717781067 | Accuracy: 95.3125%\n",
            " | Epoch 0 | Loss: 0.14190010726451874 | Accuracy: 98.4375%\n",
            " | Epoch 0 | Loss: 0.1974475085735321 | Accuracy: 96.875%\n",
            " | Epoch 0 | Loss: 0.12797939777374268 | Accuracy: 98.4375%\n",
            " | Epoch 0 | Loss: 0.20745612680912018 | Accuracy: 96.875%\n",
            " | Epoch 0 | Loss: 0.2475677728652954 | Accuracy: 95.3125%\n",
            " | Epoch 0 | Loss: 0.36247894167900085 | Accuracy: 93.75%\n",
            " | Epoch 0 | Loss: 0.2579374313354492 | Accuracy: 95.3125%\n",
            " | Epoch 0 | Loss: 0.3108188211917877 | Accuracy: 93.75%\n",
            " | Epoch 0 | Loss: 0.33185023069381714 | Accuracy: 95.3125%\n",
            " | Epoch 0 | Loss: 0.10955794900655746 | Accuracy: 98.4375%\n"
          ]
        },
        {
          "name": "stderr",
          "output_type": "stream",
          "text": [
            "Epoch 0:  97%|█████████▋| 725/751 [00:06<00:00, 98.70batch/s, accuracy=89.0625%, loss=0.57]"
          ]
        },
        {
          "name": "stdout",
          "output_type": "stream",
          "text": [
            " | Epoch 0 | Loss: 0.3986448347568512 | Accuracy: 92.1875%\n",
            " | Epoch 0 | Loss: 0.27846139669418335 | Accuracy: 95.3125%\n",
            " | Epoch 0 | Loss: 0.26962870359420776 | Accuracy: 95.3125%\n",
            " | Epoch 0 | Loss: 0.7358097434043884 | Accuracy: 85.9375%\n",
            " | Epoch 0 | Loss: 0.276119202375412 | Accuracy: 95.3125%\n",
            " | Epoch 0 | Loss: 0.24425916373729706 | Accuracy: 95.3125%\n",
            " | Epoch 0 | Loss: 0.2978138029575348 | Accuracy: 95.3125%\n",
            " | Epoch 0 | Loss: 0.22035501897335052 | Accuracy: 95.3125%\n",
            " | Epoch 0 | Loss: 0.3940843641757965 | Accuracy: 92.1875%\n",
            " | Epoch 0 | Loss: 0.3955245018005371 | Accuracy: 92.1875%\n",
            " | Epoch 0 | Loss: 0.15017090737819672 | Accuracy: 98.4375%\n",
            " | Epoch 0 | Loss: 0.2915492653846741 | Accuracy: 95.3125%\n",
            " | Epoch 0 | Loss: 0.12177664041519165 | Accuracy: 98.4375%\n",
            " | Epoch 0 | Loss: 0.24518518149852753 | Accuracy: 95.3125%\n",
            " | Epoch 0 | Loss: 0.31075820326805115 | Accuracy: 95.3125%\n",
            " | Epoch 0 | Loss: 0.33767515420913696 | Accuracy: 93.75%\n",
            " | Epoch 0 | Loss: 0.32593274116516113 | Accuracy: 93.75%\n",
            " | Epoch 0 | Loss: 0.2104809731245041 | Accuracy: 96.875%\n",
            " | Epoch 0 | Loss: 0.13258585333824158 | Accuracy: 98.4375%\n",
            " | Epoch 0 | Loss: 0.17056366801261902 | Accuracy: 96.875%\n",
            " | Epoch 0 | Loss: 0.3628953695297241 | Accuracy: 93.75%\n"
          ]
        },
        {
          "name": "stderr",
          "output_type": "stream",
          "text": [
            "Epoch 0: 100%|█████████▉| 748/751 [00:06<00:00, 104.88batch/s, accuracy=75.0%, loss=0.914]   "
          ]
        },
        {
          "name": "stdout",
          "output_type": "stream",
          "text": [
            " | Epoch 0 | Loss: 0.5699506998062134 | Accuracy: 89.0625%\n",
            " | Epoch 0 | Loss: 0.12923558056354523 | Accuracy: 98.4375%\n",
            " | Epoch 0 | Loss: 0.4822668433189392 | Accuracy: 90.625%\n",
            " | Epoch 0 | Loss: 0.4630918502807617 | Accuracy: 92.1875%\n",
            " | Epoch 0 | Loss: 0.16638316214084625 | Accuracy: 96.875%\n",
            " | Epoch 0 | Loss: 0.4059953987598419 | Accuracy: 92.1875%\n",
            " | Epoch 0 | Loss: 0.14791494607925415 | Accuracy: 96.875%\n",
            " | Epoch 0 | Loss: 0.4253609776496887 | Accuracy: 90.625%\n",
            " | Epoch 0 | Loss: 0.22077158093452454 | Accuracy: 96.875%\n",
            " | Epoch 0 | Loss: 0.2213195413351059 | Accuracy: 96.875%\n",
            " | Epoch 0 | Loss: 0.4223721921443939 | Accuracy: 92.1875%\n",
            " | Epoch 0 | Loss: 0.20261624455451965 | Accuracy: 95.3125%\n",
            " | Epoch 0 | Loss: 0.3938390016555786 | Accuracy: 92.1875%\n",
            " | Epoch 0 | Loss: 0.20817238092422485 | Accuracy: 96.875%\n",
            " | Epoch 0 | Loss: 0.23606206476688385 | Accuracy: 96.875%\n",
            " | Epoch 0 | Loss: 0.19756640493869781 | Accuracy: 96.875%\n",
            " | Epoch 0 | Loss: 0.4079974591732025 | Accuracy: 92.1875%\n",
            " | Epoch 0 | Loss: 0.20504039525985718 | Accuracy: 95.3125%\n",
            " | Epoch 0 | Loss: 0.425721138715744 | Accuracy: 92.1875%\n",
            " | Epoch 0 | Loss: 0.4555211365222931 | Accuracy: 92.1875%\n",
            " | Epoch 0 | Loss: 0.9141663312911987 | Accuracy: 75.0%\n"
          ]
        },
        {
          "name": "stderr",
          "output_type": "stream",
          "text": [
            "Epoch 0: 100%|██████████| 751/751 [00:06<00:00, 110.04batch/s, accuracy=75.0%, loss=0.914]\n",
            "Getting model outputs: 100%|██████████| 751/751 [00:03<00:00, 201.96batch/s]\n"
          ]
        }
      ],
      "source": [
        "model_jtt = model_factory(\"mlp\", trainset[0][0].shape, trainset.num_classes).to(device)\n",
        "optimizer_jtt = optim.SGD(model_jtt.parameters(), lr=1e-3, momentum=0.9, nesterov=False)\n",
        "\n",
        "\n",
        "trainer = Trainer(\n",
        "    trainset=trainset,\n",
        "    model=model_jtt,\n",
        "    batch_size=64,\n",
        "    optimizer=optimizer_jtt,\n",
        "    device=device,\n",
        "    verbose=True\n",
        ")\n",
        "\n",
        "trainer.train(1)\n",
        "\n",
        "\n",
        "predictions = torch.argmax(trainer.get_trainset_outputs(), dim=-1).detach().cpu().tolist()\n",
        "jtt = JTTInference(\n",
        "    predictions=predictions,\n",
        "    class_labels=trainset.labels\n",
        ")\n",
        "group_partition = jtt.infer_groups()"
      ]
    },
    {
      "cell_type": "code",
      "execution_count": null,
      "metadata": {
        "id": "nkDTQcw7JNy2"
      },
      "outputs": [],
      "source": [
        "\n",
        "len_max_group = max([len(group_partition[key]) for key in group_partition.keys()])\n",
        "indices_jtt = []\n",
        "for key in group_partition.keys():\n",
        "    group_reordered_indices = [group_partition[key][i] for i in torch.randperm(len(group_partition[key])).tolist()]\n",
        "    group_indices = []\n",
        "    while len(group_indices) < len_max_group:\n",
        "        group_indices.extend(group_reordered_indices)\n",
        "    indices_jtt.extend(group_indices[:len_max_group])\n",
        "\n",
        "\n",
        "upsampled_train_loader_jtt = DataLoader(trainset, batch_size=64, shuffle=False, sampler=CustomIndicesSampler(indices=indices_jtt, shuffle=True))\n",
        "\n"
      ]
    },
    {
      "cell_type": "code",
      "execution_count": null,
      "metadata": {
        "colab": {
          "base_uri": "https://localhost:8080/"
        },
        "id": "IJaahZjRJUs0",
        "outputId": "00ea72b9-989d-4e99-ef95-366b57c18a81"
      },
      "outputs": [
        {
          "name": "stdout",
          "output_type": "stream",
          "text": [
            "Epoch 1/10, Train Acc: 0.7447, Test Acc: 0.6038\n",
            "Epoch 2/10, Train Acc: 0.8310, Test Acc: 0.7188\n",
            "Epoch 3/10, Train Acc: 0.8769, Test Acc: 0.7446\n",
            "Epoch 4/10, Train Acc: 0.9134, Test Acc: 0.7788\n",
            "Epoch 5/10, Train Acc: 0.9342, Test Acc: 0.7843\n",
            "Epoch 6/10, Train Acc: 0.9646, Test Acc: 0.8293\n",
            "Epoch 7/10, Train Acc: 0.9711, Test Acc: 0.8330\n",
            "Epoch 8/10, Train Acc: 0.9787, Test Acc: 0.8226\n",
            "Epoch 9/10, Train Acc: 0.9859, Test Acc: 0.8118\n",
            "Epoch 10/10, Train Acc: 0.9852, Test Acc: 0.8172\n"
          ]
        }
      ],
      "source": [
        "model_jtt_2 = model_factory(\"mlp\", trainset[0][0].shape, trainset.num_classes).to(device)\n",
        "optimizer_jtt_2 = optim.SGD(model_jtt_2.parameters(), lr=1e-3, momentum=0.9, nesterov=False)\n",
        "\n",
        "train_acc_history_lst_jtt_2 = []\n",
        "test_acc_history_lst_jtt_2 = []\n",
        "\n",
        "for epoch in range(num_epochs):\n",
        "    train(model_jtt_2, upsampled_train_loader_jtt, optimizer_jtt_2, criterion, device)\n",
        "    train_acc, train_acc_history = evaluate(model_jtt_2, upsampled_train_loader_jtt, criterion, device)\n",
        "    test_acc, test_acc_history = evaluate(model_jtt_2, test_loader, criterion, device)\n",
        "\n",
        "    print(f\"Epoch {epoch+1}/{num_epochs}, Train Acc: {train_acc:.4f}, Test Acc: {test_acc:.4f}\")\n",
        "\n",
        "    train_acc_history_lst_jtt_2.append(train_acc_history)\n",
        "    test_acc_history_lst_jtt_2.append(test_acc_history)"
      ]
    },
    {
      "cell_type": "code",
      "execution_count": null,
      "metadata": {
        "colab": {
          "base_uri": "https://localhost:8080/",
          "height": 555
        },
        "id": "ywuThMgJJ4Q3",
        "outputId": "f233cf2f-4776-4373-f197-0b19851fe2ee"
      },
      "outputs": [
        {
          "data": {
            "image/png": "[encoded data removed]",
            "text/plain": [
              "<Figure size 1000x600 with 1 Axes>"
            ]
          },
          "metadata": {},
          "output_type": "display_data"
        }
      ],
      "source": [
        "\n",
        "import matplotlib.pyplot as plt\n",
        "\n",
        "# Assuming test_acc_history_lst and test_acc_history_lst_forgetting are available\n",
        "\n",
        "epochs = range(1, num_epochs + 1)\n",
        "\n",
        "plt.figure(figsize=(10, 6))\n",
        "test_acc_history_lst_jtt_2 = np.array(test_acc_history_lst_jtt_2)\n",
        "test_acc_history_lst_forgetting = np.array(test_acc_history_lst_forgetting)\n",
        "test_acc_history_lst_forgetting_bin = np.array(test_acc_history_lst_forgetting_bin)\n",
        "test_acc_history_lst= np.array(test_acc_history_lst)\n",
        "plt.plot(epochs, [np.mean(test_acc_history_lst_jtt_2[i,:]) for i in range(test_acc_history_lst_jtt_2.shape[0])], label='JTT (baseline)')\n",
        "plt.plot(epochs, [np.mean(test_acc_history_lst_forgetting[i,:]) for i in range(test_acc_history_lst_forgetting.shape[0])], label='Forgetting-based')\n",
        "# plt.plot(epochs, [np.mean(test_acc_history_lst[i,:]) for i in range(test_acc_history_lst.shape[0])], label='Baseline')\n",
        "plt.plot(epochs, [np.mean(test_acc_history_lst_forgetting_bin[i,:]) for i in range(test_acc_history_lst_forgetting_bin.shape[0])], label='Forgetting-based binary')\n",
        "\n",
        "plt.xlabel('Epochs')\n",
        "plt.ylabel('Average Accuracy')\n",
        "plt.title('Test Accuracy over Training')\n",
        "plt.legend()\n",
        "plt.grid(True)\n",
        "plt.xticks(epochs)\n",
        "\n",
        "plt.show()"
      ]
    },
    {
      "cell_type": "code",
      "execution_count": null,
      "metadata": {
        "colab": {
          "base_uri": "https://localhost:8080/"
        },
        "id": "8lu8_MD3KF9p",
        "outputId": "b7cb43d9-cf7f-4691-e1f1-84036ed3a74a"
      },
      "outputs": [
        {
          "name": "stderr",
          "output_type": "stream",
          "text": [
            "/usr/local/lib/python3.10/dist-packages/torch/utils/data/dataloader.py:617: UserWarning: This DataLoader will create 4 worker processes in total. Our suggested max number of worker in current system is 2, which is smaller than what this DataLoader is going to create. Please be aware that excessive worker creation might get DataLoader running slow or even freeze, lower the worker number to avoid potential slowness/freeze if necessary.\n",
            "  warnings.warn(\n",
            "Evaluating group-wise accuracy:   4%|▍         | 1/25 [00:00<00:06,  3.69it/s]"
          ]
        },
        {
          "name": "stdout",
          "output_type": "stream",
          "text": [
            "Group (0, 0) Accuracy: 100.0\n"
          ]
        },
        {
          "name": "stderr",
          "output_type": "stream",
          "text": [
            "\rEvaluating group-wise accuracy:   8%|▊         | 2/25 [00:00<00:05,  3.85it/s]"
          ]
        },
        {
          "name": "stdout",
          "output_type": "stream",
          "text": [
            "Group (0, 1) Accuracy: 43.498817966903076\n"
          ]
        },
        {
          "name": "stderr",
          "output_type": "stream",
          "text": [
            "\rEvaluating group-wise accuracy:  12%|█▏        | 3/25 [00:00<00:05,  3.91it/s]"
          ]
        },
        {
          "name": "stdout",
          "output_type": "stream",
          "text": [
            "Group (0, 2) Accuracy: 61.938534278959814\n"
          ]
        },
        {
          "name": "stderr",
          "output_type": "stream",
          "text": [
            "\rEvaluating group-wise accuracy:  16%|█▌        | 4/25 [00:01<00:05,  3.81it/s]"
          ]
        },
        {
          "name": "stdout",
          "output_type": "stream",
          "text": [
            "Group (0, 3) Accuracy: 16.78486997635934\n"
          ]
        },
        {
          "name": "stderr",
          "output_type": "stream",
          "text": [
            "\rEvaluating group-wise accuracy:  20%|██        | 5/25 [00:01<00:05,  3.80it/s]"
          ]
        },
        {
          "name": "stdout",
          "output_type": "stream",
          "text": [
            "Group (0, 4) Accuracy: 71.63120567375887\n"
          ]
        },
        {
          "name": "stderr",
          "output_type": "stream",
          "text": [
            "\rEvaluating group-wise accuracy:  24%|██▍       | 6/25 [00:01<00:04,  3.81it/s]"
          ]
        },
        {
          "name": "stdout",
          "output_type": "stream",
          "text": [
            "Group (1, 0) Accuracy: 29.339853300733495\n"
          ]
        },
        {
          "name": "stderr",
          "output_type": "stream",
          "text": [
            "\rEvaluating group-wise accuracy:  28%|██▊       | 7/25 [00:01<00:05,  3.52it/s]"
          ]
        },
        {
          "name": "stdout",
          "output_type": "stream",
          "text": [
            "Group (1, 1) Accuracy: 100.0\n"
          ]
        },
        {
          "name": "stderr",
          "output_type": "stream",
          "text": [
            "\rEvaluating group-wise accuracy:  32%|███▏      | 8/25 [00:02<00:05,  3.05it/s]"
          ]
        },
        {
          "name": "stdout",
          "output_type": "stream",
          "text": [
            "Group (1, 2) Accuracy: 36.51960784313726\n"
          ]
        },
        {
          "name": "stderr",
          "output_type": "stream",
          "text": [
            "\rEvaluating group-wise accuracy:  36%|███▌      | 9/25 [00:02<00:06,  2.54it/s]"
          ]
        },
        {
          "name": "stdout",
          "output_type": "stream",
          "text": [
            "Group (1, 3) Accuracy: 22.058823529411764\n"
          ]
        },
        {
          "name": "stderr",
          "output_type": "stream",
          "text": [
            "\rEvaluating group-wise accuracy:  40%|████      | 10/25 [00:03<00:07,  1.97it/s]"
          ]
        },
        {
          "name": "stdout",
          "output_type": "stream",
          "text": [
            "Group (1, 4) Accuracy: 6.862745098039215\n"
          ]
        },
        {
          "name": "stderr",
          "output_type": "stream",
          "text": [
            "\rEvaluating group-wise accuracy:  44%|████▍     | 11/25 [00:04<00:08,  1.74it/s]"
          ]
        },
        {
          "name": "stdout",
          "output_type": "stream",
          "text": [
            "Group (2, 0) Accuracy: 25.066666666666666\n"
          ]
        },
        {
          "name": "stderr",
          "output_type": "stream",
          "text": [
            "\rEvaluating group-wise accuracy:  48%|████▊     | 12/25 [00:04<00:07,  1.68it/s]"
          ]
        },
        {
          "name": "stdout",
          "output_type": "stream",
          "text": [
            "Group (2, 1) Accuracy: 50.666666666666664\n"
          ]
        },
        {
          "name": "stderr",
          "output_type": "stream",
          "text": [
            "\rEvaluating group-wise accuracy:  52%|█████▏    | 13/25 [00:05<00:06,  1.86it/s]"
          ]
        },
        {
          "name": "stdout",
          "output_type": "stream",
          "text": [
            "Group (2, 2) Accuracy: 99.46666666666667\n"
          ]
        },
        {
          "name": "stderr",
          "output_type": "stream",
          "text": [
            "\rEvaluating group-wise accuracy:  56%|█████▌    | 14/25 [00:05<00:05,  2.07it/s]"
          ]
        },
        {
          "name": "stdout",
          "output_type": "stream",
          "text": [
            "Group (2, 3) Accuracy: 0.0\n"
          ]
        },
        {
          "name": "stderr",
          "output_type": "stream",
          "text": [
            "\rEvaluating group-wise accuracy:  60%|██████    | 15/25 [00:06<00:04,  2.38it/s]"
          ]
        },
        {
          "name": "stdout",
          "output_type": "stream",
          "text": [
            "Group (2, 4) Accuracy: 0.0\n"
          ]
        },
        {
          "name": "stderr",
          "output_type": "stream",
          "text": [
            "\rEvaluating group-wise accuracy:  64%|██████▍   | 16/25 [00:06<00:03,  2.67it/s]"
          ]
        },
        {
          "name": "stdout",
          "output_type": "stream",
          "text": [
            "Group (3, 0) Accuracy: 57.03517587939699\n"
          ]
        },
        {
          "name": "stderr",
          "output_type": "stream",
          "text": [
            "\rEvaluating group-wise accuracy:  68%|██████▊   | 17/25 [00:06<00:02,  2.91it/s]"
          ]
        },
        {
          "name": "stdout",
          "output_type": "stream",
          "text": [
            "Group (3, 1) Accuracy: 28.71536523929471\n"
          ]
        },
        {
          "name": "stderr",
          "output_type": "stream",
          "text": [
            "\rEvaluating group-wise accuracy:  72%|███████▏  | 18/25 [00:06<00:02,  3.04it/s]"
          ]
        },
        {
          "name": "stdout",
          "output_type": "stream",
          "text": [
            "Group (3, 2) Accuracy: 58.186397984886646\n"
          ]
        },
        {
          "name": "stderr",
          "output_type": "stream",
          "text": [
            "\rEvaluating group-wise accuracy:  76%|███████▌  | 19/25 [00:07<00:02,  2.87it/s]"
          ]
        },
        {
          "name": "stdout",
          "output_type": "stream",
          "text": [
            "Group (3, 3) Accuracy: 99.74811083123426\n"
          ]
        },
        {
          "name": "stderr",
          "output_type": "stream",
          "text": [
            "\rEvaluating group-wise accuracy:  80%|████████  | 20/25 [00:07<00:01,  2.79it/s]"
          ]
        },
        {
          "name": "stdout",
          "output_type": "stream",
          "text": [
            "Group (3, 4) Accuracy: 14.6095717884131\n"
          ]
        },
        {
          "name": "stderr",
          "output_type": "stream",
          "text": [
            "\rEvaluating group-wise accuracy:  84%|████████▍ | 21/25 [00:07<00:01,  3.05it/s]"
          ]
        },
        {
          "name": "stdout",
          "output_type": "stream",
          "text": [
            "Group (4, 0) Accuracy: 64.48362720403023\n"
          ]
        },
        {
          "name": "stderr",
          "output_type": "stream",
          "text": [
            "\rEvaluating group-wise accuracy:  88%|████████▊ | 22/25 [00:08<00:00,  3.26it/s]"
          ]
        },
        {
          "name": "stdout",
          "output_type": "stream",
          "text": [
            "Group (4, 1) Accuracy: 1.5113350125944585\n"
          ]
        },
        {
          "name": "stderr",
          "output_type": "stream",
          "text": [
            "\rEvaluating group-wise accuracy:  92%|█████████▏| 23/25 [00:08<00:00,  3.39it/s]"
          ]
        },
        {
          "name": "stdout",
          "output_type": "stream",
          "text": [
            "Group (4, 2) Accuracy: 0.0\n"
          ]
        },
        {
          "name": "stderr",
          "output_type": "stream",
          "text": [
            "\rEvaluating group-wise accuracy:  96%|█████████▌| 24/25 [00:08<00:00,  3.48it/s]"
          ]
        },
        {
          "name": "stdout",
          "output_type": "stream",
          "text": [
            "Group (4, 3) Accuracy: 13.383838383838384\n"
          ]
        },
        {
          "name": "stderr",
          "output_type": "stream",
          "text": [
            "Evaluating group-wise accuracy: 100%|██████████| 25/25 [00:08<00:00,  2.80it/s]"
          ]
        },
        {
          "name": "stdout",
          "output_type": "stream",
          "text": [
            "Group (4, 4) Accuracy: 99.74747474747475\n"
          ]
        },
        {
          "name": "stderr",
          "output_type": "stream",
          "text": [
            "\n"
          ]
        },
        {
          "data": {
            "text/plain": [
              "{(0, 0): 100.0,\n",
              " (0, 1): 43.498817966903076,\n",
              " (0, 2): 61.938534278959814,\n",
              " (0, 3): 16.78486997635934,\n",
              " (0, 4): 71.63120567375887,\n",
              " (1, 0): 29.339853300733495,\n",
              " (1, 1): 100.0,\n",
              " (1, 2): 36.51960784313726,\n",
              " (1, 3): 22.058823529411764,\n",
              " (1, 4): 6.862745098039215,\n",
              " (2, 0): 25.066666666666666,\n",
              " (2, 1): 50.666666666666664,\n",
              " (2, 2): 99.46666666666667,\n",
              " (2, 3): 0.0,\n",
              " (2, 4): 0.0,\n",
              " (3, 0): 57.03517587939699,\n",
              " (3, 1): 28.71536523929471,\n",
              " (3, 2): 58.186397984886646,\n",
              " (3, 3): 99.74811083123426,\n",
              " (3, 4): 14.6095717884131,\n",
              " (4, 0): 64.48362720403023,\n",
              " (4, 1): 1.5113350125944585,\n",
              " (4, 2): 0.0,\n",
              " (4, 3): 13.383838383838384,\n",
              " (4, 4): 99.74747474747475}"
            ]
          },
          "execution_count": 41,
          "metadata": {},
          "output_type": "execute_result"
        }
      ],
      "source": [
        "\n",
        "evaluator = Evaluator(\n",
        "    testset=testset,\n",
        "    group_partition=testset.group_partition,\n",
        "    group_weights=trainset.group_weights,\n",
        "    batch_size=64,\n",
        "    model=model,\n",
        "    device=device,\n",
        "    verbose=True\n",
        ")\n",
        "evaluator.evaluate()\n"
      ]
    },
    {
      "cell_type": "code",
      "execution_count": null,
      "metadata": {
        "colab": {
          "base_uri": "https://localhost:8080/"
        },
        "id": "hJTU5PZAKnvj",
        "outputId": "5c24944f-afaf-478e-8b44-d9af056e01cb"
      },
      "outputs": [
        {
          "name": "stderr",
          "output_type": "stream",
          "text": [
            "Evaluating group-wise accuracy:   4%|▍         | 1/25 [00:00<00:06,  3.65it/s]"
          ]
        },
        {
          "name": "stdout",
          "output_type": "stream",
          "text": [
            "Group (0, 0) Accuracy: 100.0\n"
          ]
        },
        {
          "name": "stderr",
          "output_type": "stream",
          "text": [
            "\rEvaluating group-wise accuracy:   8%|▊         | 2/25 [00:00<00:06,  3.73it/s]"
          ]
        },
        {
          "name": "stdout",
          "output_type": "stream",
          "text": [
            "Group (0, 1) Accuracy: 95.27186761229315\n"
          ]
        },
        {
          "name": "stderr",
          "output_type": "stream",
          "text": [
            "\rEvaluating group-wise accuracy:  12%|█▏        | 3/25 [00:00<00:05,  3.75it/s]"
          ]
        },
        {
          "name": "stdout",
          "output_type": "stream",
          "text": [
            "Group (0, 2) Accuracy: 90.54373522458629\n"
          ]
        },
        {
          "name": "stderr",
          "output_type": "stream",
          "text": [
            "\rEvaluating group-wise accuracy:  16%|█▌        | 4/25 [00:01<00:05,  3.82it/s]"
          ]
        },
        {
          "name": "stdout",
          "output_type": "stream",
          "text": [
            "Group (0, 3) Accuracy: 95.0354609929078\n"
          ]
        },
        {
          "name": "stderr",
          "output_type": "stream",
          "text": [
            "\rEvaluating group-wise accuracy:  20%|██        | 5/25 [00:01<00:05,  3.79it/s]"
          ]
        },
        {
          "name": "stdout",
          "output_type": "stream",
          "text": [
            "Group (0, 4) Accuracy: 91.01654846335697\n"
          ]
        },
        {
          "name": "stderr",
          "output_type": "stream",
          "text": [
            "\rEvaluating group-wise accuracy:  24%|██▍       | 6/25 [00:01<00:04,  3.82it/s]"
          ]
        },
        {
          "name": "stdout",
          "output_type": "stream",
          "text": [
            "Group (1, 0) Accuracy: 74.32762836185819\n"
          ]
        },
        {
          "name": "stderr",
          "output_type": "stream",
          "text": [
            "\rEvaluating group-wise accuracy:  28%|██▊       | 7/25 [00:01<00:04,  3.75it/s]"
          ]
        },
        {
          "name": "stdout",
          "output_type": "stream",
          "text": [
            "Group (1, 1) Accuracy: 97.79951100244499\n"
          ]
        },
        {
          "name": "stderr",
          "output_type": "stream",
          "text": [
            "\rEvaluating group-wise accuracy:  32%|███▏      | 8/25 [00:02<00:04,  3.74it/s]"
          ]
        },
        {
          "name": "stdout",
          "output_type": "stream",
          "text": [
            "Group (1, 2) Accuracy: 83.57843137254902\n"
          ]
        },
        {
          "name": "stderr",
          "output_type": "stream",
          "text": [
            "\rEvaluating group-wise accuracy:  36%|███▌      | 9/25 [00:02<00:04,  3.78it/s]"
          ]
        },
        {
          "name": "stdout",
          "output_type": "stream",
          "text": [
            "Group (1, 3) Accuracy: 78.18627450980392\n"
          ]
        },
        {
          "name": "stderr",
          "output_type": "stream",
          "text": [
            "\rEvaluating group-wise accuracy:  40%|████      | 10/25 [00:02<00:03,  3.75it/s]"
          ]
        },
        {
          "name": "stdout",
          "output_type": "stream",
          "text": [
            "Group (1, 4) Accuracy: 58.57843137254902\n"
          ]
        },
        {
          "name": "stderr",
          "output_type": "stream",
          "text": [
            "\rEvaluating group-wise accuracy:  44%|████▍     | 11/25 [00:02<00:03,  3.67it/s]"
          ]
        },
        {
          "name": "stdout",
          "output_type": "stream",
          "text": [
            "Group (2, 0) Accuracy: 80.0\n"
          ]
        },
        {
          "name": "stderr",
          "output_type": "stream",
          "text": [
            "\rEvaluating group-wise accuracy:  48%|████▊     | 12/25 [00:03<00:03,  3.74it/s]"
          ]
        },
        {
          "name": "stdout",
          "output_type": "stream",
          "text": [
            "Group (2, 1) Accuracy: 79.73333333333333\n"
          ]
        },
        {
          "name": "stderr",
          "output_type": "stream",
          "text": [
            "\rEvaluating group-wise accuracy:  52%|█████▏    | 13/25 [00:03<00:03,  3.78it/s]"
          ]
        },
        {
          "name": "stdout",
          "output_type": "stream",
          "text": [
            "Group (2, 2) Accuracy: 98.13333333333334\n"
          ]
        },
        {
          "name": "stderr",
          "output_type": "stream",
          "text": [
            "\rEvaluating group-wise accuracy:  56%|█████▌    | 14/25 [00:03<00:02,  3.82it/s]"
          ]
        },
        {
          "name": "stdout",
          "output_type": "stream",
          "text": [
            "Group (2, 3) Accuracy: 76.53333333333333\n"
          ]
        },
        {
          "name": "stderr",
          "output_type": "stream",
          "text": [
            "\rEvaluating group-wise accuracy:  60%|██████    | 15/25 [00:04<00:02,  3.60it/s]"
          ]
        },
        {
          "name": "stdout",
          "output_type": "stream",
          "text": [
            "Group (2, 4) Accuracy: 56.149732620320854\n"
          ]
        },
        {
          "name": "stderr",
          "output_type": "stream",
          "text": [
            "\rEvaluating group-wise accuracy:  64%|██████▍   | 16/25 [00:04<00:02,  3.66it/s]"
          ]
        },
        {
          "name": "stdout",
          "output_type": "stream",
          "text": [
            "Group (3, 0) Accuracy: 80.40201005025126\n"
          ]
        },
        {
          "name": "stderr",
          "output_type": "stream",
          "text": [
            "\rEvaluating group-wise accuracy:  68%|██████▊   | 17/25 [00:04<00:02,  3.72it/s]"
          ]
        },
        {
          "name": "stdout",
          "output_type": "stream",
          "text": [
            "Group (3, 1) Accuracy: 76.32241813602015\n"
          ]
        },
        {
          "name": "stderr",
          "output_type": "stream",
          "text": [
            "\rEvaluating group-wise accuracy:  72%|███████▏  | 18/25 [00:04<00:01,  3.70it/s]"
          ]
        },
        {
          "name": "stdout",
          "output_type": "stream",
          "text": [
            "Group (3, 2) Accuracy: 82.61964735516372\n"
          ]
        },
        {
          "name": "stderr",
          "output_type": "stream",
          "text": [
            "\rEvaluating group-wise accuracy:  76%|███████▌  | 19/25 [00:05<00:01,  3.73it/s]"
          ]
        },
        {
          "name": "stdout",
          "output_type": "stream",
          "text": [
            "Group (3, 3) Accuracy: 97.73299748110831\n"
          ]
        },
        {
          "name": "stderr",
          "output_type": "stream",
          "text": [
            "\rEvaluating group-wise accuracy:  80%|████████  | 20/25 [00:05<00:01,  3.37it/s]"
          ]
        },
        {
          "name": "stdout",
          "output_type": "stream",
          "text": [
            "Group (3, 4) Accuracy: 73.55163727959697\n"
          ]
        },
        {
          "name": "stderr",
          "output_type": "stream",
          "text": [
            "\rEvaluating group-wise accuracy:  84%|████████▍ | 21/25 [00:05<00:01,  3.24it/s]"
          ]
        },
        {
          "name": "stdout",
          "output_type": "stream",
          "text": [
            "Group (4, 0) Accuracy: 80.60453400503778\n"
          ]
        },
        {
          "name": "stderr",
          "output_type": "stream",
          "text": [
            "\rEvaluating group-wise accuracy:  88%|████████▊ | 22/25 [00:06<00:01,  3.00it/s]"
          ]
        },
        {
          "name": "stdout",
          "output_type": "stream",
          "text": [
            "Group (4, 1) Accuracy: 63.476070528967256\n"
          ]
        },
        {
          "name": "stderr",
          "output_type": "stream",
          "text": [
            "\rEvaluating group-wise accuracy:  92%|█████████▏| 23/25 [00:06<00:00,  2.14it/s]"
          ]
        },
        {
          "name": "stdout",
          "output_type": "stream",
          "text": [
            "Group (4, 2) Accuracy: 62.97229219143577\n"
          ]
        },
        {
          "name": "stderr",
          "output_type": "stream",
          "text": [
            "\rEvaluating group-wise accuracy:  96%|█████████▌| 24/25 [00:07<00:00,  1.87it/s]"
          ]
        },
        {
          "name": "stdout",
          "output_type": "stream",
          "text": [
            "Group (4, 3) Accuracy: 75.5050505050505\n"
          ]
        },
        {
          "name": "stderr",
          "output_type": "stream",
          "text": [
            "Evaluating group-wise accuracy: 100%|██████████| 25/25 [00:08<00:00,  3.11it/s]"
          ]
        },
        {
          "name": "stdout",
          "output_type": "stream",
          "text": [
            "Group (4, 4) Accuracy: 98.23232323232324\n"
          ]
        },
        {
          "name": "stderr",
          "output_type": "stream",
          "text": [
            "\n"
          ]
        },
        {
          "data": {
            "text/plain": [
              "{(0, 0): 100.0,\n",
              " (0, 1): 95.27186761229315,\n",
              " (0, 2): 90.54373522458629,\n",
              " (0, 3): 95.0354609929078,\n",
              " (0, 4): 91.01654846335697,\n",
              " (1, 0): 74.32762836185819,\n",
              " (1, 1): 97.79951100244499,\n",
              " (1, 2): 83.57843137254902,\n",
              " (1, 3): 78.18627450980392,\n",
              " (1, 4): 58.57843137254902,\n",
              " (2, 0): 80.0,\n",
              " (2, 1): 79.73333333333333,\n",
              " (2, 2): 98.13333333333334,\n",
              " (2, 3): 76.53333333333333,\n",
              " (2, 4): 56.149732620320854,\n",
              " (3, 0): 80.40201005025126,\n",
              " (3, 1): 76.32241813602015,\n",
              " (3, 2): 82.61964735516372,\n",
              " (3, 3): 97.73299748110831,\n",
              " (3, 4): 73.55163727959697,\n",
              " (4, 0): 80.60453400503778,\n",
              " (4, 1): 63.476070528967256,\n",
              " (4, 2): 62.97229219143577,\n",
              " (4, 3): 75.5050505050505,\n",
              " (4, 4): 98.23232323232324}"
            ]
          },
          "execution_count": 42,
          "metadata": {},
          "output_type": "execute_result"
        }
      ],
      "source": [
        "\n",
        "evaluator_2_forgetting = Evaluator(\n",
        "    testset=testset,\n",
        "    group_partition=testset.group_partition,\n",
        "    group_weights=trainset.group_weights,\n",
        "    batch_size=64,\n",
        "    model=model_forgetting,\n",
        "    device=device,\n",
        "    verbose=True\n",
        ")\n",
        "evaluator_2_forgetting.evaluate()\n",
        "\n"
      ]
    },
    {
      "cell_type": "code",
      "execution_count": null,
      "metadata": {
        "colab": {
          "base_uri": "https://localhost:8080/"
        },
        "id": "C_Y78w4VKqlG",
        "outputId": "b05eb147-856e-4c23-bf26-36a99c65a8bd"
      },
      "outputs": [
        {
          "name": "stderr",
          "output_type": "stream",
          "text": [
            "/usr/local/lib/python3.10/dist-packages/torch/utils/data/dataloader.py:617: UserWarning: This DataLoader will create 4 worker processes in total. Our suggested max number of worker in current system is 2, which is smaller than what this DataLoader is going to create. Please be aware that excessive worker creation might get DataLoader running slow or even freeze, lower the worker number to avoid potential slowness/freeze if necessary.\n",
            "  warnings.warn(\n",
            "Evaluating group-wise accuracy:   4%|▍         | 1/25 [00:00<00:10,  2.35it/s]"
          ]
        },
        {
          "name": "stdout",
          "output_type": "stream",
          "text": [
            "Group (0, 0) Accuracy: 99.52718676122932\n"
          ]
        },
        {
          "name": "stderr",
          "output_type": "stream",
          "text": [
            "\rEvaluating group-wise accuracy:   8%|▊         | 2/25 [00:00<00:09,  2.44it/s]"
          ]
        },
        {
          "name": "stdout",
          "output_type": "stream",
          "text": [
            "Group (0, 1) Accuracy: 91.725768321513\n"
          ]
        },
        {
          "name": "stderr",
          "output_type": "stream",
          "text": [
            "\rEvaluating group-wise accuracy:  12%|█▏        | 3/25 [00:01<00:09,  2.42it/s]"
          ]
        },
        {
          "name": "stdout",
          "output_type": "stream",
          "text": [
            "Group (0, 2) Accuracy: 88.4160756501182\n"
          ]
        },
        {
          "name": "stderr",
          "output_type": "stream",
          "text": [
            "\rEvaluating group-wise accuracy:  16%|█▌        | 4/25 [00:01<00:08,  2.40it/s]"
          ]
        },
        {
          "name": "stdout",
          "output_type": "stream",
          "text": [
            "Group (0, 3) Accuracy: 87.70685579196217\n"
          ]
        },
        {
          "name": "stderr",
          "output_type": "stream",
          "text": [
            "\rEvaluating group-wise accuracy:  20%|██        | 5/25 [00:01<00:07,  2.60it/s]"
          ]
        },
        {
          "name": "stdout",
          "output_type": "stream",
          "text": [
            "Group (0, 4) Accuracy: 82.74231678486997\n"
          ]
        },
        {
          "name": "stderr",
          "output_type": "stream",
          "text": [
            "\rEvaluating group-wise accuracy:  24%|██▍       | 6/25 [00:02<00:06,  2.92it/s]"
          ]
        },
        {
          "name": "stdout",
          "output_type": "stream",
          "text": [
            "Group (1, 0) Accuracy: 77.01711491442543\n"
          ]
        },
        {
          "name": "stderr",
          "output_type": "stream",
          "text": [
            "\rEvaluating group-wise accuracy:  28%|██▊       | 7/25 [00:02<00:05,  3.11it/s]"
          ]
        },
        {
          "name": "stdout",
          "output_type": "stream",
          "text": [
            "Group (1, 1) Accuracy: 95.11002444987776\n"
          ]
        },
        {
          "name": "stderr",
          "output_type": "stream",
          "text": [
            "\rEvaluating group-wise accuracy:  32%|███▏      | 8/25 [00:02<00:05,  3.29it/s]"
          ]
        },
        {
          "name": "stdout",
          "output_type": "stream",
          "text": [
            "Group (1, 2) Accuracy: 75.24509803921569\n"
          ]
        },
        {
          "name": "stderr",
          "output_type": "stream",
          "text": [
            "\rEvaluating group-wise accuracy:  36%|███▌      | 9/25 [00:03<00:04,  3.38it/s]"
          ]
        },
        {
          "name": "stdout",
          "output_type": "stream",
          "text": [
            "Group (1, 3) Accuracy: 79.41176470588235\n"
          ]
        },
        {
          "name": "stderr",
          "output_type": "stream",
          "text": [
            "\rEvaluating group-wise accuracy:  40%|████      | 10/25 [00:03<00:04,  3.45it/s]"
          ]
        },
        {
          "name": "stdout",
          "output_type": "stream",
          "text": [
            "Group (1, 4) Accuracy: 67.6470588235294\n"
          ]
        },
        {
          "name": "stderr",
          "output_type": "stream",
          "text": [
            "\rEvaluating group-wise accuracy:  44%|████▍     | 11/25 [00:03<00:04,  3.32it/s]"
          ]
        },
        {
          "name": "stdout",
          "output_type": "stream",
          "text": [
            "Group (2, 0) Accuracy: 84.0\n"
          ]
        },
        {
          "name": "stderr",
          "output_type": "stream",
          "text": [
            "\rEvaluating group-wise accuracy:  48%|████▊     | 12/25 [00:04<00:04,  2.94it/s]"
          ]
        },
        {
          "name": "stdout",
          "output_type": "stream",
          "text": [
            "Group (2, 1) Accuracy: 74.13333333333334\n"
          ]
        },
        {
          "name": "stderr",
          "output_type": "stream",
          "text": [
            "\rEvaluating group-wise accuracy:  52%|█████▏    | 13/25 [00:04<00:03,  3.05it/s]"
          ]
        },
        {
          "name": "stdout",
          "output_type": "stream",
          "text": [
            "Group (2, 2) Accuracy: 98.66666666666667\n"
          ]
        },
        {
          "name": "stderr",
          "output_type": "stream",
          "text": [
            "\rEvaluating group-wise accuracy:  56%|█████▌    | 14/25 [00:04<00:03,  2.84it/s]"
          ]
        },
        {
          "name": "stdout",
          "output_type": "stream",
          "text": [
            "Group (2, 3) Accuracy: 82.4\n"
          ]
        },
        {
          "name": "stderr",
          "output_type": "stream",
          "text": [
            "\rEvaluating group-wise accuracy:  60%|██████    | 15/25 [00:05<00:03,  2.71it/s]"
          ]
        },
        {
          "name": "stdout",
          "output_type": "stream",
          "text": [
            "Group (2, 4) Accuracy: 63.903743315508024\n"
          ]
        },
        {
          "name": "stderr",
          "output_type": "stream",
          "text": [
            "\rEvaluating group-wise accuracy:  64%|██████▍   | 16/25 [00:05<00:03,  2.69it/s]"
          ]
        },
        {
          "name": "stdout",
          "output_type": "stream",
          "text": [
            "Group (3, 0) Accuracy: 87.68844221105527\n"
          ]
        },
        {
          "name": "stderr",
          "output_type": "stream",
          "text": [
            "\rEvaluating group-wise accuracy:  68%|██████▊   | 17/25 [00:05<00:02,  2.69it/s]"
          ]
        },
        {
          "name": "stdout",
          "output_type": "stream",
          "text": [
            "Group (3, 1) Accuracy: 85.39042821158691\n"
          ]
        },
        {
          "name": "stderr",
          "output_type": "stream",
          "text": [
            "\rEvaluating group-wise accuracy:  72%|███████▏  | 18/25 [00:06<00:02,  2.58it/s]"
          ]
        },
        {
          "name": "stdout",
          "output_type": "stream",
          "text": [
            "Group (3, 2) Accuracy: 68.26196473551637\n"
          ]
        },
        {
          "name": "stderr",
          "output_type": "stream",
          "text": [
            "\rEvaluating group-wise accuracy:  76%|███████▌  | 19/25 [00:06<00:02,  2.62it/s]"
          ]
        },
        {
          "name": "stdout",
          "output_type": "stream",
          "text": [
            "Group (3, 3) Accuracy: 98.2367758186398\n"
          ]
        },
        {
          "name": "stderr",
          "output_type": "stream",
          "text": [
            "\rEvaluating group-wise accuracy:  80%|████████  | 20/25 [00:07<00:01,  2.55it/s]"
          ]
        },
        {
          "name": "stdout",
          "output_type": "stream",
          "text": [
            "Group (3, 4) Accuracy: 81.86397984886649\n"
          ]
        },
        {
          "name": "stderr",
          "output_type": "stream",
          "text": [
            "\rEvaluating group-wise accuracy:  84%|████████▍ | 21/25 [00:07<00:01,  2.83it/s]"
          ]
        },
        {
          "name": "stdout",
          "output_type": "stream",
          "text": [
            "Group (4, 0) Accuracy: 80.60453400503778\n"
          ]
        },
        {
          "name": "stderr",
          "output_type": "stream",
          "text": [
            "\rEvaluating group-wise accuracy:  88%|████████▊ | 22/25 [00:07<00:00,  3.08it/s]"
          ]
        },
        {
          "name": "stdout",
          "output_type": "stream",
          "text": [
            "Group (4, 1) Accuracy: 69.0176322418136\n"
          ]
        },
        {
          "name": "stderr",
          "output_type": "stream",
          "text": [
            "\rEvaluating group-wise accuracy:  92%|█████████▏| 23/25 [00:07<00:00,  3.26it/s]"
          ]
        },
        {
          "name": "stdout",
          "output_type": "stream",
          "text": [
            "Group (4, 2) Accuracy: 55.415617128463474\n"
          ]
        },
        {
          "name": "stderr",
          "output_type": "stream",
          "text": [
            "\rEvaluating group-wise accuracy:  96%|█████████▌| 24/25 [00:08<00:00,  3.39it/s]"
          ]
        },
        {
          "name": "stdout",
          "output_type": "stream",
          "text": [
            "Group (4, 3) Accuracy: 61.111111111111114\n"
          ]
        },
        {
          "name": "stderr",
          "output_type": "stream",
          "text": [
            "Evaluating group-wise accuracy: 100%|██████████| 25/25 [00:08<00:00,  2.94it/s]"
          ]
        },
        {
          "name": "stdout",
          "output_type": "stream",
          "text": [
            "Group (4, 4) Accuracy: 98.23232323232324\n"
          ]
        },
        {
          "name": "stderr",
          "output_type": "stream",
          "text": [
            "\n"
          ]
        },
        {
          "data": {
            "text/plain": [
              "{(0, 0): 99.52718676122932,\n",
              " (0, 1): 91.725768321513,\n",
              " (0, 2): 88.4160756501182,\n",
              " (0, 3): 87.70685579196217,\n",
              " (0, 4): 82.74231678486997,\n",
              " (1, 0): 77.01711491442543,\n",
              " (1, 1): 95.11002444987776,\n",
              " (1, 2): 75.24509803921569,\n",
              " (1, 3): 79.41176470588235,\n",
              " (1, 4): 67.6470588235294,\n",
              " (2, 0): 84.0,\n",
              " (2, 1): 74.13333333333334,\n",
              " (2, 2): 98.66666666666667,\n",
              " (2, 3): 82.4,\n",
              " (2, 4): 63.903743315508024,\n",
              " (3, 0): 87.68844221105527,\n",
              " (3, 1): 85.39042821158691,\n",
              " (3, 2): 68.26196473551637,\n",
              " (3, 3): 98.2367758186398,\n",
              " (3, 4): 81.86397984886649,\n",
              " (4, 0): 80.60453400503778,\n",
              " (4, 1): 69.0176322418136,\n",
              " (4, 2): 55.415617128463474,\n",
              " (4, 3): 61.111111111111114,\n",
              " (4, 4): 98.23232323232324}"
            ]
          },
          "execution_count": 43,
          "metadata": {},
          "output_type": "execute_result"
        }
      ],
      "source": [
        "evaluator_forget_bin = Evaluator(\n",
        "    testset=testset,\n",
        "    group_partition=testset.group_partition,\n",
        "    group_weights=trainset.group_weights,\n",
        "    batch_size=64,\n",
        "    model=model_bin,\n",
        "    device=device,\n",
        "    verbose=True\n",
        ")\n",
        "evaluator_forget_bin.evaluate()"
      ]
    },
    {
      "cell_type": "code",
      "execution_count": null,
      "metadata": {
        "colab": {
          "base_uri": "https://localhost:8080/"
        },
        "id": "BUy-sM11Ku8Q",
        "outputId": "5ea4ecf2-a909-4d3a-e9e0-2289ac1dec5f"
      },
      "outputs": [
        {
          "name": "stderr",
          "output_type": "stream",
          "text": [
            "/usr/local/lib/python3.10/dist-packages/torch/utils/data/dataloader.py:617: UserWarning: This DataLoader will create 4 worker processes in total. Our suggested max number of worker in current system is 2, which is smaller than what this DataLoader is going to create. Please be aware that excessive worker creation might get DataLoader running slow or even freeze, lower the worker number to avoid potential slowness/freeze if necessary.\n",
            "  warnings.warn(\n",
            "Evaluating group-wise accuracy:   4%|▍         | 1/25 [00:00<00:06,  3.53it/s]"
          ]
        },
        {
          "name": "stdout",
          "output_type": "stream",
          "text": [
            "Group (0, 0) Accuracy: 98.81796690307328\n"
          ]
        },
        {
          "name": "stderr",
          "output_type": "stream",
          "text": [
            "\rEvaluating group-wise accuracy:   8%|▊         | 2/25 [00:00<00:06,  3.64it/s]"
          ]
        },
        {
          "name": "stdout",
          "output_type": "stream",
          "text": [
            "Group (0, 1) Accuracy: 88.17966903073287\n"
          ]
        },
        {
          "name": "stderr",
          "output_type": "stream",
          "text": [
            "\rEvaluating group-wise accuracy:  12%|█▏        | 3/25 [00:00<00:05,  3.72it/s]"
          ]
        },
        {
          "name": "stdout",
          "output_type": "stream",
          "text": [
            "Group (0, 2) Accuracy: 92.19858156028369\n"
          ]
        },
        {
          "name": "stderr",
          "output_type": "stream",
          "text": [
            "\rEvaluating group-wise accuracy:  16%|█▌        | 4/25 [00:01<00:05,  3.56it/s]"
          ]
        },
        {
          "name": "stdout",
          "output_type": "stream",
          "text": [
            "Group (0, 3) Accuracy: 92.90780141843972\n"
          ]
        },
        {
          "name": "stderr",
          "output_type": "stream",
          "text": [
            "\rEvaluating group-wise accuracy:  20%|██        | 5/25 [00:01<00:06,  3.09it/s]"
          ]
        },
        {
          "name": "stdout",
          "output_type": "stream",
          "text": [
            "Group (0, 4) Accuracy: 89.36170212765957\n"
          ]
        },
        {
          "name": "stderr",
          "output_type": "stream",
          "text": [
            "\rEvaluating group-wise accuracy:  24%|██▍       | 6/25 [00:01<00:06,  2.78it/s]"
          ]
        },
        {
          "name": "stdout",
          "output_type": "stream",
          "text": [
            "Group (1, 0) Accuracy: 88.01955990220048\n"
          ]
        },
        {
          "name": "stderr",
          "output_type": "stream",
          "text": [
            "\rEvaluating group-wise accuracy:  28%|██▊       | 7/25 [00:02<00:06,  2.60it/s]"
          ]
        },
        {
          "name": "stdout",
          "output_type": "stream",
          "text": [
            "Group (1, 1) Accuracy: 99.26650366748166\n"
          ]
        },
        {
          "name": "stderr",
          "output_type": "stream",
          "text": [
            "\rEvaluating group-wise accuracy:  32%|███▏      | 8/25 [00:02<00:06,  2.63it/s]"
          ]
        },
        {
          "name": "stdout",
          "output_type": "stream",
          "text": [
            "Group (1, 2) Accuracy: 82.59803921568627\n"
          ]
        },
        {
          "name": "stderr",
          "output_type": "stream",
          "text": [
            "\rEvaluating group-wise accuracy:  36%|███▌      | 9/25 [00:03<00:06,  2.63it/s]"
          ]
        },
        {
          "name": "stdout",
          "output_type": "stream",
          "text": [
            "Group (1, 3) Accuracy: 82.3529411764706\n"
          ]
        },
        {
          "name": "stderr",
          "output_type": "stream",
          "text": [
            "\rEvaluating group-wise accuracy:  40%|████      | 10/25 [00:03<00:05,  2.58it/s]"
          ]
        },
        {
          "name": "stdout",
          "output_type": "stream",
          "text": [
            "Group (1, 4) Accuracy: 75.73529411764706\n"
          ]
        },
        {
          "name": "stderr",
          "output_type": "stream",
          "text": [
            "\rEvaluating group-wise accuracy:  44%|████▍     | 11/25 [00:03<00:05,  2.51it/s]"
          ]
        },
        {
          "name": "stdout",
          "output_type": "stream",
          "text": [
            "Group (2, 0) Accuracy: 82.13333333333334\n"
          ]
        },
        {
          "name": "stderr",
          "output_type": "stream",
          "text": [
            "\rEvaluating group-wise accuracy:  48%|████▊     | 12/25 [00:04<00:04,  2.67it/s]"
          ]
        },
        {
          "name": "stdout",
          "output_type": "stream",
          "text": [
            "Group (2, 1) Accuracy: 70.66666666666667\n"
          ]
        },
        {
          "name": "stderr",
          "output_type": "stream",
          "text": [
            "\rEvaluating group-wise accuracy:  52%|█████▏    | 13/25 [00:04<00:04,  2.92it/s]"
          ]
        },
        {
          "name": "stdout",
          "output_type": "stream",
          "text": [
            "Group (2, 2) Accuracy: 97.86666666666666\n"
          ]
        },
        {
          "name": "stderr",
          "output_type": "stream",
          "text": [
            "\rEvaluating group-wise accuracy:  56%|█████▌    | 14/25 [00:04<00:03,  3.14it/s]"
          ]
        },
        {
          "name": "stdout",
          "output_type": "stream",
          "text": [
            "Group (2, 3) Accuracy: 77.06666666666666\n"
          ]
        },
        {
          "name": "stderr",
          "output_type": "stream",
          "text": [
            "\rEvaluating group-wise accuracy:  60%|██████    | 15/25 [00:05<00:03,  3.30it/s]"
          ]
        },
        {
          "name": "stdout",
          "output_type": "stream",
          "text": [
            "Group (2, 4) Accuracy: 54.54545454545455\n"
          ]
        },
        {
          "name": "stderr",
          "output_type": "stream",
          "text": [
            "\rEvaluating group-wise accuracy:  64%|██████▍   | 16/25 [00:05<00:02,  3.37it/s]"
          ]
        },
        {
          "name": "stdout",
          "output_type": "stream",
          "text": [
            "Group (3, 0) Accuracy: 88.44221105527639\n"
          ]
        },
        {
          "name": "stderr",
          "output_type": "stream",
          "text": [
            "\rEvaluating group-wise accuracy:  68%|██████▊   | 17/25 [00:05<00:02,  3.48it/s]"
          ]
        },
        {
          "name": "stdout",
          "output_type": "stream",
          "text": [
            "Group (3, 1) Accuracy: 69.77329974811083\n"
          ]
        },
        {
          "name": "stderr",
          "output_type": "stream",
          "text": [
            "\rEvaluating group-wise accuracy:  72%|███████▏  | 18/25 [00:05<00:01,  3.50it/s]"
          ]
        },
        {
          "name": "stdout",
          "output_type": "stream",
          "text": [
            "Group (3, 2) Accuracy: 75.81863979848866\n"
          ]
        },
        {
          "name": "stderr",
          "output_type": "stream",
          "text": [
            "\rEvaluating group-wise accuracy:  76%|███████▌  | 19/25 [00:06<00:01,  3.50it/s]"
          ]
        },
        {
          "name": "stdout",
          "output_type": "stream",
          "text": [
            "Group (3, 3) Accuracy: 96.4735516372796\n"
          ]
        },
        {
          "name": "stderr",
          "output_type": "stream",
          "text": [
            "\rEvaluating group-wise accuracy:  80%|████████  | 20/25 [00:06<00:01,  3.51it/s]"
          ]
        },
        {
          "name": "stdout",
          "output_type": "stream",
          "text": [
            "Group (3, 4) Accuracy: 86.64987405541562\n"
          ]
        },
        {
          "name": "stderr",
          "output_type": "stream",
          "text": [
            "\rEvaluating group-wise accuracy:  84%|████████▍ | 21/25 [00:06<00:01,  3.52it/s]"
          ]
        },
        {
          "name": "stdout",
          "output_type": "stream",
          "text": [
            "Group (4, 0) Accuracy: 81.360201511335\n"
          ]
        },
        {
          "name": "stderr",
          "output_type": "stream",
          "text": [
            "\rEvaluating group-wise accuracy:  88%|████████▊ | 22/25 [00:07<00:00,  3.58it/s]"
          ]
        },
        {
          "name": "stdout",
          "output_type": "stream",
          "text": [
            "Group (4, 1) Accuracy: 36.523929471032744\n"
          ]
        },
        {
          "name": "stderr",
          "output_type": "stream",
          "text": [
            "\rEvaluating group-wise accuracy:  92%|█████████▏| 23/25 [00:07<00:00,  3.61it/s]"
          ]
        },
        {
          "name": "stdout",
          "output_type": "stream",
          "text": [
            "Group (4, 2) Accuracy: 57.9345088161209\n"
          ]
        },
        {
          "name": "stderr",
          "output_type": "stream",
          "text": [
            "\rEvaluating group-wise accuracy:  96%|█████████▌| 24/25 [00:07<00:00,  3.65it/s]"
          ]
        },
        {
          "name": "stdout",
          "output_type": "stream",
          "text": [
            "Group (4, 3) Accuracy: 74.4949494949495\n"
          ]
        },
        {
          "name": "stderr",
          "output_type": "stream",
          "text": [
            "Evaluating group-wise accuracy: 100%|██████████| 25/25 [00:07<00:00,  3.18it/s]"
          ]
        },
        {
          "name": "stdout",
          "output_type": "stream",
          "text": [
            "Group (4, 4) Accuracy: 98.23232323232324\n"
          ]
        },
        {
          "name": "stderr",
          "output_type": "stream",
          "text": [
            "\n"
          ]
        },
        {
          "data": {
            "text/plain": [
              "{(0, 0): 98.81796690307328,\n",
              " (0, 1): 88.17966903073287,\n",
              " (0, 2): 92.19858156028369,\n",
              " (0, 3): 92.90780141843972,\n",
              " (0, 4): 89.36170212765957,\n",
              " (1, 0): 88.01955990220048,\n",
              " (1, 1): 99.26650366748166,\n",
              " (1, 2): 82.59803921568627,\n",
              " (1, 3): 82.3529411764706,\n",
              " (1, 4): 75.73529411764706,\n",
              " (2, 0): 82.13333333333334,\n",
              " (2, 1): 70.66666666666667,\n",
              " (2, 2): 97.86666666666666,\n",
              " (2, 3): 77.06666666666666,\n",
              " (2, 4): 54.54545454545455,\n",
              " (3, 0): 88.44221105527639,\n",
              " (3, 1): 69.77329974811083,\n",
              " (3, 2): 75.81863979848866,\n",
              " (3, 3): 96.4735516372796,\n",
              " (3, 4): 86.64987405541562,\n",
              " (4, 0): 81.360201511335,\n",
              " (4, 1): 36.523929471032744,\n",
              " (4, 2): 57.9345088161209,\n",
              " (4, 3): 74.4949494949495,\n",
              " (4, 4): 98.23232323232324}"
            ]
          },
          "execution_count": 44,
          "metadata": {},
          "output_type": "execute_result"
        }
      ],
      "source": [
        "\n",
        "evaluator_3_jtt = Evaluator(\n",
        "    testset=testset,\n",
        "    group_partition=testset.group_partition,\n",
        "    group_weights=trainset.group_weights,\n",
        "    batch_size=64,\n",
        "    model=model_jtt_2,\n",
        "    device=device,\n",
        "    verbose=True\n",
        ")\n",
        "evaluator_3_jtt.evaluate()"
      ]
    },
    {
      "cell_type": "code",
      "execution_count": null,
      "metadata": {
        "colab": {
          "base_uri": "https://localhost:8080/"
        },
        "id": "FQDxCSuEKZmH",
        "outputId": "58433439-9732-4b26-c869-ecb5cffb3514"
      },
      "outputs": [
        {
          "data": {
            "text/plain": [
              "((2, 3), 0.0)"
            ]
          },
          "execution_count": 46,
          "metadata": {},
          "output_type": "execute_result"
        }
      ],
      "source": [
        "evaluator.worst_group_accuracy\n"
      ]
    },
    {
      "cell_type": "code",
      "execution_count": null,
      "metadata": {
        "colab": {
          "base_uri": "https://localhost:8080/"
        },
        "id": "yHFeWPXdK1HV",
        "outputId": "c6666b2f-53b8-4b5b-ba4a-4ff8805bfc98"
      },
      "outputs": [
        {
          "data": {
            "text/plain": [
              "((2, 4), 56.149732620320854)"
            ]
          },
          "execution_count": 47,
          "metadata": {},
          "output_type": "execute_result"
        }
      ],
      "source": [
        "evaluator_2_forgetting.worst_group_accuracy\n"
      ]
    },
    {
      "cell_type": "code",
      "execution_count": null,
      "metadata": {
        "colab": {
          "base_uri": "https://localhost:8080/"
        },
        "id": "JYWdWfE8K2go",
        "outputId": "39a42127-1072-4863-b3bd-2135aac8a6fa"
      },
      "outputs": [
        {
          "data": {
            "text/plain": [
              "((4, 2), 55.415617128463474)"
            ]
          },
          "execution_count": 48,
          "metadata": {},
          "output_type": "execute_result"
        }
      ],
      "source": [
        "evaluator_forget_bin.worst_group_accuracy\n"
      ]
    },
    {
      "cell_type": "code",
      "execution_count": null,
      "metadata": {
        "colab": {
          "base_uri": "https://localhost:8080/"
        },
        "id": "MKpvjnP5K36m",
        "outputId": "b247608b-feaa-4323-f8e5-556832fd2d35"
      },
      "outputs": [
        {
          "data": {
            "text/plain": [
              "((4, 1), 36.523929471032744)"
            ]
          },
          "execution_count": 49,
          "metadata": {},
          "output_type": "execute_result"
        }
      ],
      "source": [
        "evaluator_3_jtt.worst_group_accuracy"
      ]
    }
  ],
  "metadata": {
    "accelerator": "GPU",
    "colab": {
      "gpuType": "T4",
      "provenance": []
    },
    "kernelspec": {
      "display_name": "Python 3",
      "name": "python3"
    },
    "language_info": {
      "name": "python"
    }
  },
  "nbformat": 4,
  "nbformat_minor": 0
}
